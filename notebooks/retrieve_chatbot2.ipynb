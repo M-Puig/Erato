{
 "cells": [
  {
   "cell_type": "markdown",
   "id": "53530cd9",
   "metadata": {},
   "source": [
    "# Retrieve Chatbot\n",
    "## Chatbot using the Poly-encoder Transformer architecture (Humeau et al., 2019) for retrieval"
   ]
  },
  {
   "cell_type": "code",
   "execution_count": 1,
   "id": "18ee5e0d",
   "metadata": {},
   "outputs": [],
   "source": [
    "# This notebook is based on :\n",
    "# https://aritter.github.io/CS-7650/\n",
    "# This Project was developed at the Georgia Institute of Technology by Ashutosh Baheti (ashutosh.baheti@cc.gatech.edu), \n",
    "# borrowing  from the Neural Machine Translation Project (Project 2) \n",
    "# of the UC Berkeley NLP course https://cal-cs288.github.io/sp20/"
   ]
  },
  {
   "cell_type": "code",
   "execution_count": 2,
   "id": "5e27e4af",
   "metadata": {},
   "outputs": [
    {
     "data": {
      "text/plain": [
       "0"
      ]
     },
     "execution_count": 2,
     "metadata": {},
     "output_type": "execute_result"
    }
   ],
   "source": [
    "# Imports\n",
    "\n",
    "from __future__ import absolute_import\n",
    "from __future__ import division\n",
    "from __future__ import print_function\n",
    "from __future__ import unicode_literals\n",
    "\n",
    "import torch\n",
    "from torch.jit import script, trace\n",
    "import torch.nn as nn\n",
    "from torch import optim\n",
    "import torch.nn.functional as F\n",
    "import numpy as np\n",
    "import csv\n",
    "import random\n",
    "import re\n",
    "import os\n",
    "import unicodedata\n",
    "import codecs\n",
    "from io import open\n",
    "import itertools\n",
    "import math\n",
    "import pickle\n",
    "import statistics\n",
    "\n",
    "from torch.utils.data import Dataset, DataLoader\n",
    "from torch.nn.utils.rnn import pad_sequence\n",
    "import tqdm\n",
    "import nltk\n",
    "\n",
    "import gc\n",
    "gc.collect()"
   ]
  },
  {
   "cell_type": "code",
   "execution_count": 3,
   "id": "9dd33eba",
   "metadata": {},
   "outputs": [],
   "source": [
    "import pandas as pd\n",
    "import numpy as np\n",
    "import sys\n",
    "from functools import partial\n",
    "import time"
   ]
  },
  {
   "cell_type": "code",
   "execution_count": 4,
   "id": "7761017d",
   "metadata": {},
   "outputs": [],
   "source": [
    "bert_model_name = 'distilbert-base-uncased' \n",
    "# Bert Imports\n",
    "from transformers import DistilBertTokenizer, DistilBertModel\n",
    "#bert_model = DistilBertModel.from_pretrained(bert_model_name)\n",
    "tokenizer = DistilBertTokenizer.from_pretrained(bert_model_name)"
   ]
  },
  {
   "cell_type": "code",
   "execution_count": 5,
   "id": "15df79da",
   "metadata": {},
   "outputs": [],
   "source": [
    "# Utils\n",
    "\n",
    "def make_dir_if_not_exists(directory):\n",
    "    if not os.path.exists(directory):\n",
    "        logging.info(\"Creating new directory: {}\".format(directory))\n",
    "        os.makedirs(directory)\n",
    "\n",
    "def print_list(l, K=None):\n",
    "    # If K is given then only print first K\n",
    "    for i, e in enumerate(l):\n",
    "        if i == K:\n",
    "            break\n",
    "        print(e)\n",
    "    print()\n",
    "\n",
    "def remove_multiple_spaces(string):\n",
    "    return re.sub(r'\\s+', ' ', string).strip()\n",
    "\n",
    "def save_in_pickle(save_object, save_file):\n",
    "    with open(save_file, \"wb\") as pickle_out:\n",
    "        pickle.dump(save_object, pickle_out)\n",
    "\n",
    "def load_from_pickle(pickle_file):\n",
    "    with open(pickle_file, \"rb\") as pickle_in:\n",
    "        return pickle.load(pickle_in)\n",
    "\n",
    "def save_in_txt(list_of_strings, save_file):\n",
    "    with open(save_file, \"w\") as writer:\n",
    "        for line in list_of_strings:\n",
    "            line = line.strip()\n",
    "            writer.write(f\"{line}\\n\")\n",
    "\n",
    "def load_from_txt(txt_file):\n",
    "    with open(txt_file, \"r\") as reader:\n",
    "        all_lines = list()\n",
    "        for line in reader:\n",
    "            line = line.strip()\n",
    "            all_lines.append(line)\n",
    "        return all_lines"
   ]
  },
  {
   "cell_type": "code",
   "execution_count": 6,
   "id": "e75e9746",
   "metadata": {},
   "outputs": [
    {
     "name": "stdout",
     "output_type": "stream",
     "text": [
      "True\n",
      "Using device: cuda\n"
     ]
    }
   ],
   "source": [
    "# Check CUDA\n",
    "\n",
    "print(torch.cuda.is_available())\n",
    "if torch.cuda.is_available():\n",
    "    device = torch.device(\"cuda\")\n",
    "else:\n",
    "    device = torch.device(\"cpu\")\n",
    "print(\"Using device:\", device)"
   ]
  },
  {
   "cell_type": "markdown",
   "id": "e6a4d15f",
   "metadata": {},
   "source": [
    "## Load Data"
   ]
  },
  {
   "cell_type": "markdown",
   "id": "c8ce3965",
   "metadata": {},
   "source": [
    "### Cornell Movie Database"
   ]
  },
  {
   "cell_type": "code",
   "execution_count": 7,
   "id": "428b603b",
   "metadata": {},
   "outputs": [
    {
     "name": "stdout",
     "output_type": "stream",
     "text": [
      "Number of Training Conversation Pairs = 53065\n",
      "Number of Evaluation Conversation Pairs = 100\n"
     ]
    }
   ],
   "source": [
    "# Loading the pre-processed conversational exchanges (source-target pairs) from pickle data files\n",
    "all_conversations = load_from_pickle(\"../data/cornell_movie/processed_CMDC.pkl\")\n",
    "# Extract 100 conversations from the end for evaluation and keep the rest for training\n",
    "eval_conversations = all_conversations[-100:]\n",
    "all_conversations = all_conversations[:-100]\n",
    "\n",
    "# Logging data stats\n",
    "print(f\"Number of Training Conversation Pairs = {len(all_conversations)}\")\n",
    "print(f\"Number of Evaluation Conversation Pairs = {len(eval_conversations)}\")"
   ]
  },
  {
   "cell_type": "markdown",
   "id": "df8f926a",
   "metadata": {},
   "source": [
    "#### Building the vocabulary"
   ]
  },
  {
   "cell_type": "code",
   "execution_count": 8,
   "id": "454118d1",
   "metadata": {},
   "outputs": [
    {
     "name": "stdout",
     "output_type": "stream",
     "text": [
      "Total words in the vocabulary = 7727\n"
     ]
    }
   ],
   "source": [
    "pad_word = \"<pad>\"\n",
    "bos_word = \"<s>\"\n",
    "eos_word = \"</s>\"\n",
    "unk_word = \"<unk>\"\n",
    "pad_id = 0\n",
    "bos_id = 1\n",
    "eos_id = 2\n",
    "unk_id = 3\n",
    "    \n",
    "def normalize_sentence(s):\n",
    "    s = re.sub(r\"([.!?])\", r\" \\1\", s)\n",
    "    s = re.sub(r\"[^a-zA-Z.!?]+\", r\" \", s)\n",
    "    s = re.sub(r\"\\s+\", r\" \", s).strip()\n",
    "    return s\n",
    "\n",
    "class Vocabulary:\n",
    "    def __init__(self):\n",
    "        self.word_to_id = {pad_word: pad_id, bos_word: bos_id, eos_word:eos_id, unk_word: unk_id}\n",
    "        self.word_count = {}\n",
    "        self.id_to_word = {pad_id: pad_word, bos_id: bos_word, eos_id: eos_word, unk_id: unk_word}\n",
    "        self.num_words = 4\n",
    "    \n",
    "    def get_ids_from_sentence(self, sentence):\n",
    "        sentence = normalize_sentence(sentence)\n",
    "        sent_ids = [bos_id] + [self.word_to_id[word] if word in self.word_to_id \\\n",
    "                               else unk_id for word in sentence.split()] + \\\n",
    "                               [eos_id]\n",
    "        return sent_ids\n",
    "    \n",
    "    def tokenized_sentence(self, sentence):\n",
    "        sent_ids = self.get_ids_from_sentence(sentence)\n",
    "        return [self.id_to_word[word_id] for word_id in sent_ids]\n",
    "\n",
    "    def decode_sentence_from_ids(self, sent_ids):\n",
    "        words = list()\n",
    "        for i, word_id in enumerate(sent_ids):\n",
    "            if word_id in [bos_id, eos_id, pad_id]:\n",
    "                # Skip these words\n",
    "                continue\n",
    "            else:\n",
    "                words.append(self.id_to_word[word_id])\n",
    "        return ' '.join(words)\n",
    "\n",
    "    def add_words_from_sentence(self, sentence):\n",
    "        sentence = normalize_sentence(sentence)\n",
    "        for word in sentence.split():\n",
    "            if word not in self.word_to_id:\n",
    "                # add this word to the vocabulary\n",
    "                self.word_to_id[word] = self.num_words\n",
    "                self.id_to_word[self.num_words] = word\n",
    "                self.word_count[word] = 1\n",
    "                self.num_words += 1\n",
    "            else:\n",
    "                # update the word count\n",
    "                self.word_count[word] += 1\n",
    "\n",
    "vocab = Vocabulary()\n",
    "for src, tgt in all_conversations:\n",
    "    vocab.add_words_from_sentence(src)\n",
    "    vocab.add_words_from_sentence(tgt)\n",
    "print(f\"Total words in the vocabulary = {vocab.num_words}\")"
   ]
  },
  {
   "cell_type": "markdown",
   "id": "53fc36e0",
   "metadata": {},
   "source": [
    "## Dataset Preparation"
   ]
  },
  {
   "cell_type": "code",
   "execution_count": 9,
   "id": "7326476c",
   "metadata": {},
   "outputs": [],
   "source": [
    "def transformer_collate_fn(batch, tokenizer):\n",
    "    bert_vocab = tokenizer.get_vocab()\n",
    "    bert_pad_token = bert_vocab['[PAD]']\n",
    "    bert_unk_token = bert_vocab['[UNK]']\n",
    "    bert_cls_token = bert_vocab['[CLS]']\n",
    "\n",
    "    inputs, masks_input, outputs, masks_output = [], [], [], []\n",
    "    for data in batch:\n",
    "        tokenizer_input = tokenizer([data[0]])\n",
    "        tokenized_sent = tokenizer_input['input_ids'][0]\n",
    "        mask_input = tokenizer_input['attention_mask'][0]\n",
    "        inputs.append(torch.tensor(tokenized_sent))\n",
    "        tokenizer_output = tokenizer([data[1]])\n",
    "        tokenized_sent = tokenizer_output['input_ids'][0]\n",
    "        mask_output = tokenizer_output['attention_mask'][0]\n",
    "        outputs.append(torch.tensor(tokenized_sent))\n",
    "        masks_input.append(torch.tensor(mask_input))\n",
    "        masks_output.append(torch.tensor(mask_output))\n",
    "    inputs = pad_sequence(inputs, batch_first=True, padding_value=bert_pad_token)\n",
    "    outputs = pad_sequence(outputs, batch_first=True, padding_value=bert_pad_token)\n",
    "    masks_input = pad_sequence(masks_input, batch_first=True, padding_value=0.0)\n",
    "    masks_output = pad_sequence(masks_output, batch_first=True, padding_value=0.0)\n",
    "    return inputs, masks_input, outputs, masks_output"
   ]
  },
  {
   "cell_type": "code",
   "execution_count": 10,
   "id": "3bc85213",
   "metadata": {},
   "outputs": [],
   "source": [
    "#create pytorch dataloaders from train_dataset, val_dataset, and test_datset\n",
    "batch_size=5\n",
    "train_dataloader = DataLoader(all_conversations,batch_size=batch_size,collate_fn=partial(transformer_collate_fn, tokenizer=tokenizer), shuffle = True)"
   ]
  },
  {
   "cell_type": "code",
   "execution_count": 11,
   "id": "aa9fdc06",
   "metadata": {},
   "outputs": [
    {
     "data": {
      "text/plain": [
       "['there.',\n",
       " 'you have my word. as a gentleman',\n",
       " 'hi.',\n",
       " 'have fun tonight?',\n",
       " 'well no...',\n",
       " 'then that s all you had to say.',\n",
       " 'but',\n",
       " 'do you listen to this crap?',\n",
       " 'what good stuff?',\n",
       " 'wow']"
      ]
     },
     "execution_count": 11,
     "metadata": {},
     "output_type": "execute_result"
    }
   ],
   "source": [
    "tokenizer.batch_decode(transformer_collate_fn(all_conversations[0:10],tokenizer)[0], skip_special_tokens=True)"
   ]
  },
  {
   "cell_type": "code",
   "execution_count": 12,
   "id": "1a0934ae",
   "metadata": {},
   "outputs": [
    {
     "data": {
      "text/plain": [
       "['where?',\n",
       " 'you re sweet.',\n",
       " 'looks like things worked out tonight huh?',\n",
       " 'tons',\n",
       " 'then that s all you had to say.',\n",
       " 'but',\n",
       " 'you always been this selfish?',\n",
       " 'what crap?',\n",
       " 'the real you.',\n",
       " 'let s go.']"
      ]
     },
     "execution_count": 12,
     "metadata": {},
     "output_type": "execute_result"
    }
   ],
   "source": [
    "tokenizer.batch_decode(transformer_collate_fn(all_conversations[0:10],tokenizer)[2], skip_special_tokens=True)"
   ]
  },
  {
   "cell_type": "markdown",
   "id": "d9d7aab9",
   "metadata": {},
   "source": [
    "## Polyencoder Model"
   ]
  },
  {
   "cell_type": "code",
   "execution_count": 13,
   "id": "08717fee",
   "metadata": {},
   "outputs": [
    {
     "name": "stderr",
     "output_type": "stream",
     "text": [
      "Some weights of the model checkpoint at distilbert-base-uncased were not used when initializing DistilBertModel: ['vocab_transform.bias', 'vocab_projector.weight', 'vocab_projector.bias', 'vocab_layer_norm.bias', 'vocab_transform.weight', 'vocab_layer_norm.weight']\n",
      "- This IS expected if you are initializing DistilBertModel from the checkpoint of a model trained on another task or with another architecture (e.g. initializing a BertForSequenceClassification model from a BertForPreTraining model).\n",
      "- This IS NOT expected if you are initializing DistilBertModel from the checkpoint of a model that you expect to be exactly identical (initializing a BertForSequenceClassification model from a BertForSequenceClassification model).\n"
     ]
    }
   ],
   "source": [
    "#torch.cuda.empty_cache()\n",
    "#bert1 = DistilBertModel.from_pretrained(bert_model_name)\n",
    "#bert2 = DistilBertModel.from_pretrained(bert_model_name)\n",
    "\n",
    "bert = DistilBertModel.from_pretrained(bert_model_name)"
   ]
  },
  {
   "cell_type": "code",
   "execution_count": 14,
   "id": "ddf84135",
   "metadata": {},
   "outputs": [],
   "source": [
    "#Double Bert\n",
    "class RetrieverPolyencoder(nn.Module):\n",
    "    def __init__(self, contextBert, candidateBert, vocab, max_len = 300, hidden_dim = 768, out_dim = 64, num_layers = 2, dropout=0.1, device=device):\n",
    "        super().__init__()\n",
    "\n",
    "        self.device = device\n",
    "        self.hidden_dim = hidden_dim\n",
    "        self.max_len = max_len\n",
    "        self.out_dim = out_dim\n",
    "        \n",
    "        # Context layers\n",
    "        self.contextBert = contextBert\n",
    "        self.contextDropout = nn.Dropout(dropout)\n",
    "        \n",
    "        # Candidates layers\n",
    "        self.candidatesBert = candidateBert\n",
    "        self.pos_emb = nn.Embedding(self.max_len, self.hidden_dim)\n",
    "        self.candidatesDropout = nn.Dropout(dropout)\n",
    "        \n",
    "        self.att_dropout = nn.Dropout(dropout)\n",
    "\n",
    "\n",
    "    def attention(self, q, k, v, vMask=None):\n",
    "        w = torch.matmul(q, k.transpose(-1, -2))\n",
    "        if vMask is not None:\n",
    "            w *= vMask.unsqueeze(1)\n",
    "            w = F.softmax(w, -1)\n",
    "        w = self.att_dropout(w)\n",
    "        score = torch.matmul(w, v)\n",
    "        return score\n",
    "\n",
    "    def score(self, context, context_mask, responses, responses_mask):\n",
    "        \"\"\"Run the model on the source and compute the loss on the target.\n",
    "\n",
    "        Args:\n",
    "            source: An integer tensor with shape (max_source_sequence_length,\n",
    "                batch_size) containing subword indices for the source sentences.\n",
    "            target: An integer tensor with shape (max_target_sequence_length,\n",
    "                batch_size) containing subword indices for the target sentences.\n",
    "\n",
    "        Returns:\n",
    "            A scalar float tensor representing cross-entropy loss on the current batch\n",
    "            divided by the number of target tokens in the batch.\n",
    "            Many of the target tokens will be pad tokens. You should mask the loss \n",
    "            from these tokens using appropriate mask on the target tokens loss.\n",
    "        \"\"\"\n",
    "        batch_size, nb_cand, seq_len = responses.shape\n",
    "        # Context\n",
    "        context_encoded = self.contextBert(context,context_mask)[0]\n",
    "        pos_emb = self.pos_emb(torch.arange(self.max_len).to(self.device))\n",
    "        context_att = self.attention(pos_emb, context_encoded, context_encoded, context_mask)\n",
    "\n",
    "        # Response\n",
    "        responses_encoded = self.candidatesBert(responses.view(-1,responses.shape[2]), responses_mask.view(-1,responses.shape[2]))[0][:,0,:]\n",
    "        responses_encoded = responses_encoded.view(batch_size,nb_cand,-1)\n",
    "        \n",
    "        context_emb = self.attention(responses_encoded, context_att, context_att).squeeze() \n",
    "        dot_product = (context_emb*responses_encoded).sum(-1)\n",
    "        \n",
    "        return dot_product\n",
    "\n",
    "    \n",
    "    def compute_loss(self, context, context_mask, response, response_mask):\n",
    "        \"\"\"Run the model on the source and compute the loss on the target.\n",
    "\n",
    "        Args:\n",
    "            source: An integer tensor with shape (max_source_sequence_length,\n",
    "                batch_size) containing subword indices for the source sentences.\n",
    "            target: An integer tensor with shape (max_target_sequence_length,\n",
    "                batch_size) containing subword indices for the target sentences.\n",
    "\n",
    "        Returns:\n",
    "            A scalar float tensor representing cross-entropy loss on the current batch\n",
    "            divided by the number of target tokens in the batch.\n",
    "            Many of the target tokens will be pad tokens. You should mask the loss \n",
    "            from these tokens using appropriate mask on the target tokens loss.\n",
    "        \"\"\"\n",
    "        batch_size = context.shape[0]\n",
    "        \n",
    "        # Context\n",
    "        context_encoded = self.contextBert(context,context_mask)[0]\n",
    "        pos_emb = self.pos_emb(torch.arange(self.max_len).to(self.device))\n",
    "        context_att = self.attention(pos_emb, context_encoded, context_encoded, context_mask)\n",
    "\n",
    "        # Response\n",
    "        response_encoded = self.candidatesBert(response, response_mask)[0][:,0,:]\n",
    "        \n",
    "        response_encoded = response_encoded.unsqueeze(0).expand(batch_size, batch_size, response_encoded.shape[1]) \n",
    "        context_emb = self.attention(response_encoded, context_att, context_att).squeeze() \n",
    "        dot_product = (context_emb*response_encoded).sum(-1)\n",
    "        mask = torch.eye(batch_size).to(self.device)\n",
    "        loss = F.log_softmax(dot_product, dim=-1) * mask\n",
    "        loss = (-loss.sum(dim=1)).mean()\n",
    "        return loss"
   ]
  },
  {
   "cell_type": "code",
   "execution_count": 15,
   "id": "adbd74aa",
   "metadata": {},
   "outputs": [],
   "source": [
    "#Simple Bert\n",
    "class RetrieverPolyencoder_single(nn.Module):\n",
    "    def __init__(self, Bert, max_len = 300, hidden_dim = 768, out_dim = 64, num_layers = 2, dropout=0.1, device=device):\n",
    "        super().__init__()\n",
    "\n",
    "        self.device = device\n",
    "        self.hidden_dim = hidden_dim\n",
    "        self.max_len = max_len\n",
    "        self.out_dim = out_dim\n",
    "        self.bert = Bert\n",
    "\n",
    "        # Context layers\n",
    "        self.contextDropout = nn.Dropout(dropout)\n",
    "        \n",
    "        # Candidates layers\n",
    "        self.pos_emb = nn.Embedding(self.max_len, self.hidden_dim)\n",
    "        self.candidatesDropout = nn.Dropout(dropout)\n",
    "        \n",
    "        self.att_dropout = nn.Dropout(dropout)\n",
    "\n",
    "\n",
    "    def attention(self, q, k, v, vMask=None):\n",
    "        w = torch.matmul(q, k.transpose(-1, -2))\n",
    "        if vMask is not None:\n",
    "            w *= vMask.unsqueeze(1)\n",
    "            w = F.softmax(w, -1)\n",
    "        w = self.att_dropout(w)\n",
    "        score = torch.matmul(w, v)\n",
    "        return score\n",
    "\n",
    "    def score(self, context, context_mask, responses, responses_mask):\n",
    "        \"\"\"Run the model on the source and compute the loss on the target.\n",
    "\n",
    "        Args:\n",
    "            source: An integer tensor with shape (max_source_sequence_length,\n",
    "                batch_size) containing subword indices for the source sentences.\n",
    "            target: An integer tensor with shape (max_target_sequence_length,\n",
    "                batch_size) containing subword indices for the target sentences.\n",
    "\n",
    "        Returns:\n",
    "            A scalar float tensor representing cross-entropy loss on the current batch\n",
    "            divided by the number of target tokens in the batch.\n",
    "            Many of the target tokens will be pad tokens. You should mask the loss \n",
    "            from these tokens using appropriate mask on the target tokens loss.\n",
    "        \"\"\"\n",
    "        batch_size, nb_cand, seq_len = responses.shape\n",
    "        # Context\n",
    "        context_encoded = self.bert(context,context_mask)[0]\n",
    "        pos_emb = self.pos_emb(torch.arange(self.max_len).to(self.device))\n",
    "        context_att = self.attention(pos_emb, context_encoded, context_encoded, context_mask)\n",
    "\n",
    "        # Response\n",
    "        responses_encoded = self.bert(responses.view(-1,responses.shape[2]), responses_mask.view(-1,responses.shape[2]))[0][:,0,:]\n",
    "        responses_encoded = responses_encoded.view(batch_size,nb_cand,-1)\n",
    "        \n",
    "        context_emb = self.attention(responses_encoded, context_att, context_att).squeeze() \n",
    "        dot_product = (context_emb*responses_encoded).sum(-1)\n",
    "        \n",
    "        return dot_product\n",
    "\n",
    "    \n",
    "    def compute_loss(self, context, context_mask, response, response_mask):\n",
    "        \"\"\"Run the model on the source and compute the loss on the target.\n",
    "\n",
    "        Args:\n",
    "            source: An integer tensor with shape (max_source_sequence_length,\n",
    "                batch_size) containing subword indices for the source sentences.\n",
    "            target: An integer tensor with shape (max_target_sequence_length,\n",
    "                batch_size) containing subword indices for the target sentences.\n",
    "\n",
    "        Returns:\n",
    "            A scalar float tensor representing cross-entropy loss on the current batch\n",
    "            divided by the number of target tokens in the batch.\n",
    "            Many of the target tokens will be pad tokens. You should mask the loss \n",
    "            from these tokens using appropriate mask on the target tokens loss.\n",
    "        \"\"\"\n",
    "        batch_size = context.shape[0]\n",
    "        \n",
    "        # Context\n",
    "        context_encoded = self.bert(context,context_mask)[0]\n",
    "        pos_emb = self.pos_emb(torch.arange(self.max_len).to(self.device))\n",
    "        context_att = self.attention(pos_emb, context_encoded, context_encoded, context_mask)\n",
    "\n",
    "        # Response\n",
    "        response_encoded = self.bert(response, response_mask)[0][:,0,:]\n",
    "        \n",
    "        response_encoded = response_encoded.unsqueeze(0).expand(batch_size, batch_size, response_encoded.shape[1]) \n",
    "        context_emb = self.attention(response_encoded, context_att, context_att).squeeze() \n",
    "        dot_product = (context_emb*response_encoded).sum(-1)\n",
    "        mask = torch.eye(batch_size).to(self.device)\n",
    "        loss = F.log_softmax(dot_product, dim=-1) * mask\n",
    "        loss = (-loss.sum(dim=1)).mean()\n",
    "        return loss"
   ]
  },
  {
   "cell_type": "code",
   "execution_count": 16,
   "id": "2d8a31c6",
   "metadata": {},
   "outputs": [],
   "source": [
    "#Bi-encoder\n",
    "class RetrieverBiencoder(nn.Module):\n",
    "    def __init__(self, bert):\n",
    "        super().__init__()\n",
    "        self.bert = bert\n",
    "        \n",
    "    def score(self, context, context_mask, responses, responses_mask):\n",
    "\n",
    "        context_vec = self.bert(context, context_mask)[0][:,0,:]  # [bs,dim]\n",
    "\n",
    "        batch_size, res_length = response.shape\n",
    "\n",
    "        responses_vec = self.bert(responses_input_ids, responses_input_masks)[0][:,0,:]  # [bs,dim]\n",
    "        responses_vec = responses_vec.view(batch_size, 1, -1)\n",
    "\n",
    "        responses_vec = responses_vec.squeeze(1)        \n",
    "        context_vec = context_vec.unsqueeze(1)\n",
    "        dot_product = torch.matmul(context_vec, responses_vec.permute(0, 2, 1)).squeeze()\n",
    "        return dot_product\n",
    "    \n",
    "    def compute_loss(self, context, context_mask, response, response_mask):\n",
    "\n",
    "        context_vec = self.bert(context, context_mask)[0][:,0,:]  # [bs,dim]\n",
    "\n",
    "        batch_size, res_length = response.shape\n",
    "\n",
    "        responses_vec = self.bert(response, response_mask)[0][:,0,:]  # [bs,dim]\n",
    "        responses_vec = responses_vec.view(batch_size, -1)\n",
    "\n",
    "        dot_product = torch.matmul(context_vec, responses_vec.t())  # [bs, bs]\n",
    "        mask = torch.eye(context.size(0)).to(context_mask.device)\n",
    "        loss = F.log_softmax(dot_product, dim=-1) * mask\n",
    "        loss = (-loss.sum(dim=1)).mean()\n",
    "        return loss\n"
   ]
  },
  {
   "cell_type": "code",
   "execution_count": 19,
   "id": "707cad67",
   "metadata": {},
   "outputs": [],
   "source": [
    "loss_rec = []\n",
    "\n",
    "def train(model, data_loader, num_epochs, model_file, learning_rate=0.0001):\n",
    "    \"\"\"Train the model for given µnumber of epochs and save the trained model in \n",
    "    the final model_file.\n",
    "    \"\"\"\n",
    "\n",
    "    decoder_learning_ratio = 5.0\n",
    "    #encoder_parameter_names = ['word_embedding', 'encoder']\n",
    "    encoder_parameter_names = ['encode_emb', 'encode_gru', 'l1', 'l2']\n",
    "                           \n",
    "    encoder_named_params = list(filter(lambda kv: any(key in kv[0] for key in encoder_parameter_names), model.named_parameters()))\n",
    "    decoder_named_params = list(filter(lambda kv: not any(key in kv[0] for key in encoder_parameter_names), model.named_parameters()))\n",
    "    encoder_params = [e[1] for e in encoder_named_params]\n",
    "    decoder_params = [e[1] for e in decoder_named_params]\n",
    "    optimizer = torch.optim.AdamW([{'params': encoder_params},\n",
    "                {'params': decoder_params, 'lr': learning_rate * decoder_learning_ratio}], lr=learning_rate)\n",
    "    \n",
    "    clip = 50.0\n",
    "    for epoch in tqdm.notebook.trange(num_epochs, desc=\"training\", unit=\"epoch\"):\n",
    "        # print(f\"Total training instances = {len(train_dataset)}\")\n",
    "        # print(f\"train_data_loader = {len(train_data_loader)} {1180 > len(train_data_loader)/20}\")\n",
    "        with tqdm.notebook.tqdm(\n",
    "                data_loader,\n",
    "                desc=\"epoch {}\".format(epoch + 1),\n",
    "                unit=\"batch\",\n",
    "                total=len(data_loader)) as batch_iterator:\n",
    "            model.train()\n",
    "            total_loss = 0.0\n",
    "            for i, batch_data in enumerate(batch_iterator, start=1):\n",
    "                source, source_mask, target, target_mask = batch_data\n",
    "                print(source.shape)\n",
    "                print(source_mask.shape)\n",
    "                print(target.shape)\n",
    "                print(target_mask.shape)\n",
    "                optimizer.zero_grad()\n",
    "                loss = model.compute_loss(source.cuda(), source_mask.cuda(), target.cuda(), target_mask.cuda())\n",
    "                total_loss += loss.item()\n",
    "                loss.backward()\n",
    "                # Gradient clipping before taking the step\n",
    "                _ = nn.utils.clip_grad_norm_(model.parameters(), clip)\n",
    "                optimizer.step()\n",
    "\n",
    "                batch_iterator.set_postfix(mean_loss=total_loss / i, current_loss=loss.item())\n",
    "            loss_rec.append(total_loss)\n",
    "    # Save the model after training         \n",
    "    torch.save(model.state_dict(), model_file)"
   ]
  },
  {
   "cell_type": "code",
   "execution_count": 20,
   "id": "aa1648b9",
   "metadata": {},
   "outputs": [
    {
     "data": {
      "application/vnd.jupyter.widget-view+json": {
       "model_id": "7d6d96cd0c684d6b982206bc288dac07",
       "version_major": 2,
       "version_minor": 0
      },
      "text/plain": [
       "training:   0%|          | 0/4 [00:00<?, ?epoch/s]"
      ]
     },
     "metadata": {},
     "output_type": "display_data"
    },
    {
     "data": {
      "application/vnd.jupyter.widget-view+json": {
       "model_id": "f31de6439198465fbb240bc807617d75",
       "version_major": 2,
       "version_minor": 0
      },
      "text/plain": [
       "epoch 1:   0%|          | 0/26533 [00:00<?, ?batch/s]"
      ]
     },
     "metadata": {},
     "output_type": "display_data"
    },
    {
     "name": "stdout",
     "output_type": "stream",
     "text": [
      "torch.Size([2, 6])\n",
      "torch.Size([2, 6])\n",
      "torch.Size([2, 10])\n",
      "torch.Size([2, 10])\n",
      "torch.Size([2, 10])\n",
      "torch.Size([2, 10])\n",
      "torch.Size([2, 7])\n",
      "torch.Size([2, 7])\n",
      "torch.Size([2, 8])\n",
      "torch.Size([2, 8])\n",
      "torch.Size([2, 6])\n",
      "torch.Size([2, 6])\n",
      "torch.Size([2, 5])\n",
      "torch.Size([2, 5])\n",
      "torch.Size([2, 13])\n",
      "torch.Size([2, 13])\n",
      "torch.Size([2, 8])\n",
      "torch.Size([2, 8])\n",
      "torch.Size([2, 5])\n",
      "torch.Size([2, 5])\n",
      "torch.Size([2, 11])\n",
      "torch.Size([2, 11])\n",
      "torch.Size([2, 10])\n",
      "torch.Size([2, 10])\n",
      "torch.Size([2, 10])\n",
      "torch.Size([2, 10])\n",
      "torch.Size([2, 9])\n",
      "torch.Size([2, 9])\n",
      "torch.Size([2, 10])\n",
      "torch.Size([2, 10])\n",
      "torch.Size([2, 8])\n",
      "torch.Size([2, 8])\n",
      "torch.Size([2, 11])\n",
      "torch.Size([2, 11])\n",
      "torch.Size([2, 9])\n",
      "torch.Size([2, 9])\n",
      "torch.Size([2, 9])\n",
      "torch.Size([2, 9])\n",
      "torch.Size([2, 10])\n",
      "torch.Size([2, 10])\n",
      "torch.Size([2, 11])\n",
      "torch.Size([2, 11])\n",
      "torch.Size([2, 8])\n",
      "torch.Size([2, 8])\n",
      "torch.Size([2, 8])\n",
      "torch.Size([2, 8])\n",
      "torch.Size([2, 8])\n",
      "torch.Size([2, 8])\n",
      "torch.Size([2, 10])\n",
      "torch.Size([2, 10])\n",
      "torch.Size([2, 5])\n",
      "torch.Size([2, 5])\n",
      "torch.Size([2, 5])\n",
      "torch.Size([2, 5])\n",
      "torch.Size([2, 10])\n",
      "torch.Size([2, 10])\n",
      "torch.Size([2, 11])\n",
      "torch.Size([2, 11])\n",
      "torch.Size([2, 10])\n",
      "torch.Size([2, 10])\n",
      "torch.Size([2, 9])\n",
      "torch.Size([2, 9])\n",
      "torch.Size([2, 6])\n",
      "torch.Size([2, 6])\n",
      "torch.Size([2, 11])\n",
      "torch.Size([2, 11])\n",
      "torch.Size([2, 9])\n",
      "torch.Size([2, 9])\n",
      "torch.Size([2, 7])\n",
      "torch.Size([2, 7])\n",
      "torch.Size([2, 6])\n",
      "torch.Size([2, 6])\n",
      "torch.Size([2, 7])\n",
      "torch.Size([2, 7])\n",
      "torch.Size([2, 10])\n",
      "torch.Size([2, 10])\n",
      "torch.Size([2, 9])\n",
      "torch.Size([2, 9])\n",
      "torch.Size([2, 9])\n",
      "torch.Size([2, 9])\n",
      "torch.Size([2, 9])\n",
      "torch.Size([2, 9])\n",
      "torch.Size([2, 12])\n",
      "torch.Size([2, 12])\n"
     ]
    },
    {
     "ename": "KeyboardInterrupt",
     "evalue": "",
     "output_type": "error",
     "traceback": [
      "\u001b[0;31m---------------------------------------------------------------------------\u001b[0m",
      "\u001b[0;31mKeyboardInterrupt\u001b[0m                         Traceback (most recent call last)",
      "\u001b[0;32m/tmp/ipykernel_4630/2172646319.py\u001b[0m in \u001b[0;36m<module>\u001b[0;34m\u001b[0m\n\u001b[1;32m      7\u001b[0m \u001b[0;34m\u001b[0m\u001b[0m\n\u001b[1;32m      8\u001b[0m \u001b[0mbaseline_model\u001b[0m \u001b[0;34m=\u001b[0m \u001b[0mRetrieverPolyencoder_single\u001b[0m\u001b[0;34m(\u001b[0m\u001b[0mbert\u001b[0m\u001b[0;34m)\u001b[0m\u001b[0;34m.\u001b[0m\u001b[0mto\u001b[0m\u001b[0;34m(\u001b[0m\u001b[0mdevice\u001b[0m\u001b[0;34m)\u001b[0m\u001b[0;34m\u001b[0m\u001b[0;34m\u001b[0m\u001b[0m\n\u001b[0;32m----> 9\u001b[0;31m \u001b[0mtrain\u001b[0m\u001b[0;34m(\u001b[0m\u001b[0mbaseline_model\u001b[0m\u001b[0;34m,\u001b[0m \u001b[0mtrain_dataloader\u001b[0m\u001b[0;34m,\u001b[0m \u001b[0mnum_epochs\u001b[0m\u001b[0;34m,\u001b[0m \u001b[0;34m\"/models/baseline_model.pt\"\u001b[0m\u001b[0;34m,\u001b[0m\u001b[0mlearning_rate\u001b[0m\u001b[0;34m=\u001b[0m\u001b[0mlearning_rate\u001b[0m\u001b[0;34m)\u001b[0m\u001b[0;34m\u001b[0m\u001b[0;34m\u001b[0m\u001b[0m\n\u001b[0m\u001b[1;32m     10\u001b[0m \u001b[0;31m# Download the trained model to local for future use\u001b[0m\u001b[0;34m\u001b[0m\u001b[0;34m\u001b[0m\u001b[0m\n\u001b[1;32m     11\u001b[0m \u001b[0;31m#files.download('baseline_model.pt')\u001b[0m\u001b[0;34m\u001b[0m\u001b[0;34m\u001b[0m\u001b[0m\n",
      "\u001b[0;32m/tmp/ipykernel_4630/1261397615.py\u001b[0m in \u001b[0;36mtrain\u001b[0;34m(model, data_loader, num_epochs, model_file, learning_rate)\u001b[0m\n\u001b[1;32m     35\u001b[0m                 \u001b[0mprint\u001b[0m\u001b[0;34m(\u001b[0m\u001b[0mtarget_mask\u001b[0m\u001b[0;34m.\u001b[0m\u001b[0mshape\u001b[0m\u001b[0;34m)\u001b[0m\u001b[0;34m\u001b[0m\u001b[0;34m\u001b[0m\u001b[0m\n\u001b[1;32m     36\u001b[0m                 \u001b[0moptimizer\u001b[0m\u001b[0;34m.\u001b[0m\u001b[0mzero_grad\u001b[0m\u001b[0;34m(\u001b[0m\u001b[0;34m)\u001b[0m\u001b[0;34m\u001b[0m\u001b[0;34m\u001b[0m\u001b[0m\n\u001b[0;32m---> 37\u001b[0;31m                 \u001b[0mloss\u001b[0m \u001b[0;34m=\u001b[0m \u001b[0mmodel\u001b[0m\u001b[0;34m.\u001b[0m\u001b[0mcompute_loss\u001b[0m\u001b[0;34m(\u001b[0m\u001b[0msource\u001b[0m\u001b[0;34m.\u001b[0m\u001b[0mcuda\u001b[0m\u001b[0;34m(\u001b[0m\u001b[0;34m)\u001b[0m\u001b[0;34m,\u001b[0m \u001b[0msource_mask\u001b[0m\u001b[0;34m.\u001b[0m\u001b[0mcuda\u001b[0m\u001b[0;34m(\u001b[0m\u001b[0;34m)\u001b[0m\u001b[0;34m,\u001b[0m \u001b[0mtarget\u001b[0m\u001b[0;34m.\u001b[0m\u001b[0mcuda\u001b[0m\u001b[0;34m(\u001b[0m\u001b[0;34m)\u001b[0m\u001b[0;34m,\u001b[0m \u001b[0mtarget_mask\u001b[0m\u001b[0;34m.\u001b[0m\u001b[0mcuda\u001b[0m\u001b[0;34m(\u001b[0m\u001b[0;34m)\u001b[0m\u001b[0;34m)\u001b[0m\u001b[0;34m\u001b[0m\u001b[0;34m\u001b[0m\u001b[0m\n\u001b[0m\u001b[1;32m     38\u001b[0m                 \u001b[0mtotal_loss\u001b[0m \u001b[0;34m+=\u001b[0m \u001b[0mloss\u001b[0m\u001b[0;34m.\u001b[0m\u001b[0mitem\u001b[0m\u001b[0;34m(\u001b[0m\u001b[0;34m)\u001b[0m\u001b[0;34m\u001b[0m\u001b[0;34m\u001b[0m\u001b[0m\n\u001b[1;32m     39\u001b[0m                 \u001b[0mloss\u001b[0m\u001b[0;34m.\u001b[0m\u001b[0mbackward\u001b[0m\u001b[0;34m(\u001b[0m\u001b[0;34m)\u001b[0m\u001b[0;34m\u001b[0m\u001b[0;34m\u001b[0m\u001b[0m\n",
      "\u001b[0;32m/tmp/ipykernel_4630/187288278.py\u001b[0m in \u001b[0;36mcompute_loss\u001b[0;34m(self, context, context_mask, response, response_mask)\u001b[0m\n\u001b[1;32m     83\u001b[0m \u001b[0;34m\u001b[0m\u001b[0m\n\u001b[1;32m     84\u001b[0m         \u001b[0;31m# Response\u001b[0m\u001b[0;34m\u001b[0m\u001b[0;34m\u001b[0m\u001b[0m\n\u001b[0;32m---> 85\u001b[0;31m         \u001b[0mresponse_encoded\u001b[0m \u001b[0;34m=\u001b[0m \u001b[0mself\u001b[0m\u001b[0;34m.\u001b[0m\u001b[0mbert\u001b[0m\u001b[0;34m(\u001b[0m\u001b[0mresponse\u001b[0m\u001b[0;34m,\u001b[0m \u001b[0mresponse_mask\u001b[0m\u001b[0;34m)\u001b[0m\u001b[0;34m[\u001b[0m\u001b[0;36m0\u001b[0m\u001b[0;34m]\u001b[0m\u001b[0;34m[\u001b[0m\u001b[0;34m:\u001b[0m\u001b[0;34m,\u001b[0m\u001b[0;36m0\u001b[0m\u001b[0;34m,\u001b[0m\u001b[0;34m:\u001b[0m\u001b[0;34m]\u001b[0m\u001b[0;34m\u001b[0m\u001b[0;34m\u001b[0m\u001b[0m\n\u001b[0m\u001b[1;32m     86\u001b[0m \u001b[0;34m\u001b[0m\u001b[0m\n\u001b[1;32m     87\u001b[0m         \u001b[0mresponse_encoded\u001b[0m \u001b[0;34m=\u001b[0m \u001b[0mresponse_encoded\u001b[0m\u001b[0;34m.\u001b[0m\u001b[0munsqueeze\u001b[0m\u001b[0;34m(\u001b[0m\u001b[0;36m0\u001b[0m\u001b[0;34m)\u001b[0m\u001b[0;34m.\u001b[0m\u001b[0mexpand\u001b[0m\u001b[0;34m(\u001b[0m\u001b[0mbatch_size\u001b[0m\u001b[0;34m,\u001b[0m \u001b[0mbatch_size\u001b[0m\u001b[0;34m,\u001b[0m \u001b[0mresponse_encoded\u001b[0m\u001b[0;34m.\u001b[0m\u001b[0mshape\u001b[0m\u001b[0;34m[\u001b[0m\u001b[0;36m1\u001b[0m\u001b[0;34m]\u001b[0m\u001b[0;34m)\u001b[0m\u001b[0;34m\u001b[0m\u001b[0;34m\u001b[0m\u001b[0m\n",
      "\u001b[0;32m~/anaconda3/envs/cs7643-a4/lib/python3.9/site-packages/torch/nn/modules/module.py\u001b[0m in \u001b[0;36m_call_impl\u001b[0;34m(self, *input, **kwargs)\u001b[0m\n\u001b[1;32m   1049\u001b[0m         if not (self._backward_hooks or self._forward_hooks or self._forward_pre_hooks or _global_backward_hooks\n\u001b[1;32m   1050\u001b[0m                 or _global_forward_hooks or _global_forward_pre_hooks):\n\u001b[0;32m-> 1051\u001b[0;31m             \u001b[0;32mreturn\u001b[0m \u001b[0mforward_call\u001b[0m\u001b[0;34m(\u001b[0m\u001b[0;34m*\u001b[0m\u001b[0minput\u001b[0m\u001b[0;34m,\u001b[0m \u001b[0;34m**\u001b[0m\u001b[0mkwargs\u001b[0m\u001b[0;34m)\u001b[0m\u001b[0;34m\u001b[0m\u001b[0;34m\u001b[0m\u001b[0m\n\u001b[0m\u001b[1;32m   1052\u001b[0m         \u001b[0;31m# Do not call functions when jit is used\u001b[0m\u001b[0;34m\u001b[0m\u001b[0;34m\u001b[0m\u001b[0m\n\u001b[1;32m   1053\u001b[0m         \u001b[0mfull_backward_hooks\u001b[0m\u001b[0;34m,\u001b[0m \u001b[0mnon_full_backward_hooks\u001b[0m \u001b[0;34m=\u001b[0m \u001b[0;34m[\u001b[0m\u001b[0;34m]\u001b[0m\u001b[0;34m,\u001b[0m \u001b[0;34m[\u001b[0m\u001b[0;34m]\u001b[0m\u001b[0;34m\u001b[0m\u001b[0;34m\u001b[0m\u001b[0m\n",
      "\u001b[0;32m~/anaconda3/envs/cs7643-a4/lib/python3.9/site-packages/transformers/models/distilbert/modeling_distilbert.py\u001b[0m in \u001b[0;36mforward\u001b[0;34m(self, input_ids, attention_mask, head_mask, inputs_embeds, output_attentions, output_hidden_states, return_dict)\u001b[0m\n\u001b[1;32m    549\u001b[0m         \u001b[0;32mif\u001b[0m \u001b[0minputs_embeds\u001b[0m \u001b[0;32mis\u001b[0m \u001b[0;32mNone\u001b[0m\u001b[0;34m:\u001b[0m\u001b[0;34m\u001b[0m\u001b[0;34m\u001b[0m\u001b[0m\n\u001b[1;32m    550\u001b[0m             \u001b[0minputs_embeds\u001b[0m \u001b[0;34m=\u001b[0m \u001b[0mself\u001b[0m\u001b[0;34m.\u001b[0m\u001b[0membeddings\u001b[0m\u001b[0;34m(\u001b[0m\u001b[0minput_ids\u001b[0m\u001b[0;34m)\u001b[0m  \u001b[0;31m# (bs, seq_length, dim)\u001b[0m\u001b[0;34m\u001b[0m\u001b[0;34m\u001b[0m\u001b[0m\n\u001b[0;32m--> 551\u001b[0;31m         return self.transformer(\n\u001b[0m\u001b[1;32m    552\u001b[0m             \u001b[0mx\u001b[0m\u001b[0;34m=\u001b[0m\u001b[0minputs_embeds\u001b[0m\u001b[0;34m,\u001b[0m\u001b[0;34m\u001b[0m\u001b[0;34m\u001b[0m\u001b[0m\n\u001b[1;32m    553\u001b[0m             \u001b[0mattn_mask\u001b[0m\u001b[0;34m=\u001b[0m\u001b[0mattention_mask\u001b[0m\u001b[0;34m,\u001b[0m\u001b[0;34m\u001b[0m\u001b[0;34m\u001b[0m\u001b[0m\n",
      "\u001b[0;32m~/anaconda3/envs/cs7643-a4/lib/python3.9/site-packages/torch/nn/modules/module.py\u001b[0m in \u001b[0;36m_call_impl\u001b[0;34m(self, *input, **kwargs)\u001b[0m\n\u001b[1;32m   1049\u001b[0m         if not (self._backward_hooks or self._forward_hooks or self._forward_pre_hooks or _global_backward_hooks\n\u001b[1;32m   1050\u001b[0m                 or _global_forward_hooks or _global_forward_pre_hooks):\n\u001b[0;32m-> 1051\u001b[0;31m             \u001b[0;32mreturn\u001b[0m \u001b[0mforward_call\u001b[0m\u001b[0;34m(\u001b[0m\u001b[0;34m*\u001b[0m\u001b[0minput\u001b[0m\u001b[0;34m,\u001b[0m \u001b[0;34m**\u001b[0m\u001b[0mkwargs\u001b[0m\u001b[0;34m)\u001b[0m\u001b[0;34m\u001b[0m\u001b[0;34m\u001b[0m\u001b[0m\n\u001b[0m\u001b[1;32m   1052\u001b[0m         \u001b[0;31m# Do not call functions when jit is used\u001b[0m\u001b[0;34m\u001b[0m\u001b[0;34m\u001b[0m\u001b[0m\n\u001b[1;32m   1053\u001b[0m         \u001b[0mfull_backward_hooks\u001b[0m\u001b[0;34m,\u001b[0m \u001b[0mnon_full_backward_hooks\u001b[0m \u001b[0;34m=\u001b[0m \u001b[0;34m[\u001b[0m\u001b[0;34m]\u001b[0m\u001b[0;34m,\u001b[0m \u001b[0;34m[\u001b[0m\u001b[0;34m]\u001b[0m\u001b[0;34m\u001b[0m\u001b[0;34m\u001b[0m\u001b[0m\n",
      "\u001b[0;32m~/anaconda3/envs/cs7643-a4/lib/python3.9/site-packages/transformers/models/distilbert/modeling_distilbert.py\u001b[0m in \u001b[0;36mforward\u001b[0;34m(self, x, attn_mask, head_mask, output_attentions, output_hidden_states, return_dict)\u001b[0m\n\u001b[1;32m    335\u001b[0m                 \u001b[0mall_attentions\u001b[0m \u001b[0;34m=\u001b[0m \u001b[0mall_attentions\u001b[0m \u001b[0;34m+\u001b[0m \u001b[0;34m(\u001b[0m\u001b[0mattentions\u001b[0m\u001b[0;34m,\u001b[0m\u001b[0;34m)\u001b[0m\u001b[0;34m\u001b[0m\u001b[0;34m\u001b[0m\u001b[0m\n\u001b[1;32m    336\u001b[0m             \u001b[0;32melse\u001b[0m\u001b[0;34m:\u001b[0m\u001b[0;34m\u001b[0m\u001b[0;34m\u001b[0m\u001b[0m\n\u001b[0;32m--> 337\u001b[0;31m                 \u001b[0;32massert\u001b[0m \u001b[0mlen\u001b[0m\u001b[0;34m(\u001b[0m\u001b[0mlayer_outputs\u001b[0m\u001b[0;34m)\u001b[0m \u001b[0;34m==\u001b[0m \u001b[0;36m1\u001b[0m\u001b[0;34m\u001b[0m\u001b[0;34m\u001b[0m\u001b[0m\n\u001b[0m\u001b[1;32m    338\u001b[0m \u001b[0;34m\u001b[0m\u001b[0m\n\u001b[1;32m    339\u001b[0m         \u001b[0;31m# Add last layer\u001b[0m\u001b[0;34m\u001b[0m\u001b[0;34m\u001b[0m\u001b[0m\n",
      "\u001b[0;31mKeyboardInterrupt\u001b[0m: "
     ]
    }
   ],
   "source": [
    "# You are welcome to adjust these parameters based on your model implementation.\n",
    "num_epochs = 4\n",
    "batch_size = 2\n",
    "learning_rate = 0.001\n",
    "# Reloading the data_loader to increase batch_size\n",
    "train_dataloader = DataLoader(all_conversations,batch_size=batch_size,collate_fn=partial(transformer_collate_fn, tokenizer=tokenizer), shuffle = True)\n",
    "\n",
    "baseline_model = RetrieverPolyencoder_single(bert).to(device)\n",
    "train(baseline_model, train_dataloader, num_epochs, \"/models/baseline_model.pt\",learning_rate=learning_rate)\n",
    "# Download the trained model to local for future use\n",
    "#files.download('baseline_model.pt')"
   ]
  },
  {
   "cell_type": "code",
   "execution_count": null,
   "id": "f1e15af9",
   "metadata": {},
   "outputs": [],
   "source": [
    "loss_rec"
   ]
  },
  {
   "cell_type": "code",
   "execution_count": null,
   "id": "d0271971",
   "metadata": {},
   "outputs": [],
   "source": [
    "baseline_model = RetrieverPolyencoder(bert1,bert2,vocab).to(device)\n",
    "baseline_model.load_state_dict(torch.load(\"baseline_model3.pt\", map_location=device))"
   ]
  },
  {
   "cell_type": "code",
   "execution_count": null,
   "id": "18ee02f2",
   "metadata": {},
   "outputs": [],
   "source": [
    "vals = transformer_collate_fn(all_conversations[0:100],tokenizer)"
   ]
  },
  {
   "cell_type": "code",
   "execution_count": null,
   "id": "6228e888",
   "metadata": {},
   "outputs": [],
   "source": [
    "i=3"
   ]
  },
  {
   "cell_type": "code",
   "execution_count": null,
   "id": "f39747e3",
   "metadata": {},
   "outputs": [],
   "source": [
    "scores = baseline_model.score(vals[0][i].unsqueeze(0).cuda(),vals[1][i].unsqueeze(0).cuda(),vals[2].unsqueeze(0).cuda(),vals[3].unsqueeze(0).cuda()).detach().cpu().numpy()"
   ]
  },
  {
   "cell_type": "code",
   "execution_count": null,
   "id": "5266667c",
   "metadata": {},
   "outputs": [],
   "source": [
    "all_conversations[i][0]"
   ]
  },
  {
   "cell_type": "code",
   "execution_count": null,
   "id": "56f3e220",
   "metadata": {},
   "outputs": [],
   "source": [
    "all_conversations[np.argmax(scores)][1]"
   ]
  },
  {
   "cell_type": "code",
   "execution_count": null,
   "id": "0624eed0",
   "metadata": {},
   "outputs": [],
   "source": [
    "max_v = 100\n",
    "vals = transformer_collate_fn(all_conversations[0:max_v],tokenizer)\n",
    "correct = 0\n",
    "for i in range(max_v):\n",
    "    scores = baseline_model.score(vals[0][i].unsqueeze(0).cuda(),vals[1][i].unsqueeze(0).cuda(),vals[2].unsqueeze(0).cuda(),vals[3].unsqueeze(0).cuda()).detach().cpu().numpy()\n",
    "    if np.argmax(scores)==i:\n",
    "        correct+=1\n",
    "    print(all_conversations[i][0])\n",
    "    print(all_conversations[np.argmax(scores)][1]+\"\\n\")"
   ]
  },
  {
   "cell_type": "code",
   "execution_count": null,
   "id": "22bae582",
   "metadata": {},
   "outputs": [],
   "source": [
    "print(correct/max_v)"
   ]
  },
  {
   "cell_type": "code",
   "execution_count": null,
   "id": "aaf022cf",
   "metadata": {},
   "outputs": [],
   "source": []
  }
 ],
 "metadata": {
  "kernelspec": {
   "display_name": "Python 3 (ipykernel)",
   "language": "python",
   "name": "python3"
  },
  "language_info": {
   "codemirror_mode": {
    "name": "ipython",
    "version": 3
   },
   "file_extension": ".py",
   "mimetype": "text/x-python",
   "name": "python",
   "nbconvert_exporter": "python",
   "pygments_lexer": "ipython3",
   "version": "3.9.7"
  },
  "toc-autonumbering": false,
  "toc-showcode": false
 },
 "nbformat": 4,
 "nbformat_minor": 5
}
