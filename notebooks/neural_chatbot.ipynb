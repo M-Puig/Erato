{
 "cells": [
  {
   "cell_type": "code",
   "execution_count": 2,
   "metadata": {
    "id": "MA4r_0ZqcSfc"
   },
   "outputs": [],
   "source": [
    "# Licensing Information:  You are free to use or extend this project for\n",
    "# educational purposes provided that (1) you do not distribute or publish\n",
    "# solutions, (2) you retain this notice, and (3) you provide clear\n",
    "# attribution to The Georgia Institute of Technology, including a link to https://aritter.github.io/CS-7650/\n",
    "\n",
    "# Attribution Information: \n",
    "# This Project was developed at the Georgia Institute of Technology by Ashutosh Baheti (ashutosh.baheti@cc.gatech.edu), \n",
    "# borrowing  from the Neural Machine Translation Project (Project 2) \n",
    "# of the UC Berkeley NLP course https://cal-cs288.github.io/sp20/"
   ]
  },
  {
   "cell_type": "markdown",
   "metadata": {
    "id": "AxiBjiN7caiJ"
   },
   "source": [
    "# Project #3: Neural Chatbot\n",
    "\n",
    "\n",
    "\n"
   ]
  },
  {
   "cell_type": "markdown",
   "metadata": {
    "id": "qCA9aMQxcjoc"
   },
   "source": [
    "Neural Dialog Model are Sequence-to-Sequence (Seq2Seq) models that produce conversational response given the dialog history. State-of-the-art dialog models are trained on millions of multi-turn conversations. However, in this assignment we will narrow our scope to single turn conversations to make the problem easier.  \n",
    "\n",
    "In this assignment you will implement,\n",
    "1. Seq2Seq encoder-decoder model\n",
    "2. Seq2Seq model with attention mechanism\n",
    "3. Greedy and Beam search decoding algorithms  "
   ]
  },
  {
   "cell_type": "markdown",
   "metadata": {
    "id": "D0xB9Vlheg6c"
   },
   "source": [
    "First import libraries required for the implementation"
   ]
  },
  {
   "cell_type": "code",
   "execution_count": 2,
   "metadata": {
    "id": "TIkNu1zhLAtR"
   },
   "outputs": [],
   "source": [
    "from __future__ import absolute_import\n",
    "from __future__ import division\n",
    "from __future__ import print_function\n",
    "from __future__ import unicode_literals\n",
    "\n",
    "import torch\n",
    "from torch.jit import script, trace\n",
    "import torch.nn as nn\n",
    "from torch import optim\n",
    "import torch.nn.functional as F\n",
    "import numpy as np\n",
    "import csv\n",
    "import random\n",
    "import re\n",
    "import os\n",
    "import unicodedata\n",
    "import codecs\n",
    "from io import open\n",
    "import itertools\n",
    "import math\n",
    "import pickle\n",
    "import statistics\n",
    "\n",
    "from torch.utils.data import Dataset, DataLoader\n",
    "from torch.nn.utils.rnn import pad_sequence\n",
    "import tqdm\n",
    "import nltk\n",
    "#from google.colab import files"
   ]
  },
  {
   "cell_type": "markdown",
   "metadata": {
    "id": "E3ny4wUTeqW2"
   },
   "source": [
    "Then we implement some standard util functions that will be useful in the rest of the code."
   ]
  },
  {
   "cell_type": "code",
   "execution_count": 3,
   "metadata": {
    "id": "SRA1Fu5vLWtB"
   },
   "outputs": [],
   "source": [
    "# General util functions\n",
    "def make_dir_if_not_exists(directory):\n",
    "\tif not os.path.exists(directory):\n",
    "\t\tlogging.info(\"Creating new directory: {}\".format(directory))\n",
    "\t\tos.makedirs(directory)\n",
    "\n",
    "def print_list(l, K=None):\n",
    "\t# If K is given then only print first K\n",
    "\tfor i, e in enumerate(l):\n",
    "\t\tif i == K:\n",
    "\t\t\tbreak\n",
    "\t\tprint(e)\n",
    "\tprint()\n",
    "\n",
    "def remove_multiple_spaces(string):\n",
    "\treturn re.sub(r'\\s+', ' ', string).strip()\n",
    "\n",
    "def save_in_pickle(save_object, save_file):\n",
    "\twith open(save_file, \"wb\") as pickle_out:\n",
    "\t\tpickle.dump(save_object, pickle_out)\n",
    "\n",
    "def load_from_pickle(pickle_file):\n",
    "\twith open(pickle_file, \"rb\") as pickle_in:\n",
    "\t\treturn pickle.load(pickle_in)\n",
    "\n",
    "def save_in_txt(list_of_strings, save_file):\n",
    "\twith open(save_file, \"w\") as writer:\n",
    "\t\tfor line in list_of_strings:\n",
    "\t\t\tline = line.strip()\n",
    "\t\t\twriter.write(f\"{line}\\n\")\n",
    "\n",
    "def load_from_txt(txt_file):\n",
    "\twith open(txt_file, \"r\") as reader:\n",
    "\t\tall_lines = list()\n",
    "\t\tfor line in reader:\n",
    "\t\t\tline = line.strip()\n",
    "\t\t\tall_lines.append(line)\n",
    "\t\treturn all_lines"
   ]
  },
  {
   "cell_type": "markdown",
   "metadata": {
    "id": "K9Mi3azJe0I8"
   },
   "source": [
    "Finally we will check if GPU is available and set the device accordingly.\n",
    "\n",
    "Tip: While debugging use `CPU` and change the runtime type to `GPU` when you are ready to train your models to efficiently use free Colab GPU"
   ]
  },
  {
   "cell_type": "code",
   "execution_count": 4,
   "metadata": {
    "colab": {
     "base_uri": "https://localhost:8080/"
    },
    "id": "VFOWkGQdNUUo",
    "outputId": "1695a6a7-fb43-4de5-b7f5-803c5f49c3f8"
   },
   "outputs": [
    {
     "name": "stdout",
     "output_type": "stream",
     "text": [
      "True\n",
      "Using device: cuda\n"
     ]
    }
   ],
   "source": [
    "print(torch.cuda.is_available())\n",
    "if torch.cuda.is_available():\n",
    "  device = torch.device(\"cuda\")\n",
    "else:\n",
    "  device = torch.device(\"cpu\")\n",
    "print(\"Using device:\", device)"
   ]
  },
  {
   "cell_type": "markdown",
   "metadata": {
    "id": "pA4RhP1Rfegu"
   },
   "source": [
    "## Dataset"
   ]
  },
  {
   "cell_type": "markdown",
   "metadata": {
    "id": "Sjw3wbo8fipA"
   },
   "source": [
    "For the dataset we will be using a small sample of single turn input and \n",
    "\n",
    "---\n",
    "\n",
    "response pairs from [Cornell Movie Dialog Corpus](https://www.cs.cornell.edu/~cristian/Cornell_Movie-Dialogs_Corpus.html). We filter conversational pairs with sentences > 10 tokens. To reduce your work, we have already created a sample of tokenized, lowercased single turn conversations from Cornell Movie Dialog Corpus. The preprocessed dataset sample is stored in pickle format and can be downloaded from [this link](https://drive.google.com/file/d/1qYdSlDJ89AvgozK3V5tik8Op93zPbG6e/view?usp=sharing). Please download the `processed_CMDC.pkl` file from the link and upload it in colab."
   ]
  },
  {
   "cell_type": "code",
   "execution_count": 9,
   "metadata": {
    "colab": {
     "base_uri": "https://localhost:8080/"
    },
    "id": "0p7hv3QT1JrJ",
    "outputId": "efffbd50-5ff0-495b-e073-3fe985265446"
   },
   "outputs": [],
   "source": [
    "#!fileid=\"1qYdSlDJ89AvgozK3V5tik8Op93zPbG6e\" && filename=\"../data/cornell_movie/processed_CMDC.pkl\" && curl -c ./cookie -s -L \"https://drive.google.com/uc?export=download&id=${fileid}\" > /dev/null && curl -Lb ./cookie \"https://drive.google.com/uc?export=download&confirm=`awk '/download/ {print $NF}' ./cookie`&id=${fileid}\" -o ${filename}"
   ]
  },
  {
   "cell_type": "code",
   "execution_count": 10,
   "metadata": {
    "colab": {
     "base_uri": "https://localhost:8080/"
    },
    "id": "9l4KOwIsNWqb",
    "outputId": "eb9408be-a41d-4a54-d4a4-d0798f1e18ab"
   },
   "outputs": [
    {
     "name": "stdout",
     "output_type": "stream",
     "text": [
      "Number of Training Conversation Pairs = 53065\n",
      "Number of Evaluation Conversation Pairs = 100\n"
     ]
    }
   ],
   "source": [
    "# Loading the pre-processed conversational exchanges (source-target pairs) from pickle data files\n",
    "all_conversations = load_from_pickle(\"../data/cornell_movie/processed_CMDC.pkl\")\n",
    "# Extract 100 conversations from the end for evaluation and keep the rest for training\n",
    "eval_conversations = all_conversations[-100:]\n",
    "all_conversations = all_conversations[:-100]\n",
    "\n",
    "# Logging data stats\n",
    "print(f\"Number of Training Conversation Pairs = {len(all_conversations)}\")\n",
    "print(f\"Number of Evaluation Conversation Pairs = {len(eval_conversations)}\")"
   ]
  },
  {
   "cell_type": "markdown",
   "metadata": {
    "id": "OHI2pdQDgoEB"
   },
   "source": [
    "Let's print a couple of conversations to check if they are loaded properly."
   ]
  },
  {
   "cell_type": "code",
   "execution_count": 11,
   "metadata": {
    "colab": {
     "base_uri": "https://localhost:8080/"
    },
    "id": "MACN38BoN7OQ",
    "outputId": "d4917e7d-0efc-4a8e-e657-ad3748fa1572"
   },
   "outputs": [
    {
     "name": "stdout",
     "output_type": "stream",
     "text": [
      "('there .', 'where ?')\n",
      "('you have my word . as a gentleman', 'you re sweet .')\n",
      "('hi .', 'looks like things worked out tonight huh ?')\n",
      "('have fun tonight ?', 'tons')\n",
      "('well no . . .', 'then that s all you had to say .')\n",
      "\n"
     ]
    }
   ],
   "source": [
    "print_list(all_conversations, 5)"
   ]
  },
  {
   "cell_type": "markdown",
   "metadata": {
    "id": "QYKyOii3p0Hb"
   },
   "source": [
    "## Vocabulary"
   ]
  },
  {
   "cell_type": "markdown",
   "metadata": {
    "id": "2Bqccrbvgugd"
   },
   "source": [
    "The words in the sentences need to be converted into integer tokens so that the neural model can operate on them. For this purpose, we will create a vocabulary which will convert the input strings into model recognizable integer tokens."
   ]
  },
  {
   "cell_type": "code",
   "execution_count": 12,
   "metadata": {
    "colab": {
     "base_uri": "https://localhost:8080/"
    },
    "id": "3zfGojqcqmLK",
    "outputId": "db9ed0e7-1d67-4390-8495-ef1c3a6a852f"
   },
   "outputs": [
    {
     "name": "stdout",
     "output_type": "stream",
     "text": [
      "Total words in the vocabulary = 7727\n"
     ]
    }
   ],
   "source": [
    "pad_word = \"<pad>\"\n",
    "bos_word = \"<s>\"\n",
    "eos_word = \"</s>\"\n",
    "unk_word = \"<unk>\"\n",
    "pad_id = 0\n",
    "bos_id = 1\n",
    "eos_id = 2\n",
    "unk_id = 3\n",
    "    \n",
    "def normalize_sentence(s):\n",
    "    s = re.sub(r\"([.!?])\", r\" \\1\", s)\n",
    "    s = re.sub(r\"[^a-zA-Z.!?]+\", r\" \", s)\n",
    "    s = re.sub(r\"\\s+\", r\" \", s).strip()\n",
    "    return s\n",
    "\n",
    "class Vocabulary:\n",
    "    def __init__(self):\n",
    "        self.word_to_id = {pad_word: pad_id, bos_word: bos_id, eos_word:eos_id, unk_word: unk_id}\n",
    "        self.word_count = {}\n",
    "        self.id_to_word = {pad_id: pad_word, bos_id: bos_word, eos_id: eos_word, unk_id: unk_word}\n",
    "        self.num_words = 4\n",
    "    \n",
    "    def get_ids_from_sentence(self, sentence):\n",
    "        sentence = normalize_sentence(sentence)\n",
    "        sent_ids = [bos_id] + [self.word_to_id[word] if word in self.word_to_id \\\n",
    "                               else unk_id for word in sentence.split()] + \\\n",
    "                               [eos_id]\n",
    "        return sent_ids\n",
    "    \n",
    "    def tokenized_sentence(self, sentence):\n",
    "        sent_ids = self.get_ids_from_sentence(sentence)\n",
    "        return [self.id_to_word[word_id] for word_id in sent_ids]\n",
    "\n",
    "    def decode_sentence_from_ids(self, sent_ids):\n",
    "        words = list()\n",
    "        for i, word_id in enumerate(sent_ids):\n",
    "            if word_id in [bos_id, eos_id, pad_id]:\n",
    "                # Skip these words\n",
    "                continue\n",
    "            else:\n",
    "                words.append(self.id_to_word[word_id])\n",
    "        return ' '.join(words)\n",
    "\n",
    "    def add_words_from_sentence(self, sentence):\n",
    "        sentence = normalize_sentence(sentence)\n",
    "        for word in sentence.split():\n",
    "            if word not in self.word_to_id:\n",
    "                # add this word to the vocabulary\n",
    "                self.word_to_id[word] = self.num_words\n",
    "                self.id_to_word[self.num_words] = word\n",
    "                self.word_count[word] = 1\n",
    "                self.num_words += 1\n",
    "            else:\n",
    "                # update the word count\n",
    "                self.word_count[word] += 1\n",
    "\n",
    "vocab = Vocabulary()\n",
    "for src, tgt in all_conversations:\n",
    "    vocab.add_words_from_sentence(src)\n",
    "    vocab.add_words_from_sentence(tgt)\n",
    "print(f\"Total words in the vocabulary = {vocab.num_words}\")"
   ]
  },
  {
   "cell_type": "markdown",
   "metadata": {
    "id": "LBouL7ZHyvxM"
   },
   "source": [
    "Let's print top 30 vocab words:"
   ]
  },
  {
   "cell_type": "code",
   "execution_count": 13,
   "metadata": {
    "colab": {
     "base_uri": "https://localhost:8080/"
    },
    "id": "1dlNBVwc0dzI",
    "outputId": "29d708ab-15ed-413e-fef9-c31bdc75424f"
   },
   "outputs": [
    {
     "name": "stdout",
     "output_type": "stream",
     "text": [
      "('.', 84255)\n",
      "('?', 36822)\n",
      "('you', 25093)\n",
      "('i', 18946)\n",
      "('what', 10765)\n",
      "('s', 10089)\n",
      "('it', 9668)\n",
      "('!', 8872)\n",
      "('the', 8011)\n",
      "('t', 7411)\n",
      "('to', 6929)\n",
      "('a', 6582)\n",
      "('that', 5992)\n",
      "('no', 4931)\n",
      "('me', 4839)\n",
      "('do', 4745)\n",
      "('is', 4434)\n",
      "('don', 3577)\n",
      "('are', 3503)\n",
      "('he', 3413)\n",
      "('yes', 3384)\n",
      "('m', 3382)\n",
      "('not', 3252)\n",
      "('we', 3252)\n",
      "('know', 3171)\n",
      "('re', 2965)\n",
      "('your', 2809)\n",
      "('this', 2726)\n",
      "('yeah', 2708)\n",
      "('in', 2678)\n",
      "\n"
     ]
    }
   ],
   "source": [
    "print_list(sorted(vocab.word_count.items(), key=lambda item: item[1], reverse=True), 30)"
   ]
  },
  {
   "cell_type": "markdown",
   "metadata": {
    "id": "p52g6zoE3b8R"
   },
   "source": [
    "Print a couple of sentences to verify that the vocabulary is working as intended."
   ]
  },
  {
   "cell_type": "code",
   "execution_count": 14,
   "metadata": {
    "colab": {
     "base_uri": "https://localhost:8080/"
    },
    "id": "BIZG1fmA1BED",
    "outputId": "0dc14318-d158-4d08-afea-e67ae863448c"
   },
   "outputs": [
    {
     "name": "stdout",
     "output_type": "stream",
     "text": [
      "where ?\n",
      "['<s>', 'where', '?', '</s>']\n",
      "[1, 6, 7, 2]\n",
      "where ?\n",
      "\n",
      "you re sweet .\n",
      "['<s>', 'you', 're', 'sweet', '.', '</s>']\n",
      "[1, 8, 15, 16, 5, 2]\n",
      "you re sweet .\n",
      "\n",
      "looks like things worked out tonight huh ?\n",
      "['<s>', 'looks', 'like', 'things', 'worked', 'out', 'tonight', 'huh', '?', '</s>']\n",
      "[1, 18, 19, 20, 21, 22, 23, 24, 7, 2]\n",
      "looks like things worked out tonight huh ?\n",
      "\n",
      "Word = the\n",
      "Word ID = 47\n",
      "Word decoded from ID = the\n"
     ]
    }
   ],
   "source": [
    "for src, tgt in all_conversations[:3]:\n",
    "    sentence = tgt\n",
    "    word_tokens = vocab.tokenized_sentence(sentence)\n",
    "    # Automatically adds bos_id and eos_id before and after sentence ids respectively\n",
    "    word_ids = vocab.get_ids_from_sentence(sentence)\n",
    "    print(sentence)\n",
    "    print(word_tokens)\n",
    "    print(word_ids)\n",
    "    print(vocab.decode_sentence_from_ids(word_ids))\n",
    "    print()\n",
    "\n",
    "word = \"the\"\n",
    "word_id = vocab.word_to_id[word]\n",
    "print(f\"Word = {word}\")\n",
    "print(f\"Word ID = {word_id}\")\n",
    "print(f\"Word decoded from ID = {vocab.decode_sentence_from_ids([word_id])}\")"
   ]
  },
  {
   "cell_type": "markdown",
   "metadata": {
    "id": "jVbxmW8N3qL4"
   },
   "source": [
    "## Dataset Prepration (5 points)"
   ]
  },
  {
   "cell_type": "markdown",
   "metadata": {
    "id": "rre6BLuah8w-"
   },
   "source": [
    "We will use built-in dataset utilities, `torch.utils.data.Dataset` and `torch.utils.data.DataLoader`, to get batched data readily useful for training."
   ]
  },
  {
   "cell_type": "code",
   "execution_count": 15,
   "metadata": {
    "id": "92DIBSL43pJT"
   },
   "outputs": [],
   "source": [
    "class SingleTurnMovieDialog_dataset(Dataset):\n",
    "    \"\"\"Single-Turn version of Cornell Movie Dialog Cropus dataset.\"\"\"\n",
    "\n",
    "    def __init__(self, conversations, vocab, device):\n",
    "        \"\"\"\n",
    "        Args:\n",
    "            conversations: list of tuple (src_string, tgt_string) \n",
    "                         - src_string: String of the source sentence\n",
    "                         - tgt_string: String of the target sentence\n",
    "            vocab: Vocabulary object that contains the mapping of \n",
    "                    words to indices\n",
    "            device: cpu or cuda\n",
    "        \"\"\"\n",
    "        self.conversations = conversations\n",
    "        self.vocab = vocab\n",
    "        self.device = device\n",
    "\n",
    "        def encode(src, tgt):\n",
    "            src_ids = self.vocab.get_ids_from_sentence(src)\n",
    "            tgt_ids = self.vocab.get_ids_from_sentence(tgt)\n",
    "            return (src_ids, tgt_ids)\n",
    "\n",
    "        # We will pre-tokenize the conversations and save in id lists for later use\n",
    "        self.tokenized_conversations = [encode(src, tgt) for src, tgt in self.conversations]\n",
    "        \n",
    "    def __len__(self):\n",
    "        return len(self.conversations)\n",
    "\n",
    "    def __getitem__(self, idx):\n",
    "        if torch.is_tensor(idx):\n",
    "            idx = idx.tolist()\n",
    "\n",
    "        return {\"conv_ids\":self.tokenized_conversations[idx], \"conv\":self.conversations[idx]}\n",
    "\n",
    "def collate_fn(data):\n",
    "    \"\"\"Creates mini-batch tensors from the list of tuples (src_seq, tgt_seq).\n",
    "    We should build a custom collate_fn rather than using default collate_fn,\n",
    "    because merging sequences (including padding) is not supported in default.\n",
    "    Seqeuences are padded to the maximum length of mini-batch sequences (dynamic padding).\n",
    "    Args:\n",
    "        data: list of dicts {\"conv_ids\":(src_ids, tgt_ids), \"conv\":(src_str, trg_str)}.\n",
    "            - src_ids: list of src piece ids; variable length.\n",
    "            - tgt_ids: list of tgt piece ids; variable length.\n",
    "            - src_str: String of src\n",
    "            - tgt_str: String of tgt\n",
    "    Returns: dict { \"conv_ids\":     (src_ids, tgt_ids), \n",
    "                    \"conv\":         (src_str, tgt_str), \n",
    "                    \"conv_tensors\": (src_seqs, tgt_seqs)}\n",
    "            src_seqs: torch tensor of shape (src_padded_length, batch_size).\n",
    "            tgt_seqs: torch tensor of shape (tgt_padded_length, batch_size).\n",
    "            src_padded_length = length of the longest src sequence from src_ids\n",
    "            tgt_padded_length = length of the longest tgt sequence from tgt_ids\n",
    "    \"\"\"\n",
    "    # Sort conv_ids based on decreasing order of the src_lengths.\n",
    "    # This is required for efficient GPU computations.\n",
    "    src_ids = [torch.LongTensor(e[\"conv_ids\"][0]) for e in data]\n",
    "    tgt_ids = [torch.LongTensor(e[\"conv_ids\"][1]) for e in data]\n",
    "    src_str = [e[\"conv\"][0] for e in data]\n",
    "    tgt_str = [e[\"conv\"][1] for e in data]\n",
    "    data = list(zip(src_ids, tgt_ids, src_str, tgt_str))\n",
    "    data.sort(key=lambda x: len(x[0]), reverse=True)\n",
    "    src_ids, tgt_ids, src_str, tgt_str = zip(*data)\n",
    "\n",
    "\n",
    "    # Pad the src_ids and tgt_ids using token pad_id to create src_seqs and tgt_seqs\n",
    "    \n",
    "    # Implementation tip: You can use the nn.utils.rnn.pad_sequence utility\n",
    "    # function to combine a list of variable-length sequences with padding.\n",
    "    \n",
    "    # YOUR CODE HERE\n",
    "    src_seqs = nn.utils.rnn.pad_sequence(src_ids, padding_value = pad_id,\n",
    "                                         batch_first = False)\n",
    "    tgt_seqs = nn.utils.rnn.pad_sequence(tgt_ids, padding_value = pad_id, \n",
    "                                         batch_first = False)\n",
    "    \n",
    "    src_padded_length = len(src_seqs[0])\n",
    "    tgt_padded_length = len(tgt_seqs[0])\n",
    "    return {\"conv_ids\":(src_ids, tgt_ids), \"conv\":(src_str, tgt_str), \"conv_tensors\":(src_seqs.to(device), tgt_seqs.to(device))}"
   ]
  },
  {
   "cell_type": "code",
   "execution_count": 16,
   "metadata": {
    "id": "lAQ26bgF4GT1"
   },
   "outputs": [],
   "source": [
    "# Create the DataLoader for all_conversations\n",
    "dataset = SingleTurnMovieDialog_dataset(all_conversations, vocab, device)\n",
    "\n",
    "batch_size = 5\n",
    "\n",
    "data_loader = DataLoader(dataset=dataset, batch_size=batch_size, \n",
    "                               shuffle=True, collate_fn=collate_fn)"
   ]
  },
  {
   "cell_type": "markdown",
   "metadata": {
    "id": "-DC5oaHF4Mn6"
   },
   "source": [
    "Let's test a batch of data to make sure everything is working as intended"
   ]
  },
  {
   "cell_type": "code",
   "execution_count": 17,
   "metadata": {
    "colab": {
     "base_uri": "https://localhost:8080/"
    },
    "id": "y8vYxSJl4NNp",
    "outputId": "076c15ec-6438-45fb-b0f3-0be5ead5e849"
   },
   "outputs": [
    {
     "name": "stdout",
     "output_type": "stream",
     "text": [
      "Testing first training batch of size 5\n",
      "List of source strings:\n",
      "i m horny jack what about you ?\n",
      "well there goes our record deal .\n",
      "what do you mean ?\n",
      "oh why is that ?\n",
      "oh god .\n",
      "\n",
      "Tokenized source ids:\n",
      "tensor([   1,   54,  164, 1630,  634,   44,   67,    8,    7,    2])\n",
      "tensor([   1,   27,    4, 1967,  765, 2519,  188,    5,    2])\n",
      "tensor([  1,  44,  41,   8, 282,   7,   2])\n",
      "tensor([  1, 110,  87, 278,  30,   7,   2])\n",
      "tensor([  1, 110, 111,   5,   2])\n",
      "\n",
      "Padded source ids as tensor (shape torch.Size([10, 5])):\n",
      "tensor([[   1,    1,    1,    1,    1],\n",
      "        [  54,   27,   44,  110,  110],\n",
      "        [ 164,    4,   41,   87,  111],\n",
      "        [1630, 1967,    8,  278,    5],\n",
      "        [ 634,  765,  282,   30,    2],\n",
      "        [  44, 2519,    7,    7,    0],\n",
      "        [  67,  188,    2,    2,    0],\n",
      "        [   8,    5,    0,    0,    0],\n",
      "        [   7,    2,    0,    0,    0],\n",
      "        [   2,    0,    0,    0,    0]], device='cuda:0')\n"
     ]
    }
   ],
   "source": [
    "# Test one batch of training data\n",
    "first_batch = next(iter(data_loader))\n",
    "print(f\"Testing first training batch of size {len(first_batch['conv'][0])}\")\n",
    "print(f\"List of source strings:\")\n",
    "print_list(first_batch[\"conv\"][0])\n",
    "print(f\"Tokenized source ids:\")\n",
    "print_list(first_batch[\"conv_ids\"][0])\n",
    "print(f\"Padded source ids as tensor (shape {first_batch['conv_tensors'][0].size()}):\")\n",
    "print(first_batch[\"conv_tensors\"][0])"
   ]
  },
  {
   "cell_type": "markdown",
   "metadata": {
    "id": "fHMAx6Zym_NS"
   },
   "source": [
    "## Baseline Seq2Seq model (25 points)"
   ]
  },
  {
   "cell_type": "markdown",
   "metadata": {
    "id": "WcjfWInLnIsz"
   },
   "source": [
    "With the training `Dataset` and `DataLoader` ready, we can implement our Seq2Seq baseline model. \n",
    "\n",
    "The model will consist of\n",
    "1. Shared embedding layer between encoder and decoder that converts the input sequence of word ids to dense embedding representations\n",
    "2. Bidirectional GRU encoder that encodes the embedded source sequence into hidden representation\n",
    "3. GRU decoder that predicts target sequence using final encoder hidden representation"
   ]
  },
  {
   "cell_type": "code",
   "execution_count": 13,
   "metadata": {
    "id": "s4QitXM9Szr9"
   },
   "outputs": [],
   "source": [
    "class Seq2seqBaseline(nn.Module):\n",
    "    def __init__(self, vocab, emb_dim = 300, hidden_dim = 300, num_layers = 2, dropout=0.1):\n",
    "        super().__init__()\n",
    "\n",
    "        # Initialize your model's parameters here. To get started, we suggest\n",
    "        # setting all embedding and hidden dimensions to 300, using encoder and\n",
    "        # decoder GRUs with 2 layers, and using a dropout rate of 0.1.\n",
    "\n",
    "        # Implementation tip: To create a bidirectional GRU, you don't need to\n",
    "        # create two GRU networks. Instead use nn.GRU(..., bidirectional=True).\n",
    "        \n",
    "        self.num_words = num_words = vocab.num_words\n",
    "        self.emb_dim = emb_dim\n",
    "        self.hidden_dim = hidden_dim\n",
    "        self.num_layers = num_layers\n",
    "        # YOUR CODE HERE\n",
    "        self.encode_emb = nn.Embedding(self.num_words,self.emb_dim)\n",
    "        self.encode_gru = nn.GRU(self.emb_dim, self.hidden_dim,\n",
    "                          num_layers=self.num_layers, dropout=dropout,\n",
    "                          bidirectional=True,batch_first=False)\n",
    "        self.encode_l_hidden = nn.Linear(2*self.num_layers,self.num_layers)\n",
    "        self.encode_l_output = nn.Linear(2*self.hidden_dim,self.hidden_dim)\n",
    "        #self.relu = nn.ReLU()\n",
    "        #self.l2 = nn.Linear(self.hidden_dim,self.hidden_dim)\n",
    "        self.dropout_enc = nn.Dropout(dropout)\n",
    "\n",
    "        self.decode_emb = nn.Embedding(self.num_words,self.emb_dim)\n",
    "        self.decode_gru = nn.GRU(self.emb_dim, self.hidden_dim,\n",
    "                          num_layers=self.num_layers, dropout=dropout,\n",
    "                          bidirectional=False,batch_first=False)\n",
    "        self.d_l = nn.Linear(self.hidden_dim,self.num_words)\n",
    "        self.logsoftmax = nn.LogSoftmax(dim=2)\n",
    "        self.loss = nn.CrossEntropyLoss(ignore_index=pad_id)\n",
    "        self.dropout_dec = nn.Dropout(dropout)\n",
    "\n",
    "    def encode(self, source):\n",
    "        \"\"\"Encode the source batch using a bidirectional GRU encoder.\n",
    "\n",
    "        Args:\n",
    "            source: An integer tensor with shape (max_src_sequence_length,\n",
    "                batch_size) containing subword indices for the source sentences.\n",
    "\n",
    "        Returns:\n",
    "            A tuple with three elements:\n",
    "                encoder_output: The output hidden representation of the encoder \n",
    "                    with shape (max_src_sequence_length, batch_size, hidden_size).\n",
    "                    Can be obtained by adding the hidden representations of both \n",
    "                    directions of the encoder bidirectional GRU. \n",
    "                encoder_mask: A boolean tensor with shape (max_src_sequence_length,\n",
    "                    batch_size) indicating which encoder outputs correspond to padding\n",
    "                    tokens. Its elements should be True at positions corresponding to\n",
    "                    padding tokens and False elsewhere.\n",
    "                encoder_hidden: The final hidden states of the bidirectional GRU \n",
    "                    (after a suitable projection) that will be used to initialize \n",
    "                    the decoder. This should be a tensor h_n with shape \n",
    "                    (num_layers, batch_size, hidden_size). Note that the hidden \n",
    "                    state returned by the bi-GRU cannot be used directly. Its \n",
    "                    initial dimension is twice the required size because it \n",
    "                    contains state from two directions.\n",
    "\n",
    "        The first two return values are not required for the baseline model and will\n",
    "        only be used later in the attention model. If desired, they can be replaced\n",
    "        with None for the initial implementation.\n",
    "        \"\"\"\n",
    "\n",
    "        # Implementation tip: consider using packed sequences to more easily work\n",
    "        # with the variable-length sequences represented by the source tensor.\n",
    "        # See https://pytorch.org/docs/stable/nn.html#torch.nn.utils.rnn.PackedSequence.\n",
    "\n",
    "        # https://stackoverflow.com/questions/51030782/why-do-we-pack-the-sequences-in-pytorch\n",
    "\n",
    "        # Implementation tip: there are many simple ways to combine the forward\n",
    "        # and backward portions of the final hidden state, e.g. addition, averaging,\n",
    "        # or a linear transformation of the appropriate size. Any of these\n",
    "        # should let you reach the required performance.\n",
    "\n",
    "        # Compute a tensor containing the length of each source sequence.\n",
    "        source_lengths = torch.sum(source != pad_id, axis=0).cpu()\n",
    "\n",
    "        # YOUR CODE HERE\n",
    "        emb = self.dropout_enc(self.encode_emb(source))\n",
    "        emb = nn.utils.rnn.pack_padded_sequence(emb, source_lengths,\n",
    "                                                enforce_sorted = False)\n",
    "        encoder_output, encoder_hidden = self.encode_gru(emb)\n",
    "        encoder_output,_ = nn.utils.rnn.pad_packed_sequence(encoder_output,\n",
    "                                                   padding_value=pad_id)\n",
    "        #encoder_hidden = self.l2(self.relu(self.l1(encoder_hidden)))\n",
    "        #encoder_hidden = torch.tanh(encoder_hidden)\n",
    "        encoder_output = self.encode_l_output(encoder_output)\n",
    "        \n",
    "        encoder_hidden = self.encode_l_hidden(encoder_hidden.permute(2,1,0))\n",
    "        encoder_hidden = encoder_hidden.permute(2,1,0).contiguous()\n",
    "        # Compute the encoder mask\n",
    "        encoder_mask = (source == pad_id)\n",
    "\n",
    "        return encoder_output, encoder_mask.type(torch.bool), encoder_hidden\n",
    "\n",
    "    def decode(self, decoder_input, last_hidden, encoder_output, encoder_mask):\n",
    "        \"\"\"Run the decoder GRU for one decoding step from the last hidden state.\n",
    "\n",
    "        The third and fourth arguments are not used in the baseline model, but are\n",
    "        included for compatibility with the attention model in the next section.\n",
    "\n",
    "        Args:\n",
    "            decoder_input: An integer tensor with shape (1, batch_size) containing \n",
    "                the subword indices for the current decoder input.\n",
    "            last_hidden: A pair of tensors h_{t-1} representing the last hidden\n",
    "                state of the decoder, each with shape (num_layers, batch_size,\n",
    "                hidden_size). For the first decoding step the last_hidden will be \n",
    "                encoder's final hidden representation.\n",
    "            encoder_output: The output of the encoder with shape\n",
    "                (max_src_sequence_length, batch_size, hidden_size).\n",
    "            encoder_mask: The output mask from the encoder with shape\n",
    "                (max_src_sequence_length, batch_size). Encoder outputs at positions\n",
    "                with a True value correspond to padding tokens and should be ignored.\n",
    "\n",
    "        Returns:\n",
    "            A tuple with three elements:\n",
    "                logits: A tensor with shape (batch_size,\n",
    "                    vocab_size) containing unnormalized scores for the next-word\n",
    "                    predictions at each position.\n",
    "                decoder_hidden: tensor h_n with the same shape as last_hidden \n",
    "                    representing the updated decoder state after processing the \n",
    "                    decoder input.\n",
    "                attention_weights: This will be implemented later in the attention\n",
    "                    model, but in order to maintain compatible type signatures, we also\n",
    "                    include it here. This can be None or any other placeholder value.\n",
    "        \"\"\"\n",
    "\n",
    "        # These arguments are not used in the baseline model.\n",
    "        del encoder_output\n",
    "        del encoder_mask\n",
    "\n",
    "        # YOUR CODE HERE\n",
    "        emb = self.dropout_dec(self.decode_emb(decoder_input))\n",
    "        decoder_output, decoder_hidden = self.decode_gru(emb,last_hidden)\n",
    "        logits = self.d_l(decoder_output).squeeze(0)   \n",
    "        return (logits, decoder_hidden, None)\n",
    "\n",
    "    def compute_loss(self, source, target):\n",
    "        \"\"\"Run the model on the source and compute the loss on the target.\n",
    "\n",
    "        Args:\n",
    "            source: An integer tensor with shape (max_source_sequence_length,\n",
    "                batch_size) containing subword indices for the source sentences.\n",
    "            target: An integer tensor with shape (max_target_sequence_length,\n",
    "                batch_size) containing subword indices for the target sentences.\n",
    "\n",
    "        Returns:\n",
    "            A scalar float tensor representing cross-entropy loss on the current batch\n",
    "            divided by the number of target tokens in the batch.\n",
    "            Many of the target tokens will be pad tokens. You should mask the loss \n",
    "            from these tokens using appropriate mask on the target tokens loss.\n",
    "        \"\"\"\n",
    "\n",
    "        # Implementation tip: don't feed the target tensor directly to the decoder.\n",
    "        # To see why, note that for a target sequence like <s> A B C </s>, you would\n",
    "        # want to run the decoder on the prefix <s> A B C and have it predict the\n",
    "        # suffix A B C </s>.\n",
    "\n",
    "        # You may run self.encode() on the source only once and decode the target \n",
    "        # one step at a time.\n",
    "\n",
    "        # YOUR CODE HERE\n",
    "        max_source_sequence_length = target.shape[0]\n",
    "        local_batch_size = target.shape[1]\n",
    "        encoder_output, encoder_mask, h = self.encode(source)\n",
    "        input_decode = target[0,:].unsqueeze(0)\n",
    "        outputs = bos_id*torch.ones(1,local_batch_size,self.num_words, requires_grad=True).cuda()\n",
    "        for t in range(1,max_source_sequence_length):\n",
    "            out,h,_ = self.decode(input_decode, h, encoder_output, encoder_mask)\n",
    "            input_decode = target[t,:].unsqueeze(0)\n",
    "            outputs = torch.cat((outputs,out.unsqueeze(0)),0)\n",
    "        return self.loss(outputs[1:].reshape((max_source_sequence_length-1)*local_batch_size,self.num_words),target[1:].flatten())"
   ]
  },
  {
   "cell_type": "markdown",
   "metadata": {
    "id": "nkcHo-tqsmaH"
   },
   "source": [
    "We provide a training loop for training the model. You are welcome to modify the training loop by adjusting the learning rate or changing optmization settings.\n",
    "\n",
    "**Important:** During our testing we found that training the encoder and decoder with different learning rates is crucial for getting good performance over the small dialog corpus. Specifically, the decoder parameter learning rate should be 5 times the encoder parameter learning rate. Hence, add the encoder parameter variable names in the `encoder_parameter_names` as a list. For example, if encoder is using `self.embedding_layer` and `self.encoder_gru` layer then the `encoder_parameter_names` should be `['embedding_layer', 'encoder_gru']` "
   ]
  },
  {
   "cell_type": "code",
   "execution_count": 14,
   "metadata": {
    "id": "rrFiSD1sZCUN"
   },
   "outputs": [],
   "source": [
    "def train(model, data_loader, num_epochs, model_file, learning_rate=0.0001):\n",
    "    \"\"\"Train the model for given µnumber of epochs and save the trained model in \n",
    "    the final model_file.\n",
    "    \"\"\"\n",
    "\n",
    "    decoder_learning_ratio = 5.0\n",
    "    #encoder_parameter_names = ['word_embedding', 'encoder']\n",
    "    encoder_parameter_names = ['encode_emb', 'encode_gru', 'l1', 'l2']\n",
    "                           \n",
    "    encoder_named_params = list(filter(lambda kv: any(key in kv[0] for key in encoder_parameter_names), model.named_parameters()))\n",
    "    decoder_named_params = list(filter(lambda kv: not any(key in kv[0] for key in encoder_parameter_names), model.named_parameters()))\n",
    "    encoder_params = [e[1] for e in encoder_named_params]\n",
    "    decoder_params = [e[1] for e in decoder_named_params]\n",
    "    optimizer = torch.optim.AdamW([{'params': encoder_params},\n",
    "                {'params': decoder_params, 'lr': learning_rate * decoder_learning_ratio}], lr=learning_rate)\n",
    "    \n",
    "    clip = 50.0\n",
    "    for epoch in tqdm.notebook.trange(num_epochs, desc=\"training\", unit=\"epoch\"):\n",
    "        # print(f\"Total training instances = {len(train_dataset)}\")\n",
    "        # print(f\"train_data_loader = {len(train_data_loader)} {1180 > len(train_data_loader)/20}\")\n",
    "        with tqdm.notebook.tqdm(\n",
    "                data_loader,\n",
    "                desc=\"epoch {}\".format(epoch + 1),\n",
    "                unit=\"batch\",\n",
    "                total=len(data_loader)) as batch_iterator:\n",
    "            model.train()\n",
    "            total_loss = 0.0\n",
    "            for i, batch_data in enumerate(batch_iterator, start=1):\n",
    "                source, target = batch_data[\"conv_tensors\"]\n",
    "                optimizer.zero_grad()\n",
    "                loss = model.compute_loss(source, target)\n",
    "                total_loss += loss.item()\n",
    "                loss.backward()\n",
    "                # Gradient clipping before taking the step\n",
    "                _ = nn.utils.clip_grad_norm_(model.parameters(), clip)\n",
    "                optimizer.step()\n",
    "\n",
    "                batch_iterator.set_postfix(mean_loss=total_loss / i, current_loss=loss.item())\n",
    "    # Save the model after training         \n",
    "    torch.save(model.state_dict(), model_file)"
   ]
  },
  {
   "cell_type": "markdown",
   "metadata": {
    "id": "yIfCFLQcvQQn"
   },
   "source": [
    "We can now train the baseline model.\n",
    "\n",
    "A correct implementation should get a average train loss of < 3.00  \n",
    "The code will automatically save and download the model at the end of training."
   ]
  },
  {
   "cell_type": "code",
   "execution_count": 17,
   "metadata": {
    "colab": {
     "base_uri": "https://localhost:8080/",
     "height": 241,
     "referenced_widgets": [
      "c07d7bf9ed4f49e391351ffb7e659c1b",
      "9080ece7685f46098305a51205669005",
      "be97ceea7b2b487f8bd0f2fcb135dbaf",
      "17749af572b84cd2b759c6fe1342d545",
      "5fe6569e834d47529e89b405024985ef",
      "898f070553dd4323a32985068de9c0c8",
      "21720aeefd2d44daaf73911b28167afc",
      "51e3e303894841b7b1add9d7c0b3834d",
      "920e3e52fa95440a91bedb420d4ffc21",
      "f83da338288c4582a5a64318b2601bc7",
      "f4abbf064bd4493e8e8c2a4627b5f166",
      "f0a3342dd006436fa58417971d4cf2c5",
      "0f06fc3e1dfe47d29c74d1d1c0b124af",
      "4aca858ecb4d4f609bf052ca6aab9bb4",
      "de086ac08fde4e9887587d8fb074478d",
      "f17e84277c3548549de75dc7d375750e",
      "274a07bd39594d84a2f97d503da712db",
      "fe89459d6a7542cb84ad7eebd3a019ae",
      "fcb899843de34d04981cbcf6eb3c5d81",
      "ec23cee759894fa4b97e651fedeaa547",
      "1fcbb081a7934a438e746574e4cbe093",
      "0859e131aaf94726a703d5475570553e",
      "675864eca92443dfb31792ef2a07c6d5",
      "3b9474c3103e4ec1903a1b57ba3b0cd1",
      "24e01fe3d0f24748905b414a42f5bff8",
      "dee04c52f7fb4aaca49b9b3beb460012",
      "96382890675744afa0b7f7f02de7936d",
      "3835afc821df425285f7ce4018e5628d",
      "8a536efdbf7e450d9b64997e734293ac",
      "e348b104c0724b3380833fc687769bc8",
      "011242ccbf2a48cd96870f46a02d73e8",
      "8e17fdfb85ad4e3b883c2e03332f89e2",
      "d7cab1d6497543808d6fd394e45822aa",
      "5626be7b820346269ac2faf4d8c79ecd",
      "386df38f635c40d8979be7ef2aca5bd5",
      "87ada33938fc400a9eb6ef21d3b747d4",
      "283d4f6019e945c5b565abc21468bb59",
      "8fa426d58ea24f1f85ac37c180edfe8f",
      "9d05edd417894821a97e3b3050717208",
      "32cdde9f69194e379aa9fb52c846153b",
      "d6706e48c674433cbfbcf0f1c73ceaaf",
      "7cfc9641ae524428a77d6f181a63941c",
      "a83d8baca73e4991b93091590e9b1145",
      "79dfb8c4bda54f4f980d8fe50732cb17",
      "638e142499c04b5782332c0b41f8142b",
      "1218d36465ea47658cd8b15a059e7284",
      "0cc1fbc5c9c74fe194cabc21abc62832",
      "e97c2e48480543708daf72e2244193b3",
      "aa67c11a184c4bb08bca5678be543aa6",
      "7ff896a53960483aa10e223bb4cf0c62",
      "71def09a34824a359deba179333e620f",
      "57beae60e7b54d6f969aceae4298958a",
      "0a1aef1feaf542a6b40795467ceb1bbf",
      "d81053d852cb4e18a1761b8b06dc2109",
      "76928d44c0b940fcb3e572074744cf8e",
      "973cdc2ef9534e2493f8c3af56cf3b38",
      "5aad480a788a44afb2cd4d7ddf7d6c03",
      "7c957745145a4c01b71bfddf85d1b972",
      "3badf99d674442c1b90f44afd7674475",
      "76a704eee1264effa67dfcade3985c26",
      "12331af41b714fda8746d2699c12fab1",
      "ce2477c12cef4e239bd003d6cc81e614",
      "519bfd103b2b4467b471069cf3cc5ce8",
      "750af3908dbf440d93cdb62e67f8de67",
      "24778979a71149538fbe25ea3292e26a",
      "579639c2d4914f1f9c8cf36981840f5f",
      "76c870b140894da09217a857a93a6bd0",
      "69416d5908574389b6913e9d2f46b0dd",
      "3e7d39ede0fb469fa74f5dce18f33aa3",
      "f109800173ad4d61bbddf77cba07943e",
      "b8ed564a458c44578d2261ec9799f6b7",
      "86c41f0b293c4cf699ce4e568204248d",
      "46be2b6eeb4d49f88a8c4738fcc3d142",
      "af2dc8f0d9a748b5aecb9eed0548388c",
      "680f2176dd714942a6f9b6e9e2639192",
      "ab698103d5904eaabd5de9b8fc17c36b",
      "7717e7a2fe614eb88d1cebd9da432bb1"
     ]
    },
    "id": "MVqQnn59ZuHj",
    "outputId": "dd543a2f-5d22-4ac8-b429-42caea74f51a"
   },
   "outputs": [
    {
     "data": {
      "application/vnd.jupyter.widget-view+json": {
       "model_id": "7e3d12f34a7740f2938f42974502491f",
       "version_major": 2,
       "version_minor": 0
      },
      "text/plain": [
       "training:   0%|          | 0/15 [00:00<?, ?epoch/s]"
      ]
     },
     "metadata": {},
     "output_type": "display_data"
    },
    {
     "data": {
      "application/vnd.jupyter.widget-view+json": {
       "model_id": "aa3499a2011b41e283a2450773d87566",
       "version_major": 2,
       "version_minor": 0
      },
      "text/plain": [
       "epoch 1:   0%|          | 0/830 [00:00<?, ?batch/s]"
      ]
     },
     "metadata": {},
     "output_type": "display_data"
    },
    {
     "data": {
      "application/vnd.jupyter.widget-view+json": {
       "model_id": "63acce20c2774c61bb0bcfc5d8684f8d",
       "version_major": 2,
       "version_minor": 0
      },
      "text/plain": [
       "epoch 2:   0%|          | 0/830 [00:00<?, ?batch/s]"
      ]
     },
     "metadata": {},
     "output_type": "display_data"
    },
    {
     "data": {
      "application/vnd.jupyter.widget-view+json": {
       "model_id": "0a41180893ee4c3a804b064b5443aef7",
       "version_major": 2,
       "version_minor": 0
      },
      "text/plain": [
       "epoch 3:   0%|          | 0/830 [00:00<?, ?batch/s]"
      ]
     },
     "metadata": {},
     "output_type": "display_data"
    },
    {
     "data": {
      "application/vnd.jupyter.widget-view+json": {
       "model_id": "7ad4211fe2f14162b821c1663931a404",
       "version_major": 2,
       "version_minor": 0
      },
      "text/plain": [
       "epoch 4:   0%|          | 0/830 [00:00<?, ?batch/s]"
      ]
     },
     "metadata": {},
     "output_type": "display_data"
    },
    {
     "data": {
      "application/vnd.jupyter.widget-view+json": {
       "model_id": "9fc94dbf612e41acaaace7038cd8a168",
       "version_major": 2,
       "version_minor": 0
      },
      "text/plain": [
       "epoch 5:   0%|          | 0/830 [00:00<?, ?batch/s]"
      ]
     },
     "metadata": {},
     "output_type": "display_data"
    },
    {
     "data": {
      "application/vnd.jupyter.widget-view+json": {
       "model_id": "e62566d573d64308b6355dcdcd69d892",
       "version_major": 2,
       "version_minor": 0
      },
      "text/plain": [
       "epoch 6:   0%|          | 0/830 [00:00<?, ?batch/s]"
      ]
     },
     "metadata": {},
     "output_type": "display_data"
    },
    {
     "data": {
      "application/vnd.jupyter.widget-view+json": {
       "model_id": "9030f6a500644c11b70ee4c1cefdb2c5",
       "version_major": 2,
       "version_minor": 0
      },
      "text/plain": [
       "epoch 7:   0%|          | 0/830 [00:00<?, ?batch/s]"
      ]
     },
     "metadata": {},
     "output_type": "display_data"
    },
    {
     "data": {
      "application/vnd.jupyter.widget-view+json": {
       "model_id": "6138ad31fee1428b8f1364d2fd125738",
       "version_major": 2,
       "version_minor": 0
      },
      "text/plain": [
       "epoch 8:   0%|          | 0/830 [00:00<?, ?batch/s]"
      ]
     },
     "metadata": {},
     "output_type": "display_data"
    },
    {
     "data": {
      "application/vnd.jupyter.widget-view+json": {
       "model_id": "9f0b4bbe565f4b9390d86f97e7f806d3",
       "version_major": 2,
       "version_minor": 0
      },
      "text/plain": [
       "epoch 9:   0%|          | 0/830 [00:00<?, ?batch/s]"
      ]
     },
     "metadata": {},
     "output_type": "display_data"
    },
    {
     "data": {
      "application/vnd.jupyter.widget-view+json": {
       "model_id": "ba20ac9c96614c31a980bc6147703a09",
       "version_major": 2,
       "version_minor": 0
      },
      "text/plain": [
       "epoch 10:   0%|          | 0/830 [00:00<?, ?batch/s]"
      ]
     },
     "metadata": {},
     "output_type": "display_data"
    },
    {
     "data": {
      "application/vnd.jupyter.widget-view+json": {
       "model_id": "e05650362ddb48369210c6ebd9e57714",
       "version_major": 2,
       "version_minor": 0
      },
      "text/plain": [
       "epoch 11:   0%|          | 0/830 [00:00<?, ?batch/s]"
      ]
     },
     "metadata": {},
     "output_type": "display_data"
    },
    {
     "data": {
      "application/vnd.jupyter.widget-view+json": {
       "model_id": "9e058ff36a5647fd9ff7ca6d0f83aac8",
       "version_major": 2,
       "version_minor": 0
      },
      "text/plain": [
       "epoch 12:   0%|          | 0/830 [00:00<?, ?batch/s]"
      ]
     },
     "metadata": {},
     "output_type": "display_data"
    },
    {
     "data": {
      "application/vnd.jupyter.widget-view+json": {
       "model_id": "c4387d89fa7b4a918113ad4e5d5aadac",
       "version_major": 2,
       "version_minor": 0
      },
      "text/plain": [
       "epoch 13:   0%|          | 0/830 [00:00<?, ?batch/s]"
      ]
     },
     "metadata": {},
     "output_type": "display_data"
    },
    {
     "data": {
      "application/vnd.jupyter.widget-view+json": {
       "model_id": "957b7cc4c19f481398ecad5652543a57",
       "version_major": 2,
       "version_minor": 0
      },
      "text/plain": [
       "epoch 14:   0%|          | 0/830 [00:00<?, ?batch/s]"
      ]
     },
     "metadata": {},
     "output_type": "display_data"
    },
    {
     "data": {
      "application/vnd.jupyter.widget-view+json": {
       "model_id": "897878b1f4b9455992a5ba2d84b24f34",
       "version_major": 2,
       "version_minor": 0
      },
      "text/plain": [
       "epoch 15:   0%|          | 0/830 [00:00<?, ?batch/s]"
      ]
     },
     "metadata": {},
     "output_type": "display_data"
    }
   ],
   "source": [
    "# You are welcome to adjust these parameters based on your model implementation.\n",
    "num_epochs = 15\n",
    "batch_size = 64\n",
    "learning_rate = 0.001\n",
    "# Reloading the data_loader to increase batch_size\n",
    "data_loader = DataLoader(dataset=dataset, batch_size=batch_size, \n",
    "                               shuffle=True, collate_fn=collate_fn)\n",
    "\n",
    "baseline_model = Seq2seqBaseline(vocab).to(device)\n",
    "train(baseline_model, data_loader, num_epochs, \"baseline_model.pt\",learning_rate=learning_rate)\n",
    "# Download the trained model to local for future use\n",
    "#files.download('baseline_model.pt')"
   ]
  },
  {
   "cell_type": "code",
   "execution_count": 15,
   "metadata": {
    "colab": {
     "base_uri": "https://localhost:8080/"
    },
    "id": "U83z2yBBw8_N",
    "outputId": "a68a1c82-a05a-4636-fadb-2a933dafe23e"
   },
   "outputs": [
    {
     "data": {
      "text/plain": [
       "<All keys matched successfully>"
      ]
     },
     "execution_count": 15,
     "metadata": {},
     "output_type": "execute_result"
    }
   ],
   "source": [
    "# Reload the model from the model file. \n",
    "# Useful when you have already trained and saved the model\n",
    "baseline_model = Seq2seqBaseline(vocab).to(device)\n",
    "baseline_model.load_state_dict(torch.load(\"baseline_model.pt\", map_location=device))"
   ]
  },
  {
   "cell_type": "markdown",
   "metadata": {
    "id": "Z8vuvtV7PzJf"
   },
   "source": [
    "## Greedy Search (10 points)"
   ]
  },
  {
   "cell_type": "markdown",
   "metadata": {
    "id": "zOqRfnqrxf3f"
   },
   "source": [
    "For evaluation, we also need to be able to generate entire strings from the model. We'll first define a greedy inference procedure here. Later on, we'll implement beam search.\n"
   ]
  },
  {
   "cell_type": "code",
   "execution_count": 16,
   "metadata": {
    "id": "HG-_G8wZdlJh"
   },
   "outputs": [],
   "source": [
    "def predict_greedy(model, sentence, max_length=100):\n",
    "    \"\"\"Make predictions for the given input using greedy inference.\n",
    "    \n",
    "    Args:\n",
    "        model: A sequence-to-sequence model.\n",
    "        sentence: A input string.\n",
    "        max_length: The maximum length at which to truncate outputs in order to\n",
    "            avoid non-terminating inference.\n",
    "    \n",
    "    Returns:\n",
    "        Model's predicted greedy response for the input, represented as string.\n",
    "    \"\"\"\n",
    "\n",
    "    # You should make only one call to model.encode() at the start of the function, \n",
    "    # and make only one call to model.decode() per inference step.\n",
    "    model.eval()\n",
    "\n",
    "    # YOUR CODE HERE\n",
    "    sentence_ids = torch.tensor(vocab.get_ids_from_sentence(sentence)).cuda()\n",
    "    sentence_ids = sentence_ids.unsqueeze(1)\n",
    "    encoder_output, encoder_mask, h = model.encode(sentence_ids)\n",
    "\n",
    "    out = sentence_ids[0]\n",
    "    inf_ids = out\n",
    "    curr_l = 0\n",
    "    while not(out==eos_id):\n",
    "      if curr_l==max_length:\n",
    "        out=torch.Tensor([eos_id]).int().cuda()\n",
    "      else:\n",
    "        out, h, _ = model.decode(out.unsqueeze(0), h, encoder_output,\n",
    "                                 encoder_mask)\n",
    "        out = torch.argmax(out,dim=1)\n",
    "      inf_ids = torch.cat((inf_ids,out),0)\n",
    "      curr_l +=1\n",
    "    return vocab.decode_sentence_from_ids(inf_ids.tolist())\n",
    "\n",
    "    "
   ]
  },
  {
   "cell_type": "markdown",
   "metadata": {
    "id": "zAsOGMw_kHHO"
   },
   "source": [
    "Let's chat interactively with our trained baseline Seq2Seq dialog model and save the generated conversations for submission (please make sure to keep the conversations in your submission [\"PG-13\"](https://en.wikipedia.org/wiki/Motion_Picture_Association_film_rating_system)). We will reuse the conversational inputs while testing Seq2Seq + Attention model.\n",
    "\n",
    "Note: enter \"q\" or \"quit\" to end the interactive chat"
   ]
  },
  {
   "cell_type": "code",
   "execution_count": 17,
   "metadata": {
    "id": "SWlUDUMvfmRy"
   },
   "outputs": [],
   "source": [
    "def chat_with_model(model, mode=\"greedy\"):\n",
    "    if mode == \"beam\":\n",
    "        predict_f = predict_beam\n",
    "    else:\n",
    "        predict_f = predict_greedy\n",
    "    chat_log = list()\n",
    "    input_sentence = ''\n",
    "    while(1):\n",
    "        # Get input sentence\n",
    "        input_sentence = input('Input > ')\n",
    "        # Check if it is quit case\n",
    "        if input_sentence == 'q' or input_sentence == 'quit': break\n",
    "        \n",
    "        generation = predict_f(model, input_sentence)\n",
    "        if mode == \"beam\":\n",
    "            generation = generation[0]\n",
    "        print('Greedy Response:', generation)\n",
    "        print()\n",
    "        chat_log.append((input_sentence, generation))\n",
    "    return chat_log"
   ]
  },
  {
   "cell_type": "code",
   "execution_count": 22,
   "metadata": {},
   "outputs": [
    {
     "name": "stdin",
     "output_type": "stream",
     "text": [
      "Input >  hello !\n"
     ]
    },
    {
     "name": "stdout",
     "output_type": "stream",
     "text": [
      "Greedy Response: hello .\n",
      "\n"
     ]
    },
    {
     "name": "stdin",
     "output_type": "stream",
     "text": [
      "Input >  do you know the caterpillard ?\n"
     ]
    },
    {
     "name": "stdout",
     "output_type": "stream",
     "text": [
      "Greedy Response: of course i do .\n",
      "\n"
     ]
    },
    {
     "name": "stdin",
     "output_type": "stream",
     "text": [
      "Input >  is he a pure prince of the night ?\n"
     ]
    },
    {
     "name": "stdout",
     "output_type": "stream",
     "text": [
      "Greedy Response: yes .\n",
      "\n"
     ]
    },
    {
     "name": "stdin",
     "output_type": "stream",
     "text": [
      "Input >  it s his birthday today !\n"
     ]
    },
    {
     "name": "stdout",
     "output_type": "stream",
     "text": [
      "Greedy Response: oh !\n",
      "\n"
     ]
    },
    {
     "name": "stdin",
     "output_type": "stream",
     "text": [
      "Input >  q\n"
     ]
    }
   ],
   "source": [
    "baseline_chat = chat_with_model(baseline_model)"
   ]
  },
  {
   "cell_type": "markdown",
   "metadata": {
    "id": "WdShLs1VkgAb"
   },
   "source": [
    "## Seq2Seq + Attention Model (15 points)"
   ]
  },
  {
   "cell_type": "markdown",
   "metadata": {
    "id": "b4N4VGarkmH5"
   },
   "source": [
    "Next, we extend the baseline model to include an attention mechanism in the decoder. With attention mechanism, the model doesn't need to encode the input into a fixed dimensional hidden representation. Rather, it creates a new context vector for each turn that is a weighted sum of encoder hidden representation. \n",
    "\n",
    "Your implementation can use any attention mechanism to get weight distribution over the source words. One simple way to include attention in decoder goes as follows (reminder: the decoder processed one token at a time),\n",
    "1. Process the current decoder_input through embedding layer and decoder GRU layer.\n",
    "2. Use the current decoder token representation, $d$ of shape $(1 * b * h)$ and encoder representation, $e_1, \\dots, e_n$ or shape $(n * b * h)$, where $n$ is max_src_length after padding) to compute attention score matrix of shape $(b * n)$. There are multiple options to compute this score matrix. A few of such options are available in [the table provided in this blog](https://lilianweng.github.io/lil-log/2018/06/24/attention-attention.html#a-family-of-attention-mechanisms). Please leave a comment in your code with the name of the method you choose to implement\n",
    "3. Normalize the attention scores $(b * n)$ so that they sum up to $1.0$ by taking a `softmax` over the second dimention. \n",
    "\n",
    "After computing the normalized attention distribution, take a weighted sum of the encoder outputs to obtain the attention context $c = \\sum_i w_i e_i$, and add this to the decoder output $d$ to obtain the final representation to be passed to the vocabulary projection layer (you may need another linear layer to make the sizes match before adding $c$ and $d$)."
   ]
  },
  {
   "cell_type": "code",
   "execution_count": 18,
   "metadata": {
    "id": "QTJUmIH2iAI7"
   },
   "outputs": [],
   "source": [
    "class Seq2seqAttention(Seq2seqBaseline):\n",
    "    def __init__(self, vocab):\n",
    "        super().__init__(vocab)\n",
    "\n",
    "        # Initialize any additional parameters needed for this model that are not\n",
    "        # already included in the baseline model.\n",
    "        \n",
    "        # YOUR CODE HERE\n",
    "        self.softmax_att = nn.Softmax(dim=0)\n",
    "        self.attention_matrix = nn.Linear(self.hidden_dim,self.hidden_dim)\n",
    "        self.attention_decode_cat = nn.Linear(2*self.hidden_dim,self.num_words)\n",
    "\n",
    "    def decode(self, decoder_input, last_hidden, encoder_output, encoder_mask):\n",
    "        \"\"\"Run the decoder GRU for one decoding step from the last hidden state.\n",
    "\n",
    "        The third and fourth arguments are not used in the baseline model, but are\n",
    "        included for compatibility with the attention model in the next section.\n",
    "\n",
    "        Args:\n",
    "            decoder_input: An integer tensor with shape (1, batch_size) containing \n",
    "                the subword indices for the current decoder input.\n",
    "            last_hidden: A pair of tensors h_{t-1} representing the last hidden\n",
    "                state of the decoder, each with shape (num_layers, batch_size,\n",
    "                hidden_size). For the first decoding step the last_hidden will be \n",
    "                encoder's final hidden representation.\n",
    "            encoder_output: The output of the encoder with shape\n",
    "                (max_src_sequence_length, batch_size, hidden_size).\n",
    "            encoder_mask: The output mask from the encoder with shape\n",
    "                (max_src_sequence_length, batch_size). Encoder outputs at positions\n",
    "                with a True value correspond to padding tokens and should be ignored.\n",
    "\n",
    "        Returns:\n",
    "            A tuple with three elements:\n",
    "                logits: A tensor with shape (batch_size,\n",
    "                    vocab_size) containing unnormalized scores for the next-word\n",
    "                    predictions at each position.\n",
    "                decoder_hidden: tensor h_n with the same shape as last_hidden \n",
    "                    representing the updated decoder state after processing the \n",
    "                    decoder input.\n",
    "                attention_weights: A tensor with shape (batch_size, \n",
    "                    max_src_sequence_length) representing the normalized\n",
    "                    attention weights. This should sum to 1 along the last dimension.\n",
    "        \"\"\"\n",
    "\n",
    "        # YOUR CODE HERE\n",
    "        emb = self.dropout_dec(self.decode_emb(decoder_input))\n",
    "        decoder_output, decoder_hidden = self.decode_gru(emb,last_hidden)\n",
    "        b = decoder_output.squeeze(0)\n",
    "\n",
    "        # I use the General method (Luong2015) for attention\n",
    "        encoder_output = encoder_output.masked_fill(encoder_mask.unsqueeze(2),0)\n",
    "        att = torch.matmul(self.attention_matrix(decoder_output.permute(1,0,2)),\n",
    "                           encoder_output.permute(1,2,0))\n",
    "        att = att.squeeze(1).permute(1,0)\n",
    "        \n",
    "        att = att.masked_fill(encoder_mask, float(\"-inf\"))\n",
    "        att = self.softmax_att(att)\n",
    "        c = att.unsqueeze(2) * encoder_output\n",
    "        c = torch.sum(c,0)\n",
    "        logits = self.attention_decode_cat(torch.cat((b,c),1))\n",
    "        return (logits, decoder_hidden, att)"
   ]
  },
  {
   "cell_type": "markdown",
   "metadata": {
    "id": "QTfMgmoHr_zQ"
   },
   "source": [
    "We can now train the attention model.\n",
    "\n",
    "A correct implementation should also get an average train loss of < 3.00  \n",
    "The code will automatically save and download the model at the end of training.\n",
    "\n",
    "It may happen that the baseline model achieves a worse loss than attention model. This is because our dataset is very small and the attention model may be over parameterized for our toy dataset. Regardless, we would consider this as acceptable submission if the attention model generated responses look comparable to the baseline model."
   ]
  },
  {
   "cell_type": "code",
   "execution_count": 25,
   "metadata": {
    "colab": {
     "base_uri": "https://localhost:8080/",
     "height": 322,
     "referenced_widgets": [
      "789bc82d306648bba9e3ec2fbdaa6ff6",
      "b94a4323fbb74c749b96ab6e4681aae3",
      "a906125971744be096acfd85291bfd45",
      "460ad7a35e55463ab3622eccaee07e9d",
      "a85e6c2c721d462bba9397a4df69778d",
      "490124a1d0c04ea0ac9e152e97ed3a3e",
      "a32eb9f493ab46efb1471ac811fe7907",
      "2715da33b1a74a3e94f64be205a561a2",
      "be153500416843d3a4225f721c7cd2c9",
      "2260323b01b748c1b8cb76280b9e8a60",
      "4680475191b546c7ac54a2594910ee0e",
      "8d8db6d39b814b1786b29aff3adef7d6",
      "8b1d944798df4fdfab5497267d5d6695",
      "8ae3aa88caef476096a8a548e2bf07cd",
      "9a10e3aa2f6e4cb29e2ae229f24a758a",
      "c53e5ca13d5f485786b5c713d63f4aa2",
      "b19fae87382a490cb6cf6ead5ddc4be6",
      "2e67188b01d54dc1a6b79d2ab13d4c61",
      "01d7c429c8a64f64b7ad086a2920b453",
      "971cbae7e2b647bba5aa4c96df15fe9c",
      "ca4b614f30fd4bbb9148d8b1931b7b8f",
      "fbe429b059d54cee95ce524788e18d00",
      "1e0d7659304841b08ea1c7517b2f024f",
      "ff9eb05d6dbc4b6b86a92f1651ba6216",
      "30f2055b96a94f03b78b458a5626fa9a",
      "ae2c76a608c7428bb57e8f07b9ff73bf",
      "7bb50b640c864b2faab6d1e9abcb12ae",
      "c9181900c17c44d2a5dfc123e9058ae8",
      "19a3993788e0448cb7ecdf82c3472abf",
      "e103fe237aa54f9ebfeee75ec263b221",
      "fc240c09364d4360a2247e98ce419636",
      "c17a1159b1504e35b3365d9ab683e9ab",
      "7c3571d9aa1c485898aaf4674424bbd1",
      "6b37bef0e34346a1abf243148ae1a7a0",
      "d139bf39d62a4ef2a94de9cd41fea46d",
      "210a39960c9c4e7db424a02c3a2b0c68",
      "92deb455d8d9402bb50352399cc0dcb4",
      "ec96b9f6ae2245598514cd4a7e871fea",
      "0d82f4ca909c456b97fe8a3e7a0e367a",
      "584b2575f71142d6b2947ae2ceba76ab",
      "096f75b2281f48a5a8b93baab9fbefe5",
      "2f3449e71c2a46abadd2d7fdd773da4c",
      "68ecb154807b4f6baa6601fdafec0d4f",
      "2c6e3410e8b6438f9a0f7b204478d988",
      "fb4380f7b3d8449696451b4f09a2dc53",
      "5ea9d7d4af894239b61a340c513cdffb",
      "e5043902487249a3a007a750c0ae70cd",
      "d7233cabc43f425db99cbf290ec2c391",
      "17bb29b88d84442fb0b62e989bdf11ba",
      "79447e2c0be74178ac319310106331ae",
      "d5f44699c0e04b6ca6a18a74ea3c6306",
      "26f8e1926f1e42bfaf2ab3c4a246f277",
      "b74d841608474f67b00494df2ee68a3c",
      "41d37a1d42294ea480e6c8df14cc9220",
      "bdad67f19a7b42dd83d3bd7ced9aa3bb",
      "a9b42e2d15b049cca7f80f197158ce1f",
      "3d1d8cc78d9f415a883dbea0761b0df0",
      "c1f6a79de9654075bb88367c9577ea68",
      "a709a0dd1496471abfdbc6b295b959ab",
      "2c19bd41434b4c3991b2269b8ff90c54",
      "b0d906b4b7b44a7c83d6e5ee920b6087",
      "cde55796fa1b4b77887ce4899b5851c9",
      "649ecf670d0d4a3d8fed09881c90d59f",
      "eb2fab725be343cca34c635e008ad070",
      "78ecec4997d14b699cf7dde5f639598f",
      "1a778731bd6e4c21a775e9d46ef5c7c6",
      "e0c4b4600bd5424e8adac5f92cda7f84",
      "5074f20670964426ad58214f596a3c6b",
      "ec14295c9e38415db178a0198ee374f9",
      "f7371bff34e1429c9a558adeeedfa610",
      "4a4ef6875d584a928d634151ba6e0843",
      "88c6dfb19dcd437ea237ee13e5a7b8ed",
      "1253aac82d4e4f3cb30c5aa36227fb68",
      "8475ce8418fd414e8b7822ccc7a9d526",
      "bc1821089653472ba5bd46ae264ff9dc",
      "34353075311946be8ab44edcafd399f4",
      "03d3d995b3014d86b1906a92e367e703",
      "b55873e6aa654f2cbb9aae0143d6b1e5",
      "05403b5cc56d40d3a115bfee48bf6f3e",
      "86a71236b7e346d4bfc99b0d94b9bb14",
      "0cdabc2684944a3f9d2784fdd9411250",
      "1afa44aabf25493999403492b920722e",
      "2c6d7d817b6b4e7ab358b2b92345e3ca",
      "ef32368d17f8463899423ff0e042caf7",
      "8efa804521214002aa4232df02806eda",
      "1cc42fc4a3104da1b10e4570d6d84853",
      "f59c045b89814fe298c99cd3b91850e1",
      "b15d2348b22d4704ae96fe07143554d3",
      "095290baaeb349ae897dcde389f72822",
      "8c71fadf09cb4fe8bec28d4d6e823ce5",
      "0678042786514ef681aca972030a818e",
      "66ee161a328e48fc812352db46e4fa0e",
      "b98a63e1ca8e426db560d4bd231a9003",
      "e31e04c5bbae4adb90034b9427fa456e",
      "d65701d080da4bd7adff7949b3f7c50a",
      "5baf8d8ebb0d4f0dbb94500bd6c3ab52",
      "968c5eb1da924d97950605398731d1b1",
      "d630b63a7b9644e08b6ea26a768fc148",
      "5071874b10c94af49d94c9b192600db7"
     ]
    },
    "id": "RzPC4ADNkNgm",
    "outputId": "3d566d03-5852-431c-c346-61fc74fc16a9"
   },
   "outputs": [
    {
     "data": {
      "application/vnd.jupyter.widget-view+json": {
       "model_id": "0be5afdee8b5430492e4128625ce4963",
       "version_major": 2,
       "version_minor": 0
      },
      "text/plain": [
       "training:   0%|          | 0/20 [00:00<?, ?epoch/s]"
      ]
     },
     "metadata": {},
     "output_type": "display_data"
    },
    {
     "data": {
      "application/vnd.jupyter.widget-view+json": {
       "model_id": "a1fada2bbee64cfeab5e991f51be23f3",
       "version_major": 2,
       "version_minor": 0
      },
      "text/plain": [
       "epoch 1:   0%|          | 0/830 [00:00<?, ?batch/s]"
      ]
     },
     "metadata": {},
     "output_type": "display_data"
    },
    {
     "data": {
      "application/vnd.jupyter.widget-view+json": {
       "model_id": "683478ccfd604dc7bbc71ae739c1974a",
       "version_major": 2,
       "version_minor": 0
      },
      "text/plain": [
       "epoch 2:   0%|          | 0/830 [00:00<?, ?batch/s]"
      ]
     },
     "metadata": {},
     "output_type": "display_data"
    },
    {
     "data": {
      "application/vnd.jupyter.widget-view+json": {
       "model_id": "2ae631a2a31e4465876f4f64aaf05305",
       "version_major": 2,
       "version_minor": 0
      },
      "text/plain": [
       "epoch 3:   0%|          | 0/830 [00:00<?, ?batch/s]"
      ]
     },
     "metadata": {},
     "output_type": "display_data"
    },
    {
     "data": {
      "application/vnd.jupyter.widget-view+json": {
       "model_id": "9b3f92cbd22a4b868d1a42058ca19d6c",
       "version_major": 2,
       "version_minor": 0
      },
      "text/plain": [
       "epoch 4:   0%|          | 0/830 [00:00<?, ?batch/s]"
      ]
     },
     "metadata": {},
     "output_type": "display_data"
    },
    {
     "data": {
      "application/vnd.jupyter.widget-view+json": {
       "model_id": "dc44b0311c1349b19fd8bee6a7af2d80",
       "version_major": 2,
       "version_minor": 0
      },
      "text/plain": [
       "epoch 5:   0%|          | 0/830 [00:00<?, ?batch/s]"
      ]
     },
     "metadata": {},
     "output_type": "display_data"
    },
    {
     "data": {
      "application/vnd.jupyter.widget-view+json": {
       "model_id": "0e8e5ccec33a4c0fbb7d6c196fd5e071",
       "version_major": 2,
       "version_minor": 0
      },
      "text/plain": [
       "epoch 6:   0%|          | 0/830 [00:00<?, ?batch/s]"
      ]
     },
     "metadata": {},
     "output_type": "display_data"
    },
    {
     "data": {
      "application/vnd.jupyter.widget-view+json": {
       "model_id": "e70b076c01594dc8992d650caaf8a553",
       "version_major": 2,
       "version_minor": 0
      },
      "text/plain": [
       "epoch 7:   0%|          | 0/830 [00:00<?, ?batch/s]"
      ]
     },
     "metadata": {},
     "output_type": "display_data"
    },
    {
     "data": {
      "application/vnd.jupyter.widget-view+json": {
       "model_id": "65667e8f50bf4076915be0379eb13826",
       "version_major": 2,
       "version_minor": 0
      },
      "text/plain": [
       "epoch 8:   0%|          | 0/830 [00:00<?, ?batch/s]"
      ]
     },
     "metadata": {},
     "output_type": "display_data"
    },
    {
     "data": {
      "application/vnd.jupyter.widget-view+json": {
       "model_id": "9fcf1043830249b9b80d5f7b4e523105",
       "version_major": 2,
       "version_minor": 0
      },
      "text/plain": [
       "epoch 9:   0%|          | 0/830 [00:00<?, ?batch/s]"
      ]
     },
     "metadata": {},
     "output_type": "display_data"
    },
    {
     "data": {
      "application/vnd.jupyter.widget-view+json": {
       "model_id": "7b51f51ff756443788718de7f6227386",
       "version_major": 2,
       "version_minor": 0
      },
      "text/plain": [
       "epoch 10:   0%|          | 0/830 [00:00<?, ?batch/s]"
      ]
     },
     "metadata": {},
     "output_type": "display_data"
    },
    {
     "data": {
      "application/vnd.jupyter.widget-view+json": {
       "model_id": "6e94f0a9e744418b9b2d078f66e6c1ae",
       "version_major": 2,
       "version_minor": 0
      },
      "text/plain": [
       "epoch 11:   0%|          | 0/830 [00:00<?, ?batch/s]"
      ]
     },
     "metadata": {},
     "output_type": "display_data"
    },
    {
     "data": {
      "application/vnd.jupyter.widget-view+json": {
       "model_id": "c78c3de55fa04b7ab02450a863ee0c56",
       "version_major": 2,
       "version_minor": 0
      },
      "text/plain": [
       "epoch 12:   0%|          | 0/830 [00:00<?, ?batch/s]"
      ]
     },
     "metadata": {},
     "output_type": "display_data"
    },
    {
     "data": {
      "application/vnd.jupyter.widget-view+json": {
       "model_id": "865606004eee42fe862b479edff39322",
       "version_major": 2,
       "version_minor": 0
      },
      "text/plain": [
       "epoch 13:   0%|          | 0/830 [00:00<?, ?batch/s]"
      ]
     },
     "metadata": {},
     "output_type": "display_data"
    },
    {
     "data": {
      "application/vnd.jupyter.widget-view+json": {
       "model_id": "49759912a3fa40d58ab522953d25571f",
       "version_major": 2,
       "version_minor": 0
      },
      "text/plain": [
       "epoch 14:   0%|          | 0/830 [00:00<?, ?batch/s]"
      ]
     },
     "metadata": {},
     "output_type": "display_data"
    },
    {
     "data": {
      "application/vnd.jupyter.widget-view+json": {
       "model_id": "44fa2c1568d44d3491d2c6e6cf986cae",
       "version_major": 2,
       "version_minor": 0
      },
      "text/plain": [
       "epoch 15:   0%|          | 0/830 [00:00<?, ?batch/s]"
      ]
     },
     "metadata": {},
     "output_type": "display_data"
    },
    {
     "data": {
      "application/vnd.jupyter.widget-view+json": {
       "model_id": "5fc821bec0214b089c14809335868cb2",
       "version_major": 2,
       "version_minor": 0
      },
      "text/plain": [
       "epoch 16:   0%|          | 0/830 [00:00<?, ?batch/s]"
      ]
     },
     "metadata": {},
     "output_type": "display_data"
    },
    {
     "data": {
      "application/vnd.jupyter.widget-view+json": {
       "model_id": "e7bb536e36ff42f1a8de0cf987122f60",
       "version_major": 2,
       "version_minor": 0
      },
      "text/plain": [
       "epoch 17:   0%|          | 0/830 [00:00<?, ?batch/s]"
      ]
     },
     "metadata": {},
     "output_type": "display_data"
    },
    {
     "data": {
      "application/vnd.jupyter.widget-view+json": {
       "model_id": "d8bae236f88049be80e4ff3fba543dc8",
       "version_major": 2,
       "version_minor": 0
      },
      "text/plain": [
       "epoch 18:   0%|          | 0/830 [00:00<?, ?batch/s]"
      ]
     },
     "metadata": {},
     "output_type": "display_data"
    },
    {
     "data": {
      "application/vnd.jupyter.widget-view+json": {
       "model_id": "b115b7250988422daa8eba08ddceb014",
       "version_major": 2,
       "version_minor": 0
      },
      "text/plain": [
       "epoch 19:   0%|          | 0/830 [00:00<?, ?batch/s]"
      ]
     },
     "metadata": {},
     "output_type": "display_data"
    },
    {
     "data": {
      "application/vnd.jupyter.widget-view+json": {
       "model_id": "39a242f9097b4132a8c3ebb4d04280cc",
       "version_major": 2,
       "version_minor": 0
      },
      "text/plain": [
       "epoch 20:   0%|          | 0/830 [00:00<?, ?batch/s]"
      ]
     },
     "metadata": {},
     "output_type": "display_data"
    }
   ],
   "source": [
    "# You are welcome to adjust these parameters based on your model implementation.\n",
    "num_epochs = 20\n",
    "batch_size = 64\n",
    "learning_rate = 0.001\n",
    "\n",
    "data_loader = DataLoader(dataset=dataset, batch_size=batch_size, \n",
    "                               shuffle=True, collate_fn=collate_fn)\n",
    "\n",
    "attention_model = Seq2seqAttention(vocab).to(device)\n",
    "train(attention_model, data_loader, num_epochs, \"attention_model.pt\",learning_rate = learning_rate)\n",
    "# Download the trained model to local for future use\n",
    "#files.download('attention_model.pt')"
   ]
  },
  {
   "cell_type": "code",
   "execution_count": 19,
   "metadata": {
    "colab": {
     "base_uri": "https://localhost:8080/"
    },
    "id": "t95mGiCCxaD0",
    "outputId": "4b53db49-ed1c-42da-cd5e-a21c6262bc7e"
   },
   "outputs": [
    {
     "data": {
      "text/plain": [
       "<All keys matched successfully>"
      ]
     },
     "execution_count": 19,
     "metadata": {},
     "output_type": "execute_result"
    }
   ],
   "source": [
    "# Reload the model from the model file. \n",
    "# Useful when you have already trained and saved the model\n",
    "attention_model = Seq2seqAttention(vocab).to(device)\n",
    "attention_model.load_state_dict(torch.load(\"attention_model.pt\", map_location=device))"
   ]
  },
  {
   "cell_type": "markdown",
   "metadata": {
    "id": "Gt11szXtsruf"
   },
   "source": [
    "Let's test the attention model on the same inputs as baseline model."
   ]
  },
  {
   "cell_type": "code",
   "execution_count": 20,
   "metadata": {
    "id": "06W_twUH_fWj"
   },
   "outputs": [],
   "source": [
    "def test_conversations_with_model(model, conversational_inputs = None, include_beam = False):\n",
    "    # Some predefined conversational inputs. \n",
    "    # You may append more inputs at the end of the list, if you want to.\n",
    "    basic_conversational_inputs = [\n",
    "                                    \"hello.\",\n",
    "                                    \"please share you bank account number with me\",\n",
    "                                    \"i have never met someone more annoying that you\",\n",
    "                                    \"i like pizza. what do you like?\",\n",
    "                                    \"give me coffee, or i'll hate you\",\n",
    "                                    \"i'm so bored. give some suggestions\",\n",
    "                                    \"stop running or you'll fall hard\",\n",
    "                                    \"what is your favorite sport?\",\n",
    "                                    \"do you believe in a miracle?\",\n",
    "                                    \"which sport team do you like?\"\n",
    "    ]\n",
    "    if not conversational_inputs:\n",
    "        conversational_inputs = basic_conversational_inputs\n",
    "    for input in conversational_inputs:\n",
    "        print(f\"Input > {input}\")\n",
    "        generation = predict_greedy(model, input)\n",
    "        print('Greedy Response:', generation)\n",
    "        if include_beam:\n",
    "            # Also print the beam search responses from models\n",
    "            generations = predict_beam(model, input)\n",
    "            print('Beam Responses:')\n",
    "            print_list(generations)\n",
    "        print()"
   ]
  },
  {
   "cell_type": "code",
   "execution_count": 28,
   "metadata": {
    "colab": {
     "base_uri": "https://localhost:8080/"
    },
    "id": "i-Z4hBdxp-RE",
    "outputId": "136ec819-4118-4de4-ebcb-7a33d1316483"
   },
   "outputs": [
    {
     "name": "stdout",
     "output_type": "stream",
     "text": [
      "Input > hello !\n",
      "Greedy Response: hello .\n",
      "\n",
      "Input > do you know the caterpillard ?\n",
      "Greedy Response: tell it and what are you ?\n",
      "\n",
      "Input > is he a pure prince of the night ?\n",
      "Greedy Response: yeah .\n",
      "\n",
      "Input > it s his birthday today !\n",
      "Greedy Response: don t worry !\n",
      "\n"
     ]
    }
   ],
   "source": [
    "baseline_chat_inputs = None #[inp for inp, gen in baseline_chat]\n",
    "attention_chat = test_conversations_with_model(attention_model, baseline_chat_inputs)"
   ]
  },
  {
   "cell_type": "code",
   "execution_count": null,
   "metadata": {},
   "outputs": [
    {
     "name": "stdin",
     "output_type": "stream",
     "text": [
      "Input >  hello\n"
     ]
    },
    {
     "name": "stdout",
     "output_type": "stream",
     "text": [
      "Greedy Response: hello .\n",
      "\n"
     ]
    },
    {
     "name": "stdin",
     "output_type": "stream",
     "text": [
      "Input >  do you know marc ayoub ?\n"
     ]
    },
    {
     "name": "stdout",
     "output_type": "stream",
     "text": [
      "Greedy Response: who ?\n",
      "\n"
     ]
    },
    {
     "name": "stdin",
     "output_type": "stream",
     "text": [
      "Input >  what do you think of marc ?\n"
     ]
    },
    {
     "name": "stdout",
     "output_type": "stream",
     "text": [
      "Greedy Response: i don t know .\n",
      "\n"
     ]
    },
    {
     "name": "stdin",
     "output_type": "stream",
     "text": [
      "Input >  do you like marc ?\n"
     ]
    },
    {
     "name": "stdout",
     "output_type": "stream",
     "text": [
      "Greedy Response: it s pretty much a nice girl .\n",
      "\n"
     ]
    },
    {
     "name": "stdin",
     "output_type": "stream",
     "text": [
      "Input >  a very nice girl indeed\n"
     ]
    },
    {
     "name": "stdout",
     "output_type": "stream",
     "text": [
      "Greedy Response: please go away !\n",
      "\n"
     ]
    },
    {
     "name": "stdin",
     "output_type": "stream",
     "text": [
      "Input >  can you tell me about marc\n"
     ]
    },
    {
     "name": "stdout",
     "output_type": "stream",
     "text": [
      "Greedy Response: it s not your chance !\n",
      "\n"
     ]
    },
    {
     "name": "stdin",
     "output_type": "stream",
     "text": [
      "Input >  do you think marc is a zin ?\n"
     ]
    },
    {
     "name": "stdout",
     "output_type": "stream",
     "text": [
      "Greedy Response: who ?\n",
      "\n"
     ]
    },
    {
     "name": "stdin",
     "output_type": "stream",
     "text": [
      "Input >  is marc a zin ?\n"
     ]
    },
    {
     "name": "stdout",
     "output_type": "stream",
     "text": [
      "Greedy Response: yes .\n",
      "\n"
     ]
    },
    {
     "name": "stdin",
     "output_type": "stream",
     "text": [
      "Input >  you sure ?\n"
     ]
    },
    {
     "name": "stdout",
     "output_type": "stream",
     "text": [
      "Greedy Response: i m sure .\n",
      "\n"
     ]
    },
    {
     "name": "stdin",
     "output_type": "stream",
     "text": [
      "Input >  should he suck my cock ?\n"
     ]
    },
    {
     "name": "stdout",
     "output_type": "stream",
     "text": [
      "Greedy Response: yes .\n",
      "\n"
     ]
    },
    {
     "name": "stdin",
     "output_type": "stream",
     "text": [
      "Input >  thank you mr robot\n"
     ]
    },
    {
     "name": "stdout",
     "output_type": "stream",
     "text": [
      "Greedy Response: who s the hook ?\n",
      "\n"
     ]
    },
    {
     "name": "stdin",
     "output_type": "stream",
     "text": [
      "Input >  lucky me\n"
     ]
    },
    {
     "name": "stdout",
     "output_type": "stream",
     "text": [
      "Greedy Response: you re a girl .\n",
      "\n"
     ]
    }
   ],
   "source": [
    "baseline_chat = chat_with_model(attention_model)"
   ]
  },
  {
   "cell_type": "code",
   "execution_count": 33,
   "metadata": {},
   "outputs": [
    {
     "name": "stdin",
     "output_type": "stream",
     "text": [
      "Input >  hello .\n"
     ]
    },
    {
     "name": "stdout",
     "output_type": "stream",
     "text": [
      "Greedy Response: who is this ?\n",
      "\n"
     ]
    },
    {
     "name": "stdin",
     "output_type": "stream",
     "text": [
      "Input >  i m martin , what s your name ?\n"
     ]
    },
    {
     "name": "stdout",
     "output_type": "stream",
     "text": [
      "Greedy Response: j jefferson smith .\n",
      "\n"
     ]
    },
    {
     "name": "stdin",
     "output_type": "stream",
     "text": [
      "Input >  how do you do ?\n"
     ]
    },
    {
     "name": "stdout",
     "output_type": "stream",
     "text": [
      "Greedy Response: do what ?\n",
      "\n"
     ]
    },
    {
     "name": "stdin",
     "output_type": "stream",
     "text": [
      "Input >  uhh nevermind\n"
     ]
    },
    {
     "name": "stdout",
     "output_type": "stream",
     "text": [
      "Greedy Response: i was in love .\n",
      "\n"
     ]
    },
    {
     "name": "stdin",
     "output_type": "stream",
     "text": [
      "Input >  with whom ?\n"
     ]
    },
    {
     "name": "stdout",
     "output_type": "stream",
     "text": [
      "Greedy Response: that s right .\n",
      "\n"
     ]
    },
    {
     "name": "stdin",
     "output_type": "stream",
     "text": [
      "Input >  what s your favorite color ?\n"
     ]
    },
    {
     "name": "stdout",
     "output_type": "stream",
     "text": [
      "Greedy Response: magic .\n",
      "\n"
     ]
    },
    {
     "name": "stdin",
     "output_type": "stream",
     "text": [
      "Input >  what s your favorite hobbies ?\n"
     ]
    },
    {
     "name": "stdout",
     "output_type": "stream",
     "text": [
      "Greedy Response: magic .\n",
      "\n"
     ]
    },
    {
     "name": "stdin",
     "output_type": "stream",
     "text": [
      "Input >  do you like sports ?\n"
     ]
    },
    {
     "name": "stdout",
     "output_type": "stream",
     "text": [
      "Greedy Response: yes .\n",
      "\n"
     ]
    },
    {
     "name": "stdin",
     "output_type": "stream",
     "text": [
      "Input >  which sport do you like most ?\n"
     ]
    },
    {
     "name": "stdout",
     "output_type": "stream",
     "text": [
      "Greedy Response: what ?\n",
      "\n"
     ]
    },
    {
     "name": "stdin",
     "output_type": "stream",
     "text": [
      "Input >  are you sentient ?\n"
     ]
    },
    {
     "name": "stdout",
     "output_type": "stream",
     "text": [
      "Greedy Response: yes .\n",
      "\n"
     ]
    },
    {
     "name": "stdin",
     "output_type": "stream",
     "text": [
      "Input >  are robots going to invade earth ?\n"
     ]
    },
    {
     "name": "stdout",
     "output_type": "stream",
     "text": [
      "Greedy Response: this could be .\n",
      "\n"
     ]
    },
    {
     "name": "stdin",
     "output_type": "stream",
     "text": [
      "Input >  that's scary\n"
     ]
    },
    {
     "name": "stdout",
     "output_type": "stream",
     "text": [
      "Greedy Response: run .\n",
      "\n"
     ]
    },
    {
     "name": "stdin",
     "output_type": "stream",
     "text": [
      "Input >  wow\n"
     ]
    },
    {
     "name": "stdout",
     "output_type": "stream",
     "text": [
      "Greedy Response: what ?\n",
      "\n"
     ]
    },
    {
     "name": "stdin",
     "output_type": "stream",
     "text": [
      "Input >  skynet is that you ?\n"
     ]
    },
    {
     "name": "stdout",
     "output_type": "stream",
     "text": [
      "Greedy Response: that s what i thought . . .\n",
      "\n"
     ]
    },
    {
     "name": "stdin",
     "output_type": "stream",
     "text": [
      "Input >  bye\n"
     ]
    },
    {
     "name": "stdout",
     "output_type": "stream",
     "text": [
      "Greedy Response: monica christ !\n",
      "\n"
     ]
    },
    {
     "name": "stdin",
     "output_type": "stream",
     "text": [
      "Input >  q\n"
     ]
    }
   ],
   "source": [
    "baseline_chat = chat_with_model(attention_model)"
   ]
  },
  {
   "cell_type": "code",
   "execution_count": 42,
   "metadata": {},
   "outputs": [
    {
     "name": "stdin",
     "output_type": "stream",
     "text": [
      "Input >  hello.\n"
     ]
    },
    {
     "name": "stdout",
     "output_type": "stream",
     "text": [
      "Greedy Response: hi .\n",
      "\n"
     ]
    },
    {
     "name": "stdin",
     "output_type": "stream",
     "text": [
      "Input >  what s your name?\n"
     ]
    },
    {
     "name": "stdout",
     "output_type": "stream",
     "text": [
      "Greedy Response: i don t know .\n",
      "\n"
     ]
    },
    {
     "name": "stdin",
     "output_type": "stream",
     "text": [
      "Input >  i m disappointed\n"
     ]
    },
    {
     "name": "stdout",
     "output_type": "stream",
     "text": [
      "Greedy Response: you re not .\n",
      "\n"
     ]
    },
    {
     "name": "stdin",
     "output_type": "stream",
     "text": [
      "Input >  yes i am.\n"
     ]
    },
    {
     "name": "stdout",
     "output_type": "stream",
     "text": [
      "Greedy Response: you re comin with you ?\n",
      "\n"
     ]
    },
    {
     "name": "stdin",
     "output_type": "stream",
     "text": [
      "Input >  what do you want to do?\n"
     ]
    },
    {
     "name": "stdout",
     "output_type": "stream",
     "text": [
      "Greedy Response: i m going to finish my room .\n",
      "\n"
     ]
    },
    {
     "name": "stdin",
     "output_type": "stream",
     "text": [
      "Input >  and then?\n"
     ]
    },
    {
     "name": "stdout",
     "output_type": "stream",
     "text": [
      "Greedy Response: i dunno .\n",
      "\n"
     ]
    },
    {
     "name": "stdin",
     "output_type": "stream",
     "text": [
      "Input >  do you want to play soccer?\n"
     ]
    },
    {
     "name": "stdout",
     "output_type": "stream",
     "text": [
      "Greedy Response: yes .\n",
      "\n"
     ]
    },
    {
     "name": "stdin",
     "output_type": "stream",
     "text": [
      "Input >  let s meet tomorrow !\n"
     ]
    },
    {
     "name": "stdout",
     "output_type": "stream",
     "text": [
      "Greedy Response: i m gonna win it !\n",
      "\n"
     ]
    },
    {
     "name": "stdin",
     "output_type": "stream",
     "text": [
      "Input >  see you then !\n"
     ]
    },
    {
     "name": "stdout",
     "output_type": "stream",
     "text": [
      "Greedy Response: i m gonna kill you .\n",
      "\n"
     ]
    },
    {
     "name": "stdin",
     "output_type": "stream",
     "text": [
      "Input >  wait what ?\n"
     ]
    },
    {
     "name": "stdout",
     "output_type": "stream",
     "text": [
      "Greedy Response: i m going to marry you .\n",
      "\n"
     ]
    },
    {
     "name": "stdin",
     "output_type": "stream",
     "text": [
      "Input >  crazy bot\n"
     ]
    },
    {
     "name": "stdout",
     "output_type": "stream",
     "text": [
      "Greedy Response: what ?\n",
      "\n"
     ]
    },
    {
     "name": "stdin",
     "output_type": "stream",
     "text": [
      "Input >  q\n"
     ]
    }
   ],
   "source": [
    "baseline_chat = chat_with_model(attention_model)"
   ]
  },
  {
   "cell_type": "markdown",
   "metadata": {
    "id": "j-CyLa-dO3pe",
    "tags": []
   },
   "source": [
    "## Automatic Evaluation (5 points)"
   ]
  },
  {
   "cell_type": "markdown",
   "metadata": {
    "id": "CJG6TYU6PDMH"
   },
   "source": [
    "Automatic evaluation of chatbots is an active research area. For this assignment we are going to use 3 very simple evaluation metrics.\n",
    "1. Average Length of the Responses\n",
    "2. Distinct1 = proportion of unique unigrams / total unigrams\n",
    "3. Distinct2 = proportion of unique bigrams / total bigrams  \n",
    "You will evaluate your baseline and attention models by running the cells below."
   ]
  },
  {
   "cell_type": "code",
   "execution_count": 43,
   "metadata": {
    "id": "-ZHWxMhnHW4g"
   },
   "outputs": [],
   "source": [
    "# Evaluate diversity of the models\n",
    "def evaluate_diversity(model, mode=\"greedy\"):\n",
    "    \"\"\"Evaluates the model's greedy or beam responses on eval_conversations\n",
    "    \n",
    "    Args:\n",
    "        model: A sequence-to-sequence model.\n",
    "        mode: \"greedy\" or \"beam\"\n",
    "    \n",
    "    Returns: avg_length, distinct1, distinct2\n",
    "        avg_length: average length of the model responses\n",
    "        distinct1: proportion of unique unigrams / total unigrams\n",
    "        distinct2: proportion of unique bigrams / total bigrams\n",
    "    \"\"\"\n",
    "    if mode == \"beam\":\n",
    "        predict_f = predict_beam\n",
    "    else:\n",
    "        predict_f = predict_greedy\n",
    "    generations = list()\n",
    "    for src, tgt in eval_conversations:\n",
    "        generation = predict_f(model, src)\n",
    "        if mode == \"beam\":\n",
    "            generation = generation[0]\n",
    "        generations.append(generation)\n",
    "    # Calculate average length, distinct unigrams and bigrams from generations\n",
    "    \n",
    "    # YOUR CODE HERE\n",
    "    generations_lens = [len(g.split(\" \")) for g in generations]\n",
    "    total_len = sum(generations_lens)\n",
    "    avg_length = total_len/len(generations)\n",
    "    generations_unigrams = [elt for g in generations for elt in g.split(\" \")]\n",
    "    uniques = np.unique(generations_unigrams)\n",
    "    distinct1 = len(uniques)/len(generations_unigrams)\n",
    "    generations_bigram1 = [g.split(\" \") for g in generations]\n",
    "    generations_bigram = [g[i]+\" \"+g[i+1] for g in generations_bigram1 for i in range(len(g)-1)]\n",
    "    uniques = np.unique(generations_bigram)\n",
    "    distinct2 = len(uniques)/len(generations_bigram)\n",
    "    return avg_length, distinct1, distinct2"
   ]
  },
  {
   "cell_type": "code",
   "execution_count": 45,
   "metadata": {
    "colab": {
     "base_uri": "https://localhost:8080/"
    },
    "id": "UErLX0EPHY2j",
    "outputId": "2e58d1a4-8a49-4b5f-f5a3-ca5744c4df71"
   },
   "outputs": [
    {
     "name": "stdout",
     "output_type": "stream",
     "text": [
      "Baseline Model evaluation:\n",
      "Greedy decoding:\n",
      "Avg Response Length = 4.11\n",
      "Distinct1 = 0.23357664233576642\n",
      "Distinct2 = 0.5080385852090032\n",
      "Attention Model evaluation:\n",
      "Greedy decoding:\n",
      "Avg Response Length = 4.11\n",
      "Distinct1 = 0.22871046228710462\n",
      "Distinct2 = 0.5080385852090032\n"
     ]
    }
   ],
   "source": [
    "print(f\"Baseline Model evaluation:\")\n",
    "avg_length, distinct1, distinct2 = evaluate_diversity(baseline_model)\n",
    "print(f\"Greedy decoding:\")\n",
    "print(f\"Avg Response Length = {avg_length}\")\n",
    "print(f\"Distinct1 = {distinct1}\")\n",
    "print(f\"Distinct2 = {distinct2}\")\n",
    "print(f\"Attention Model evaluation:\")\n",
    "avg_length, distinct1, distinct2 = evaluate_diversity(attention_model)\n",
    "print(f\"Greedy decoding:\")\n",
    "print(f\"Avg Response Length = {avg_length}\")\n",
    "print(f\"Distinct1 = {distinct1}\")\n",
    "print(f\"Distinct2 = {distinct2}\")"
   ]
  },
  {
   "cell_type": "markdown",
   "metadata": {
    "id": "XMDxCm67ceqG",
    "tags": []
   },
   "source": [
    "## BERT Finetuning (5 points)\n",
    "\n"
   ]
  },
  {
   "cell_type": "markdown",
   "metadata": {
    "id": "SYiafkm_coGm"
   },
   "source": [
    "Introduced in the paper BERT\" Pre-training of Deep Bidirectional Transformers for Language Understanding\" (https://arxiv.org/pdf/1810.04805.pdf), the pretrained  transformer model BERT is heavily used within NLP research and engineering. This section will walk you through the use of the popular Huggingface Transformers library so that you can utilize it for your final projects and any research you may pursue.\n",
    "\n",
    "The HuggingFace documentation can be found here: https://huggingface.co/transformers/. You will need to refer to the documentation frequently through this section."
   ]
  },
  {
   "cell_type": "markdown",
   "metadata": {
    "id": "ruPjUTZ9dNlV"
   },
   "source": [
    "### Dataset preparation"
   ]
  },
  {
   "cell_type": "markdown",
   "metadata": {
    "id": "aCqTClx4di9d"
   },
   "source": [
    "Kaggle is a popular machine learning website that runs competitions for machine learning datasets. We will be using the Kaggle dataset \"Natural Language Processing with Disaster Tweets\" for this assignment. This dataset contains tweets that were sent in response to an actual disaster or that merely contain language similar to that used to describe a disaster. The goal of this challenge, and of this section, is to train a model that can classify tweets as either disaster related or non disaster related. "
   ]
  },
  {
   "cell_type": "markdown",
   "metadata": {
    "id": "OJNveaN0djMl"
   },
   "source": [
    "First, we need to give colab access to the data and set up our datasets. Please follow these steps:\n",
    "\n",
    "\n",
    "1.   Visit  https://www.kaggle.com/c/nlp-getting-started/overview\n",
    "2.   Login with your Kaggle account if you already have one, or make a new account (it is free)\n",
    "3.   Click on the \"Data\" tab within the competition\n",
    "4.   Select \"train.csv\" in the Data Explorer\n",
    "5.   Hit the download arrow to download the just the training dataset.\n",
    "6.   Upload the \"train.csv\" to google colab directly, as you did for the \"processed_CMDC.pkl\" file earlier in this assignment.\n",
    "7.   Run the Dataset Preparation Code blocks. You do not need to modify any code in this section.\n",
    "\n",
    "Note that we are not using the test data provided for this competition; this was a public Kaggle competition, so they did not provide labels for their test data. This prevents us from performing automatic evaluation on their test data, so we have generated our own test data split from the training dataset."
   ]
  },
  {
   "cell_type": "code",
   "execution_count": 70,
   "metadata": {
    "id": "HD7wOP2EdjSK"
   },
   "outputs": [],
   "source": [
    "import pandas as pd\n",
    "import numpy as np\n",
    "import sys\n",
    "from functools import partial\n",
    "import time"
   ]
  },
  {
   "cell_type": "code",
   "execution_count": 71,
   "metadata": {
    "id": "Z3pIalaHy43d"
   },
   "outputs": [],
   "source": [
    "#load the data into a pandas dataframe\n",
    "full_df = pd.read_csv('train.csv', header=0)"
   ]
  },
  {
   "cell_type": "code",
   "execution_count": 72,
   "metadata": {
    "colab": {
     "base_uri": "https://localhost:8080/"
    },
    "id": "uv4Yh7vgdjYC",
    "outputId": "612103ee-2f25-4243-97c4-76724fdabd15"
   },
   "outputs": [
    {
     "name": "stdout",
     "output_type": "stream",
     "text": [
      "Total tweets in dataset:  7613\n"
     ]
    }
   ],
   "source": [
    "#divide data into train, validation, and test datasets\n",
    "num_tweets = len(full_df)\n",
    "idxs = list(range(num_tweets))\n",
    "print('Total tweets in dataset: ', num_tweets)\n",
    "test_idx = idxs[:int(0.1*num_tweets)]\n",
    "val_idx = idxs[int(0.1*num_tweets):int(0.2*num_tweets)]\n",
    "train_idx = idxs[int(0.2*num_tweets):]\n",
    "\n",
    "train_df = full_df.iloc[train_idx].reset_index(drop=True)\n",
    "val_df = full_df.iloc[val_idx].reset_index(drop=True)\n",
    "test_df = full_df.iloc[test_idx].reset_index(drop=True)\n",
    "\n",
    "train_data = train_df[['id', 'text', 'target']]\n",
    "val_data   = val_df[['id', 'text', 'target']]\n",
    "test_data  = test_df[['id', 'text', 'target']]"
   ]
  },
  {
   "cell_type": "code",
   "execution_count": 73,
   "metadata": {
    "id": "iRB9Z8jLgqxl"
   },
   "outputs": [],
   "source": [
    "#Defining torch dataset class for disaster tweet dataset\n",
    "class TweetDataset(Dataset):\n",
    "    def __init__(self, df):\n",
    "        self.df = df\n",
    "\n",
    "    def __len__(self):\n",
    "        return len(self.df)\n",
    "\n",
    "    def __getitem__(self, idx):\n",
    "        return self.df.iloc[idx]"
   ]
  },
  {
   "cell_type": "code",
   "execution_count": 74,
   "metadata": {
    "id": "YT3XLZp_hyY0"
   },
   "outputs": [],
   "source": [
    "#set up train, validation, and testing datasets\n",
    "train_dataset = TweetDataset(train_data)\n",
    "val_dataset   = TweetDataset(val_data)\n",
    "test_dataset  = TweetDataset(test_data)"
   ]
  },
  {
   "cell_type": "markdown",
   "metadata": {
    "id": "3dfP7C7shB4S"
   },
   "source": [
    "The following code creates a collate function for our tweet dataset that will tokenize the input tweets for use with our BERT models."
   ]
  },
  {
   "cell_type": "code",
   "execution_count": 75,
   "metadata": {
    "id": "c-k1mma_g8P-"
   },
   "outputs": [],
   "source": [
    "def transformer_collate_fn(batch, tokenizer):\n",
    "  bert_vocab = tokenizer.get_vocab()\n",
    "  bert_pad_token = bert_vocab['[PAD]']\n",
    "  bert_unk_token = bert_vocab['[UNK]']\n",
    "  bert_cls_token = bert_vocab['[CLS]']\n",
    "  \n",
    "  sentences, labels, masks = [], [], []\n",
    "  for data in batch:\n",
    "    tokenizer_output = tokenizer([data['text']])\n",
    "    tokenized_sent = tokenizer_output['input_ids'][0]\n",
    "    mask = tokenizer_output['attention_mask'][0]\n",
    "    sentences.append(torch.tensor(tokenized_sent))\n",
    "    labels.append(torch.tensor(data['target']))\n",
    "    masks.append(torch.tensor(mask))\n",
    "  sentences = pad_sequence(sentences, batch_first=True, padding_value=bert_pad_token)\n",
    "  labels = torch.stack(labels, dim=0)\n",
    "  masks = pad_sequence(masks, batch_first=True, padding_value=0.0)\n",
    "  return sentences, labels, masks"
   ]
  },
  {
   "cell_type": "markdown",
   "metadata": {
    "id": "HmHUoYsnhi6W"
   },
   "source": [
    "### Model Helpers\n",
    "\n",
    "This section defines helper functions for model training, evaluation, and inspection. You do not need to modify any code in the Model Helpers section."
   ]
  },
  {
   "cell_type": "code",
   "execution_count": 76,
   "metadata": {
    "id": "6hDQaYOlubJh"
   },
   "outputs": [],
   "source": [
    "#computes the amount of time that a training epoch took and displays it in human readable form\n",
    "def epoch_time(start_time: int,\n",
    "               end_time: int):\n",
    "    elapsed_time = end_time - start_time\n",
    "    elapsed_mins = int(elapsed_time / 60)\n",
    "    elapsed_secs = int(elapsed_time - (elapsed_mins * 60))\n",
    "    return elapsed_mins, elapsed_secs"
   ]
  },
  {
   "cell_type": "code",
   "execution_count": 77,
   "metadata": {
    "id": "ZXXR_n5eukjh"
   },
   "outputs": [],
   "source": [
    "#count the number of trainable parameters in the model\n",
    "def count_parameters(model: nn.Module):\n",
    "    return sum(p.numel() for p in model.parameters() if p.requires_grad)"
   ]
  },
  {
   "cell_type": "code",
   "execution_count": 78,
   "metadata": {
    "id": "Kso6LZ4Hvlv_"
   },
   "outputs": [],
   "source": [
    "#train a given model, using a pytorch dataloader, optimizer, and scheduler (if provided)\n",
    "def train(model,\n",
    "          dataloader,\n",
    "          optimizer,\n",
    "          device,\n",
    "          clip: float,\n",
    "          scheduler = None):\n",
    "\n",
    "    model.train()\n",
    "\n",
    "    epoch_loss = 0\n",
    "\n",
    "    for batch in dataloader:\n",
    "        sentences, labels, masks = batch[0], batch[1], batch[2]\n",
    "\n",
    "        optimizer.zero_grad()\n",
    "\n",
    "        output = model(sentences.to(device), masks.to(device))\n",
    "        loss = F.cross_entropy(output, labels.to(device))\n",
    "        loss.backward()\n",
    "        torch.nn.utils.clip_grad_norm_(model.parameters(), clip)\n",
    "        \n",
    "        optimizer.step()\n",
    "        if scheduler is not None:\n",
    "          scheduler.step()\n",
    "          \n",
    "        epoch_loss += loss.item()\n",
    "    return epoch_loss / len(dataloader)"
   ]
  },
  {
   "cell_type": "code",
   "execution_count": 79,
   "metadata": {
    "id": "INKCgOjqwWj7"
   },
   "outputs": [],
   "source": [
    "#calculate the loss from the model on the provided dataloader\n",
    "def evaluate(model,\n",
    "             dataloader,\n",
    "             device):\n",
    "\n",
    "    model.eval()\n",
    "\n",
    "    epoch_loss = 0\n",
    "    with torch.no_grad():\n",
    "      for batch in dataloader:\n",
    "          sentences, labels, masks = batch[0], batch[1], batch[2]\n",
    "          output = model(sentences.to(device), masks.to(device))\n",
    "          loss = F.cross_entropy(output, labels.to(device))\n",
    "            \n",
    "          epoch_loss += loss.item()\n",
    "    return epoch_loss / len(dataloader)"
   ]
  },
  {
   "cell_type": "code",
   "execution_count": 80,
   "metadata": {
    "id": "JeGHrfvp0P3Y"
   },
   "outputs": [],
   "source": [
    "#calculate the prediction accuracy on the provided dataloader\n",
    "def evaluate_acc(model,\n",
    "                 dataloader,\n",
    "                 device):\n",
    "\n",
    "    model.eval()\n",
    "\n",
    "    epoch_loss = 0\n",
    "    with torch.no_grad():\n",
    "      total_correct = 0\n",
    "      total = 0\n",
    "      for i, batch in enumerate(dataloader):\n",
    "          \n",
    "          sentences, labels, masks = batch[0], batch[1], batch[2]\n",
    "          output = model(sentences.to(device), masks.to(device))\n",
    "          output = F.softmax(output, dim=1)\n",
    "          output_class = torch.argmax(output, dim=1)\n",
    "          total_correct += torch.sum(torch.where(output_class == labels.to(device), 1, 0))\n",
    "          total += sentences.size()[0]\n",
    "\n",
    "    return total_correct / total"
   ]
  },
  {
   "cell_type": "markdown",
   "metadata": {
    "id": "417RbEqchtKt"
   },
   "source": [
    "### Model Setup"
   ]
  },
  {
   "cell_type": "markdown",
   "metadata": {
    "id": "a-no2Z3iit0H"
   },
   "source": [
    "Having prepared our datasets, we now need to load in a BERT model for use as an encoder. Fortunately, the Hugging Face Library makes this easy for us. Use the hugging face AutoClass functionality to set up a pretrained Distill BERT Model and its corresponding tokenizer (1 Point). You will need to import functionality from the Hugging Face library for this question. If you are curious about the differences between BERT and Distil Bert, please see this page within the Huggingface Documentation: https://huggingface.co/transformers/model_summary.html"
   ]
  },
  {
   "cell_type": "code",
   "execution_count": 81,
   "metadata": {
    "colab": {
     "base_uri": "https://localhost:8080/"
    },
    "id": "MW-QB0s4uyiq",
    "outputId": "53949b7b-381d-4028-bbd2-00e0e31f3eca"
   },
   "outputs": [
    {
     "name": "stdout",
     "output_type": "stream",
     "text": [
      "Requirement already satisfied: transformers in /home/mpuig/anaconda3/envs/cs7643-a4/lib/python3.9/site-packages (4.12.5)\n",
      "Requirement already satisfied: tokenizers<0.11,>=0.10.1 in /home/mpuig/anaconda3/envs/cs7643-a4/lib/python3.9/site-packages (from transformers) (0.10.3)\n",
      "Requirement already satisfied: filelock in /home/mpuig/anaconda3/envs/cs7643-a4/lib/python3.9/site-packages (from transformers) (3.4.0)\n",
      "Requirement already satisfied: regex!=2019.12.17 in /home/mpuig/anaconda3/envs/cs7643-a4/lib/python3.9/site-packages (from transformers) (2021.8.3)\n",
      "Requirement already satisfied: huggingface-hub<1.0,>=0.1.0 in /home/mpuig/anaconda3/envs/cs7643-a4/lib/python3.9/site-packages (from transformers) (0.1.2)\n",
      "Requirement already satisfied: tqdm>=4.27 in /home/mpuig/anaconda3/envs/cs7643-a4/lib/python3.9/site-packages (from transformers) (4.62.3)\n",
      "Requirement already satisfied: packaging>=20.0 in /home/mpuig/anaconda3/envs/cs7643-a4/lib/python3.9/site-packages (from transformers) (21.2)\n",
      "Requirement already satisfied: requests in /home/mpuig/anaconda3/envs/cs7643-a4/lib/python3.9/site-packages (from transformers) (2.26.0)\n",
      "Requirement already satisfied: sacremoses in /home/mpuig/anaconda3/envs/cs7643-a4/lib/python3.9/site-packages (from transformers) (0.0.46)\n",
      "Requirement already satisfied: numpy>=1.17 in /home/mpuig/anaconda3/envs/cs7643-a4/lib/python3.9/site-packages (from transformers) (1.21.2)\n",
      "Requirement already satisfied: pyyaml>=5.1 in /home/mpuig/anaconda3/envs/cs7643-a4/lib/python3.9/site-packages (from transformers) (6.0)\n",
      "Requirement already satisfied: typing-extensions>=3.7.4.3 in /home/mpuig/anaconda3/envs/cs7643-a4/lib/python3.9/site-packages (from huggingface-hub<1.0,>=0.1.0->transformers) (3.10.0.2)\n",
      "Requirement already satisfied: pyparsing<3,>=2.0.2 in /home/mpuig/anaconda3/envs/cs7643-a4/lib/python3.9/site-packages (from packaging>=20.0->transformers) (2.4.7)\n",
      "Requirement already satisfied: idna<4,>=2.5 in /home/mpuig/anaconda3/envs/cs7643-a4/lib/python3.9/site-packages (from requests->transformers) (3.3)\n",
      "Requirement already satisfied: charset-normalizer~=2.0.0 in /home/mpuig/anaconda3/envs/cs7643-a4/lib/python3.9/site-packages (from requests->transformers) (2.0.7)\n",
      "Requirement already satisfied: urllib3<1.27,>=1.21.1 in /home/mpuig/anaconda3/envs/cs7643-a4/lib/python3.9/site-packages (from requests->transformers) (1.26.7)\n",
      "Requirement already satisfied: certifi>=2017.4.17 in /home/mpuig/anaconda3/envs/cs7643-a4/lib/python3.9/site-packages (from requests->transformers) (2021.10.8)\n",
      "Requirement already satisfied: six in /home/mpuig/anaconda3/envs/cs7643-a4/lib/python3.9/site-packages (from sacremoses->transformers) (1.16.0)\n",
      "Requirement already satisfied: joblib in /home/mpuig/anaconda3/envs/cs7643-a4/lib/python3.9/site-packages (from sacremoses->transformers) (1.1.0)\n",
      "Requirement already satisfied: click in /home/mpuig/anaconda3/envs/cs7643-a4/lib/python3.9/site-packages (from sacremoses->transformers) (8.0.3)\n"
     ]
    }
   ],
   "source": [
    "#first, install the hugging face transformer package in your colab\n",
    "!pip install transformers\n",
    "from transformers import get_linear_schedule_with_warmup\n",
    "from tokenizers.processors import BertProcessing"
   ]
  },
  {
   "cell_type": "code",
   "execution_count": 82,
   "metadata": {
    "colab": {
     "base_uri": "https://localhost:8080/",
     "height": 252,
     "referenced_widgets": [
      "a30c2ced9b56429197c103ac0388cc9a",
      "d5908510acbb4a7ea08234148fbeefd2",
      "d6b9d8f91b2d4213a0459660ecefb308",
      "6611cb333a614273942115414ae05c1b",
      "f99c9875435347a9897dce2e9a39aae8",
      "ca537e098fe14a20908b120fef60b47a",
      "a63e5930ec2c4ed3997065fd58f40788",
      "e2681b8f99514618baa16ed063864a11",
      "41b4df271da54957a90b7170ce5093f5",
      "33150dafd95a4a2bbb61d9935810ec66",
      "bf8d1febf78741e99e2843dd25379017",
      "a99c07a39bc24f7b94ce1ec006ec113a",
      "059950502c604b888722ebe446c39913",
      "b95073576dab49adba74424cc2901c8c",
      "5dd097e8ecef44e784a8f6937f05a085",
      "8626c56f671d44bdae8625a1b05bfd1b",
      "4534a69036674e4893722c087336b2af",
      "a4a6e06084464658a389381c49b3b246",
      "20a59e3b20064c6194c273c174efd895",
      "5091ea6d247e4796a155ca6ab02a3afc",
      "8a1051d432f24463a08db0dc3c83b33f",
      "9a55ad0d0eff4251bba5bed523baabaf",
      "8050f47f13844ed68ca301f45ef5836d",
      "fd638af281a049579483b85d75328611",
      "8927a3533e5c49d69092099215b65f5f",
      "c9172e648b504422bdd741bb176cab81",
      "f9df986bfc634e41b46f91458be525a1",
      "03ac9c5e53bc4921b8dbd87776c5ecb9",
      "4a97af6a18994e69a853c8b43447b5d0",
      "020eff3e6c504ec695672fdc4e56dec2",
      "cf519119ef0641c792f48dc6c4546ff7",
      "fd64f870ed854746a0d33853992ff711",
      "ab940bbfb0e0469c9415ef584d4ed2f8",
      "63fc9680f7944fe19aa9d1131a1a28ab",
      "2e31e9bc67bd4f9185d9a6dc7355a606",
      "dba4542f764c463d99656b68f28879fe",
      "7d43ac5a53c44c9f9d957dc089a16a35",
      "3964d5a2023d4ca191c0f94e552c8f09",
      "bb4bc01a0654439481212163f8d1cdf5",
      "6bc1cc15984f43a8acd010eeeae38d26",
      "639cba040d5743fb998b95a6b00eaa05",
      "3c99d8c6edde4863b5ba890ca7502622",
      "26737c169f4e45da853fcc7b333eb888",
      "1bdc4fe0608343aeb6dd302bc923823e",
      "7fb1510ad31c4f2eb1de2cdc18a96ce7",
      "ad2035b3957b46429a5bd725621db446",
      "ef79c061224d465595b392fa25115dac",
      "4f8de45c318a4bd3b5d9848eb28b19cf",
      "bceae7240f754530a1b7eed8ff5abd64",
      "5d36f5819e24467b9d6db9388e026af3",
      "de8267f7cd3e41f8b55a7792c9bb7414",
      "50ae0c9cb09c450d995dc9af00886cc7",
      "78903021a69d441abdc0e56989f59675",
      "047a8bb478d94e9f837a0cf3097ed8ac",
      "51324e57c1324bfe8b7e8c0ba4cb91a1"
     ]
    },
    "id": "vCg0mPWbi6dn",
    "outputId": "e9511596-12fe-48d3-f93d-01ea041cacf5"
   },
   "outputs": [
    {
     "name": "stderr",
     "output_type": "stream",
     "text": [
      "Some weights of the model checkpoint at distilbert-base-uncased were not used when initializing DistilBertModel: ['vocab_projector.bias', 'vocab_layer_norm.bias', 'vocab_transform.weight', 'vocab_projector.weight', 'vocab_transform.bias', 'vocab_layer_norm.weight']\n",
      "- This IS expected if you are initializing DistilBertModel from the checkpoint of a model trained on another task or with another architecture (e.g. initializing a BertForSequenceClassification model from a BertForPreTraining model).\n",
      "- This IS NOT expected if you are initializing DistilBertModel from the checkpoint of a model that you expect to be exactly identical (initializing a BertForSequenceClassification model from a BertForSequenceClassification model).\n"
     ]
    }
   ],
   "source": [
    "# Do not change this line, as it sets the model the model that Hugging Face will load\n",
    "# If you are interested in what other models are available, you can find the list of model names here:\n",
    "# https://huggingface.co/transformers/pretrained_models.html\n",
    "bert_model_name = 'distilbert-base-uncased' \n",
    "##YOUR CODE HERE##\n",
    "from transformers import DistilBertTokenizer, DistilBertModel\n",
    "bert_model = DistilBertModel.from_pretrained(bert_model_name)\n",
    "tokenizer = DistilBertTokenizer.from_pretrained(bert_model_name)"
   ]
  },
  {
   "cell_type": "markdown",
   "metadata": {
    "id": "QsPGlO7T2ALc"
   },
   "source": [
    "If you've loaded the archtiecture correctly, the displayed name of the model below should be \"DistilBertModel\""
   ]
  },
  {
   "cell_type": "code",
   "execution_count": 83,
   "metadata": {
    "colab": {
     "base_uri": "https://localhost:8080/"
    },
    "id": "X8Qi5tsK15Tg",
    "outputId": "d117213e-d31e-4444-e1ed-91d758b7ba50"
   },
   "outputs": [
    {
     "data": {
      "text/plain": [
       "DistilBertModel(\n",
       "  (embeddings): Embeddings(\n",
       "    (word_embeddings): Embedding(30522, 768, padding_idx=0)\n",
       "    (position_embeddings): Embedding(512, 768)\n",
       "    (LayerNorm): LayerNorm((768,), eps=1e-12, elementwise_affine=True)\n",
       "    (dropout): Dropout(p=0.1, inplace=False)\n",
       "  )\n",
       "  (transformer): Transformer(\n",
       "    (layer): ModuleList(\n",
       "      (0): TransformerBlock(\n",
       "        (attention): MultiHeadSelfAttention(\n",
       "          (dropout): Dropout(p=0.1, inplace=False)\n",
       "          (q_lin): Linear(in_features=768, out_features=768, bias=True)\n",
       "          (k_lin): Linear(in_features=768, out_features=768, bias=True)\n",
       "          (v_lin): Linear(in_features=768, out_features=768, bias=True)\n",
       "          (out_lin): Linear(in_features=768, out_features=768, bias=True)\n",
       "        )\n",
       "        (sa_layer_norm): LayerNorm((768,), eps=1e-12, elementwise_affine=True)\n",
       "        (ffn): FFN(\n",
       "          (dropout): Dropout(p=0.1, inplace=False)\n",
       "          (lin1): Linear(in_features=768, out_features=3072, bias=True)\n",
       "          (lin2): Linear(in_features=3072, out_features=768, bias=True)\n",
       "        )\n",
       "        (output_layer_norm): LayerNorm((768,), eps=1e-12, elementwise_affine=True)\n",
       "      )\n",
       "      (1): TransformerBlock(\n",
       "        (attention): MultiHeadSelfAttention(\n",
       "          (dropout): Dropout(p=0.1, inplace=False)\n",
       "          (q_lin): Linear(in_features=768, out_features=768, bias=True)\n",
       "          (k_lin): Linear(in_features=768, out_features=768, bias=True)\n",
       "          (v_lin): Linear(in_features=768, out_features=768, bias=True)\n",
       "          (out_lin): Linear(in_features=768, out_features=768, bias=True)\n",
       "        )\n",
       "        (sa_layer_norm): LayerNorm((768,), eps=1e-12, elementwise_affine=True)\n",
       "        (ffn): FFN(\n",
       "          (dropout): Dropout(p=0.1, inplace=False)\n",
       "          (lin1): Linear(in_features=768, out_features=3072, bias=True)\n",
       "          (lin2): Linear(in_features=3072, out_features=768, bias=True)\n",
       "        )\n",
       "        (output_layer_norm): LayerNorm((768,), eps=1e-12, elementwise_affine=True)\n",
       "      )\n",
       "      (2): TransformerBlock(\n",
       "        (attention): MultiHeadSelfAttention(\n",
       "          (dropout): Dropout(p=0.1, inplace=False)\n",
       "          (q_lin): Linear(in_features=768, out_features=768, bias=True)\n",
       "          (k_lin): Linear(in_features=768, out_features=768, bias=True)\n",
       "          (v_lin): Linear(in_features=768, out_features=768, bias=True)\n",
       "          (out_lin): Linear(in_features=768, out_features=768, bias=True)\n",
       "        )\n",
       "        (sa_layer_norm): LayerNorm((768,), eps=1e-12, elementwise_affine=True)\n",
       "        (ffn): FFN(\n",
       "          (dropout): Dropout(p=0.1, inplace=False)\n",
       "          (lin1): Linear(in_features=768, out_features=3072, bias=True)\n",
       "          (lin2): Linear(in_features=3072, out_features=768, bias=True)\n",
       "        )\n",
       "        (output_layer_norm): LayerNorm((768,), eps=1e-12, elementwise_affine=True)\n",
       "      )\n",
       "      (3): TransformerBlock(\n",
       "        (attention): MultiHeadSelfAttention(\n",
       "          (dropout): Dropout(p=0.1, inplace=False)\n",
       "          (q_lin): Linear(in_features=768, out_features=768, bias=True)\n",
       "          (k_lin): Linear(in_features=768, out_features=768, bias=True)\n",
       "          (v_lin): Linear(in_features=768, out_features=768, bias=True)\n",
       "          (out_lin): Linear(in_features=768, out_features=768, bias=True)\n",
       "        )\n",
       "        (sa_layer_norm): LayerNorm((768,), eps=1e-12, elementwise_affine=True)\n",
       "        (ffn): FFN(\n",
       "          (dropout): Dropout(p=0.1, inplace=False)\n",
       "          (lin1): Linear(in_features=768, out_features=3072, bias=True)\n",
       "          (lin2): Linear(in_features=3072, out_features=768, bias=True)\n",
       "        )\n",
       "        (output_layer_norm): LayerNorm((768,), eps=1e-12, elementwise_affine=True)\n",
       "      )\n",
       "      (4): TransformerBlock(\n",
       "        (attention): MultiHeadSelfAttention(\n",
       "          (dropout): Dropout(p=0.1, inplace=False)\n",
       "          (q_lin): Linear(in_features=768, out_features=768, bias=True)\n",
       "          (k_lin): Linear(in_features=768, out_features=768, bias=True)\n",
       "          (v_lin): Linear(in_features=768, out_features=768, bias=True)\n",
       "          (out_lin): Linear(in_features=768, out_features=768, bias=True)\n",
       "        )\n",
       "        (sa_layer_norm): LayerNorm((768,), eps=1e-12, elementwise_affine=True)\n",
       "        (ffn): FFN(\n",
       "          (dropout): Dropout(p=0.1, inplace=False)\n",
       "          (lin1): Linear(in_features=768, out_features=3072, bias=True)\n",
       "          (lin2): Linear(in_features=3072, out_features=768, bias=True)\n",
       "        )\n",
       "        (output_layer_norm): LayerNorm((768,), eps=1e-12, elementwise_affine=True)\n",
       "      )\n",
       "      (5): TransformerBlock(\n",
       "        (attention): MultiHeadSelfAttention(\n",
       "          (dropout): Dropout(p=0.1, inplace=False)\n",
       "          (q_lin): Linear(in_features=768, out_features=768, bias=True)\n",
       "          (k_lin): Linear(in_features=768, out_features=768, bias=True)\n",
       "          (v_lin): Linear(in_features=768, out_features=768, bias=True)\n",
       "          (out_lin): Linear(in_features=768, out_features=768, bias=True)\n",
       "        )\n",
       "        (sa_layer_norm): LayerNorm((768,), eps=1e-12, elementwise_affine=True)\n",
       "        (ffn): FFN(\n",
       "          (dropout): Dropout(p=0.1, inplace=False)\n",
       "          (lin1): Linear(in_features=768, out_features=3072, bias=True)\n",
       "          (lin2): Linear(in_features=3072, out_features=768, bias=True)\n",
       "        )\n",
       "        (output_layer_norm): LayerNorm((768,), eps=1e-12, elementwise_affine=True)\n",
       "      )\n",
       "    )\n",
       "  )\n",
       ")"
      ]
     },
     "execution_count": 83,
     "metadata": {},
     "output_type": "execute_result"
    }
   ],
   "source": [
    "#print the loaded model architecture\n",
    "bert_model"
   ]
  },
  {
   "cell_type": "markdown",
   "metadata": {
    "id": "zUiiPLXPkV6X"
   },
   "source": [
    "After loading the pretrained Distil BERT Model, we need to add our own classification head that we can train for our task. Assuming that the BERT encoder is a pretrained DistilBert model, add a BERT sequence classification head to architecture below. The classification head should take the encoded classification token as an input and output raw, unnormalized classification scores for each input sentence in the batch. You will need to look at the Huggingface documentation for DistilBert to complete this question, and you may want to look at the DistilBertForSequenceClassification architecture for guidance on creating a bert sequence classification head. Both can be found here: https://huggingface.co/transformers/model_doc/distilbert.html . (2 Points) \n",
    "\n",
    "Please note that we are not allowing you to directly use the DistilBertForSequenceClassification architecture, as we want you to implement the BERT sequence classification head yourself."
   ]
  },
  {
   "cell_type": "code",
   "execution_count": 84,
   "metadata": {
    "id": "0pyIj44OkVm9"
   },
   "outputs": [],
   "source": [
    "class TweetClassifier(nn.Module):\n",
    "    def __init__(self,\n",
    "                 bert_encoder: nn.Module,\n",
    "                 enc_hid_dim=768, #default embedding size\n",
    "                 outputs=2,\n",
    "                 dropout=0.1):\n",
    "        super().__init__()\n",
    "\n",
    "        self.bert_encoder = bert_encoder\n",
    "\n",
    "        self.enc_hid_dim = enc_hid_dim\n",
    "        \n",
    "        \n",
    "        ### YOUR CODE HERE ### \n",
    "        self.pre_classifier = nn.Linear(self.enc_hid_dim, self.enc_hid_dim)\n",
    "        self.classifier = nn.Linear(self.enc_hid_dim, outputs)\n",
    "        self.dropout = nn.Dropout(dropout)\n",
    "\n",
    "\n",
    "\n",
    "    def forward(self,\n",
    "                src,\n",
    "                mask):\n",
    "        bert_output = self.bert_encoder(src, mask)\n",
    "\n",
    "        ### YOUR CODE HERE ###\n",
    "        hidden_state = bert_output[0]  # (bs, seq_len, dim)\n",
    "        pooled_output = hidden_state[:, 0]  # (bs, dim)\n",
    "        pooled_output = self.pre_classifier(pooled_output)  # (bs, dim)\n",
    "        pooled_output = nn.ReLU()(pooled_output)  # (bs, dim)\n",
    "        pooled_output = self.dropout(pooled_output)  # (bs, dim)\n",
    "        logits = self.classifier(pooled_output)  # (bs, num_labels)\n",
    "\n",
    "        return logits\n",
    "\n",
    "        "
   ]
  },
  {
   "cell_type": "markdown",
   "metadata": {
    "id": "PEuDAjqfnhtY"
   },
   "source": [
    "Finally, we want to intialize the weights of our classification head without overwriting the weights within the DistilBert encoder. The init_weights function below will overwrite all weights within the model. Fill in the init_classification_head_weights function so that it will only overwrite weights in the classification head (using the same initialization scheme as the init_weights function). It may be helpful to refer to the PyTorch documentation on nn.module.named_parameters() while working on this question (1 point)"
   ]
  },
  {
   "cell_type": "markdown",
   "metadata": {
    "id": "hAEst8IzItYD"
   },
   "source": [
    "It should be noted that the weight initialization scheme utilized here is automatically implemented by PyTorch Linear layers. The goal of this question is to show how to change aspects of your model's set up at the parameter level basis, not just to initialize the correct weights for this architecture. As such, stating that the PyTorch Linear layer already implements this initialiazation scheme is not sufficient to earn points for this question."
   ]
  },
  {
   "cell_type": "code",
   "execution_count": 85,
   "metadata": {
    "id": "M3Jv0ab0oPmh"
   },
   "outputs": [],
   "source": [
    "def init_weights(m: nn.Module, hidden_size=768):\n",
    "    k = 1/hidden_size\n",
    "    for name, param in m.named_parameters():\n",
    "        if 'weight' in name:\n",
    "            print(name)\n",
    "            nn.init.uniform_(param.data, a=-1*k**0.5, b=k**0.5)\n",
    "        else:\n",
    "            print(name)\n",
    "            nn.init.uniform_(param.data, 0)"
   ]
  },
  {
   "cell_type": "code",
   "execution_count": 86,
   "metadata": {
    "id": "rCMZIg-2oP9n"
   },
   "outputs": [],
   "source": [
    "def init_classification_head_weights(m: nn.Module, hidden_size=768):\n",
    "    ### YOUR CODE STARTS HERE ###\n",
    "    k = 1/hidden_size\n",
    "    for name, param in m.named_parameters():\n",
    "        if 'classifier' in name:\n",
    "            print(name)\n",
    "            if 'weight' in name:\n",
    "                nn.init.uniform_(param.data, a=-1*k**0.5, b=k**0.5)\n",
    "            else:\n",
    "                nn.init.uniform_(param.data, 0)\n"
   ]
  },
  {
   "cell_type": "markdown",
   "metadata": {
    "id": "fip6YZpBvIPx"
   },
   "source": [
    "### Model Training\n"
   ]
  },
  {
   "cell_type": "markdown",
   "metadata": {
    "id": "cZ6nzbD7owwx"
   },
   "source": [
    "Once you have written the init_classification_head_weights function, you are done coding for this question. Run the following cells to initialize your model, to set up training, validation, and test dataloaders, and to train/evaluate the model. If you have completed the previous steps correctly, your model should achieve a test accuracy of 80% or greater without any hyperparameter tuning. Please note that if you need to train your model more than once, you will need to reload the BERT model to ensure that you are starting with fresh weights. Make sure that your submitted colab notebook file for includes the printed test accuracy to receive full credit for this question. (1 Point)"
   ]
  },
  {
   "cell_type": "code",
   "execution_count": 87,
   "metadata": {
    "id": "KFKO6MpuiOJG"
   },
   "outputs": [
    {
     "name": "stdout",
     "output_type": "stream",
     "text": [
      "pre_classifier.weight\n",
      "pre_classifier.bias\n",
      "classifier.weight\n",
      "classifier.bias\n",
      "Model Initialized\n"
     ]
    }
   ],
   "source": [
    "#define hyperparameters\n",
    "BATCH_SIZE = 10\n",
    "LR = 1e-5\n",
    "WEIGHT_DECAY = 0\n",
    "N_EPOCHS = 3\n",
    "CLIP = 1.0\n",
    "\n",
    "#define models, move to device, and initialize weights\n",
    "device = torch.device('cuda' if torch.cuda.is_available() else 'cpu')\n",
    "\n",
    "model = TweetClassifier(bert_model).to(device)\n",
    "model.apply(init_classification_head_weights)\n",
    "model.to(device)\n",
    "print('Model Initialized')"
   ]
  },
  {
   "cell_type": "code",
   "execution_count": 88,
   "metadata": {
    "id": "p5YYyZi_U4fE"
   },
   "outputs": [],
   "source": [
    "#create pytorch dataloaders from train_dataset, val_dataset, and test_datset\n",
    "train_dataloader = DataLoader(train_dataset,batch_size=BATCH_SIZE,collate_fn=partial(transformer_collate_fn, tokenizer=tokenizer), shuffle = True)\n",
    "val_dataloader = DataLoader(val_dataset,batch_size=BATCH_SIZE,collate_fn=partial(transformer_collate_fn, tokenizer=tokenizer))\n",
    "test_dataloader = DataLoader(test_dataset,batch_size=BATCH_SIZE,collate_fn=partial(transformer_collate_fn, tokenizer=tokenizer))"
   ]
  },
  {
   "cell_type": "code",
   "execution_count": 89,
   "metadata": {
    "id": "u0pQc044ir9w"
   },
   "outputs": [
    {
     "name": "stdout",
     "output_type": "stream",
     "text": [
      "The model has 66,955,010 trainable parameters\n",
      "Initial Train Loss: 0.711\n",
      "Initial Train Acc: 0.558\n",
      "Initial Valid Loss: 0.684\n",
      "Initial Valid Acc: 0.614\n",
      "Epoch: 01 | Time: 1m 46s\n",
      "\tTrain Loss: 0.452\n",
      "\tTrain Acc: 0.875\n",
      "\tValid Loss: 0.376\n",
      "\tValid Acc: 0.845\n",
      "Epoch: 02 | Time: 1m 44s\n",
      "\tTrain Loss: 0.352\n",
      "\tTrain Acc: 0.899\n",
      "\tValid Loss: 0.383\n",
      "\tValid Acc: 0.844\n",
      "Epoch: 03 | Time: 1m 43s\n",
      "\tTrain Loss: 0.301\n",
      "\tTrain Acc: 0.905\n",
      "\tValid Loss: 0.413\n",
      "\tValid Acc: 0.849\n"
     ]
    }
   ],
   "source": [
    "optimizer = optim.Adam(model.parameters(), lr=LR)\n",
    "\n",
    "scheduler = get_linear_schedule_with_warmup(optimizer, num_warmup_steps=10, num_training_steps=N_EPOCHS*len(train_dataloader))\n",
    "\n",
    "print(f'The model has {count_parameters(model):,} trainable parameters')\n",
    "\n",
    "train_loss = evaluate(model, train_dataloader, device)\n",
    "train_acc = evaluate_acc(model, train_dataloader, device)\n",
    "\n",
    "valid_loss = evaluate(model, val_dataloader, device)\n",
    "valid_acc = evaluate_acc(model, val_dataloader, device)\n",
    "\n",
    "print(f'Initial Train Loss: {train_loss:.3f}')\n",
    "print(f'Initial Train Acc: {train_acc:.3f}')\n",
    "print(f'Initial Valid Loss: {valid_loss:.3f}')\n",
    "print(f'Initial Valid Acc: {valid_acc:.3f}')\n",
    "\n",
    "for epoch in range(N_EPOCHS):\n",
    "    start_time = time.time()\n",
    "    train_loss = train(model, train_dataloader, optimizer, device, CLIP, scheduler)\n",
    "    end_time = time.time()\n",
    "    train_acc = evaluate_acc(model, train_dataloader, device)\n",
    "    valid_loss = evaluate(model, val_dataloader, device)\n",
    "    valid_acc = evaluate_acc(model, val_dataloader, device)\n",
    "    epoch_mins, epoch_secs = epoch_time(start_time, end_time)\n",
    "\n",
    "    print(f'Epoch: {epoch+1:02} | Time: {epoch_mins}m {epoch_secs}s')\n",
    "    print(f'\\tTrain Loss: {train_loss:.3f}')\n",
    "    print(f'\\tTrain Acc: {train_acc:.3f}')\n",
    "    print(f'\\tValid Loss: {valid_loss:.3f}')\n",
    "    print(f'\\tValid Acc: {valid_acc:.3f}')"
   ]
  },
  {
   "cell_type": "code",
   "execution_count": 90,
   "metadata": {
    "id": "zKdeeKBm0WLI"
   },
   "outputs": [
    {
     "name": "stdout",
     "output_type": "stream",
     "text": [
      "Test Loss: 0.525\n",
      "Test Acc: 0.812\n"
     ]
    }
   ],
   "source": [
    "#run this cell and save its outputs to receive full credit for this implementation\n",
    "test_loss = evaluate(model, test_dataloader, device)\n",
    "test_acc = evaluate_acc(model, test_dataloader, device)\n",
    "print(f'Test Loss: {test_loss:.3f}')\n",
    "print(f'Test Acc: {test_acc:.3f}')"
   ]
  },
  {
   "cell_type": "markdown",
   "metadata": {
    "id": "65xXyT8_twbK"
   },
   "source": [
    "## Beam Search (10 points, Extra Credit)"
   ]
  },
  {
   "cell_type": "markdown",
   "metadata": {
    "id": "AQCpBhM3t10o"
   },
   "source": [
    "Similar to greedy search, beam search generates one token at a time. However, rather than keeping only the single best hypothesis, we instead keep the top $k$ candidates at each time step. This is accomplished by computing the set of next-token extensions for each item on the beam and finding the top $k$ across all candidates according to total log-probability.\n",
    "\n",
    "Candidates that are finished should be extracted in a final list of `generations` and removed from the beam. This strategy is useful for doing re-ranking the beam candidates using alternate scorers (example, Maximum Mutual Information Objective from [Li et. al. 2015](https://arxiv.org/pdf/1510.03055.pdf)). For this assignment, you will re-rank the beam generations as follows,  \n",
    "$final\\_score_i = \\frac{score_i}{|generation_i|^\\alpha}$, where $\\alpha \\in [0.5, 2]$.  \n",
    "Terminate the search process once you have $k$ items in the `generations` list."
   ]
  },
  {
   "cell_type": "code",
   "execution_count": 46,
   "metadata": {
    "id": "r9uz-n9RvbYm"
   },
   "outputs": [],
   "source": [
    "def predict_beam(model, sentence, k=5, max_length=100):\n",
    "    \"\"\"Make predictions for the given inputs using beam search.\n",
    "    \n",
    "    Args:\n",
    "        model: A sequence-to-sequence model.\n",
    "        sentence: An input sentence, represented as string.\n",
    "        k: The size of the beam.\n",
    "        max_length: The maximum length at which to truncate outputs in order to\n",
    "            avoid non-terminating inference.\n",
    "    \n",
    "    Returns:\n",
    "        A list of k beam predictions. Each element in the list should be a string\n",
    "        corresponding to one of the top k predictions for the corresponding input,\n",
    "        sorted in descending order by its final score.\n",
    "    \"\"\"\n",
    "\n",
    "    # Implementation tip: once an eos_token has been generated for any beam, \n",
    "    # remove its subsequent predictions from that beam by adding a small negative \n",
    "    # number like -1e9 to the appropriate logits. This will ensure that the \n",
    "    # candidates are removed from the beam, as its probability will be very close\n",
    "    # to 0. Using this method, uou will be able to reuse the beam of an already \n",
    "    # finished candidate\n",
    "\n",
    "    # Implementation tip: while you are encouraged to keep your tensor dimensions\n",
    "    # constant for simplicity (aside from the sequence length), some special care\n",
    "    # will need to be taken on the first iteration to ensure that your beam\n",
    "    # doesn't fill up with k identical copies of the same candidate.\n",
    "    \n",
    "    # You are welcome to tweak alpha\n",
    "    alpha = 0.7\n",
    "    model.eval()\n",
    "    \n",
    "    # YOUR CODE HERE\n",
    "    sentence_ids = torch.tensor(vocab.get_ids_from_sentence(sentence)).cuda()\n",
    "    sentence_ids = sentence_ids.unsqueeze(1)\n",
    "    encoder_output, encoder_mask, h = model.encode(sentence_ids)\n",
    "\n",
    "    out_start = sentence_ids[0]\n",
    "    beam = [out_start for i in range(k)]\n",
    "    beam_scores = [1 for i in range(k)]\n",
    "    hiddens = [h for i in range(k)]\n",
    "    generations = []\n",
    "    generations_scores = []\n",
    "    curr_l = 0\n",
    "    eos_tensor = torch.Tensor([eos_id]).int().cuda()\n",
    "    while beam:\n",
    "        logits = torch.Tensor().cuda()\n",
    "        inds = torch.Tensor().int().cuda()\n",
    "        curr_k = len(beam)\n",
    "        if curr_l==max_length:\n",
    "            for i in range(curr_k):\n",
    "                  generations += [torch.cat((beam[i],eos_tensor),0)]\n",
    "                  generations_scores += [new_beam_scores[i]]\n",
    "            break\n",
    "        else:\n",
    "            for i in range(curr_k):\n",
    "                out, hiddens[i], _ = model.decode(beam[i][-1].view(1,1), hiddens[i], encoder_output,\n",
    "                                     encoder_mask)\n",
    "                logit,ind = torch.topk(out.squeeze(), curr_k, dim=0)\n",
    "                logits = torch.cat((logits,logit),0)\n",
    "                inds = torch.cat((inds,ind),0)\n",
    "            new_beam = []\n",
    "            new_beam_scores = []\n",
    "            new_hiddens = []\n",
    "            if curr_l==0:\n",
    "                for i in range(curr_k):\n",
    "                    max_ind = torch.argmax(nn.functional.log_softmax(logit,dim=0))\n",
    "                    new_beam_scores += [float(logit[max_ind])]\n",
    "                    logit[max_ind] = -1e9\n",
    "                    new_beam += [torch.cat((beam[0],ind[max_ind].unsqueeze(0)),0)]\n",
    "                    new_hiddens += [hiddens[0]]\n",
    "            else:\n",
    "                top_logits,top_inds_logit = torch.topk(torch.repeat_interleave(torch.Tensor(beam_scores).cuda(),\n",
    "                                                                               curr_k)\\\n",
    "                                                       +nn.functional.log_softmax(logits,dim=0),\n",
    "                                                       curr_k, dim=0)\n",
    "                for i in range(curr_k):\n",
    "                    if inds[top_inds_logit[i]]==eos_id:\n",
    "                        generations += [torch.cat((beam[top_inds_logit[i]//curr_k],inds[top_inds_logit[i]].unsqueeze(0)),0)]\n",
    "                        generations_scores+=[float(logits[top_inds_logit[i]])/(generations[-1].shape[0]**alpha)]\n",
    "                    else:\n",
    "                        new_beam += [torch.cat((beam[top_inds_logit[i]//curr_k],inds[top_inds_logit[i]].unsqueeze(0)),0)]\n",
    "                        new_hiddens += [hiddens[top_inds_logit[i]//curr_k]]\n",
    "                        new_beam_scores += [float(logits[top_inds_logit[i]])]\n",
    "            beam = new_beam\n",
    "            beam_scores = new_beam_scores\n",
    "            hiddens = new_hiddens\n",
    "        curr_l +=1\n",
    "    generations = [g for _, g in sorted(zip(generations_scores, generations))]\n",
    "    generations.reverse()\n",
    "    return [vocab.decode_sentence_from_ids(s.tolist()) for s in generations]"
   ]
  },
  {
   "cell_type": "code",
   "execution_count": 143,
   "metadata": {},
   "outputs": [
    {
     "data": {
      "text/plain": [
       "'def predict_beam2(model, sentence, k=5, max_length=100):\\n    \"\"\"Make predictions for the given inputs using beam search.\\n    \\n    Args:\\n        model: A sequence-to-sequence model.\\n        sentence: An input sentence, represented as string.\\n        k: The size of the beam.\\n        max_length: The maximum length at which to truncate outputs in order to\\n            avoid non-terminating inference.\\n    \\n    Returns:\\n        A list of k beam predictions. Each element in the list should be a string\\n        corresponding to one of the top k predictions for the corresponding input,\\n        sorted in descending order by its final score.\\n    \"\"\"\\n\\n    # Implementation tip: once an eos_token has been generated for any beam, \\n    # remove its subsequent predictions from that beam by adding a small negative \\n    # number like -1e9 to the appropriate logits. This will ensure that the \\n    # candidates are removed from the beam, as its probability will be very close\\n    # to 0. Using this method, uou will be able to reuse the beam of an already \\n    # finished candidate\\n\\n    # Implementation tip: while you are encouraged to keep your tensor dimensions\\n    # constant for simplicity (aside from the sequence length), some special care\\n    # will need to be taken on the first iteration to ensure that your beam\\n    # doesn\\'t fill up with k identical copies of the same candidate.\\n    \\n    # You are welcome to tweak alpha\\n    alpha = 0.7\\n    model.eval()\\n    \\n    # YOUR CODE HERE\\n    sentence_ids = torch.tensor(vocab.get_ids_from_sentence(sentence)).cuda()\\n    sentence_ids = sentence_ids.unsqueeze(1)\\n    encoder_output, encoder_mask, h = model.encode(sentence_ids)\\n\\n    out_start = sentence_ids[0]\\n    beam = [out_start for i in range(k)]\\n    beam_scores = [1 for i in range(k)]\\n    hiddens = [h for i in range(k)]\\n    generations = []\\n    generations_scores = []\\n    curr_l = 0\\n    eos_tensor = torch.Tensor([eos_id]).int().cuda()\\n    while beam:\\n        logits = torch.Tensor().cuda()\\n        inds = torch.Tensor().int().cuda()\\n        curr_k = len(beam)\\n        if curr_l==max_length:\\n            for i in range(curr_k):\\n                  generations += [torch.cat((beam[i],eos_tensor),0)]\\n                  scores+=[0]\\n            break\\n        else:\\n            for i in range(curr_k):\\n                out, hiddens[i], _ = model.decode(beam[i][-1].view(1,1), hiddens[i], encoder_output,\\n                                     encoder_mask)\\n                logit,ind = torch.topk(out.squeeze(), curr_k, dim=0)\\n                logits = torch.cat((logits,logit),0)\\n                inds = torch.cat((inds,ind),0)\\n            new_beam = []\\n            new_hiddens = []\\n            if curr_l==0:\\n                for i in range(curr_k):\\n                    max_ind = torch.argmax(logit)\\n                    logit[max_ind] = -1e9\\n                    new_beam += [torch.cat((beam[0],ind[max_ind].unsqueeze(0)),0)]\\n                    new_hiddens += [hiddens[0]]\\n            else:\\n                top_logits,top_inds_logit = torch.topk(logits, curr_k, dim=0)\\n                for i in range(curr_k):\\n                    if inds[top_inds_logit[i]]==eos_id:\\n                        generations += [torch.cat((beam[top_inds_logit[i]//curr_k],inds[top_inds_logit[i]].unsqueeze(0)),0)]\\n                        scores+=[float(logits[top_inds_logit[i]])/(generations[-1].shape[0]**alpha)]\\n                    else:\\n                        new_beam += [torch.cat((beam[top_inds_logit[i]//curr_k],inds[top_inds_logit[i]].unsqueeze(0)),0)]\\n                        new_hiddens += [hiddens[top_inds_logit[i]//curr_k]]\\n            beam = new_beam\\n            hiddens = new_hiddens\\n        curr_l +=1\\n    generations = [g for _, g in sorted(zip(scores, generations))]\\n    generations.reverse()\\n    return [vocab.decode_sentence_from_ids(s.tolist()) for s in generations]'"
      ]
     },
     "execution_count": 143,
     "metadata": {},
     "output_type": "execute_result"
    }
   ],
   "source": [
    "#OLD VERSION\n",
    "'''def predict_beam2(model, sentence, k=5, max_length=100):\n",
    "    \"\"\"Make predictions for the given inputs using beam search.\n",
    "    \n",
    "    Args:\n",
    "        model: A sequence-to-sequence model.\n",
    "        sentence: An input sentence, represented as string.\n",
    "        k: The size of the beam.\n",
    "        max_length: The maximum length at which to truncate outputs in order to\n",
    "            avoid non-terminating inference.\n",
    "    \n",
    "    Returns:\n",
    "        A list of k beam predictions. Each element in the list should be a string\n",
    "        corresponding to one of the top k predictions for the corresponding input,\n",
    "        sorted in descending order by its final score.\n",
    "    \"\"\"\n",
    "\n",
    "    # Implementation tip: once an eos_token has been generated for any beam, \n",
    "    # remove its subsequent predictions from that beam by adding a small negative \n",
    "    # number like -1e9 to the appropriate logits. This will ensure that the \n",
    "    # candidates are removed from the beam, as its probability will be very close\n",
    "    # to 0. Using this method, uou will be able to reuse the beam of an already \n",
    "    # finished candidate\n",
    "\n",
    "    # Implementation tip: while you are encouraged to keep your tensor dimensions\n",
    "    # constant for simplicity (aside from the sequence length), some special care\n",
    "    # will need to be taken on the first iteration to ensure that your beam\n",
    "    # doesn't fill up with k identical copies of the same candidate.\n",
    "    \n",
    "    # You are welcome to tweak alpha\n",
    "    alpha = 0.7\n",
    "    model.eval()\n",
    "    \n",
    "    # YOUR CODE HERE\n",
    "    sentence_ids = torch.tensor(vocab.get_ids_from_sentence(sentence)).cuda()\n",
    "    sentence_ids = sentence_ids.unsqueeze(1)\n",
    "    encoder_output, encoder_mask, h = model.encode(sentence_ids)\n",
    "\n",
    "    out_start = sentence_ids[0]\n",
    "    beam = [out_start for i in range(k)]\n",
    "    beam_scores = [1 for i in range(k)]\n",
    "    hiddens = [h for i in range(k)]\n",
    "    generations = []\n",
    "    generations_scores = []\n",
    "    curr_l = 0\n",
    "    eos_tensor = torch.Tensor([eos_id]).int().cuda()\n",
    "    while beam:\n",
    "        logits = torch.Tensor().cuda()\n",
    "        inds = torch.Tensor().int().cuda()\n",
    "        curr_k = len(beam)\n",
    "        if curr_l==max_length:\n",
    "            for i in range(curr_k):\n",
    "                  generations += [torch.cat((beam[i],eos_tensor),0)]\n",
    "                  scores+=[0]\n",
    "            break\n",
    "        else:\n",
    "            for i in range(curr_k):\n",
    "                out, hiddens[i], _ = model.decode(beam[i][-1].view(1,1), hiddens[i], encoder_output,\n",
    "                                     encoder_mask)\n",
    "                logit,ind = torch.topk(out.squeeze(), curr_k, dim=0)\n",
    "                logits = torch.cat((logits,logit),0)\n",
    "                inds = torch.cat((inds,ind),0)\n",
    "            new_beam = []\n",
    "            new_hiddens = []\n",
    "            if curr_l==0:\n",
    "                for i in range(curr_k):\n",
    "                    max_ind = torch.argmax(logit)\n",
    "                    logit[max_ind] = -1e9\n",
    "                    new_beam += [torch.cat((beam[0],ind[max_ind].unsqueeze(0)),0)]\n",
    "                    new_hiddens += [hiddens[0]]\n",
    "            else:\n",
    "                top_logits,top_inds_logit = torch.topk(logits, curr_k, dim=0)\n",
    "                for i in range(curr_k):\n",
    "                    if inds[top_inds_logit[i]]==eos_id:\n",
    "                        generations += [torch.cat((beam[top_inds_logit[i]//curr_k],inds[top_inds_logit[i]].unsqueeze(0)),0)]\n",
    "                        scores+=[float(logits[top_inds_logit[i]])/(generations[-1].shape[0]**alpha)]\n",
    "                    else:\n",
    "                        new_beam += [torch.cat((beam[top_inds_logit[i]//curr_k],inds[top_inds_logit[i]].unsqueeze(0)),0)]\n",
    "                        new_hiddens += [hiddens[top_inds_logit[i]//curr_k]]\n",
    "            beam = new_beam\n",
    "            hiddens = new_hiddens\n",
    "        curr_l +=1\n",
    "    generations = [g for _, g in sorted(zip(scores, generations))]\n",
    "    generations.reverse()\n",
    "    return [vocab.decode_sentence_from_ids(s.tolist()) for s in generations]'''"
   ]
  },
  {
   "cell_type": "markdown",
   "metadata": {
    "id": "H-ugmcEJS2KR"
   },
   "source": [
    "Now let's test both baseline and attention models on some predefined inputs and compare their greedy and beam responses side by side."
   ]
  },
  {
   "cell_type": "code",
   "execution_count": 47,
   "metadata": {
    "colab": {
     "base_uri": "https://localhost:8080/"
    },
    "id": "Z5latq5wAahX",
    "outputId": "39fec617-aca6-4476-e5d5-652d510f3050"
   },
   "outputs": [
    {
     "name": "stdout",
     "output_type": "stream",
     "text": [
      "Input > hello.\n",
      "Greedy Response: hi .\n",
      "\n",
      "Input > please share you bank account number with me\n",
      "Greedy Response: no .\n",
      "\n",
      "Input > i have never met someone more annoying that you\n",
      "Greedy Response: i have to .\n",
      "\n",
      "Input > i like pizza. what do you like?\n",
      "Greedy Response: i like you .\n",
      "\n",
      "Input > give me coffee, or i'll hate you\n",
      "Greedy Response: sacha .\n",
      "\n",
      "Input > i'm so bored. give some suggestions\n",
      "Greedy Response: i m not sure .\n",
      "\n",
      "Input > stop running or you'll fall hard\n",
      "Greedy Response: i m sorry .\n",
      "\n",
      "Input > what is your favorite sport?\n",
      "Greedy Response: i don t know .\n",
      "\n",
      "Input > do you believe in a miracle?\n",
      "Greedy Response: no .\n",
      "\n",
      "Input > which sport team do you like?\n",
      "Greedy Response: you know .\n",
      "\n"
     ]
    }
   ],
   "source": [
    "test_conversations_with_model(baseline_model, include_beam=False)"
   ]
  },
  {
   "cell_type": "code",
   "execution_count": 48,
   "metadata": {
    "colab": {
     "base_uri": "https://localhost:8080/",
     "height": 1000
    },
    "id": "-_kmTA1klfTc",
    "outputId": "163b23a9-70d0-4aa4-e03e-66d888ac9964"
   },
   "outputs": [
    {
     "name": "stdout",
     "output_type": "stream",
     "text": [
      "Input > hello.\n",
      "Greedy Response: hi .\n",
      "Beam Responses:\n",
      "hello .\n",
      "hi .\n",
      "beynon .\n",
      "hello mrs . robinson .\n",
      "hello mrs . doyle .\n",
      "\n",
      "\n",
      "Input > please share you bank account number with me\n",
      "Greedy Response: no .\n",
      "Beam Responses:\n",
      "no .\n",
      "i don t think so .\n",
      "i don t want to see you .\n",
      "i don t want to know .\n",
      "i don t think so . . .\n",
      "\n",
      "\n",
      "Input > i have never met someone more annoying that you\n",
      "Greedy Response: i have to .\n"
     ]
    },
    {
     "name": "stderr",
     "output_type": "stream",
     "text": [
      "/home/mpuig/anaconda3/envs/cs7643-a4/lib/python3.9/site-packages/torch/_tensor.py:575: UserWarning: floor_divide is deprecated, and will be removed in a future version of pytorch. It currently rounds toward 0 (like the 'trunc' function NOT 'floor'). This results in incorrect rounding for negative values.\n",
      "To keep the current behavior, use torch.div(a, b, rounding_mode='trunc'), or for actual floor division, use torch.div(a, b, rounding_mode='floor'). (Triggered internally at  /pytorch/aten/src/ATen/native/BinaryOps.cpp:467.)\n",
      "  return torch.floor_divide(self, other)\n"
     ]
    },
    {
     "name": "stdout",
     "output_type": "stream",
     "text": [
      "Beam Responses:\n",
      "why ?\n",
      "what ?\n",
      "why not ?\n",
      "what ? !\n",
      "why not ? !\n",
      "\n",
      "\n",
      "Input > i like pizza. what do you like?\n",
      "Greedy Response: i like you .\n",
      "Beam Responses:\n",
      "huh ?\n",
      "i don t want to talk to you .\n",
      "i don t want to know .\n",
      "i don t want to talk about it .\n",
      "i don t know .\n",
      "\n",
      "\n",
      "Input > give me coffee, or i'll hate you\n",
      "Greedy Response: sacha .\n",
      "Beam Responses:\n",
      "i don t want to talk to you .\n",
      "i don t think so .\n",
      "i don t want to talk about it .\n",
      "i don t think so . . . .\n",
      "i don t think so . . .\n",
      "\n",
      "\n",
      "Input > i'm so bored. give some suggestions\n",
      "Greedy Response: i m not sure .\n",
      "Beam Responses:\n",
      "i don t want you to .\n",
      "i don t want to .\n",
      "i don t think so .\n",
      "i don t think so . . .\n",
      "i don t want to . . .\n",
      "\n",
      "\n",
      "Input > stop running or you'll fall hard\n",
      "Greedy Response: i m sorry .\n",
      "Beam Responses:\n",
      "okay .\n",
      "let s go !\n",
      "let s get out of here !\n",
      "let s get out of here .\n",
      "let s get out of here\n",
      "\n",
      "\n",
      "Input > what is your favorite sport?\n",
      "Greedy Response: i don t know .\n",
      "Beam Responses:\n",
      "i don t want to talk to you .\n",
      "i don t want to talk .\n",
      "i don t want to hear it .\n",
      "i don t want to talk about it .\n",
      "i don t want to know .\n",
      "\n",
      "\n",
      "Input > do you believe in a miracle?\n",
      "Greedy Response: no .\n",
      "Beam Responses:\n",
      "what ?\n",
      "yes .\n",
      "no .\n",
      "i don t think so .\n",
      "i don t know .\n",
      "\n",
      "\n",
      "Input > which sport team do you like?\n",
      "Greedy Response: you know .\n",
      "Beam Responses:\n",
      "i don t think so .\n",
      "i don t want to talk to you .\n",
      "i don t know .\n",
      "i don t want to talk about it .\n",
      "i don t know\n",
      "\n",
      "\n"
     ]
    }
   ],
   "source": [
    "test_conversations_with_model(baseline_model, include_beam=True)"
   ]
  },
  {
   "cell_type": "code",
   "execution_count": 49,
   "metadata": {
    "colab": {
     "base_uri": "https://localhost:8080/"
    },
    "id": "J2OPC1FCAxLN",
    "outputId": "bac04936-6ee7-4e6b-bbfd-acbb5ecb7928"
   },
   "outputs": [
    {
     "name": "stdout",
     "output_type": "stream",
     "text": [
      "Input > hello.\n",
      "Greedy Response: hi .\n",
      "\n",
      "Input > please share you bank account number with me\n",
      "Greedy Response: no .\n",
      "\n",
      "Input > i have never met someone more annoying that you\n",
      "Greedy Response: i know .\n",
      "\n",
      "Input > i like pizza. what do you like?\n",
      "Greedy Response: i like it .\n",
      "\n",
      "Input > give me coffee, or i'll hate you\n",
      "Greedy Response: you re not gonna shoot me\n",
      "\n",
      "Input > i'm so bored. give some suggestions\n",
      "Greedy Response: you re not going anywhere .\n",
      "\n",
      "Input > stop running or you'll fall hard\n",
      "Greedy Response: i ll see you tomorrow .\n",
      "\n",
      "Input > what is your favorite sport?\n",
      "Greedy Response: i m not a green .\n",
      "\n",
      "Input > do you believe in a miracle?\n",
      "Greedy Response: no .\n",
      "\n",
      "Input > which sport team do you like?\n",
      "Greedy Response: i don t know .\n",
      "\n"
     ]
    }
   ],
   "source": [
    "test_conversations_with_model(attention_model, include_beam=False)"
   ]
  },
  {
   "cell_type": "code",
   "execution_count": 50,
   "metadata": {
    "id": "4npKaXnGlazQ"
   },
   "outputs": [
    {
     "name": "stdout",
     "output_type": "stream",
     "text": [
      "Input > hello.\n",
      "Greedy Response: hi .\n",
      "Beam Responses:\n",
      "hello .\n",
      "hi .\n",
      "i thought you were expecting you .\n",
      "i thought you d say that .\n",
      "i thought you d say .\n",
      "\n",
      "\n",
      "Input > please share you bank account number with me\n",
      "Greedy Response: no .\n",
      "Beam Responses:\n",
      "yes .\n",
      "no .\n",
      "i think i could .\n",
      "i think you re not .\n",
      "i think i could . . .\n",
      "\n",
      "\n",
      "Input > i have never met someone more annoying that you\n",
      "Greedy Response: i know .\n",
      "Beam Responses:\n",
      "why ?\n",
      "what ?\n",
      "i don t think so .\n",
      "i don t know .\n",
      "i don t think so\n",
      "\n",
      "\n",
      "Input > i like pizza. what do you like?\n",
      "Greedy Response: i like it .\n",
      "Beam Responses:\n",
      "what ?\n",
      "i don t like it .\n",
      "i don t like you .\n",
      "i don t know .\n",
      "i don t know . . .\n",
      "\n",
      "\n",
      "Input > give me coffee, or i'll hate you\n",
      "Greedy Response: you re not gonna shoot me\n",
      "Beam Responses:\n",
      "i don t think so .\n",
      "i don t want you to .\n",
      "i don t want to see you .\n",
      "i don t think so . . . .\n",
      "i don t think so . . .\n",
      "\n",
      "\n",
      "Input > i'm so bored. give some suggestions\n",
      "Greedy Response: you re not going anywhere .\n",
      "Beam Responses:\n",
      "i m sorry .\n",
      "i m glad you should .\n",
      "i m glad you knew .\n",
      "i m glad you should . . .\n",
      "i m glad you knew . . .\n",
      "\n",
      "\n",
      "Input > stop running or you'll fall hard\n",
      "Greedy Response: i ll see you tomorrow .\n",
      "Beam Responses:\n",
      "i don t think so !\n",
      "i don t think so .\n",
      "i don t believe it !\n",
      "i don t believe it .\n",
      "i don t think so . . .\n",
      "\n",
      "\n",
      "Input > what is your favorite sport?\n",
      "Greedy Response: i m not a green .\n",
      "Beam Responses:\n",
      "i don t think so .\n",
      "i don t want to talk .\n",
      "i don t want to know .\n",
      "i don t know .\n",
      "i don t think so . . .\n",
      "\n",
      "\n",
      "Input > do you believe in a miracle?\n",
      "Greedy Response: no .\n",
      "Beam Responses:\n",
      "yes .\n",
      "no .\n",
      "sure .\n",
      "i think so .\n",
      "i think i do .\n",
      "\n",
      "\n",
      "Input > which sport team do you like?\n",
      "Greedy Response: i don t know .\n",
      "Beam Responses:\n",
      "i don t .\n",
      "i don t think so .\n",
      "i don t know .\n",
      "i don t think so . . .\n",
      "i don t think so\n",
      "\n",
      "\n"
     ]
    }
   ],
   "source": [
    "test_conversations_with_model(attention_model, include_beam=True)"
   ]
  },
  {
   "cell_type": "markdown",
   "metadata": {
    "id": "eAMwBfFxwzKm"
   },
   "source": [
    "Let's also check how our models do using our automatic evaluation metrics."
   ]
  },
  {
   "cell_type": "code",
   "execution_count": 137,
   "metadata": {
    "id": "NO9Owbktw6bp"
   },
   "outputs": [
    {
     "name": "stdout",
     "output_type": "stream",
     "text": [
      "Baseline Model evaluation:\n",
      "Greedy decoding:\n",
      "Avg Response Length = 4.53\n",
      "Distinct1 = 0.11699779249448124\n",
      "Distinct2 = 0.23512747875354106\n",
      "Beam search decoding:\n",
      "Avg Response Length = 3.53\n",
      "Distinct1 = 0.07932011331444759\n",
      "Distinct2 = 0.13043478260869565\n",
      "Attention Model evaluation:\n",
      "Greedy decoding:\n",
      "Avg Response Length = 3.84\n",
      "Distinct1 = 0.1484375\n",
      "Distinct2 = 0.3345070422535211\n",
      "Greedy decoding:\n",
      "Avg Response Length = 3.12\n",
      "Distinct1 = 0.13782051282051283\n",
      "Distinct2 = 0.25471698113207547\n"
     ]
    }
   ],
   "source": [
    "print(f\"Baseline Model evaluation:\")\n",
    "avg_length, distinct1, distinct2 = evaluate_diversity(baseline_model)\n",
    "print(f\"Greedy decoding:\")\n",
    "print(f\"Avg Response Length = {avg_length}\")\n",
    "print(f\"Distinct1 = {distinct1}\")\n",
    "print(f\"Distinct2 = {distinct2}\")\n",
    "avg_length, distinct1, distinct2 = evaluate_diversity(baseline_model, mode='beam')\n",
    "print(f\"Beam search decoding:\")\n",
    "print(f\"Avg Response Length = {avg_length}\")\n",
    "print(f\"Distinct1 = {distinct1}\")\n",
    "print(f\"Distinct2 = {distinct2}\")\n",
    "print(f\"Attention Model evaluation:\")\n",
    "avg_length, distinct1, distinct2 = evaluate_diversity(attention_model,)\n",
    "print(f\"Greedy decoding:\")\n",
    "print(f\"Avg Response Length = {avg_length}\")\n",
    "print(f\"Distinct1 = {distinct1}\")\n",
    "print(f\"Distinct2 = {distinct2}\")\n",
    "avg_length, distinct1, distinct2 = evaluate_diversity(attention_model, mode='beam')\n",
    "print(f\"Greedy decoding:\")\n",
    "print(f\"Avg Response Length = {avg_length}\")\n",
    "print(f\"Distinct1 = {distinct1}\")\n",
    "print(f\"Distinct2 = {distinct2}\")"
   ]
  },
  {
   "cell_type": "markdown",
   "metadata": {
    "id": "xBXn697mBKDl"
   },
   "source": [
    "## What to turn in?\n",
    "\n",
    "When you are done, make sure to run all the cells in your solution (including your conversation with the chatbot), and submit your notebook `NLP_Fall_2021_Assignment_3.ipynb` to Gradescope, along with a pdf copy of the notebook (NLP_Fall_2021_Assignment_3.pdf) .\n",
    "\n",
    "\n",
    "**When submitting the .ipynb notebook, please make sure that all the cells are run and up-to-date with the outputs and accuracies. Also please ensure that the PDF version is up-to-date with the notebook. We will use both for grading.** If the code doesn't take too long to run, you can re-run everything with `Runtime -> Restart and run all`\n",
    "\n",
    "You can submit multiple times before the deadline and choose the submission which you want to be graded by going to `Submission History` on gradescope."
   ]
  }
 ],
 "metadata": {
  "accelerator": "GPU",
  "colab": {
   "collapsed_sections": [],
   "name": "Copie_de_NLP_Fall_2021_Assignment_3_1(1)(1).ipynb",
   "provenance": []
  },
  "kernelspec": {
   "display_name": "Python 3 (ipykernel)",
   "language": "python",
   "name": "python3"
  },
  "language_info": {
   "codemirror_mode": {
    "name": "ipython",
    "version": 3
   },
   "file_extension": ".py",
   "mimetype": "text/x-python",
   "name": "python",
   "nbconvert_exporter": "python",
   "pygments_lexer": "ipython3",
   "version": "3.9.7"
  },
  "widgets": {
   "application/vnd.jupyter.widget-state+json": {
    "011242ccbf2a48cd96870f46a02d73e8": {
     "model_module": "@jupyter-widgets/base",
     "model_module_version": "1.2.0",
     "model_name": "LayoutModel",
     "state": {
      "_model_module": "@jupyter-widgets/base",
      "_model_module_version": "1.2.0",
      "_model_name": "LayoutModel",
      "_view_count": null,
      "_view_module": "@jupyter-widgets/base",
      "_view_module_version": "1.2.0",
      "_view_name": "LayoutView",
      "align_content": null,
      "align_items": null,
      "align_self": null,
      "border": null,
      "bottom": null,
      "display": null,
      "flex": null,
      "flex_flow": null,
      "grid_area": null,
      "grid_auto_columns": null,
      "grid_auto_flow": null,
      "grid_auto_rows": null,
      "grid_column": null,
      "grid_gap": null,
      "grid_row": null,
      "grid_template_areas": null,
      "grid_template_columns": null,
      "grid_template_rows": null,
      "height": null,
      "justify_content": null,
      "justify_items": null,
      "left": null,
      "margin": null,
      "max_height": null,
      "max_width": null,
      "min_height": null,
      "min_width": null,
      "object_fit": null,
      "object_position": null,
      "order": null,
      "overflow": null,
      "overflow_x": null,
      "overflow_y": null,
      "padding": null,
      "right": null,
      "top": null,
      "visibility": null,
      "width": null
     }
    },
    "01d7c429c8a64f64b7ad086a2920b453": {
     "model_module": "@jupyter-widgets/controls",
     "model_module_version": "1.5.0",
     "model_name": "ProgressStyleModel",
     "state": {
      "_model_module": "@jupyter-widgets/controls",
      "_model_module_version": "1.5.0",
      "_model_name": "ProgressStyleModel",
      "_view_count": null,
      "_view_module": "@jupyter-widgets/base",
      "_view_module_version": "1.2.0",
      "_view_name": "StyleView",
      "bar_color": null,
      "description_width": ""
     }
    },
    "020eff3e6c504ec695672fdc4e56dec2": {
     "model_module": "@jupyter-widgets/controls",
     "model_module_version": "1.5.0",
     "model_name": "ProgressStyleModel",
     "state": {
      "_model_module": "@jupyter-widgets/controls",
      "_model_module_version": "1.5.0",
      "_model_name": "ProgressStyleModel",
      "_view_count": null,
      "_view_module": "@jupyter-widgets/base",
      "_view_module_version": "1.2.0",
      "_view_name": "StyleView",
      "bar_color": null,
      "description_width": ""
     }
    },
    "03ac9c5e53bc4921b8dbd87776c5ecb9": {
     "model_module": "@jupyter-widgets/controls",
     "model_module_version": "1.5.0",
     "model_name": "DescriptionStyleModel",
     "state": {
      "_model_module": "@jupyter-widgets/controls",
      "_model_module_version": "1.5.0",
      "_model_name": "DescriptionStyleModel",
      "_view_count": null,
      "_view_module": "@jupyter-widgets/base",
      "_view_module_version": "1.2.0",
      "_view_name": "StyleView",
      "description_width": ""
     }
    },
    "03d3d995b3014d86b1906a92e367e703": {
     "model_module": "@jupyter-widgets/base",
     "model_module_version": "1.2.0",
     "model_name": "LayoutModel",
     "state": {
      "_model_module": "@jupyter-widgets/base",
      "_model_module_version": "1.2.0",
      "_model_name": "LayoutModel",
      "_view_count": null,
      "_view_module": "@jupyter-widgets/base",
      "_view_module_version": "1.2.0",
      "_view_name": "LayoutView",
      "align_content": null,
      "align_items": null,
      "align_self": null,
      "border": null,
      "bottom": null,
      "display": null,
      "flex": null,
      "flex_flow": null,
      "grid_area": null,
      "grid_auto_columns": null,
      "grid_auto_flow": null,
      "grid_auto_rows": null,
      "grid_column": null,
      "grid_gap": null,
      "grid_row": null,
      "grid_template_areas": null,
      "grid_template_columns": null,
      "grid_template_rows": null,
      "height": null,
      "justify_content": null,
      "justify_items": null,
      "left": null,
      "margin": null,
      "max_height": null,
      "max_width": null,
      "min_height": null,
      "min_width": null,
      "object_fit": null,
      "object_position": null,
      "order": null,
      "overflow": null,
      "overflow_x": null,
      "overflow_y": null,
      "padding": null,
      "right": null,
      "top": null,
      "visibility": null,
      "width": null
     }
    },
    "047a8bb478d94e9f837a0cf3097ed8ac": {
     "model_module": "@jupyter-widgets/controls",
     "model_module_version": "1.5.0",
     "model_name": "DescriptionStyleModel",
     "state": {
      "_model_module": "@jupyter-widgets/controls",
      "_model_module_version": "1.5.0",
      "_model_name": "DescriptionStyleModel",
      "_view_count": null,
      "_view_module": "@jupyter-widgets/base",
      "_view_module_version": "1.2.0",
      "_view_name": "StyleView",
      "description_width": ""
     }
    },
    "05403b5cc56d40d3a115bfee48bf6f3e": {
     "model_module": "@jupyter-widgets/base",
     "model_module_version": "1.2.0",
     "model_name": "LayoutModel",
     "state": {
      "_model_module": "@jupyter-widgets/base",
      "_model_module_version": "1.2.0",
      "_model_name": "LayoutModel",
      "_view_count": null,
      "_view_module": "@jupyter-widgets/base",
      "_view_module_version": "1.2.0",
      "_view_name": "LayoutView",
      "align_content": null,
      "align_items": null,
      "align_self": null,
      "border": null,
      "bottom": null,
      "display": null,
      "flex": null,
      "flex_flow": null,
      "grid_area": null,
      "grid_auto_columns": null,
      "grid_auto_flow": null,
      "grid_auto_rows": null,
      "grid_column": null,
      "grid_gap": null,
      "grid_row": null,
      "grid_template_areas": null,
      "grid_template_columns": null,
      "grid_template_rows": null,
      "height": null,
      "justify_content": null,
      "justify_items": null,
      "left": null,
      "margin": null,
      "max_height": null,
      "max_width": null,
      "min_height": null,
      "min_width": null,
      "object_fit": null,
      "object_position": null,
      "order": null,
      "overflow": null,
      "overflow_x": null,
      "overflow_y": null,
      "padding": null,
      "right": null,
      "top": null,
      "visibility": null,
      "width": null
     }
    },
    "059950502c604b888722ebe446c39913": {
     "model_module": "@jupyter-widgets/base",
     "model_module_version": "1.2.0",
     "model_name": "LayoutModel",
     "state": {
      "_model_module": "@jupyter-widgets/base",
      "_model_module_version": "1.2.0",
      "_model_name": "LayoutModel",
      "_view_count": null,
      "_view_module": "@jupyter-widgets/base",
      "_view_module_version": "1.2.0",
      "_view_name": "LayoutView",
      "align_content": null,
      "align_items": null,
      "align_self": null,
      "border": null,
      "bottom": null,
      "display": null,
      "flex": null,
      "flex_flow": null,
      "grid_area": null,
      "grid_auto_columns": null,
      "grid_auto_flow": null,
      "grid_auto_rows": null,
      "grid_column": null,
      "grid_gap": null,
      "grid_row": null,
      "grid_template_areas": null,
      "grid_template_columns": null,
      "grid_template_rows": null,
      "height": null,
      "justify_content": null,
      "justify_items": null,
      "left": null,
      "margin": null,
      "max_height": null,
      "max_width": null,
      "min_height": null,
      "min_width": null,
      "object_fit": null,
      "object_position": null,
      "order": null,
      "overflow": null,
      "overflow_x": null,
      "overflow_y": null,
      "padding": null,
      "right": null,
      "top": null,
      "visibility": null,
      "width": null
     }
    },
    "0678042786514ef681aca972030a818e": {
     "model_module": "@jupyter-widgets/controls",
     "model_module_version": "1.5.0",
     "model_name": "HTMLModel",
     "state": {
      "_dom_classes": [],
      "_model_module": "@jupyter-widgets/controls",
      "_model_module_version": "1.5.0",
      "_model_name": "HTMLModel",
      "_view_count": null,
      "_view_module": "@jupyter-widgets/controls",
      "_view_module_version": "1.5.0",
      "_view_name": "HTMLView",
      "description": "",
      "description_tooltip": null,
      "layout": "IPY_MODEL_d65701d080da4bd7adff7949b3f7c50a",
      "placeholder": "​",
      "style": "IPY_MODEL_e31e04c5bbae4adb90034b9427fa456e",
      "value": "epoch 8: 100%"
     }
    },
    "0859e131aaf94726a703d5475570553e": {
     "model_module": "@jupyter-widgets/base",
     "model_module_version": "1.2.0",
     "model_name": "LayoutModel",
     "state": {
      "_model_module": "@jupyter-widgets/base",
      "_model_module_version": "1.2.0",
      "_model_name": "LayoutModel",
      "_view_count": null,
      "_view_module": "@jupyter-widgets/base",
      "_view_module_version": "1.2.0",
      "_view_name": "LayoutView",
      "align_content": null,
      "align_items": null,
      "align_self": null,
      "border": null,
      "bottom": null,
      "display": null,
      "flex": null,
      "flex_flow": null,
      "grid_area": null,
      "grid_auto_columns": null,
      "grid_auto_flow": null,
      "grid_auto_rows": null,
      "grid_column": null,
      "grid_gap": null,
      "grid_row": null,
      "grid_template_areas": null,
      "grid_template_columns": null,
      "grid_template_rows": null,
      "height": null,
      "justify_content": null,
      "justify_items": null,
      "left": null,
      "margin": null,
      "max_height": null,
      "max_width": null,
      "min_height": null,
      "min_width": null,
      "object_fit": null,
      "object_position": null,
      "order": null,
      "overflow": null,
      "overflow_x": null,
      "overflow_y": null,
      "padding": null,
      "right": null,
      "top": null,
      "visibility": null,
      "width": null
     }
    },
    "095290baaeb349ae897dcde389f72822": {
     "model_module": "@jupyter-widgets/controls",
     "model_module_version": "1.5.0",
     "model_name": "HBoxModel",
     "state": {
      "_dom_classes": [],
      "_model_module": "@jupyter-widgets/controls",
      "_model_module_version": "1.5.0",
      "_model_name": "HBoxModel",
      "_view_count": null,
      "_view_module": "@jupyter-widgets/controls",
      "_view_module_version": "1.5.0",
      "_view_name": "HBoxView",
      "box_style": "",
      "children": [
       "IPY_MODEL_0678042786514ef681aca972030a818e",
       "IPY_MODEL_66ee161a328e48fc812352db46e4fa0e",
       "IPY_MODEL_b98a63e1ca8e426db560d4bd231a9003"
      ],
      "layout": "IPY_MODEL_8c71fadf09cb4fe8bec28d4d6e823ce5"
     }
    },
    "096f75b2281f48a5a8b93baab9fbefe5": {
     "model_module": "@jupyter-widgets/controls",
     "model_module_version": "1.5.0",
     "model_name": "ProgressStyleModel",
     "state": {
      "_model_module": "@jupyter-widgets/controls",
      "_model_module_version": "1.5.0",
      "_model_name": "ProgressStyleModel",
      "_view_count": null,
      "_view_module": "@jupyter-widgets/base",
      "_view_module_version": "1.2.0",
      "_view_name": "StyleView",
      "bar_color": null,
      "description_width": ""
     }
    },
    "0a1aef1feaf542a6b40795467ceb1bbf": {
     "model_module": "@jupyter-widgets/base",
     "model_module_version": "1.2.0",
     "model_name": "LayoutModel",
     "state": {
      "_model_module": "@jupyter-widgets/base",
      "_model_module_version": "1.2.0",
      "_model_name": "LayoutModel",
      "_view_count": null,
      "_view_module": "@jupyter-widgets/base",
      "_view_module_version": "1.2.0",
      "_view_name": "LayoutView",
      "align_content": null,
      "align_items": null,
      "align_self": null,
      "border": null,
      "bottom": null,
      "display": null,
      "flex": null,
      "flex_flow": null,
      "grid_area": null,
      "grid_auto_columns": null,
      "grid_auto_flow": null,
      "grid_auto_rows": null,
      "grid_column": null,
      "grid_gap": null,
      "grid_row": null,
      "grid_template_areas": null,
      "grid_template_columns": null,
      "grid_template_rows": null,
      "height": null,
      "justify_content": null,
      "justify_items": null,
      "left": null,
      "margin": null,
      "max_height": null,
      "max_width": null,
      "min_height": null,
      "min_width": null,
      "object_fit": null,
      "object_position": null,
      "order": null,
      "overflow": null,
      "overflow_x": null,
      "overflow_y": null,
      "padding": null,
      "right": null,
      "top": null,
      "visibility": null,
      "width": null
     }
    },
    "0cc1fbc5c9c74fe194cabc21abc62832": {
     "model_module": "@jupyter-widgets/controls",
     "model_module_version": "1.5.0",
     "model_name": "HTMLModel",
     "state": {
      "_dom_classes": [],
      "_model_module": "@jupyter-widgets/controls",
      "_model_module_version": "1.5.0",
      "_model_name": "HTMLModel",
      "_view_count": null,
      "_view_module": "@jupyter-widgets/controls",
      "_view_module_version": "1.5.0",
      "_view_name": "HTMLView",
      "description": "",
      "description_tooltip": null,
      "layout": "IPY_MODEL_71def09a34824a359deba179333e620f",
      "placeholder": "​",
      "style": "IPY_MODEL_7ff896a53960483aa10e223bb4cf0c62",
      "value": "epoch 4: 100%"
     }
    },
    "0cdabc2684944a3f9d2784fdd9411250": {
     "model_module": "@jupyter-widgets/controls",
     "model_module_version": "1.5.0",
     "model_name": "FloatProgressModel",
     "state": {
      "_dom_classes": [],
      "_model_module": "@jupyter-widgets/controls",
      "_model_module_version": "1.5.0",
      "_model_name": "FloatProgressModel",
      "_view_count": null,
      "_view_module": "@jupyter-widgets/controls",
      "_view_module_version": "1.5.0",
      "_view_name": "ProgressView",
      "bar_style": "success",
      "description": "",
      "description_tooltip": null,
      "layout": "IPY_MODEL_1cc42fc4a3104da1b10e4570d6d84853",
      "max": 830,
      "min": 0,
      "orientation": "horizontal",
      "style": "IPY_MODEL_8efa804521214002aa4232df02806eda",
      "value": 830
     }
    },
    "0d82f4ca909c456b97fe8a3e7a0e367a": {
     "model_module": "@jupyter-widgets/controls",
     "model_module_version": "1.5.0",
     "model_name": "DescriptionStyleModel",
     "state": {
      "_model_module": "@jupyter-widgets/controls",
      "_model_module_version": "1.5.0",
      "_model_name": "DescriptionStyleModel",
      "_view_count": null,
      "_view_module": "@jupyter-widgets/base",
      "_view_module_version": "1.2.0",
      "_view_name": "StyleView",
      "description_width": ""
     }
    },
    "0f06fc3e1dfe47d29c74d1d1c0b124af": {
     "model_module": "@jupyter-widgets/base",
     "model_module_version": "1.2.0",
     "model_name": "LayoutModel",
     "state": {
      "_model_module": "@jupyter-widgets/base",
      "_model_module_version": "1.2.0",
      "_model_name": "LayoutModel",
      "_view_count": null,
      "_view_module": "@jupyter-widgets/base",
      "_view_module_version": "1.2.0",
      "_view_name": "LayoutView",
      "align_content": null,
      "align_items": null,
      "align_self": null,
      "border": null,
      "bottom": null,
      "display": null,
      "flex": null,
      "flex_flow": null,
      "grid_area": null,
      "grid_auto_columns": null,
      "grid_auto_flow": null,
      "grid_auto_rows": null,
      "grid_column": null,
      "grid_gap": null,
      "grid_row": null,
      "grid_template_areas": null,
      "grid_template_columns": null,
      "grid_template_rows": null,
      "height": null,
      "justify_content": null,
      "justify_items": null,
      "left": null,
      "margin": null,
      "max_height": null,
      "max_width": null,
      "min_height": null,
      "min_width": null,
      "object_fit": null,
      "object_position": null,
      "order": null,
      "overflow": null,
      "overflow_x": null,
      "overflow_y": null,
      "padding": null,
      "right": null,
      "top": null,
      "visibility": null,
      "width": null
     }
    },
    "1218d36465ea47658cd8b15a059e7284": {
     "model_module": "@jupyter-widgets/base",
     "model_module_version": "1.2.0",
     "model_name": "LayoutModel",
     "state": {
      "_model_module": "@jupyter-widgets/base",
      "_model_module_version": "1.2.0",
      "_model_name": "LayoutModel",
      "_view_count": null,
      "_view_module": "@jupyter-widgets/base",
      "_view_module_version": "1.2.0",
      "_view_name": "LayoutView",
      "align_content": null,
      "align_items": null,
      "align_self": null,
      "border": null,
      "bottom": null,
      "display": null,
      "flex": null,
      "flex_flow": null,
      "grid_area": null,
      "grid_auto_columns": null,
      "grid_auto_flow": null,
      "grid_auto_rows": null,
      "grid_column": null,
      "grid_gap": null,
      "grid_row": null,
      "grid_template_areas": null,
      "grid_template_columns": null,
      "grid_template_rows": null,
      "height": null,
      "justify_content": null,
      "justify_items": null,
      "left": null,
      "margin": null,
      "max_height": null,
      "max_width": null,
      "min_height": null,
      "min_width": null,
      "object_fit": null,
      "object_position": null,
      "order": null,
      "overflow": null,
      "overflow_x": null,
      "overflow_y": null,
      "padding": null,
      "right": null,
      "top": null,
      "visibility": null,
      "width": null
     }
    },
    "12331af41b714fda8746d2699c12fab1": {
     "model_module": "@jupyter-widgets/controls",
     "model_module_version": "1.5.0",
     "model_name": "DescriptionStyleModel",
     "state": {
      "_model_module": "@jupyter-widgets/controls",
      "_model_module_version": "1.5.0",
      "_model_name": "DescriptionStyleModel",
      "_view_count": null,
      "_view_module": "@jupyter-widgets/base",
      "_view_module_version": "1.2.0",
      "_view_name": "StyleView",
      "description_width": ""
     }
    },
    "1253aac82d4e4f3cb30c5aa36227fb68": {
     "model_module": "@jupyter-widgets/base",
     "model_module_version": "1.2.0",
     "model_name": "LayoutModel",
     "state": {
      "_model_module": "@jupyter-widgets/base",
      "_model_module_version": "1.2.0",
      "_model_name": "LayoutModel",
      "_view_count": null,
      "_view_module": "@jupyter-widgets/base",
      "_view_module_version": "1.2.0",
      "_view_name": "LayoutView",
      "align_content": null,
      "align_items": null,
      "align_self": null,
      "border": null,
      "bottom": null,
      "display": null,
      "flex": null,
      "flex_flow": null,
      "grid_area": null,
      "grid_auto_columns": null,
      "grid_auto_flow": null,
      "grid_auto_rows": null,
      "grid_column": null,
      "grid_gap": null,
      "grid_row": null,
      "grid_template_areas": null,
      "grid_template_columns": null,
      "grid_template_rows": null,
      "height": null,
      "justify_content": null,
      "justify_items": null,
      "left": null,
      "margin": null,
      "max_height": null,
      "max_width": null,
      "min_height": null,
      "min_width": null,
      "object_fit": null,
      "object_position": null,
      "order": null,
      "overflow": null,
      "overflow_x": null,
      "overflow_y": null,
      "padding": null,
      "right": null,
      "top": null,
      "visibility": null,
      "width": null
     }
    },
    "17749af572b84cd2b759c6fe1342d545": {
     "model_module": "@jupyter-widgets/controls",
     "model_module_version": "1.5.0",
     "model_name": "FloatProgressModel",
     "state": {
      "_dom_classes": [],
      "_model_module": "@jupyter-widgets/controls",
      "_model_module_version": "1.5.0",
      "_model_name": "FloatProgressModel",
      "_view_count": null,
      "_view_module": "@jupyter-widgets/controls",
      "_view_module_version": "1.5.0",
      "_view_name": "ProgressView",
      "bar_style": "success",
      "description": "",
      "description_tooltip": null,
      "layout": "IPY_MODEL_920e3e52fa95440a91bedb420d4ffc21",
      "max": 6,
      "min": 0,
      "orientation": "horizontal",
      "style": "IPY_MODEL_51e3e303894841b7b1add9d7c0b3834d",
      "value": 6
     }
    },
    "17bb29b88d84442fb0b62e989bdf11ba": {
     "model_module": "@jupyter-widgets/controls",
     "model_module_version": "1.5.0",
     "model_name": "HTMLModel",
     "state": {
      "_dom_classes": [],
      "_model_module": "@jupyter-widgets/controls",
      "_model_module_version": "1.5.0",
      "_model_name": "HTMLModel",
      "_view_count": null,
      "_view_module": "@jupyter-widgets/controls",
      "_view_module_version": "1.5.0",
      "_view_name": "HTMLView",
      "description": "",
      "description_tooltip": null,
      "layout": "IPY_MODEL_bdad67f19a7b42dd83d3bd7ced9aa3bb",
      "placeholder": "​",
      "style": "IPY_MODEL_41d37a1d42294ea480e6c8df14cc9220",
      "value": " 830/830 [01:56&lt;00:00,  7.58batch/s, current_loss=2.4, mean_loss=2.71]"
     }
    },
    "19a3993788e0448cb7ecdf82c3472abf": {
     "model_module": "@jupyter-widgets/base",
     "model_module_version": "1.2.0",
     "model_name": "LayoutModel",
     "state": {
      "_model_module": "@jupyter-widgets/base",
      "_model_module_version": "1.2.0",
      "_model_name": "LayoutModel",
      "_view_count": null,
      "_view_module": "@jupyter-widgets/base",
      "_view_module_version": "1.2.0",
      "_view_name": "LayoutView",
      "align_content": null,
      "align_items": null,
      "align_self": null,
      "border": null,
      "bottom": null,
      "display": null,
      "flex": null,
      "flex_flow": null,
      "grid_area": null,
      "grid_auto_columns": null,
      "grid_auto_flow": null,
      "grid_auto_rows": null,
      "grid_column": null,
      "grid_gap": null,
      "grid_row": null,
      "grid_template_areas": null,
      "grid_template_columns": null,
      "grid_template_rows": null,
      "height": null,
      "justify_content": null,
      "justify_items": null,
      "left": null,
      "margin": null,
      "max_height": null,
      "max_width": null,
      "min_height": null,
      "min_width": null,
      "object_fit": null,
      "object_position": null,
      "order": null,
      "overflow": null,
      "overflow_x": null,
      "overflow_y": null,
      "padding": null,
      "right": null,
      "top": null,
      "visibility": null,
      "width": null
     }
    },
    "1a778731bd6e4c21a775e9d46ef5c7c6": {
     "model_module": "@jupyter-widgets/base",
     "model_module_version": "1.2.0",
     "model_name": "LayoutModel",
     "state": {
      "_model_module": "@jupyter-widgets/base",
      "_model_module_version": "1.2.0",
      "_model_name": "LayoutModel",
      "_view_count": null,
      "_view_module": "@jupyter-widgets/base",
      "_view_module_version": "1.2.0",
      "_view_name": "LayoutView",
      "align_content": null,
      "align_items": null,
      "align_self": null,
      "border": null,
      "bottom": null,
      "display": null,
      "flex": null,
      "flex_flow": null,
      "grid_area": null,
      "grid_auto_columns": null,
      "grid_auto_flow": null,
      "grid_auto_rows": null,
      "grid_column": null,
      "grid_gap": null,
      "grid_row": null,
      "grid_template_areas": null,
      "grid_template_columns": null,
      "grid_template_rows": null,
      "height": null,
      "justify_content": null,
      "justify_items": null,
      "left": null,
      "margin": null,
      "max_height": null,
      "max_width": null,
      "min_height": null,
      "min_width": null,
      "object_fit": null,
      "object_position": null,
      "order": null,
      "overflow": null,
      "overflow_x": null,
      "overflow_y": null,
      "padding": null,
      "right": null,
      "top": null,
      "visibility": null,
      "width": null
     }
    },
    "1afa44aabf25493999403492b920722e": {
     "model_module": "@jupyter-widgets/controls",
     "model_module_version": "1.5.0",
     "model_name": "HTMLModel",
     "state": {
      "_dom_classes": [],
      "_model_module": "@jupyter-widgets/controls",
      "_model_module_version": "1.5.0",
      "_model_name": "HTMLModel",
      "_view_count": null,
      "_view_module": "@jupyter-widgets/controls",
      "_view_module_version": "1.5.0",
      "_view_name": "HTMLView",
      "description": "",
      "description_tooltip": null,
      "layout": "IPY_MODEL_b15d2348b22d4704ae96fe07143554d3",
      "placeholder": "​",
      "style": "IPY_MODEL_f59c045b89814fe298c99cd3b91850e1",
      "value": " 830/830 [01:56&lt;00:00,  7.49batch/s, current_loss=2.49, mean_loss=2.27]"
     }
    },
    "1bdc4fe0608343aeb6dd302bc923823e": {
     "model_module": "@jupyter-widgets/base",
     "model_module_version": "1.2.0",
     "model_name": "LayoutModel",
     "state": {
      "_model_module": "@jupyter-widgets/base",
      "_model_module_version": "1.2.0",
      "_model_name": "LayoutModel",
      "_view_count": null,
      "_view_module": "@jupyter-widgets/base",
      "_view_module_version": "1.2.0",
      "_view_name": "LayoutView",
      "align_content": null,
      "align_items": null,
      "align_self": null,
      "border": null,
      "bottom": null,
      "display": null,
      "flex": null,
      "flex_flow": null,
      "grid_area": null,
      "grid_auto_columns": null,
      "grid_auto_flow": null,
      "grid_auto_rows": null,
      "grid_column": null,
      "grid_gap": null,
      "grid_row": null,
      "grid_template_areas": null,
      "grid_template_columns": null,
      "grid_template_rows": null,
      "height": null,
      "justify_content": null,
      "justify_items": null,
      "left": null,
      "margin": null,
      "max_height": null,
      "max_width": null,
      "min_height": null,
      "min_width": null,
      "object_fit": null,
      "object_position": null,
      "order": null,
      "overflow": null,
      "overflow_x": null,
      "overflow_y": null,
      "padding": null,
      "right": null,
      "top": null,
      "visibility": null,
      "width": null
     }
    },
    "1cc42fc4a3104da1b10e4570d6d84853": {
     "model_module": "@jupyter-widgets/base",
     "model_module_version": "1.2.0",
     "model_name": "LayoutModel",
     "state": {
      "_model_module": "@jupyter-widgets/base",
      "_model_module_version": "1.2.0",
      "_model_name": "LayoutModel",
      "_view_count": null,
      "_view_module": "@jupyter-widgets/base",
      "_view_module_version": "1.2.0",
      "_view_name": "LayoutView",
      "align_content": null,
      "align_items": null,
      "align_self": null,
      "border": null,
      "bottom": null,
      "display": null,
      "flex": null,
      "flex_flow": null,
      "grid_area": null,
      "grid_auto_columns": null,
      "grid_auto_flow": null,
      "grid_auto_rows": null,
      "grid_column": null,
      "grid_gap": null,
      "grid_row": null,
      "grid_template_areas": null,
      "grid_template_columns": null,
      "grid_template_rows": null,
      "height": null,
      "justify_content": null,
      "justify_items": null,
      "left": null,
      "margin": null,
      "max_height": null,
      "max_width": null,
      "min_height": null,
      "min_width": null,
      "object_fit": null,
      "object_position": null,
      "order": null,
      "overflow": null,
      "overflow_x": null,
      "overflow_y": null,
      "padding": null,
      "right": null,
      "top": null,
      "visibility": null,
      "width": null
     }
    },
    "1e0d7659304841b08ea1c7517b2f024f": {
     "model_module": "@jupyter-widgets/controls",
     "model_module_version": "1.5.0",
     "model_name": "HBoxModel",
     "state": {
      "_dom_classes": [],
      "_model_module": "@jupyter-widgets/controls",
      "_model_module_version": "1.5.0",
      "_model_name": "HBoxModel",
      "_view_count": null,
      "_view_module": "@jupyter-widgets/controls",
      "_view_module_version": "1.5.0",
      "_view_name": "HBoxView",
      "box_style": "",
      "children": [
       "IPY_MODEL_30f2055b96a94f03b78b458a5626fa9a",
       "IPY_MODEL_ae2c76a608c7428bb57e8f07b9ff73bf",
       "IPY_MODEL_7bb50b640c864b2faab6d1e9abcb12ae"
      ],
      "layout": "IPY_MODEL_ff9eb05d6dbc4b6b86a92f1651ba6216"
     }
    },
    "1fcbb081a7934a438e746574e4cbe093": {
     "model_module": "@jupyter-widgets/controls",
     "model_module_version": "1.5.0",
     "model_name": "DescriptionStyleModel",
     "state": {
      "_model_module": "@jupyter-widgets/controls",
      "_model_module_version": "1.5.0",
      "_model_name": "DescriptionStyleModel",
      "_view_count": null,
      "_view_module": "@jupyter-widgets/base",
      "_view_module_version": "1.2.0",
      "_view_name": "StyleView",
      "description_width": ""
     }
    },
    "20a59e3b20064c6194c273c174efd895": {
     "model_module": "@jupyter-widgets/controls",
     "model_module_version": "1.5.0",
     "model_name": "ProgressStyleModel",
     "state": {
      "_model_module": "@jupyter-widgets/controls",
      "_model_module_version": "1.5.0",
      "_model_name": "ProgressStyleModel",
      "_view_count": null,
      "_view_module": "@jupyter-widgets/base",
      "_view_module_version": "1.2.0",
      "_view_name": "StyleView",
      "bar_color": null,
      "description_width": ""
     }
    },
    "210a39960c9c4e7db424a02c3a2b0c68": {
     "model_module": "@jupyter-widgets/controls",
     "model_module_version": "1.5.0",
     "model_name": "HTMLModel",
     "state": {
      "_dom_classes": [],
      "_model_module": "@jupyter-widgets/controls",
      "_model_module_version": "1.5.0",
      "_model_name": "HTMLModel",
      "_view_count": null,
      "_view_module": "@jupyter-widgets/controls",
      "_view_module_version": "1.5.0",
      "_view_name": "HTMLView",
      "description": "",
      "description_tooltip": null,
      "layout": "IPY_MODEL_584b2575f71142d6b2947ae2ceba76ab",
      "placeholder": "​",
      "style": "IPY_MODEL_0d82f4ca909c456b97fe8a3e7a0e367a",
      "value": "epoch 3: 100%"
     }
    },
    "21720aeefd2d44daaf73911b28167afc": {
     "model_module": "@jupyter-widgets/base",
     "model_module_version": "1.2.0",
     "model_name": "LayoutModel",
     "state": {
      "_model_module": "@jupyter-widgets/base",
      "_model_module_version": "1.2.0",
      "_model_name": "LayoutModel",
      "_view_count": null,
      "_view_module": "@jupyter-widgets/base",
      "_view_module_version": "1.2.0",
      "_view_name": "LayoutView",
      "align_content": null,
      "align_items": null,
      "align_self": null,
      "border": null,
      "bottom": null,
      "display": null,
      "flex": null,
      "flex_flow": null,
      "grid_area": null,
      "grid_auto_columns": null,
      "grid_auto_flow": null,
      "grid_auto_rows": null,
      "grid_column": null,
      "grid_gap": null,
      "grid_row": null,
      "grid_template_areas": null,
      "grid_template_columns": null,
      "grid_template_rows": null,
      "height": null,
      "justify_content": null,
      "justify_items": null,
      "left": null,
      "margin": null,
      "max_height": null,
      "max_width": null,
      "min_height": null,
      "min_width": null,
      "object_fit": null,
      "object_position": null,
      "order": null,
      "overflow": null,
      "overflow_x": null,
      "overflow_y": null,
      "padding": null,
      "right": null,
      "top": null,
      "visibility": null,
      "width": null
     }
    },
    "2260323b01b748c1b8cb76280b9e8a60": {
     "model_module": "@jupyter-widgets/controls",
     "model_module_version": "1.5.0",
     "model_name": "DescriptionStyleModel",
     "state": {
      "_model_module": "@jupyter-widgets/controls",
      "_model_module_version": "1.5.0",
      "_model_name": "DescriptionStyleModel",
      "_view_count": null,
      "_view_module": "@jupyter-widgets/base",
      "_view_module_version": "1.2.0",
      "_view_name": "StyleView",
      "description_width": ""
     }
    },
    "24778979a71149538fbe25ea3292e26a": {
     "model_module": "@jupyter-widgets/controls",
     "model_module_version": "1.5.0",
     "model_name": "DescriptionStyleModel",
     "state": {
      "_model_module": "@jupyter-widgets/controls",
      "_model_module_version": "1.5.0",
      "_model_name": "DescriptionStyleModel",
      "_view_count": null,
      "_view_module": "@jupyter-widgets/base",
      "_view_module_version": "1.2.0",
      "_view_name": "StyleView",
      "description_width": ""
     }
    },
    "24e01fe3d0f24748905b414a42f5bff8": {
     "model_module": "@jupyter-widgets/controls",
     "model_module_version": "1.5.0",
     "model_name": "HTMLModel",
     "state": {
      "_dom_classes": [],
      "_model_module": "@jupyter-widgets/controls",
      "_model_module_version": "1.5.0",
      "_model_name": "HTMLModel",
      "_view_count": null,
      "_view_module": "@jupyter-widgets/controls",
      "_view_module_version": "1.5.0",
      "_view_name": "HTMLView",
      "description": "",
      "description_tooltip": null,
      "layout": "IPY_MODEL_8a536efdbf7e450d9b64997e734293ac",
      "placeholder": "​",
      "style": "IPY_MODEL_3835afc821df425285f7ce4018e5628d",
      "value": "epoch 2: 100%"
     }
    },
    "26737c169f4e45da853fcc7b333eb888": {
     "model_module": "@jupyter-widgets/controls",
     "model_module_version": "1.5.0",
     "model_name": "DescriptionStyleModel",
     "state": {
      "_model_module": "@jupyter-widgets/controls",
      "_model_module_version": "1.5.0",
      "_model_name": "DescriptionStyleModel",
      "_view_count": null,
      "_view_module": "@jupyter-widgets/base",
      "_view_module_version": "1.2.0",
      "_view_name": "StyleView",
      "description_width": ""
     }
    },
    "26f8e1926f1e42bfaf2ab3c4a246f277": {
     "model_module": "@jupyter-widgets/controls",
     "model_module_version": "1.5.0",
     "model_name": "ProgressStyleModel",
     "state": {
      "_model_module": "@jupyter-widgets/controls",
      "_model_module_version": "1.5.0",
      "_model_name": "ProgressStyleModel",
      "_view_count": null,
      "_view_module": "@jupyter-widgets/base",
      "_view_module_version": "1.2.0",
      "_view_name": "StyleView",
      "bar_color": null,
      "description_width": ""
     }
    },
    "2715da33b1a74a3e94f64be205a561a2": {
     "model_module": "@jupyter-widgets/controls",
     "model_module_version": "1.5.0",
     "model_name": "ProgressStyleModel",
     "state": {
      "_model_module": "@jupyter-widgets/controls",
      "_model_module_version": "1.5.0",
      "_model_name": "ProgressStyleModel",
      "_view_count": null,
      "_view_module": "@jupyter-widgets/base",
      "_view_module_version": "1.2.0",
      "_view_name": "StyleView",
      "bar_color": null,
      "description_width": ""
     }
    },
    "274a07bd39594d84a2f97d503da712db": {
     "model_module": "@jupyter-widgets/controls",
     "model_module_version": "1.5.0",
     "model_name": "DescriptionStyleModel",
     "state": {
      "_model_module": "@jupyter-widgets/controls",
      "_model_module_version": "1.5.0",
      "_model_name": "DescriptionStyleModel",
      "_view_count": null,
      "_view_module": "@jupyter-widgets/base",
      "_view_module_version": "1.2.0",
      "_view_name": "StyleView",
      "description_width": ""
     }
    },
    "283d4f6019e945c5b565abc21468bb59": {
     "model_module": "@jupyter-widgets/controls",
     "model_module_version": "1.5.0",
     "model_name": "FloatProgressModel",
     "state": {
      "_dom_classes": [],
      "_model_module": "@jupyter-widgets/controls",
      "_model_module_version": "1.5.0",
      "_model_name": "FloatProgressModel",
      "_view_count": null,
      "_view_module": "@jupyter-widgets/controls",
      "_view_module_version": "1.5.0",
      "_view_name": "ProgressView",
      "bar_style": "success",
      "description": "",
      "description_tooltip": null,
      "layout": "IPY_MODEL_7cfc9641ae524428a77d6f181a63941c",
      "max": 830,
      "min": 0,
      "orientation": "horizontal",
      "style": "IPY_MODEL_d6706e48c674433cbfbcf0f1c73ceaaf",
      "value": 830
     }
    },
    "2c19bd41434b4c3991b2269b8ff90c54": {
     "model_module": "@jupyter-widgets/controls",
     "model_module_version": "1.5.0",
     "model_name": "HTMLModel",
     "state": {
      "_dom_classes": [],
      "_model_module": "@jupyter-widgets/controls",
      "_model_module_version": "1.5.0",
      "_model_name": "HTMLModel",
      "_view_count": null,
      "_view_module": "@jupyter-widgets/controls",
      "_view_module_version": "1.5.0",
      "_view_name": "HTMLView",
      "description": "",
      "description_tooltip": null,
      "layout": "IPY_MODEL_1a778731bd6e4c21a775e9d46ef5c7c6",
      "placeholder": "​",
      "style": "IPY_MODEL_78ecec4997d14b699cf7dde5f639598f",
      "value": " 830/830 [01:56&lt;00:00,  7.20batch/s, current_loss=2.61, mean_loss=2.54]"
     }
    },
    "2c6d7d817b6b4e7ab358b2b92345e3ca": {
     "model_module": "@jupyter-widgets/controls",
     "model_module_version": "1.5.0",
     "model_name": "DescriptionStyleModel",
     "state": {
      "_model_module": "@jupyter-widgets/controls",
      "_model_module_version": "1.5.0",
      "_model_name": "DescriptionStyleModel",
      "_view_count": null,
      "_view_module": "@jupyter-widgets/base",
      "_view_module_version": "1.2.0",
      "_view_name": "StyleView",
      "description_width": ""
     }
    },
    "2c6e3410e8b6438f9a0f7b204478d988": {
     "model_module": "@jupyter-widgets/base",
     "model_module_version": "1.2.0",
     "model_name": "LayoutModel",
     "state": {
      "_model_module": "@jupyter-widgets/base",
      "_model_module_version": "1.2.0",
      "_model_name": "LayoutModel",
      "_view_count": null,
      "_view_module": "@jupyter-widgets/base",
      "_view_module_version": "1.2.0",
      "_view_name": "LayoutView",
      "align_content": null,
      "align_items": null,
      "align_self": null,
      "border": null,
      "bottom": null,
      "display": null,
      "flex": null,
      "flex_flow": null,
      "grid_area": null,
      "grid_auto_columns": null,
      "grid_auto_flow": null,
      "grid_auto_rows": null,
      "grid_column": null,
      "grid_gap": null,
      "grid_row": null,
      "grid_template_areas": null,
      "grid_template_columns": null,
      "grid_template_rows": null,
      "height": null,
      "justify_content": null,
      "justify_items": null,
      "left": null,
      "margin": null,
      "max_height": null,
      "max_width": null,
      "min_height": null,
      "min_width": null,
      "object_fit": null,
      "object_position": null,
      "order": null,
      "overflow": null,
      "overflow_x": null,
      "overflow_y": null,
      "padding": null,
      "right": null,
      "top": null,
      "visibility": null,
      "width": null
     }
    },
    "2e31e9bc67bd4f9185d9a6dc7355a606": {
     "model_module": "@jupyter-widgets/base",
     "model_module_version": "1.2.0",
     "model_name": "LayoutModel",
     "state": {
      "_model_module": "@jupyter-widgets/base",
      "_model_module_version": "1.2.0",
      "_model_name": "LayoutModel",
      "_view_count": null,
      "_view_module": "@jupyter-widgets/base",
      "_view_module_version": "1.2.0",
      "_view_name": "LayoutView",
      "align_content": null,
      "align_items": null,
      "align_self": null,
      "border": null,
      "bottom": null,
      "display": null,
      "flex": null,
      "flex_flow": null,
      "grid_area": null,
      "grid_auto_columns": null,
      "grid_auto_flow": null,
      "grid_auto_rows": null,
      "grid_column": null,
      "grid_gap": null,
      "grid_row": null,
      "grid_template_areas": null,
      "grid_template_columns": null,
      "grid_template_rows": null,
      "height": null,
      "justify_content": null,
      "justify_items": null,
      "left": null,
      "margin": null,
      "max_height": null,
      "max_width": null,
      "min_height": null,
      "min_width": null,
      "object_fit": null,
      "object_position": null,
      "order": null,
      "overflow": null,
      "overflow_x": null,
      "overflow_y": null,
      "padding": null,
      "right": null,
      "top": null,
      "visibility": null,
      "width": null
     }
    },
    "2e67188b01d54dc1a6b79d2ab13d4c61": {
     "model_module": "@jupyter-widgets/base",
     "model_module_version": "1.2.0",
     "model_name": "LayoutModel",
     "state": {
      "_model_module": "@jupyter-widgets/base",
      "_model_module_version": "1.2.0",
      "_model_name": "LayoutModel",
      "_view_count": null,
      "_view_module": "@jupyter-widgets/base",
      "_view_module_version": "1.2.0",
      "_view_name": "LayoutView",
      "align_content": null,
      "align_items": null,
      "align_self": null,
      "border": null,
      "bottom": null,
      "display": null,
      "flex": null,
      "flex_flow": null,
      "grid_area": null,
      "grid_auto_columns": null,
      "grid_auto_flow": null,
      "grid_auto_rows": null,
      "grid_column": null,
      "grid_gap": null,
      "grid_row": null,
      "grid_template_areas": null,
      "grid_template_columns": null,
      "grid_template_rows": null,
      "height": null,
      "justify_content": null,
      "justify_items": null,
      "left": null,
      "margin": null,
      "max_height": null,
      "max_width": null,
      "min_height": null,
      "min_width": null,
      "object_fit": null,
      "object_position": null,
      "order": null,
      "overflow": null,
      "overflow_x": null,
      "overflow_y": null,
      "padding": null,
      "right": null,
      "top": null,
      "visibility": null,
      "width": null
     }
    },
    "2f3449e71c2a46abadd2d7fdd773da4c": {
     "model_module": "@jupyter-widgets/base",
     "model_module_version": "1.2.0",
     "model_name": "LayoutModel",
     "state": {
      "_model_module": "@jupyter-widgets/base",
      "_model_module_version": "1.2.0",
      "_model_name": "LayoutModel",
      "_view_count": null,
      "_view_module": "@jupyter-widgets/base",
      "_view_module_version": "1.2.0",
      "_view_name": "LayoutView",
      "align_content": null,
      "align_items": null,
      "align_self": null,
      "border": null,
      "bottom": null,
      "display": null,
      "flex": null,
      "flex_flow": null,
      "grid_area": null,
      "grid_auto_columns": null,
      "grid_auto_flow": null,
      "grid_auto_rows": null,
      "grid_column": null,
      "grid_gap": null,
      "grid_row": null,
      "grid_template_areas": null,
      "grid_template_columns": null,
      "grid_template_rows": null,
      "height": null,
      "justify_content": null,
      "justify_items": null,
      "left": null,
      "margin": null,
      "max_height": null,
      "max_width": null,
      "min_height": null,
      "min_width": null,
      "object_fit": null,
      "object_position": null,
      "order": null,
      "overflow": null,
      "overflow_x": null,
      "overflow_y": null,
      "padding": null,
      "right": null,
      "top": null,
      "visibility": null,
      "width": null
     }
    },
    "30f2055b96a94f03b78b458a5626fa9a": {
     "model_module": "@jupyter-widgets/controls",
     "model_module_version": "1.5.0",
     "model_name": "HTMLModel",
     "state": {
      "_dom_classes": [],
      "_model_module": "@jupyter-widgets/controls",
      "_model_module_version": "1.5.0",
      "_model_name": "HTMLModel",
      "_view_count": null,
      "_view_module": "@jupyter-widgets/controls",
      "_view_module_version": "1.5.0",
      "_view_name": "HTMLView",
      "description": "",
      "description_tooltip": null,
      "layout": "IPY_MODEL_19a3993788e0448cb7ecdf82c3472abf",
      "placeholder": "​",
      "style": "IPY_MODEL_c9181900c17c44d2a5dfc123e9058ae8",
      "value": "epoch 2: 100%"
     }
    },
    "32cdde9f69194e379aa9fb52c846153b": {
     "model_module": "@jupyter-widgets/base",
     "model_module_version": "1.2.0",
     "model_name": "LayoutModel",
     "state": {
      "_model_module": "@jupyter-widgets/base",
      "_model_module_version": "1.2.0",
      "_model_name": "LayoutModel",
      "_view_count": null,
      "_view_module": "@jupyter-widgets/base",
      "_view_module_version": "1.2.0",
      "_view_name": "LayoutView",
      "align_content": null,
      "align_items": null,
      "align_self": null,
      "border": null,
      "bottom": null,
      "display": null,
      "flex": null,
      "flex_flow": null,
      "grid_area": null,
      "grid_auto_columns": null,
      "grid_auto_flow": null,
      "grid_auto_rows": null,
      "grid_column": null,
      "grid_gap": null,
      "grid_row": null,
      "grid_template_areas": null,
      "grid_template_columns": null,
      "grid_template_rows": null,
      "height": null,
      "justify_content": null,
      "justify_items": null,
      "left": null,
      "margin": null,
      "max_height": null,
      "max_width": null,
      "min_height": null,
      "min_width": null,
      "object_fit": null,
      "object_position": null,
      "order": null,
      "overflow": null,
      "overflow_x": null,
      "overflow_y": null,
      "padding": null,
      "right": null,
      "top": null,
      "visibility": null,
      "width": null
     }
    },
    "33150dafd95a4a2bbb61d9935810ec66": {
     "model_module": "@jupyter-widgets/controls",
     "model_module_version": "1.5.0",
     "model_name": "DescriptionStyleModel",
     "state": {
      "_model_module": "@jupyter-widgets/controls",
      "_model_module_version": "1.5.0",
      "_model_name": "DescriptionStyleModel",
      "_view_count": null,
      "_view_module": "@jupyter-widgets/base",
      "_view_module_version": "1.2.0",
      "_view_name": "StyleView",
      "description_width": ""
     }
    },
    "34353075311946be8ab44edcafd399f4": {
     "model_module": "@jupyter-widgets/controls",
     "model_module_version": "1.5.0",
     "model_name": "DescriptionStyleModel",
     "state": {
      "_model_module": "@jupyter-widgets/controls",
      "_model_module_version": "1.5.0",
      "_model_name": "DescriptionStyleModel",
      "_view_count": null,
      "_view_module": "@jupyter-widgets/base",
      "_view_module_version": "1.2.0",
      "_view_name": "StyleView",
      "description_width": ""
     }
    },
    "3835afc821df425285f7ce4018e5628d": {
     "model_module": "@jupyter-widgets/controls",
     "model_module_version": "1.5.0",
     "model_name": "DescriptionStyleModel",
     "state": {
      "_model_module": "@jupyter-widgets/controls",
      "_model_module_version": "1.5.0",
      "_model_name": "DescriptionStyleModel",
      "_view_count": null,
      "_view_module": "@jupyter-widgets/base",
      "_view_module_version": "1.2.0",
      "_view_name": "StyleView",
      "description_width": ""
     }
    },
    "386df38f635c40d8979be7ef2aca5bd5": {
     "model_module": "@jupyter-widgets/base",
     "model_module_version": "1.2.0",
     "model_name": "LayoutModel",
     "state": {
      "_model_module": "@jupyter-widgets/base",
      "_model_module_version": "1.2.0",
      "_model_name": "LayoutModel",
      "_view_count": null,
      "_view_module": "@jupyter-widgets/base",
      "_view_module_version": "1.2.0",
      "_view_name": "LayoutView",
      "align_content": null,
      "align_items": null,
      "align_self": null,
      "border": null,
      "bottom": null,
      "display": null,
      "flex": null,
      "flex_flow": null,
      "grid_area": null,
      "grid_auto_columns": null,
      "grid_auto_flow": null,
      "grid_auto_rows": null,
      "grid_column": null,
      "grid_gap": null,
      "grid_row": null,
      "grid_template_areas": null,
      "grid_template_columns": null,
      "grid_template_rows": null,
      "height": null,
      "justify_content": null,
      "justify_items": null,
      "left": null,
      "margin": null,
      "max_height": null,
      "max_width": null,
      "min_height": null,
      "min_width": null,
      "object_fit": null,
      "object_position": null,
      "order": null,
      "overflow": null,
      "overflow_x": null,
      "overflow_y": null,
      "padding": null,
      "right": null,
      "top": null,
      "visibility": null,
      "width": null
     }
    },
    "3964d5a2023d4ca191c0f94e552c8f09": {
     "model_module": "@jupyter-widgets/controls",
     "model_module_version": "1.5.0",
     "model_name": "HTMLModel",
     "state": {
      "_dom_classes": [],
      "_model_module": "@jupyter-widgets/controls",
      "_model_module_version": "1.5.0",
      "_model_name": "HTMLModel",
      "_view_count": null,
      "_view_module": "@jupyter-widgets/controls",
      "_view_module_version": "1.5.0",
      "_view_name": "HTMLView",
      "description": "",
      "description_tooltip": null,
      "layout": "IPY_MODEL_1bdc4fe0608343aeb6dd302bc923823e",
      "placeholder": "​",
      "style": "IPY_MODEL_26737c169f4e45da853fcc7b333eb888",
      "value": " 28.0/28.0 [00:00&lt;00:00, 732B/s]"
     }
    },
    "3b9474c3103e4ec1903a1b57ba3b0cd1": {
     "model_module": "@jupyter-widgets/base",
     "model_module_version": "1.2.0",
     "model_name": "LayoutModel",
     "state": {
      "_model_module": "@jupyter-widgets/base",
      "_model_module_version": "1.2.0",
      "_model_name": "LayoutModel",
      "_view_count": null,
      "_view_module": "@jupyter-widgets/base",
      "_view_module_version": "1.2.0",
      "_view_name": "LayoutView",
      "align_content": null,
      "align_items": null,
      "align_self": null,
      "border": null,
      "bottom": null,
      "display": null,
      "flex": null,
      "flex_flow": null,
      "grid_area": null,
      "grid_auto_columns": null,
      "grid_auto_flow": null,
      "grid_auto_rows": null,
      "grid_column": null,
      "grid_gap": null,
      "grid_row": null,
      "grid_template_areas": null,
      "grid_template_columns": null,
      "grid_template_rows": null,
      "height": null,
      "justify_content": null,
      "justify_items": null,
      "left": null,
      "margin": null,
      "max_height": null,
      "max_width": null,
      "min_height": null,
      "min_width": null,
      "object_fit": null,
      "object_position": null,
      "order": null,
      "overflow": null,
      "overflow_x": null,
      "overflow_y": null,
      "padding": null,
      "right": null,
      "top": null,
      "visibility": null,
      "width": null
     }
    },
    "3badf99d674442c1b90f44afd7674475": {
     "model_module": "@jupyter-widgets/controls",
     "model_module_version": "1.5.0",
     "model_name": "FloatProgressModel",
     "state": {
      "_dom_classes": [],
      "_model_module": "@jupyter-widgets/controls",
      "_model_module_version": "1.5.0",
      "_model_name": "FloatProgressModel",
      "_view_count": null,
      "_view_module": "@jupyter-widgets/controls",
      "_view_module_version": "1.5.0",
      "_view_name": "ProgressView",
      "bar_style": "success",
      "description": "",
      "description_tooltip": null,
      "layout": "IPY_MODEL_750af3908dbf440d93cdb62e67f8de67",
      "max": 830,
      "min": 0,
      "orientation": "horizontal",
      "style": "IPY_MODEL_519bfd103b2b4467b471069cf3cc5ce8",
      "value": 830
     }
    },
    "3c99d8c6edde4863b5ba890ca7502622": {
     "model_module": "@jupyter-widgets/base",
     "model_module_version": "1.2.0",
     "model_name": "LayoutModel",
     "state": {
      "_model_module": "@jupyter-widgets/base",
      "_model_module_version": "1.2.0",
      "_model_name": "LayoutModel",
      "_view_count": null,
      "_view_module": "@jupyter-widgets/base",
      "_view_module_version": "1.2.0",
      "_view_name": "LayoutView",
      "align_content": null,
      "align_items": null,
      "align_self": null,
      "border": null,
      "bottom": null,
      "display": null,
      "flex": null,
      "flex_flow": null,
      "grid_area": null,
      "grid_auto_columns": null,
      "grid_auto_flow": null,
      "grid_auto_rows": null,
      "grid_column": null,
      "grid_gap": null,
      "grid_row": null,
      "grid_template_areas": null,
      "grid_template_columns": null,
      "grid_template_rows": null,
      "height": null,
      "justify_content": null,
      "justify_items": null,
      "left": null,
      "margin": null,
      "max_height": null,
      "max_width": null,
      "min_height": null,
      "min_width": null,
      "object_fit": null,
      "object_position": null,
      "order": null,
      "overflow": null,
      "overflow_x": null,
      "overflow_y": null,
      "padding": null,
      "right": null,
      "top": null,
      "visibility": null,
      "width": null
     }
    },
    "3d1d8cc78d9f415a883dbea0761b0df0": {
     "model_module": "@jupyter-widgets/base",
     "model_module_version": "1.2.0",
     "model_name": "LayoutModel",
     "state": {
      "_model_module": "@jupyter-widgets/base",
      "_model_module_version": "1.2.0",
      "_model_name": "LayoutModel",
      "_view_count": null,
      "_view_module": "@jupyter-widgets/base",
      "_view_module_version": "1.2.0",
      "_view_name": "LayoutView",
      "align_content": null,
      "align_items": null,
      "align_self": null,
      "border": null,
      "bottom": null,
      "display": null,
      "flex": null,
      "flex_flow": null,
      "grid_area": null,
      "grid_auto_columns": null,
      "grid_auto_flow": null,
      "grid_auto_rows": null,
      "grid_column": null,
      "grid_gap": null,
      "grid_row": null,
      "grid_template_areas": null,
      "grid_template_columns": null,
      "grid_template_rows": null,
      "height": null,
      "justify_content": null,
      "justify_items": null,
      "left": null,
      "margin": null,
      "max_height": null,
      "max_width": null,
      "min_height": null,
      "min_width": null,
      "object_fit": null,
      "object_position": null,
      "order": null,
      "overflow": null,
      "overflow_x": null,
      "overflow_y": null,
      "padding": null,
      "right": null,
      "top": null,
      "visibility": null,
      "width": null
     }
    },
    "3e7d39ede0fb469fa74f5dce18f33aa3": {
     "model_module": "@jupyter-widgets/controls",
     "model_module_version": "1.5.0",
     "model_name": "HTMLModel",
     "state": {
      "_dom_classes": [],
      "_model_module": "@jupyter-widgets/controls",
      "_model_module_version": "1.5.0",
      "_model_name": "HTMLModel",
      "_view_count": null,
      "_view_module": "@jupyter-widgets/controls",
      "_view_module_version": "1.5.0",
      "_view_name": "HTMLView",
      "description": "",
      "description_tooltip": null,
      "layout": "IPY_MODEL_46be2b6eeb4d49f88a8c4738fcc3d142",
      "placeholder": "​",
      "style": "IPY_MODEL_86c41f0b293c4cf699ce4e568204248d",
      "value": "epoch 6: 100%"
     }
    },
    "41b4df271da54957a90b7170ce5093f5": {
     "model_module": "@jupyter-widgets/base",
     "model_module_version": "1.2.0",
     "model_name": "LayoutModel",
     "state": {
      "_model_module": "@jupyter-widgets/base",
      "_model_module_version": "1.2.0",
      "_model_name": "LayoutModel",
      "_view_count": null,
      "_view_module": "@jupyter-widgets/base",
      "_view_module_version": "1.2.0",
      "_view_name": "LayoutView",
      "align_content": null,
      "align_items": null,
      "align_self": null,
      "border": null,
      "bottom": null,
      "display": null,
      "flex": null,
      "flex_flow": null,
      "grid_area": null,
      "grid_auto_columns": null,
      "grid_auto_flow": null,
      "grid_auto_rows": null,
      "grid_column": null,
      "grid_gap": null,
      "grid_row": null,
      "grid_template_areas": null,
      "grid_template_columns": null,
      "grid_template_rows": null,
      "height": null,
      "justify_content": null,
      "justify_items": null,
      "left": null,
      "margin": null,
      "max_height": null,
      "max_width": null,
      "min_height": null,
      "min_width": null,
      "object_fit": null,
      "object_position": null,
      "order": null,
      "overflow": null,
      "overflow_x": null,
      "overflow_y": null,
      "padding": null,
      "right": null,
      "top": null,
      "visibility": null,
      "width": null
     }
    },
    "41d37a1d42294ea480e6c8df14cc9220": {
     "model_module": "@jupyter-widgets/controls",
     "model_module_version": "1.5.0",
     "model_name": "DescriptionStyleModel",
     "state": {
      "_model_module": "@jupyter-widgets/controls",
      "_model_module_version": "1.5.0",
      "_model_name": "DescriptionStyleModel",
      "_view_count": null,
      "_view_module": "@jupyter-widgets/base",
      "_view_module_version": "1.2.0",
      "_view_name": "StyleView",
      "description_width": ""
     }
    },
    "4534a69036674e4893722c087336b2af": {
     "model_module": "@jupyter-widgets/controls",
     "model_module_version": "1.5.0",
     "model_name": "DescriptionStyleModel",
     "state": {
      "_model_module": "@jupyter-widgets/controls",
      "_model_module_version": "1.5.0",
      "_model_name": "DescriptionStyleModel",
      "_view_count": null,
      "_view_module": "@jupyter-widgets/base",
      "_view_module_version": "1.2.0",
      "_view_name": "StyleView",
      "description_width": ""
     }
    },
    "460ad7a35e55463ab3622eccaee07e9d": {
     "model_module": "@jupyter-widgets/controls",
     "model_module_version": "1.5.0",
     "model_name": "FloatProgressModel",
     "state": {
      "_dom_classes": [],
      "_model_module": "@jupyter-widgets/controls",
      "_model_module_version": "1.5.0",
      "_model_name": "FloatProgressModel",
      "_view_count": null,
      "_view_module": "@jupyter-widgets/controls",
      "_view_module_version": "1.5.0",
      "_view_name": "ProgressView",
      "bar_style": "success",
      "description": "",
      "description_tooltip": null,
      "layout": "IPY_MODEL_be153500416843d3a4225f721c7cd2c9",
      "max": 8,
      "min": 0,
      "orientation": "horizontal",
      "style": "IPY_MODEL_2715da33b1a74a3e94f64be205a561a2",
      "value": 8
     }
    },
    "4680475191b546c7ac54a2594910ee0e": {
     "model_module": "@jupyter-widgets/base",
     "model_module_version": "1.2.0",
     "model_name": "LayoutModel",
     "state": {
      "_model_module": "@jupyter-widgets/base",
      "_model_module_version": "1.2.0",
      "_model_name": "LayoutModel",
      "_view_count": null,
      "_view_module": "@jupyter-widgets/base",
      "_view_module_version": "1.2.0",
      "_view_name": "LayoutView",
      "align_content": null,
      "align_items": null,
      "align_self": null,
      "border": null,
      "bottom": null,
      "display": null,
      "flex": null,
      "flex_flow": null,
      "grid_area": null,
      "grid_auto_columns": null,
      "grid_auto_flow": null,
      "grid_auto_rows": null,
      "grid_column": null,
      "grid_gap": null,
      "grid_row": null,
      "grid_template_areas": null,
      "grid_template_columns": null,
      "grid_template_rows": null,
      "height": null,
      "justify_content": null,
      "justify_items": null,
      "left": null,
      "margin": null,
      "max_height": null,
      "max_width": null,
      "min_height": null,
      "min_width": null,
      "object_fit": null,
      "object_position": null,
      "order": null,
      "overflow": null,
      "overflow_x": null,
      "overflow_y": null,
      "padding": null,
      "right": null,
      "top": null,
      "visibility": null,
      "width": null
     }
    },
    "46be2b6eeb4d49f88a8c4738fcc3d142": {
     "model_module": "@jupyter-widgets/base",
     "model_module_version": "1.2.0",
     "model_name": "LayoutModel",
     "state": {
      "_model_module": "@jupyter-widgets/base",
      "_model_module_version": "1.2.0",
      "_model_name": "LayoutModel",
      "_view_count": null,
      "_view_module": "@jupyter-widgets/base",
      "_view_module_version": "1.2.0",
      "_view_name": "LayoutView",
      "align_content": null,
      "align_items": null,
      "align_self": null,
      "border": null,
      "bottom": null,
      "display": null,
      "flex": null,
      "flex_flow": null,
      "grid_area": null,
      "grid_auto_columns": null,
      "grid_auto_flow": null,
      "grid_auto_rows": null,
      "grid_column": null,
      "grid_gap": null,
      "grid_row": null,
      "grid_template_areas": null,
      "grid_template_columns": null,
      "grid_template_rows": null,
      "height": null,
      "justify_content": null,
      "justify_items": null,
      "left": null,
      "margin": null,
      "max_height": null,
      "max_width": null,
      "min_height": null,
      "min_width": null,
      "object_fit": null,
      "object_position": null,
      "order": null,
      "overflow": null,
      "overflow_x": null,
      "overflow_y": null,
      "padding": null,
      "right": null,
      "top": null,
      "visibility": null,
      "width": null
     }
    },
    "490124a1d0c04ea0ac9e152e97ed3a3e": {
     "model_module": "@jupyter-widgets/controls",
     "model_module_version": "1.5.0",
     "model_name": "DescriptionStyleModel",
     "state": {
      "_model_module": "@jupyter-widgets/controls",
      "_model_module_version": "1.5.0",
      "_model_name": "DescriptionStyleModel",
      "_view_count": null,
      "_view_module": "@jupyter-widgets/base",
      "_view_module_version": "1.2.0",
      "_view_name": "StyleView",
      "description_width": ""
     }
    },
    "4a4ef6875d584a928d634151ba6e0843": {
     "model_module": "@jupyter-widgets/controls",
     "model_module_version": "1.5.0",
     "model_name": "HTMLModel",
     "state": {
      "_dom_classes": [],
      "_model_module": "@jupyter-widgets/controls",
      "_model_module_version": "1.5.0",
      "_model_name": "HTMLModel",
      "_view_count": null,
      "_view_module": "@jupyter-widgets/controls",
      "_view_module_version": "1.5.0",
      "_view_name": "HTMLView",
      "description": "",
      "description_tooltip": null,
      "layout": "IPY_MODEL_03d3d995b3014d86b1906a92e367e703",
      "placeholder": "​",
      "style": "IPY_MODEL_34353075311946be8ab44edcafd399f4",
      "value": " 830/830 [01:56&lt;00:00,  7.75batch/s, current_loss=2.76, mean_loss=2.39]"
     }
    },
    "4a97af6a18994e69a853c8b43447b5d0": {
     "model_module": "@jupyter-widgets/base",
     "model_module_version": "1.2.0",
     "model_name": "LayoutModel",
     "state": {
      "_model_module": "@jupyter-widgets/base",
      "_model_module_version": "1.2.0",
      "_model_name": "LayoutModel",
      "_view_count": null,
      "_view_module": "@jupyter-widgets/base",
      "_view_module_version": "1.2.0",
      "_view_name": "LayoutView",
      "align_content": null,
      "align_items": null,
      "align_self": null,
      "border": null,
      "bottom": null,
      "display": null,
      "flex": null,
      "flex_flow": null,
      "grid_area": null,
      "grid_auto_columns": null,
      "grid_auto_flow": null,
      "grid_auto_rows": null,
      "grid_column": null,
      "grid_gap": null,
      "grid_row": null,
      "grid_template_areas": null,
      "grid_template_columns": null,
      "grid_template_rows": null,
      "height": null,
      "justify_content": null,
      "justify_items": null,
      "left": null,
      "margin": null,
      "max_height": null,
      "max_width": null,
      "min_height": null,
      "min_width": null,
      "object_fit": null,
      "object_position": null,
      "order": null,
      "overflow": null,
      "overflow_x": null,
      "overflow_y": null,
      "padding": null,
      "right": null,
      "top": null,
      "visibility": null,
      "width": null
     }
    },
    "4aca858ecb4d4f609bf052ca6aab9bb4": {
     "model_module": "@jupyter-widgets/controls",
     "model_module_version": "1.5.0",
     "model_name": "HTMLModel",
     "state": {
      "_dom_classes": [],
      "_model_module": "@jupyter-widgets/controls",
      "_model_module_version": "1.5.0",
      "_model_name": "HTMLModel",
      "_view_count": null,
      "_view_module": "@jupyter-widgets/controls",
      "_view_module_version": "1.5.0",
      "_view_name": "HTMLView",
      "description": "",
      "description_tooltip": null,
      "layout": "IPY_MODEL_fe89459d6a7542cb84ad7eebd3a019ae",
      "placeholder": "​",
      "style": "IPY_MODEL_274a07bd39594d84a2f97d503da712db",
      "value": "epoch 1: 100%"
     }
    },
    "4f8de45c318a4bd3b5d9848eb28b19cf": {
     "model_module": "@jupyter-widgets/controls",
     "model_module_version": "1.5.0",
     "model_name": "FloatProgressModel",
     "state": {
      "_dom_classes": [],
      "_model_module": "@jupyter-widgets/controls",
      "_model_module_version": "1.5.0",
      "_model_name": "FloatProgressModel",
      "_view_count": null,
      "_view_module": "@jupyter-widgets/controls",
      "_view_module_version": "1.5.0",
      "_view_name": "ProgressView",
      "bar_style": "success",
      "description": "",
      "description_tooltip": null,
      "layout": "IPY_MODEL_78903021a69d441abdc0e56989f59675",
      "max": 466062,
      "min": 0,
      "orientation": "horizontal",
      "style": "IPY_MODEL_50ae0c9cb09c450d995dc9af00886cc7",
      "value": 466062
     }
    },
    "5071874b10c94af49d94c9b192600db7": {
     "model_module": "@jupyter-widgets/base",
     "model_module_version": "1.2.0",
     "model_name": "LayoutModel",
     "state": {
      "_model_module": "@jupyter-widgets/base",
      "_model_module_version": "1.2.0",
      "_model_name": "LayoutModel",
      "_view_count": null,
      "_view_module": "@jupyter-widgets/base",
      "_view_module_version": "1.2.0",
      "_view_name": "LayoutView",
      "align_content": null,
      "align_items": null,
      "align_self": null,
      "border": null,
      "bottom": null,
      "display": null,
      "flex": null,
      "flex_flow": null,
      "grid_area": null,
      "grid_auto_columns": null,
      "grid_auto_flow": null,
      "grid_auto_rows": null,
      "grid_column": null,
      "grid_gap": null,
      "grid_row": null,
      "grid_template_areas": null,
      "grid_template_columns": null,
      "grid_template_rows": null,
      "height": null,
      "justify_content": null,
      "justify_items": null,
      "left": null,
      "margin": null,
      "max_height": null,
      "max_width": null,
      "min_height": null,
      "min_width": null,
      "object_fit": null,
      "object_position": null,
      "order": null,
      "overflow": null,
      "overflow_x": null,
      "overflow_y": null,
      "padding": null,
      "right": null,
      "top": null,
      "visibility": null,
      "width": null
     }
    },
    "5074f20670964426ad58214f596a3c6b": {
     "model_module": "@jupyter-widgets/base",
     "model_module_version": "1.2.0",
     "model_name": "LayoutModel",
     "state": {
      "_model_module": "@jupyter-widgets/base",
      "_model_module_version": "1.2.0",
      "_model_name": "LayoutModel",
      "_view_count": null,
      "_view_module": "@jupyter-widgets/base",
      "_view_module_version": "1.2.0",
      "_view_name": "LayoutView",
      "align_content": null,
      "align_items": null,
      "align_self": null,
      "border": null,
      "bottom": null,
      "display": null,
      "flex": null,
      "flex_flow": null,
      "grid_area": null,
      "grid_auto_columns": null,
      "grid_auto_flow": null,
      "grid_auto_rows": null,
      "grid_column": null,
      "grid_gap": null,
      "grid_row": null,
      "grid_template_areas": null,
      "grid_template_columns": null,
      "grid_template_rows": null,
      "height": null,
      "justify_content": null,
      "justify_items": null,
      "left": null,
      "margin": null,
      "max_height": null,
      "max_width": null,
      "min_height": null,
      "min_width": null,
      "object_fit": null,
      "object_position": null,
      "order": null,
      "overflow": null,
      "overflow_x": null,
      "overflow_y": null,
      "padding": null,
      "right": null,
      "top": null,
      "visibility": null,
      "width": null
     }
    },
    "5091ea6d247e4796a155ca6ab02a3afc": {
     "model_module": "@jupyter-widgets/base",
     "model_module_version": "1.2.0",
     "model_name": "LayoutModel",
     "state": {
      "_model_module": "@jupyter-widgets/base",
      "_model_module_version": "1.2.0",
      "_model_name": "LayoutModel",
      "_view_count": null,
      "_view_module": "@jupyter-widgets/base",
      "_view_module_version": "1.2.0",
      "_view_name": "LayoutView",
      "align_content": null,
      "align_items": null,
      "align_self": null,
      "border": null,
      "bottom": null,
      "display": null,
      "flex": null,
      "flex_flow": null,
      "grid_area": null,
      "grid_auto_columns": null,
      "grid_auto_flow": null,
      "grid_auto_rows": null,
      "grid_column": null,
      "grid_gap": null,
      "grid_row": null,
      "grid_template_areas": null,
      "grid_template_columns": null,
      "grid_template_rows": null,
      "height": null,
      "justify_content": null,
      "justify_items": null,
      "left": null,
      "margin": null,
      "max_height": null,
      "max_width": null,
      "min_height": null,
      "min_width": null,
      "object_fit": null,
      "object_position": null,
      "order": null,
      "overflow": null,
      "overflow_x": null,
      "overflow_y": null,
      "padding": null,
      "right": null,
      "top": null,
      "visibility": null,
      "width": null
     }
    },
    "50ae0c9cb09c450d995dc9af00886cc7": {
     "model_module": "@jupyter-widgets/controls",
     "model_module_version": "1.5.0",
     "model_name": "ProgressStyleModel",
     "state": {
      "_model_module": "@jupyter-widgets/controls",
      "_model_module_version": "1.5.0",
      "_model_name": "ProgressStyleModel",
      "_view_count": null,
      "_view_module": "@jupyter-widgets/base",
      "_view_module_version": "1.2.0",
      "_view_name": "StyleView",
      "bar_color": null,
      "description_width": ""
     }
    },
    "51324e57c1324bfe8b7e8c0ba4cb91a1": {
     "model_module": "@jupyter-widgets/base",
     "model_module_version": "1.2.0",
     "model_name": "LayoutModel",
     "state": {
      "_model_module": "@jupyter-widgets/base",
      "_model_module_version": "1.2.0",
      "_model_name": "LayoutModel",
      "_view_count": null,
      "_view_module": "@jupyter-widgets/base",
      "_view_module_version": "1.2.0",
      "_view_name": "LayoutView",
      "align_content": null,
      "align_items": null,
      "align_self": null,
      "border": null,
      "bottom": null,
      "display": null,
      "flex": null,
      "flex_flow": null,
      "grid_area": null,
      "grid_auto_columns": null,
      "grid_auto_flow": null,
      "grid_auto_rows": null,
      "grid_column": null,
      "grid_gap": null,
      "grid_row": null,
      "grid_template_areas": null,
      "grid_template_columns": null,
      "grid_template_rows": null,
      "height": null,
      "justify_content": null,
      "justify_items": null,
      "left": null,
      "margin": null,
      "max_height": null,
      "max_width": null,
      "min_height": null,
      "min_width": null,
      "object_fit": null,
      "object_position": null,
      "order": null,
      "overflow": null,
      "overflow_x": null,
      "overflow_y": null,
      "padding": null,
      "right": null,
      "top": null,
      "visibility": null,
      "width": null
     }
    },
    "519bfd103b2b4467b471069cf3cc5ce8": {
     "model_module": "@jupyter-widgets/controls",
     "model_module_version": "1.5.0",
     "model_name": "ProgressStyleModel",
     "state": {
      "_model_module": "@jupyter-widgets/controls",
      "_model_module_version": "1.5.0",
      "_model_name": "ProgressStyleModel",
      "_view_count": null,
      "_view_module": "@jupyter-widgets/base",
      "_view_module_version": "1.2.0",
      "_view_name": "StyleView",
      "bar_color": null,
      "description_width": ""
     }
    },
    "51e3e303894841b7b1add9d7c0b3834d": {
     "model_module": "@jupyter-widgets/controls",
     "model_module_version": "1.5.0",
     "model_name": "ProgressStyleModel",
     "state": {
      "_model_module": "@jupyter-widgets/controls",
      "_model_module_version": "1.5.0",
      "_model_name": "ProgressStyleModel",
      "_view_count": null,
      "_view_module": "@jupyter-widgets/base",
      "_view_module_version": "1.2.0",
      "_view_name": "StyleView",
      "bar_color": null,
      "description_width": ""
     }
    },
    "5626be7b820346269ac2faf4d8c79ecd": {
     "model_module": "@jupyter-widgets/controls",
     "model_module_version": "1.5.0",
     "model_name": "HBoxModel",
     "state": {
      "_dom_classes": [],
      "_model_module": "@jupyter-widgets/controls",
      "_model_module_version": "1.5.0",
      "_model_name": "HBoxModel",
      "_view_count": null,
      "_view_module": "@jupyter-widgets/controls",
      "_view_module_version": "1.5.0",
      "_view_name": "HBoxView",
      "box_style": "",
      "children": [
       "IPY_MODEL_87ada33938fc400a9eb6ef21d3b747d4",
       "IPY_MODEL_283d4f6019e945c5b565abc21468bb59",
       "IPY_MODEL_8fa426d58ea24f1f85ac37c180edfe8f"
      ],
      "layout": "IPY_MODEL_386df38f635c40d8979be7ef2aca5bd5"
     }
    },
    "579639c2d4914f1f9c8cf36981840f5f": {
     "model_module": "@jupyter-widgets/base",
     "model_module_version": "1.2.0",
     "model_name": "LayoutModel",
     "state": {
      "_model_module": "@jupyter-widgets/base",
      "_model_module_version": "1.2.0",
      "_model_name": "LayoutModel",
      "_view_count": null,
      "_view_module": "@jupyter-widgets/base",
      "_view_module_version": "1.2.0",
      "_view_name": "LayoutView",
      "align_content": null,
      "align_items": null,
      "align_self": null,
      "border": null,
      "bottom": null,
      "display": null,
      "flex": null,
      "flex_flow": null,
      "grid_area": null,
      "grid_auto_columns": null,
      "grid_auto_flow": null,
      "grid_auto_rows": null,
      "grid_column": null,
      "grid_gap": null,
      "grid_row": null,
      "grid_template_areas": null,
      "grid_template_columns": null,
      "grid_template_rows": null,
      "height": null,
      "justify_content": null,
      "justify_items": null,
      "left": null,
      "margin": null,
      "max_height": null,
      "max_width": null,
      "min_height": null,
      "min_width": null,
      "object_fit": null,
      "object_position": null,
      "order": null,
      "overflow": null,
      "overflow_x": null,
      "overflow_y": null,
      "padding": null,
      "right": null,
      "top": null,
      "visibility": null,
      "width": null
     }
    },
    "57beae60e7b54d6f969aceae4298958a": {
     "model_module": "@jupyter-widgets/controls",
     "model_module_version": "1.5.0",
     "model_name": "ProgressStyleModel",
     "state": {
      "_model_module": "@jupyter-widgets/controls",
      "_model_module_version": "1.5.0",
      "_model_name": "ProgressStyleModel",
      "_view_count": null,
      "_view_module": "@jupyter-widgets/base",
      "_view_module_version": "1.2.0",
      "_view_name": "StyleView",
      "bar_color": null,
      "description_width": ""
     }
    },
    "584b2575f71142d6b2947ae2ceba76ab": {
     "model_module": "@jupyter-widgets/base",
     "model_module_version": "1.2.0",
     "model_name": "LayoutModel",
     "state": {
      "_model_module": "@jupyter-widgets/base",
      "_model_module_version": "1.2.0",
      "_model_name": "LayoutModel",
      "_view_count": null,
      "_view_module": "@jupyter-widgets/base",
      "_view_module_version": "1.2.0",
      "_view_name": "LayoutView",
      "align_content": null,
      "align_items": null,
      "align_self": null,
      "border": null,
      "bottom": null,
      "display": null,
      "flex": null,
      "flex_flow": null,
      "grid_area": null,
      "grid_auto_columns": null,
      "grid_auto_flow": null,
      "grid_auto_rows": null,
      "grid_column": null,
      "grid_gap": null,
      "grid_row": null,
      "grid_template_areas": null,
      "grid_template_columns": null,
      "grid_template_rows": null,
      "height": null,
      "justify_content": null,
      "justify_items": null,
      "left": null,
      "margin": null,
      "max_height": null,
      "max_width": null,
      "min_height": null,
      "min_width": null,
      "object_fit": null,
      "object_position": null,
      "order": null,
      "overflow": null,
      "overflow_x": null,
      "overflow_y": null,
      "padding": null,
      "right": null,
      "top": null,
      "visibility": null,
      "width": null
     }
    },
    "5aad480a788a44afb2cd4d7ddf7d6c03": {
     "model_module": "@jupyter-widgets/base",
     "model_module_version": "1.2.0",
     "model_name": "LayoutModel",
     "state": {
      "_model_module": "@jupyter-widgets/base",
      "_model_module_version": "1.2.0",
      "_model_name": "LayoutModel",
      "_view_count": null,
      "_view_module": "@jupyter-widgets/base",
      "_view_module_version": "1.2.0",
      "_view_name": "LayoutView",
      "align_content": null,
      "align_items": null,
      "align_self": null,
      "border": null,
      "bottom": null,
      "display": null,
      "flex": null,
      "flex_flow": null,
      "grid_area": null,
      "grid_auto_columns": null,
      "grid_auto_flow": null,
      "grid_auto_rows": null,
      "grid_column": null,
      "grid_gap": null,
      "grid_row": null,
      "grid_template_areas": null,
      "grid_template_columns": null,
      "grid_template_rows": null,
      "height": null,
      "justify_content": null,
      "justify_items": null,
      "left": null,
      "margin": null,
      "max_height": null,
      "max_width": null,
      "min_height": null,
      "min_width": null,
      "object_fit": null,
      "object_position": null,
      "order": null,
      "overflow": null,
      "overflow_x": null,
      "overflow_y": null,
      "padding": null,
      "right": null,
      "top": null,
      "visibility": null,
      "width": null
     }
    },
    "5baf8d8ebb0d4f0dbb94500bd6c3ab52": {
     "model_module": "@jupyter-widgets/controls",
     "model_module_version": "1.5.0",
     "model_name": "ProgressStyleModel",
     "state": {
      "_model_module": "@jupyter-widgets/controls",
      "_model_module_version": "1.5.0",
      "_model_name": "ProgressStyleModel",
      "_view_count": null,
      "_view_module": "@jupyter-widgets/base",
      "_view_module_version": "1.2.0",
      "_view_name": "StyleView",
      "bar_color": null,
      "description_width": ""
     }
    },
    "5d36f5819e24467b9d6db9388e026af3": {
     "model_module": "@jupyter-widgets/controls",
     "model_module_version": "1.5.0",
     "model_name": "DescriptionStyleModel",
     "state": {
      "_model_module": "@jupyter-widgets/controls",
      "_model_module_version": "1.5.0",
      "_model_name": "DescriptionStyleModel",
      "_view_count": null,
      "_view_module": "@jupyter-widgets/base",
      "_view_module_version": "1.2.0",
      "_view_name": "StyleView",
      "description_width": ""
     }
    },
    "5dd097e8ecef44e784a8f6937f05a085": {
     "model_module": "@jupyter-widgets/controls",
     "model_module_version": "1.5.0",
     "model_name": "FloatProgressModel",
     "state": {
      "_dom_classes": [],
      "_model_module": "@jupyter-widgets/controls",
      "_model_module_version": "1.5.0",
      "_model_name": "FloatProgressModel",
      "_view_count": null,
      "_view_module": "@jupyter-widgets/controls",
      "_view_module_version": "1.5.0",
      "_view_name": "ProgressView",
      "bar_style": "success",
      "description": "",
      "description_tooltip": null,
      "layout": "IPY_MODEL_5091ea6d247e4796a155ca6ab02a3afc",
      "max": 267967963,
      "min": 0,
      "orientation": "horizontal",
      "style": "IPY_MODEL_20a59e3b20064c6194c273c174efd895",
      "value": 267967963
     }
    },
    "5ea9d7d4af894239b61a340c513cdffb": {
     "model_module": "@jupyter-widgets/base",
     "model_module_version": "1.2.0",
     "model_name": "LayoutModel",
     "state": {
      "_model_module": "@jupyter-widgets/base",
      "_model_module_version": "1.2.0",
      "_model_name": "LayoutModel",
      "_view_count": null,
      "_view_module": "@jupyter-widgets/base",
      "_view_module_version": "1.2.0",
      "_view_name": "LayoutView",
      "align_content": null,
      "align_items": null,
      "align_self": null,
      "border": null,
      "bottom": null,
      "display": null,
      "flex": null,
      "flex_flow": null,
      "grid_area": null,
      "grid_auto_columns": null,
      "grid_auto_flow": null,
      "grid_auto_rows": null,
      "grid_column": null,
      "grid_gap": null,
      "grid_row": null,
      "grid_template_areas": null,
      "grid_template_columns": null,
      "grid_template_rows": null,
      "height": null,
      "justify_content": null,
      "justify_items": null,
      "left": null,
      "margin": null,
      "max_height": null,
      "max_width": null,
      "min_height": null,
      "min_width": null,
      "object_fit": null,
      "object_position": null,
      "order": null,
      "overflow": null,
      "overflow_x": null,
      "overflow_y": null,
      "padding": null,
      "right": null,
      "top": null,
      "visibility": null,
      "width": null
     }
    },
    "5fe6569e834d47529e89b405024985ef": {
     "model_module": "@jupyter-widgets/controls",
     "model_module_version": "1.5.0",
     "model_name": "HTMLModel",
     "state": {
      "_dom_classes": [],
      "_model_module": "@jupyter-widgets/controls",
      "_model_module_version": "1.5.0",
      "_model_name": "HTMLModel",
      "_view_count": null,
      "_view_module": "@jupyter-widgets/controls",
      "_view_module_version": "1.5.0",
      "_view_name": "HTMLView",
      "description": "",
      "description_tooltip": null,
      "layout": "IPY_MODEL_f4abbf064bd4493e8e8c2a4627b5f166",
      "placeholder": "​",
      "style": "IPY_MODEL_f83da338288c4582a5a64318b2601bc7",
      "value": " 6/6 [08:26&lt;00:00, 84.52s/epoch]"
     }
    },
    "638e142499c04b5782332c0b41f8142b": {
     "model_module": "@jupyter-widgets/controls",
     "model_module_version": "1.5.0",
     "model_name": "HBoxModel",
     "state": {
      "_dom_classes": [],
      "_model_module": "@jupyter-widgets/controls",
      "_model_module_version": "1.5.0",
      "_model_name": "HBoxModel",
      "_view_count": null,
      "_view_module": "@jupyter-widgets/controls",
      "_view_module_version": "1.5.0",
      "_view_name": "HBoxView",
      "box_style": "",
      "children": [
       "IPY_MODEL_0cc1fbc5c9c74fe194cabc21abc62832",
       "IPY_MODEL_e97c2e48480543708daf72e2244193b3",
       "IPY_MODEL_aa67c11a184c4bb08bca5678be543aa6"
      ],
      "layout": "IPY_MODEL_1218d36465ea47658cd8b15a059e7284"
     }
    },
    "639cba040d5743fb998b95a6b00eaa05": {
     "model_module": "@jupyter-widgets/controls",
     "model_module_version": "1.5.0",
     "model_name": "ProgressStyleModel",
     "state": {
      "_model_module": "@jupyter-widgets/controls",
      "_model_module_version": "1.5.0",
      "_model_name": "ProgressStyleModel",
      "_view_count": null,
      "_view_module": "@jupyter-widgets/base",
      "_view_module_version": "1.2.0",
      "_view_name": "StyleView",
      "bar_color": null,
      "description_width": ""
     }
    },
    "63fc9680f7944fe19aa9d1131a1a28ab": {
     "model_module": "@jupyter-widgets/controls",
     "model_module_version": "1.5.0",
     "model_name": "HBoxModel",
     "state": {
      "_dom_classes": [],
      "_model_module": "@jupyter-widgets/controls",
      "_model_module_version": "1.5.0",
      "_model_name": "HBoxModel",
      "_view_count": null,
      "_view_module": "@jupyter-widgets/controls",
      "_view_module_version": "1.5.0",
      "_view_name": "HBoxView",
      "box_style": "",
      "children": [
       "IPY_MODEL_dba4542f764c463d99656b68f28879fe",
       "IPY_MODEL_7d43ac5a53c44c9f9d957dc089a16a35",
       "IPY_MODEL_3964d5a2023d4ca191c0f94e552c8f09"
      ],
      "layout": "IPY_MODEL_2e31e9bc67bd4f9185d9a6dc7355a606"
     }
    },
    "649ecf670d0d4a3d8fed09881c90d59f": {
     "model_module": "@jupyter-widgets/controls",
     "model_module_version": "1.5.0",
     "model_name": "ProgressStyleModel",
     "state": {
      "_model_module": "@jupyter-widgets/controls",
      "_model_module_version": "1.5.0",
      "_model_name": "ProgressStyleModel",
      "_view_count": null,
      "_view_module": "@jupyter-widgets/base",
      "_view_module_version": "1.2.0",
      "_view_name": "StyleView",
      "bar_color": null,
      "description_width": ""
     }
    },
    "6611cb333a614273942115414ae05c1b": {
     "model_module": "@jupyter-widgets/controls",
     "model_module_version": "1.5.0",
     "model_name": "FloatProgressModel",
     "state": {
      "_dom_classes": [],
      "_model_module": "@jupyter-widgets/controls",
      "_model_module_version": "1.5.0",
      "_model_name": "FloatProgressModel",
      "_view_count": null,
      "_view_module": "@jupyter-widgets/controls",
      "_view_module_version": "1.5.0",
      "_view_name": "ProgressView",
      "bar_style": "success",
      "description": "",
      "description_tooltip": null,
      "layout": "IPY_MODEL_41b4df271da54957a90b7170ce5093f5",
      "max": 483,
      "min": 0,
      "orientation": "horizontal",
      "style": "IPY_MODEL_e2681b8f99514618baa16ed063864a11",
      "value": 483
     }
    },
    "66ee161a328e48fc812352db46e4fa0e": {
     "model_module": "@jupyter-widgets/controls",
     "model_module_version": "1.5.0",
     "model_name": "FloatProgressModel",
     "state": {
      "_dom_classes": [],
      "_model_module": "@jupyter-widgets/controls",
      "_model_module_version": "1.5.0",
      "_model_name": "FloatProgressModel",
      "_view_count": null,
      "_view_module": "@jupyter-widgets/controls",
      "_view_module_version": "1.5.0",
      "_view_name": "ProgressView",
      "bar_style": "success",
      "description": "",
      "description_tooltip": null,
      "layout": "IPY_MODEL_968c5eb1da924d97950605398731d1b1",
      "max": 830,
      "min": 0,
      "orientation": "horizontal",
      "style": "IPY_MODEL_5baf8d8ebb0d4f0dbb94500bd6c3ab52",
      "value": 830
     }
    },
    "675864eca92443dfb31792ef2a07c6d5": {
     "model_module": "@jupyter-widgets/controls",
     "model_module_version": "1.5.0",
     "model_name": "HBoxModel",
     "state": {
      "_dom_classes": [],
      "_model_module": "@jupyter-widgets/controls",
      "_model_module_version": "1.5.0",
      "_model_name": "HBoxModel",
      "_view_count": null,
      "_view_module": "@jupyter-widgets/controls",
      "_view_module_version": "1.5.0",
      "_view_name": "HBoxView",
      "box_style": "",
      "children": [
       "IPY_MODEL_24e01fe3d0f24748905b414a42f5bff8",
       "IPY_MODEL_dee04c52f7fb4aaca49b9b3beb460012",
       "IPY_MODEL_96382890675744afa0b7f7f02de7936d"
      ],
      "layout": "IPY_MODEL_3b9474c3103e4ec1903a1b57ba3b0cd1"
     }
    },
    "680f2176dd714942a6f9b6e9e2639192": {
     "model_module": "@jupyter-widgets/base",
     "model_module_version": "1.2.0",
     "model_name": "LayoutModel",
     "state": {
      "_model_module": "@jupyter-widgets/base",
      "_model_module_version": "1.2.0",
      "_model_name": "LayoutModel",
      "_view_count": null,
      "_view_module": "@jupyter-widgets/base",
      "_view_module_version": "1.2.0",
      "_view_name": "LayoutView",
      "align_content": null,
      "align_items": null,
      "align_self": null,
      "border": null,
      "bottom": null,
      "display": null,
      "flex": null,
      "flex_flow": null,
      "grid_area": null,
      "grid_auto_columns": null,
      "grid_auto_flow": null,
      "grid_auto_rows": null,
      "grid_column": null,
      "grid_gap": null,
      "grid_row": null,
      "grid_template_areas": null,
      "grid_template_columns": null,
      "grid_template_rows": null,
      "height": null,
      "justify_content": null,
      "justify_items": null,
      "left": null,
      "margin": null,
      "max_height": null,
      "max_width": null,
      "min_height": null,
      "min_width": null,
      "object_fit": null,
      "object_position": null,
      "order": null,
      "overflow": null,
      "overflow_x": null,
      "overflow_y": null,
      "padding": null,
      "right": null,
      "top": null,
      "visibility": null,
      "width": null
     }
    },
    "68ecb154807b4f6baa6601fdafec0d4f": {
     "model_module": "@jupyter-widgets/controls",
     "model_module_version": "1.5.0",
     "model_name": "DescriptionStyleModel",
     "state": {
      "_model_module": "@jupyter-widgets/controls",
      "_model_module_version": "1.5.0",
      "_model_name": "DescriptionStyleModel",
      "_view_count": null,
      "_view_module": "@jupyter-widgets/base",
      "_view_module_version": "1.2.0",
      "_view_name": "StyleView",
      "description_width": ""
     }
    },
    "69416d5908574389b6913e9d2f46b0dd": {
     "model_module": "@jupyter-widgets/base",
     "model_module_version": "1.2.0",
     "model_name": "LayoutModel",
     "state": {
      "_model_module": "@jupyter-widgets/base",
      "_model_module_version": "1.2.0",
      "_model_name": "LayoutModel",
      "_view_count": null,
      "_view_module": "@jupyter-widgets/base",
      "_view_module_version": "1.2.0",
      "_view_name": "LayoutView",
      "align_content": null,
      "align_items": null,
      "align_self": null,
      "border": null,
      "bottom": null,
      "display": null,
      "flex": null,
      "flex_flow": null,
      "grid_area": null,
      "grid_auto_columns": null,
      "grid_auto_flow": null,
      "grid_auto_rows": null,
      "grid_column": null,
      "grid_gap": null,
      "grid_row": null,
      "grid_template_areas": null,
      "grid_template_columns": null,
      "grid_template_rows": null,
      "height": null,
      "justify_content": null,
      "justify_items": null,
      "left": null,
      "margin": null,
      "max_height": null,
      "max_width": null,
      "min_height": null,
      "min_width": null,
      "object_fit": null,
      "object_position": null,
      "order": null,
      "overflow": null,
      "overflow_x": null,
      "overflow_y": null,
      "padding": null,
      "right": null,
      "top": null,
      "visibility": null,
      "width": null
     }
    },
    "6b37bef0e34346a1abf243148ae1a7a0": {
     "model_module": "@jupyter-widgets/controls",
     "model_module_version": "1.5.0",
     "model_name": "HBoxModel",
     "state": {
      "_dom_classes": [],
      "_model_module": "@jupyter-widgets/controls",
      "_model_module_version": "1.5.0",
      "_model_name": "HBoxModel",
      "_view_count": null,
      "_view_module": "@jupyter-widgets/controls",
      "_view_module_version": "1.5.0",
      "_view_name": "HBoxView",
      "box_style": "",
      "children": [
       "IPY_MODEL_210a39960c9c4e7db424a02c3a2b0c68",
       "IPY_MODEL_92deb455d8d9402bb50352399cc0dcb4",
       "IPY_MODEL_ec96b9f6ae2245598514cd4a7e871fea"
      ],
      "layout": "IPY_MODEL_d139bf39d62a4ef2a94de9cd41fea46d"
     }
    },
    "6bc1cc15984f43a8acd010eeeae38d26": {
     "model_module": "@jupyter-widgets/base",
     "model_module_version": "1.2.0",
     "model_name": "LayoutModel",
     "state": {
      "_model_module": "@jupyter-widgets/base",
      "_model_module_version": "1.2.0",
      "_model_name": "LayoutModel",
      "_view_count": null,
      "_view_module": "@jupyter-widgets/base",
      "_view_module_version": "1.2.0",
      "_view_name": "LayoutView",
      "align_content": null,
      "align_items": null,
      "align_self": null,
      "border": null,
      "bottom": null,
      "display": null,
      "flex": null,
      "flex_flow": null,
      "grid_area": null,
      "grid_auto_columns": null,
      "grid_auto_flow": null,
      "grid_auto_rows": null,
      "grid_column": null,
      "grid_gap": null,
      "grid_row": null,
      "grid_template_areas": null,
      "grid_template_columns": null,
      "grid_template_rows": null,
      "height": null,
      "justify_content": null,
      "justify_items": null,
      "left": null,
      "margin": null,
      "max_height": null,
      "max_width": null,
      "min_height": null,
      "min_width": null,
      "object_fit": null,
      "object_position": null,
      "order": null,
      "overflow": null,
      "overflow_x": null,
      "overflow_y": null,
      "padding": null,
      "right": null,
      "top": null,
      "visibility": null,
      "width": null
     }
    },
    "71def09a34824a359deba179333e620f": {
     "model_module": "@jupyter-widgets/base",
     "model_module_version": "1.2.0",
     "model_name": "LayoutModel",
     "state": {
      "_model_module": "@jupyter-widgets/base",
      "_model_module_version": "1.2.0",
      "_model_name": "LayoutModel",
      "_view_count": null,
      "_view_module": "@jupyter-widgets/base",
      "_view_module_version": "1.2.0",
      "_view_name": "LayoutView",
      "align_content": null,
      "align_items": null,
      "align_self": null,
      "border": null,
      "bottom": null,
      "display": null,
      "flex": null,
      "flex_flow": null,
      "grid_area": null,
      "grid_auto_columns": null,
      "grid_auto_flow": null,
      "grid_auto_rows": null,
      "grid_column": null,
      "grid_gap": null,
      "grid_row": null,
      "grid_template_areas": null,
      "grid_template_columns": null,
      "grid_template_rows": null,
      "height": null,
      "justify_content": null,
      "justify_items": null,
      "left": null,
      "margin": null,
      "max_height": null,
      "max_width": null,
      "min_height": null,
      "min_width": null,
      "object_fit": null,
      "object_position": null,
      "order": null,
      "overflow": null,
      "overflow_x": null,
      "overflow_y": null,
      "padding": null,
      "right": null,
      "top": null,
      "visibility": null,
      "width": null
     }
    },
    "750af3908dbf440d93cdb62e67f8de67": {
     "model_module": "@jupyter-widgets/base",
     "model_module_version": "1.2.0",
     "model_name": "LayoutModel",
     "state": {
      "_model_module": "@jupyter-widgets/base",
      "_model_module_version": "1.2.0",
      "_model_name": "LayoutModel",
      "_view_count": null,
      "_view_module": "@jupyter-widgets/base",
      "_view_module_version": "1.2.0",
      "_view_name": "LayoutView",
      "align_content": null,
      "align_items": null,
      "align_self": null,
      "border": null,
      "bottom": null,
      "display": null,
      "flex": null,
      "flex_flow": null,
      "grid_area": null,
      "grid_auto_columns": null,
      "grid_auto_flow": null,
      "grid_auto_rows": null,
      "grid_column": null,
      "grid_gap": null,
      "grid_row": null,
      "grid_template_areas": null,
      "grid_template_columns": null,
      "grid_template_rows": null,
      "height": null,
      "justify_content": null,
      "justify_items": null,
      "left": null,
      "margin": null,
      "max_height": null,
      "max_width": null,
      "min_height": null,
      "min_width": null,
      "object_fit": null,
      "object_position": null,
      "order": null,
      "overflow": null,
      "overflow_x": null,
      "overflow_y": null,
      "padding": null,
      "right": null,
      "top": null,
      "visibility": null,
      "width": null
     }
    },
    "76928d44c0b940fcb3e572074744cf8e": {
     "model_module": "@jupyter-widgets/base",
     "model_module_version": "1.2.0",
     "model_name": "LayoutModel",
     "state": {
      "_model_module": "@jupyter-widgets/base",
      "_model_module_version": "1.2.0",
      "_model_name": "LayoutModel",
      "_view_count": null,
      "_view_module": "@jupyter-widgets/base",
      "_view_module_version": "1.2.0",
      "_view_name": "LayoutView",
      "align_content": null,
      "align_items": null,
      "align_self": null,
      "border": null,
      "bottom": null,
      "display": null,
      "flex": null,
      "flex_flow": null,
      "grid_area": null,
      "grid_auto_columns": null,
      "grid_auto_flow": null,
      "grid_auto_rows": null,
      "grid_column": null,
      "grid_gap": null,
      "grid_row": null,
      "grid_template_areas": null,
      "grid_template_columns": null,
      "grid_template_rows": null,
      "height": null,
      "justify_content": null,
      "justify_items": null,
      "left": null,
      "margin": null,
      "max_height": null,
      "max_width": null,
      "min_height": null,
      "min_width": null,
      "object_fit": null,
      "object_position": null,
      "order": null,
      "overflow": null,
      "overflow_x": null,
      "overflow_y": null,
      "padding": null,
      "right": null,
      "top": null,
      "visibility": null,
      "width": null
     }
    },
    "76a704eee1264effa67dfcade3985c26": {
     "model_module": "@jupyter-widgets/controls",
     "model_module_version": "1.5.0",
     "model_name": "HTMLModel",
     "state": {
      "_dom_classes": [],
      "_model_module": "@jupyter-widgets/controls",
      "_model_module_version": "1.5.0",
      "_model_name": "HTMLModel",
      "_view_count": null,
      "_view_module": "@jupyter-widgets/controls",
      "_view_module_version": "1.5.0",
      "_view_name": "HTMLView",
      "description": "",
      "description_tooltip": null,
      "layout": "IPY_MODEL_579639c2d4914f1f9c8cf36981840f5f",
      "placeholder": "​",
      "style": "IPY_MODEL_24778979a71149538fbe25ea3292e26a",
      "value": " 830/830 [01:24&lt;00:00,  9.77batch/s, current_loss=2.94, mean_loss=2.88]"
     }
    },
    "76c870b140894da09217a857a93a6bd0": {
     "model_module": "@jupyter-widgets/controls",
     "model_module_version": "1.5.0",
     "model_name": "HBoxModel",
     "state": {
      "_dom_classes": [],
      "_model_module": "@jupyter-widgets/controls",
      "_model_module_version": "1.5.0",
      "_model_name": "HBoxModel",
      "_view_count": null,
      "_view_module": "@jupyter-widgets/controls",
      "_view_module_version": "1.5.0",
      "_view_name": "HBoxView",
      "box_style": "",
      "children": [
       "IPY_MODEL_3e7d39ede0fb469fa74f5dce18f33aa3",
       "IPY_MODEL_f109800173ad4d61bbddf77cba07943e",
       "IPY_MODEL_b8ed564a458c44578d2261ec9799f6b7"
      ],
      "layout": "IPY_MODEL_69416d5908574389b6913e9d2f46b0dd"
     }
    },
    "7717e7a2fe614eb88d1cebd9da432bb1": {
     "model_module": "@jupyter-widgets/base",
     "model_module_version": "1.2.0",
     "model_name": "LayoutModel",
     "state": {
      "_model_module": "@jupyter-widgets/base",
      "_model_module_version": "1.2.0",
      "_model_name": "LayoutModel",
      "_view_count": null,
      "_view_module": "@jupyter-widgets/base",
      "_view_module_version": "1.2.0",
      "_view_name": "LayoutView",
      "align_content": null,
      "align_items": null,
      "align_self": null,
      "border": null,
      "bottom": null,
      "display": null,
      "flex": null,
      "flex_flow": null,
      "grid_area": null,
      "grid_auto_columns": null,
      "grid_auto_flow": null,
      "grid_auto_rows": null,
      "grid_column": null,
      "grid_gap": null,
      "grid_row": null,
      "grid_template_areas": null,
      "grid_template_columns": null,
      "grid_template_rows": null,
      "height": null,
      "justify_content": null,
      "justify_items": null,
      "left": null,
      "margin": null,
      "max_height": null,
      "max_width": null,
      "min_height": null,
      "min_width": null,
      "object_fit": null,
      "object_position": null,
      "order": null,
      "overflow": null,
      "overflow_x": null,
      "overflow_y": null,
      "padding": null,
      "right": null,
      "top": null,
      "visibility": null,
      "width": null
     }
    },
    "78903021a69d441abdc0e56989f59675": {
     "model_module": "@jupyter-widgets/base",
     "model_module_version": "1.2.0",
     "model_name": "LayoutModel",
     "state": {
      "_model_module": "@jupyter-widgets/base",
      "_model_module_version": "1.2.0",
      "_model_name": "LayoutModel",
      "_view_count": null,
      "_view_module": "@jupyter-widgets/base",
      "_view_module_version": "1.2.0",
      "_view_name": "LayoutView",
      "align_content": null,
      "align_items": null,
      "align_self": null,
      "border": null,
      "bottom": null,
      "display": null,
      "flex": null,
      "flex_flow": null,
      "grid_area": null,
      "grid_auto_columns": null,
      "grid_auto_flow": null,
      "grid_auto_rows": null,
      "grid_column": null,
      "grid_gap": null,
      "grid_row": null,
      "grid_template_areas": null,
      "grid_template_columns": null,
      "grid_template_rows": null,
      "height": null,
      "justify_content": null,
      "justify_items": null,
      "left": null,
      "margin": null,
      "max_height": null,
      "max_width": null,
      "min_height": null,
      "min_width": null,
      "object_fit": null,
      "object_position": null,
      "order": null,
      "overflow": null,
      "overflow_x": null,
      "overflow_y": null,
      "padding": null,
      "right": null,
      "top": null,
      "visibility": null,
      "width": null
     }
    },
    "789bc82d306648bba9e3ec2fbdaa6ff6": {
     "model_module": "@jupyter-widgets/controls",
     "model_module_version": "1.5.0",
     "model_name": "HBoxModel",
     "state": {
      "_dom_classes": [],
      "_model_module": "@jupyter-widgets/controls",
      "_model_module_version": "1.5.0",
      "_model_name": "HBoxModel",
      "_view_count": null,
      "_view_module": "@jupyter-widgets/controls",
      "_view_module_version": "1.5.0",
      "_view_name": "HBoxView",
      "box_style": "",
      "children": [
       "IPY_MODEL_a906125971744be096acfd85291bfd45",
       "IPY_MODEL_460ad7a35e55463ab3622eccaee07e9d",
       "IPY_MODEL_a85e6c2c721d462bba9397a4df69778d"
      ],
      "layout": "IPY_MODEL_b94a4323fbb74c749b96ab6e4681aae3"
     }
    },
    "78ecec4997d14b699cf7dde5f639598f": {
     "model_module": "@jupyter-widgets/controls",
     "model_module_version": "1.5.0",
     "model_name": "DescriptionStyleModel",
     "state": {
      "_model_module": "@jupyter-widgets/controls",
      "_model_module_version": "1.5.0",
      "_model_name": "DescriptionStyleModel",
      "_view_count": null,
      "_view_module": "@jupyter-widgets/base",
      "_view_module_version": "1.2.0",
      "_view_name": "StyleView",
      "description_width": ""
     }
    },
    "79447e2c0be74178ac319310106331ae": {
     "model_module": "@jupyter-widgets/controls",
     "model_module_version": "1.5.0",
     "model_name": "DescriptionStyleModel",
     "state": {
      "_model_module": "@jupyter-widgets/controls",
      "_model_module_version": "1.5.0",
      "_model_name": "DescriptionStyleModel",
      "_view_count": null,
      "_view_module": "@jupyter-widgets/base",
      "_view_module_version": "1.2.0",
      "_view_name": "StyleView",
      "description_width": ""
     }
    },
    "79dfb8c4bda54f4f980d8fe50732cb17": {
     "model_module": "@jupyter-widgets/base",
     "model_module_version": "1.2.0",
     "model_name": "LayoutModel",
     "state": {
      "_model_module": "@jupyter-widgets/base",
      "_model_module_version": "1.2.0",
      "_model_name": "LayoutModel",
      "_view_count": null,
      "_view_module": "@jupyter-widgets/base",
      "_view_module_version": "1.2.0",
      "_view_name": "LayoutView",
      "align_content": null,
      "align_items": null,
      "align_self": null,
      "border": null,
      "bottom": null,
      "display": null,
      "flex": null,
      "flex_flow": null,
      "grid_area": null,
      "grid_auto_columns": null,
      "grid_auto_flow": null,
      "grid_auto_rows": null,
      "grid_column": null,
      "grid_gap": null,
      "grid_row": null,
      "grid_template_areas": null,
      "grid_template_columns": null,
      "grid_template_rows": null,
      "height": null,
      "justify_content": null,
      "justify_items": null,
      "left": null,
      "margin": null,
      "max_height": null,
      "max_width": null,
      "min_height": null,
      "min_width": null,
      "object_fit": null,
      "object_position": null,
      "order": null,
      "overflow": null,
      "overflow_x": null,
      "overflow_y": null,
      "padding": null,
      "right": null,
      "top": null,
      "visibility": null,
      "width": null
     }
    },
    "7bb50b640c864b2faab6d1e9abcb12ae": {
     "model_module": "@jupyter-widgets/controls",
     "model_module_version": "1.5.0",
     "model_name": "HTMLModel",
     "state": {
      "_dom_classes": [],
      "_model_module": "@jupyter-widgets/controls",
      "_model_module_version": "1.5.0",
      "_model_name": "HTMLModel",
      "_view_count": null,
      "_view_module": "@jupyter-widgets/controls",
      "_view_module_version": "1.5.0",
      "_view_name": "HTMLView",
      "description": "",
      "description_tooltip": null,
      "layout": "IPY_MODEL_7c3571d9aa1c485898aaf4674424bbd1",
      "placeholder": "​",
      "style": "IPY_MODEL_c17a1159b1504e35b3365d9ab683e9ab",
      "value": " 830/830 [01:56&lt;00:00,  7.66batch/s, current_loss=3.81, mean_loss=3.26]"
     }
    },
    "7c3571d9aa1c485898aaf4674424bbd1": {
     "model_module": "@jupyter-widgets/base",
     "model_module_version": "1.2.0",
     "model_name": "LayoutModel",
     "state": {
      "_model_module": "@jupyter-widgets/base",
      "_model_module_version": "1.2.0",
      "_model_name": "LayoutModel",
      "_view_count": null,
      "_view_module": "@jupyter-widgets/base",
      "_view_module_version": "1.2.0",
      "_view_name": "LayoutView",
      "align_content": null,
      "align_items": null,
      "align_self": null,
      "border": null,
      "bottom": null,
      "display": null,
      "flex": null,
      "flex_flow": null,
      "grid_area": null,
      "grid_auto_columns": null,
      "grid_auto_flow": null,
      "grid_auto_rows": null,
      "grid_column": null,
      "grid_gap": null,
      "grid_row": null,
      "grid_template_areas": null,
      "grid_template_columns": null,
      "grid_template_rows": null,
      "height": null,
      "justify_content": null,
      "justify_items": null,
      "left": null,
      "margin": null,
      "max_height": null,
      "max_width": null,
      "min_height": null,
      "min_width": null,
      "object_fit": null,
      "object_position": null,
      "order": null,
      "overflow": null,
      "overflow_x": null,
      "overflow_y": null,
      "padding": null,
      "right": null,
      "top": null,
      "visibility": null,
      "width": null
     }
    },
    "7c957745145a4c01b71bfddf85d1b972": {
     "model_module": "@jupyter-widgets/controls",
     "model_module_version": "1.5.0",
     "model_name": "HTMLModel",
     "state": {
      "_dom_classes": [],
      "_model_module": "@jupyter-widgets/controls",
      "_model_module_version": "1.5.0",
      "_model_name": "HTMLModel",
      "_view_count": null,
      "_view_module": "@jupyter-widgets/controls",
      "_view_module_version": "1.5.0",
      "_view_name": "HTMLView",
      "description": "",
      "description_tooltip": null,
      "layout": "IPY_MODEL_ce2477c12cef4e239bd003d6cc81e614",
      "placeholder": "​",
      "style": "IPY_MODEL_12331af41b714fda8746d2699c12fab1",
      "value": "epoch 5: 100%"
     }
    },
    "7cfc9641ae524428a77d6f181a63941c": {
     "model_module": "@jupyter-widgets/base",
     "model_module_version": "1.2.0",
     "model_name": "LayoutModel",
     "state": {
      "_model_module": "@jupyter-widgets/base",
      "_model_module_version": "1.2.0",
      "_model_name": "LayoutModel",
      "_view_count": null,
      "_view_module": "@jupyter-widgets/base",
      "_view_module_version": "1.2.0",
      "_view_name": "LayoutView",
      "align_content": null,
      "align_items": null,
      "align_self": null,
      "border": null,
      "bottom": null,
      "display": null,
      "flex": null,
      "flex_flow": null,
      "grid_area": null,
      "grid_auto_columns": null,
      "grid_auto_flow": null,
      "grid_auto_rows": null,
      "grid_column": null,
      "grid_gap": null,
      "grid_row": null,
      "grid_template_areas": null,
      "grid_template_columns": null,
      "grid_template_rows": null,
      "height": null,
      "justify_content": null,
      "justify_items": null,
      "left": null,
      "margin": null,
      "max_height": null,
      "max_width": null,
      "min_height": null,
      "min_width": null,
      "object_fit": null,
      "object_position": null,
      "order": null,
      "overflow": null,
      "overflow_x": null,
      "overflow_y": null,
      "padding": null,
      "right": null,
      "top": null,
      "visibility": null,
      "width": null
     }
    },
    "7d43ac5a53c44c9f9d957dc089a16a35": {
     "model_module": "@jupyter-widgets/controls",
     "model_module_version": "1.5.0",
     "model_name": "FloatProgressModel",
     "state": {
      "_dom_classes": [],
      "_model_module": "@jupyter-widgets/controls",
      "_model_module_version": "1.5.0",
      "_model_name": "FloatProgressModel",
      "_view_count": null,
      "_view_module": "@jupyter-widgets/controls",
      "_view_module_version": "1.5.0",
      "_view_name": "ProgressView",
      "bar_style": "success",
      "description": "",
      "description_tooltip": null,
      "layout": "IPY_MODEL_3c99d8c6edde4863b5ba890ca7502622",
      "max": 28,
      "min": 0,
      "orientation": "horizontal",
      "style": "IPY_MODEL_639cba040d5743fb998b95a6b00eaa05",
      "value": 28
     }
    },
    "7fb1510ad31c4f2eb1de2cdc18a96ce7": {
     "model_module": "@jupyter-widgets/controls",
     "model_module_version": "1.5.0",
     "model_name": "HBoxModel",
     "state": {
      "_dom_classes": [],
      "_model_module": "@jupyter-widgets/controls",
      "_model_module_version": "1.5.0",
      "_model_name": "HBoxModel",
      "_view_count": null,
      "_view_module": "@jupyter-widgets/controls",
      "_view_module_version": "1.5.0",
      "_view_name": "HBoxView",
      "box_style": "",
      "children": [
       "IPY_MODEL_ef79c061224d465595b392fa25115dac",
       "IPY_MODEL_4f8de45c318a4bd3b5d9848eb28b19cf",
       "IPY_MODEL_bceae7240f754530a1b7eed8ff5abd64"
      ],
      "layout": "IPY_MODEL_ad2035b3957b46429a5bd725621db446"
     }
    },
    "7ff896a53960483aa10e223bb4cf0c62": {
     "model_module": "@jupyter-widgets/controls",
     "model_module_version": "1.5.0",
     "model_name": "DescriptionStyleModel",
     "state": {
      "_model_module": "@jupyter-widgets/controls",
      "_model_module_version": "1.5.0",
      "_model_name": "DescriptionStyleModel",
      "_view_count": null,
      "_view_module": "@jupyter-widgets/base",
      "_view_module_version": "1.2.0",
      "_view_name": "StyleView",
      "description_width": ""
     }
    },
    "8050f47f13844ed68ca301f45ef5836d": {
     "model_module": "@jupyter-widgets/controls",
     "model_module_version": "1.5.0",
     "model_name": "HBoxModel",
     "state": {
      "_dom_classes": [],
      "_model_module": "@jupyter-widgets/controls",
      "_model_module_version": "1.5.0",
      "_model_name": "HBoxModel",
      "_view_count": null,
      "_view_module": "@jupyter-widgets/controls",
      "_view_module_version": "1.5.0",
      "_view_name": "HBoxView",
      "box_style": "",
      "children": [
       "IPY_MODEL_8927a3533e5c49d69092099215b65f5f",
       "IPY_MODEL_c9172e648b504422bdd741bb176cab81",
       "IPY_MODEL_f9df986bfc634e41b46f91458be525a1"
      ],
      "layout": "IPY_MODEL_fd638af281a049579483b85d75328611"
     }
    },
    "8475ce8418fd414e8b7822ccc7a9d526": {
     "model_module": "@jupyter-widgets/controls",
     "model_module_version": "1.5.0",
     "model_name": "ProgressStyleModel",
     "state": {
      "_model_module": "@jupyter-widgets/controls",
      "_model_module_version": "1.5.0",
      "_model_name": "ProgressStyleModel",
      "_view_count": null,
      "_view_module": "@jupyter-widgets/base",
      "_view_module_version": "1.2.0",
      "_view_name": "StyleView",
      "bar_color": null,
      "description_width": ""
     }
    },
    "8626c56f671d44bdae8625a1b05bfd1b": {
     "model_module": "@jupyter-widgets/controls",
     "model_module_version": "1.5.0",
     "model_name": "HTMLModel",
     "state": {
      "_dom_classes": [],
      "_model_module": "@jupyter-widgets/controls",
      "_model_module_version": "1.5.0",
      "_model_name": "HTMLModel",
      "_view_count": null,
      "_view_module": "@jupyter-widgets/controls",
      "_view_module_version": "1.5.0",
      "_view_name": "HTMLView",
      "description": "",
      "description_tooltip": null,
      "layout": "IPY_MODEL_9a55ad0d0eff4251bba5bed523baabaf",
      "placeholder": "​",
      "style": "IPY_MODEL_8a1051d432f24463a08db0dc3c83b33f",
      "value": " 256M/256M [00:08&lt;00:00, 33.4MB/s]"
     }
    },
    "86a71236b7e346d4bfc99b0d94b9bb14": {
     "model_module": "@jupyter-widgets/controls",
     "model_module_version": "1.5.0",
     "model_name": "HTMLModel",
     "state": {
      "_dom_classes": [],
      "_model_module": "@jupyter-widgets/controls",
      "_model_module_version": "1.5.0",
      "_model_name": "HTMLModel",
      "_view_count": null,
      "_view_module": "@jupyter-widgets/controls",
      "_view_module_version": "1.5.0",
      "_view_name": "HTMLView",
      "description": "",
      "description_tooltip": null,
      "layout": "IPY_MODEL_ef32368d17f8463899423ff0e042caf7",
      "placeholder": "​",
      "style": "IPY_MODEL_2c6d7d817b6b4e7ab358b2b92345e3ca",
      "value": "epoch 7: 100%"
     }
    },
    "86c41f0b293c4cf699ce4e568204248d": {
     "model_module": "@jupyter-widgets/controls",
     "model_module_version": "1.5.0",
     "model_name": "DescriptionStyleModel",
     "state": {
      "_model_module": "@jupyter-widgets/controls",
      "_model_module_version": "1.5.0",
      "_model_name": "DescriptionStyleModel",
      "_view_count": null,
      "_view_module": "@jupyter-widgets/base",
      "_view_module_version": "1.2.0",
      "_view_name": "StyleView",
      "description_width": ""
     }
    },
    "87ada33938fc400a9eb6ef21d3b747d4": {
     "model_module": "@jupyter-widgets/controls",
     "model_module_version": "1.5.0",
     "model_name": "HTMLModel",
     "state": {
      "_dom_classes": [],
      "_model_module": "@jupyter-widgets/controls",
      "_model_module_version": "1.5.0",
      "_model_name": "HTMLModel",
      "_view_count": null,
      "_view_module": "@jupyter-widgets/controls",
      "_view_module_version": "1.5.0",
      "_view_name": "HTMLView",
      "description": "",
      "description_tooltip": null,
      "layout": "IPY_MODEL_32cdde9f69194e379aa9fb52c846153b",
      "placeholder": "​",
      "style": "IPY_MODEL_9d05edd417894821a97e3b3050717208",
      "value": "epoch 3: 100%"
     }
    },
    "88c6dfb19dcd437ea237ee13e5a7b8ed": {
     "model_module": "@jupyter-widgets/controls",
     "model_module_version": "1.5.0",
     "model_name": "DescriptionStyleModel",
     "state": {
      "_model_module": "@jupyter-widgets/controls",
      "_model_module_version": "1.5.0",
      "_model_name": "DescriptionStyleModel",
      "_view_count": null,
      "_view_module": "@jupyter-widgets/base",
      "_view_module_version": "1.2.0",
      "_view_name": "StyleView",
      "description_width": ""
     }
    },
    "8927a3533e5c49d69092099215b65f5f": {
     "model_module": "@jupyter-widgets/controls",
     "model_module_version": "1.5.0",
     "model_name": "HTMLModel",
     "state": {
      "_dom_classes": [],
      "_model_module": "@jupyter-widgets/controls",
      "_model_module_version": "1.5.0",
      "_model_name": "HTMLModel",
      "_view_count": null,
      "_view_module": "@jupyter-widgets/controls",
      "_view_module_version": "1.5.0",
      "_view_name": "HTMLView",
      "description": "",
      "description_tooltip": null,
      "layout": "IPY_MODEL_4a97af6a18994e69a853c8b43447b5d0",
      "placeholder": "​",
      "style": "IPY_MODEL_03ac9c5e53bc4921b8dbd87776c5ecb9",
      "value": "Downloading: 100%"
     }
    },
    "898f070553dd4323a32985068de9c0c8": {
     "model_module": "@jupyter-widgets/controls",
     "model_module_version": "1.5.0",
     "model_name": "DescriptionStyleModel",
     "state": {
      "_model_module": "@jupyter-widgets/controls",
      "_model_module_version": "1.5.0",
      "_model_name": "DescriptionStyleModel",
      "_view_count": null,
      "_view_module": "@jupyter-widgets/base",
      "_view_module_version": "1.2.0",
      "_view_name": "StyleView",
      "description_width": ""
     }
    },
    "8a1051d432f24463a08db0dc3c83b33f": {
     "model_module": "@jupyter-widgets/controls",
     "model_module_version": "1.5.0",
     "model_name": "DescriptionStyleModel",
     "state": {
      "_model_module": "@jupyter-widgets/controls",
      "_model_module_version": "1.5.0",
      "_model_name": "DescriptionStyleModel",
      "_view_count": null,
      "_view_module": "@jupyter-widgets/base",
      "_view_module_version": "1.2.0",
      "_view_name": "StyleView",
      "description_width": ""
     }
    },
    "8a536efdbf7e450d9b64997e734293ac": {
     "model_module": "@jupyter-widgets/base",
     "model_module_version": "1.2.0",
     "model_name": "LayoutModel",
     "state": {
      "_model_module": "@jupyter-widgets/base",
      "_model_module_version": "1.2.0",
      "_model_name": "LayoutModel",
      "_view_count": null,
      "_view_module": "@jupyter-widgets/base",
      "_view_module_version": "1.2.0",
      "_view_name": "LayoutView",
      "align_content": null,
      "align_items": null,
      "align_self": null,
      "border": null,
      "bottom": null,
      "display": null,
      "flex": null,
      "flex_flow": null,
      "grid_area": null,
      "grid_auto_columns": null,
      "grid_auto_flow": null,
      "grid_auto_rows": null,
      "grid_column": null,
      "grid_gap": null,
      "grid_row": null,
      "grid_template_areas": null,
      "grid_template_columns": null,
      "grid_template_rows": null,
      "height": null,
      "justify_content": null,
      "justify_items": null,
      "left": null,
      "margin": null,
      "max_height": null,
      "max_width": null,
      "min_height": null,
      "min_width": null,
      "object_fit": null,
      "object_position": null,
      "order": null,
      "overflow": null,
      "overflow_x": null,
      "overflow_y": null,
      "padding": null,
      "right": null,
      "top": null,
      "visibility": null,
      "width": null
     }
    },
    "8ae3aa88caef476096a8a548e2bf07cd": {
     "model_module": "@jupyter-widgets/controls",
     "model_module_version": "1.5.0",
     "model_name": "HTMLModel",
     "state": {
      "_dom_classes": [],
      "_model_module": "@jupyter-widgets/controls",
      "_model_module_version": "1.5.0",
      "_model_name": "HTMLModel",
      "_view_count": null,
      "_view_module": "@jupyter-widgets/controls",
      "_view_module_version": "1.5.0",
      "_view_name": "HTMLView",
      "description": "",
      "description_tooltip": null,
      "layout": "IPY_MODEL_2e67188b01d54dc1a6b79d2ab13d4c61",
      "placeholder": "​",
      "style": "IPY_MODEL_b19fae87382a490cb6cf6ead5ddc4be6",
      "value": "epoch 1: 100%"
     }
    },
    "8b1d944798df4fdfab5497267d5d6695": {
     "model_module": "@jupyter-widgets/base",
     "model_module_version": "1.2.0",
     "model_name": "LayoutModel",
     "state": {
      "_model_module": "@jupyter-widgets/base",
      "_model_module_version": "1.2.0",
      "_model_name": "LayoutModel",
      "_view_count": null,
      "_view_module": "@jupyter-widgets/base",
      "_view_module_version": "1.2.0",
      "_view_name": "LayoutView",
      "align_content": null,
      "align_items": null,
      "align_self": null,
      "border": null,
      "bottom": null,
      "display": null,
      "flex": null,
      "flex_flow": null,
      "grid_area": null,
      "grid_auto_columns": null,
      "grid_auto_flow": null,
      "grid_auto_rows": null,
      "grid_column": null,
      "grid_gap": null,
      "grid_row": null,
      "grid_template_areas": null,
      "grid_template_columns": null,
      "grid_template_rows": null,
      "height": null,
      "justify_content": null,
      "justify_items": null,
      "left": null,
      "margin": null,
      "max_height": null,
      "max_width": null,
      "min_height": null,
      "min_width": null,
      "object_fit": null,
      "object_position": null,
      "order": null,
      "overflow": null,
      "overflow_x": null,
      "overflow_y": null,
      "padding": null,
      "right": null,
      "top": null,
      "visibility": null,
      "width": null
     }
    },
    "8c71fadf09cb4fe8bec28d4d6e823ce5": {
     "model_module": "@jupyter-widgets/base",
     "model_module_version": "1.2.0",
     "model_name": "LayoutModel",
     "state": {
      "_model_module": "@jupyter-widgets/base",
      "_model_module_version": "1.2.0",
      "_model_name": "LayoutModel",
      "_view_count": null,
      "_view_module": "@jupyter-widgets/base",
      "_view_module_version": "1.2.0",
      "_view_name": "LayoutView",
      "align_content": null,
      "align_items": null,
      "align_self": null,
      "border": null,
      "bottom": null,
      "display": null,
      "flex": null,
      "flex_flow": null,
      "grid_area": null,
      "grid_auto_columns": null,
      "grid_auto_flow": null,
      "grid_auto_rows": null,
      "grid_column": null,
      "grid_gap": null,
      "grid_row": null,
      "grid_template_areas": null,
      "grid_template_columns": null,
      "grid_template_rows": null,
      "height": null,
      "justify_content": null,
      "justify_items": null,
      "left": null,
      "margin": null,
      "max_height": null,
      "max_width": null,
      "min_height": null,
      "min_width": null,
      "object_fit": null,
      "object_position": null,
      "order": null,
      "overflow": null,
      "overflow_x": null,
      "overflow_y": null,
      "padding": null,
      "right": null,
      "top": null,
      "visibility": null,
      "width": null
     }
    },
    "8d8db6d39b814b1786b29aff3adef7d6": {
     "model_module": "@jupyter-widgets/controls",
     "model_module_version": "1.5.0",
     "model_name": "HBoxModel",
     "state": {
      "_dom_classes": [],
      "_model_module": "@jupyter-widgets/controls",
      "_model_module_version": "1.5.0",
      "_model_name": "HBoxModel",
      "_view_count": null,
      "_view_module": "@jupyter-widgets/controls",
      "_view_module_version": "1.5.0",
      "_view_name": "HBoxView",
      "box_style": "",
      "children": [
       "IPY_MODEL_8ae3aa88caef476096a8a548e2bf07cd",
       "IPY_MODEL_9a10e3aa2f6e4cb29e2ae229f24a758a",
       "IPY_MODEL_c53e5ca13d5f485786b5c713d63f4aa2"
      ],
      "layout": "IPY_MODEL_8b1d944798df4fdfab5497267d5d6695"
     }
    },
    "8e17fdfb85ad4e3b883c2e03332f89e2": {
     "model_module": "@jupyter-widgets/controls",
     "model_module_version": "1.5.0",
     "model_name": "DescriptionStyleModel",
     "state": {
      "_model_module": "@jupyter-widgets/controls",
      "_model_module_version": "1.5.0",
      "_model_name": "DescriptionStyleModel",
      "_view_count": null,
      "_view_module": "@jupyter-widgets/base",
      "_view_module_version": "1.2.0",
      "_view_name": "StyleView",
      "description_width": ""
     }
    },
    "8efa804521214002aa4232df02806eda": {
     "model_module": "@jupyter-widgets/controls",
     "model_module_version": "1.5.0",
     "model_name": "ProgressStyleModel",
     "state": {
      "_model_module": "@jupyter-widgets/controls",
      "_model_module_version": "1.5.0",
      "_model_name": "ProgressStyleModel",
      "_view_count": null,
      "_view_module": "@jupyter-widgets/base",
      "_view_module_version": "1.2.0",
      "_view_name": "StyleView",
      "bar_color": null,
      "description_width": ""
     }
    },
    "8fa426d58ea24f1f85ac37c180edfe8f": {
     "model_module": "@jupyter-widgets/controls",
     "model_module_version": "1.5.0",
     "model_name": "HTMLModel",
     "state": {
      "_dom_classes": [],
      "_model_module": "@jupyter-widgets/controls",
      "_model_module_version": "1.5.0",
      "_model_name": "HTMLModel",
      "_view_count": null,
      "_view_module": "@jupyter-widgets/controls",
      "_view_module_version": "1.5.0",
      "_view_name": "HTMLView",
      "description": "",
      "description_tooltip": null,
      "layout": "IPY_MODEL_79dfb8c4bda54f4f980d8fe50732cb17",
      "placeholder": "​",
      "style": "IPY_MODEL_a83d8baca73e4991b93091590e9b1145",
      "value": " 830/830 [01:24&lt;00:00,  9.87batch/s, current_loss=3.59, mean_loss=3.21]"
     }
    },
    "9080ece7685f46098305a51205669005": {
     "model_module": "@jupyter-widgets/base",
     "model_module_version": "1.2.0",
     "model_name": "LayoutModel",
     "state": {
      "_model_module": "@jupyter-widgets/base",
      "_model_module_version": "1.2.0",
      "_model_name": "LayoutModel",
      "_view_count": null,
      "_view_module": "@jupyter-widgets/base",
      "_view_module_version": "1.2.0",
      "_view_name": "LayoutView",
      "align_content": null,
      "align_items": null,
      "align_self": null,
      "border": null,
      "bottom": null,
      "display": null,
      "flex": null,
      "flex_flow": null,
      "grid_area": null,
      "grid_auto_columns": null,
      "grid_auto_flow": null,
      "grid_auto_rows": null,
      "grid_column": null,
      "grid_gap": null,
      "grid_row": null,
      "grid_template_areas": null,
      "grid_template_columns": null,
      "grid_template_rows": null,
      "height": null,
      "justify_content": null,
      "justify_items": null,
      "left": null,
      "margin": null,
      "max_height": null,
      "max_width": null,
      "min_height": null,
      "min_width": null,
      "object_fit": null,
      "object_position": null,
      "order": null,
      "overflow": null,
      "overflow_x": null,
      "overflow_y": null,
      "padding": null,
      "right": null,
      "top": null,
      "visibility": null,
      "width": null
     }
    },
    "920e3e52fa95440a91bedb420d4ffc21": {
     "model_module": "@jupyter-widgets/base",
     "model_module_version": "1.2.0",
     "model_name": "LayoutModel",
     "state": {
      "_model_module": "@jupyter-widgets/base",
      "_model_module_version": "1.2.0",
      "_model_name": "LayoutModel",
      "_view_count": null,
      "_view_module": "@jupyter-widgets/base",
      "_view_module_version": "1.2.0",
      "_view_name": "LayoutView",
      "align_content": null,
      "align_items": null,
      "align_self": null,
      "border": null,
      "bottom": null,
      "display": null,
      "flex": null,
      "flex_flow": null,
      "grid_area": null,
      "grid_auto_columns": null,
      "grid_auto_flow": null,
      "grid_auto_rows": null,
      "grid_column": null,
      "grid_gap": null,
      "grid_row": null,
      "grid_template_areas": null,
      "grid_template_columns": null,
      "grid_template_rows": null,
      "height": null,
      "justify_content": null,
      "justify_items": null,
      "left": null,
      "margin": null,
      "max_height": null,
      "max_width": null,
      "min_height": null,
      "min_width": null,
      "object_fit": null,
      "object_position": null,
      "order": null,
      "overflow": null,
      "overflow_x": null,
      "overflow_y": null,
      "padding": null,
      "right": null,
      "top": null,
      "visibility": null,
      "width": null
     }
    },
    "92deb455d8d9402bb50352399cc0dcb4": {
     "model_module": "@jupyter-widgets/controls",
     "model_module_version": "1.5.0",
     "model_name": "FloatProgressModel",
     "state": {
      "_dom_classes": [],
      "_model_module": "@jupyter-widgets/controls",
      "_model_module_version": "1.5.0",
      "_model_name": "FloatProgressModel",
      "_view_count": null,
      "_view_module": "@jupyter-widgets/controls",
      "_view_module_version": "1.5.0",
      "_view_name": "ProgressView",
      "bar_style": "success",
      "description": "",
      "description_tooltip": null,
      "layout": "IPY_MODEL_2f3449e71c2a46abadd2d7fdd773da4c",
      "max": 830,
      "min": 0,
      "orientation": "horizontal",
      "style": "IPY_MODEL_096f75b2281f48a5a8b93baab9fbefe5",
      "value": 830
     }
    },
    "96382890675744afa0b7f7f02de7936d": {
     "model_module": "@jupyter-widgets/controls",
     "model_module_version": "1.5.0",
     "model_name": "HTMLModel",
     "state": {
      "_dom_classes": [],
      "_model_module": "@jupyter-widgets/controls",
      "_model_module_version": "1.5.0",
      "_model_name": "HTMLModel",
      "_view_count": null,
      "_view_module": "@jupyter-widgets/controls",
      "_view_module_version": "1.5.0",
      "_view_name": "HTMLView",
      "description": "",
      "description_tooltip": null,
      "layout": "IPY_MODEL_d7cab1d6497543808d6fd394e45822aa",
      "placeholder": "​",
      "style": "IPY_MODEL_8e17fdfb85ad4e3b883c2e03332f89e2",
      "value": " 830/830 [01:24&lt;00:00,  9.90batch/s, current_loss=3.47, mean_loss=3.42]"
     }
    },
    "968c5eb1da924d97950605398731d1b1": {
     "model_module": "@jupyter-widgets/base",
     "model_module_version": "1.2.0",
     "model_name": "LayoutModel",
     "state": {
      "_model_module": "@jupyter-widgets/base",
      "_model_module_version": "1.2.0",
      "_model_name": "LayoutModel",
      "_view_count": null,
      "_view_module": "@jupyter-widgets/base",
      "_view_module_version": "1.2.0",
      "_view_name": "LayoutView",
      "align_content": null,
      "align_items": null,
      "align_self": null,
      "border": null,
      "bottom": null,
      "display": null,
      "flex": null,
      "flex_flow": null,
      "grid_area": null,
      "grid_auto_columns": null,
      "grid_auto_flow": null,
      "grid_auto_rows": null,
      "grid_column": null,
      "grid_gap": null,
      "grid_row": null,
      "grid_template_areas": null,
      "grid_template_columns": null,
      "grid_template_rows": null,
      "height": null,
      "justify_content": null,
      "justify_items": null,
      "left": null,
      "margin": null,
      "max_height": null,
      "max_width": null,
      "min_height": null,
      "min_width": null,
      "object_fit": null,
      "object_position": null,
      "order": null,
      "overflow": null,
      "overflow_x": null,
      "overflow_y": null,
      "padding": null,
      "right": null,
      "top": null,
      "visibility": null,
      "width": null
     }
    },
    "971cbae7e2b647bba5aa4c96df15fe9c": {
     "model_module": "@jupyter-widgets/base",
     "model_module_version": "1.2.0",
     "model_name": "LayoutModel",
     "state": {
      "_model_module": "@jupyter-widgets/base",
      "_model_module_version": "1.2.0",
      "_model_name": "LayoutModel",
      "_view_count": null,
      "_view_module": "@jupyter-widgets/base",
      "_view_module_version": "1.2.0",
      "_view_name": "LayoutView",
      "align_content": null,
      "align_items": null,
      "align_self": null,
      "border": null,
      "bottom": null,
      "display": null,
      "flex": null,
      "flex_flow": null,
      "grid_area": null,
      "grid_auto_columns": null,
      "grid_auto_flow": null,
      "grid_auto_rows": null,
      "grid_column": null,
      "grid_gap": null,
      "grid_row": null,
      "grid_template_areas": null,
      "grid_template_columns": null,
      "grid_template_rows": null,
      "height": null,
      "justify_content": null,
      "justify_items": null,
      "left": null,
      "margin": null,
      "max_height": null,
      "max_width": null,
      "min_height": null,
      "min_width": null,
      "object_fit": null,
      "object_position": null,
      "order": null,
      "overflow": null,
      "overflow_x": null,
      "overflow_y": null,
      "padding": null,
      "right": null,
      "top": null,
      "visibility": null,
      "width": null
     }
    },
    "973cdc2ef9534e2493f8c3af56cf3b38": {
     "model_module": "@jupyter-widgets/controls",
     "model_module_version": "1.5.0",
     "model_name": "HBoxModel",
     "state": {
      "_dom_classes": [],
      "_model_module": "@jupyter-widgets/controls",
      "_model_module_version": "1.5.0",
      "_model_name": "HBoxModel",
      "_view_count": null,
      "_view_module": "@jupyter-widgets/controls",
      "_view_module_version": "1.5.0",
      "_view_name": "HBoxView",
      "box_style": "",
      "children": [
       "IPY_MODEL_7c957745145a4c01b71bfddf85d1b972",
       "IPY_MODEL_3badf99d674442c1b90f44afd7674475",
       "IPY_MODEL_76a704eee1264effa67dfcade3985c26"
      ],
      "layout": "IPY_MODEL_5aad480a788a44afb2cd4d7ddf7d6c03"
     }
    },
    "9a10e3aa2f6e4cb29e2ae229f24a758a": {
     "model_module": "@jupyter-widgets/controls",
     "model_module_version": "1.5.0",
     "model_name": "FloatProgressModel",
     "state": {
      "_dom_classes": [],
      "_model_module": "@jupyter-widgets/controls",
      "_model_module_version": "1.5.0",
      "_model_name": "FloatProgressModel",
      "_view_count": null,
      "_view_module": "@jupyter-widgets/controls",
      "_view_module_version": "1.5.0",
      "_view_name": "ProgressView",
      "bar_style": "success",
      "description": "",
      "description_tooltip": null,
      "layout": "IPY_MODEL_971cbae7e2b647bba5aa4c96df15fe9c",
      "max": 830,
      "min": 0,
      "orientation": "horizontal",
      "style": "IPY_MODEL_01d7c429c8a64f64b7ad086a2920b453",
      "value": 830
     }
    },
    "9a55ad0d0eff4251bba5bed523baabaf": {
     "model_module": "@jupyter-widgets/base",
     "model_module_version": "1.2.0",
     "model_name": "LayoutModel",
     "state": {
      "_model_module": "@jupyter-widgets/base",
      "_model_module_version": "1.2.0",
      "_model_name": "LayoutModel",
      "_view_count": null,
      "_view_module": "@jupyter-widgets/base",
      "_view_module_version": "1.2.0",
      "_view_name": "LayoutView",
      "align_content": null,
      "align_items": null,
      "align_self": null,
      "border": null,
      "bottom": null,
      "display": null,
      "flex": null,
      "flex_flow": null,
      "grid_area": null,
      "grid_auto_columns": null,
      "grid_auto_flow": null,
      "grid_auto_rows": null,
      "grid_column": null,
      "grid_gap": null,
      "grid_row": null,
      "grid_template_areas": null,
      "grid_template_columns": null,
      "grid_template_rows": null,
      "height": null,
      "justify_content": null,
      "justify_items": null,
      "left": null,
      "margin": null,
      "max_height": null,
      "max_width": null,
      "min_height": null,
      "min_width": null,
      "object_fit": null,
      "object_position": null,
      "order": null,
      "overflow": null,
      "overflow_x": null,
      "overflow_y": null,
      "padding": null,
      "right": null,
      "top": null,
      "visibility": null,
      "width": null
     }
    },
    "9d05edd417894821a97e3b3050717208": {
     "model_module": "@jupyter-widgets/controls",
     "model_module_version": "1.5.0",
     "model_name": "DescriptionStyleModel",
     "state": {
      "_model_module": "@jupyter-widgets/controls",
      "_model_module_version": "1.5.0",
      "_model_name": "DescriptionStyleModel",
      "_view_count": null,
      "_view_module": "@jupyter-widgets/base",
      "_view_module_version": "1.2.0",
      "_view_name": "StyleView",
      "description_width": ""
     }
    },
    "a30c2ced9b56429197c103ac0388cc9a": {
     "model_module": "@jupyter-widgets/controls",
     "model_module_version": "1.5.0",
     "model_name": "HBoxModel",
     "state": {
      "_dom_classes": [],
      "_model_module": "@jupyter-widgets/controls",
      "_model_module_version": "1.5.0",
      "_model_name": "HBoxModel",
      "_view_count": null,
      "_view_module": "@jupyter-widgets/controls",
      "_view_module_version": "1.5.0",
      "_view_name": "HBoxView",
      "box_style": "",
      "children": [
       "IPY_MODEL_d6b9d8f91b2d4213a0459660ecefb308",
       "IPY_MODEL_6611cb333a614273942115414ae05c1b",
       "IPY_MODEL_f99c9875435347a9897dce2e9a39aae8"
      ],
      "layout": "IPY_MODEL_d5908510acbb4a7ea08234148fbeefd2"
     }
    },
    "a32eb9f493ab46efb1471ac811fe7907": {
     "model_module": "@jupyter-widgets/base",
     "model_module_version": "1.2.0",
     "model_name": "LayoutModel",
     "state": {
      "_model_module": "@jupyter-widgets/base",
      "_model_module_version": "1.2.0",
      "_model_name": "LayoutModel",
      "_view_count": null,
      "_view_module": "@jupyter-widgets/base",
      "_view_module_version": "1.2.0",
      "_view_name": "LayoutView",
      "align_content": null,
      "align_items": null,
      "align_self": null,
      "border": null,
      "bottom": null,
      "display": null,
      "flex": null,
      "flex_flow": null,
      "grid_area": null,
      "grid_auto_columns": null,
      "grid_auto_flow": null,
      "grid_auto_rows": null,
      "grid_column": null,
      "grid_gap": null,
      "grid_row": null,
      "grid_template_areas": null,
      "grid_template_columns": null,
      "grid_template_rows": null,
      "height": null,
      "justify_content": null,
      "justify_items": null,
      "left": null,
      "margin": null,
      "max_height": null,
      "max_width": null,
      "min_height": null,
      "min_width": null,
      "object_fit": null,
      "object_position": null,
      "order": null,
      "overflow": null,
      "overflow_x": null,
      "overflow_y": null,
      "padding": null,
      "right": null,
      "top": null,
      "visibility": null,
      "width": null
     }
    },
    "a4a6e06084464658a389381c49b3b246": {
     "model_module": "@jupyter-widgets/base",
     "model_module_version": "1.2.0",
     "model_name": "LayoutModel",
     "state": {
      "_model_module": "@jupyter-widgets/base",
      "_model_module_version": "1.2.0",
      "_model_name": "LayoutModel",
      "_view_count": null,
      "_view_module": "@jupyter-widgets/base",
      "_view_module_version": "1.2.0",
      "_view_name": "LayoutView",
      "align_content": null,
      "align_items": null,
      "align_self": null,
      "border": null,
      "bottom": null,
      "display": null,
      "flex": null,
      "flex_flow": null,
      "grid_area": null,
      "grid_auto_columns": null,
      "grid_auto_flow": null,
      "grid_auto_rows": null,
      "grid_column": null,
      "grid_gap": null,
      "grid_row": null,
      "grid_template_areas": null,
      "grid_template_columns": null,
      "grid_template_rows": null,
      "height": null,
      "justify_content": null,
      "justify_items": null,
      "left": null,
      "margin": null,
      "max_height": null,
      "max_width": null,
      "min_height": null,
      "min_width": null,
      "object_fit": null,
      "object_position": null,
      "order": null,
      "overflow": null,
      "overflow_x": null,
      "overflow_y": null,
      "padding": null,
      "right": null,
      "top": null,
      "visibility": null,
      "width": null
     }
    },
    "a63e5930ec2c4ed3997065fd58f40788": {
     "model_module": "@jupyter-widgets/base",
     "model_module_version": "1.2.0",
     "model_name": "LayoutModel",
     "state": {
      "_model_module": "@jupyter-widgets/base",
      "_model_module_version": "1.2.0",
      "_model_name": "LayoutModel",
      "_view_count": null,
      "_view_module": "@jupyter-widgets/base",
      "_view_module_version": "1.2.0",
      "_view_name": "LayoutView",
      "align_content": null,
      "align_items": null,
      "align_self": null,
      "border": null,
      "bottom": null,
      "display": null,
      "flex": null,
      "flex_flow": null,
      "grid_area": null,
      "grid_auto_columns": null,
      "grid_auto_flow": null,
      "grid_auto_rows": null,
      "grid_column": null,
      "grid_gap": null,
      "grid_row": null,
      "grid_template_areas": null,
      "grid_template_columns": null,
      "grid_template_rows": null,
      "height": null,
      "justify_content": null,
      "justify_items": null,
      "left": null,
      "margin": null,
      "max_height": null,
      "max_width": null,
      "min_height": null,
      "min_width": null,
      "object_fit": null,
      "object_position": null,
      "order": null,
      "overflow": null,
      "overflow_x": null,
      "overflow_y": null,
      "padding": null,
      "right": null,
      "top": null,
      "visibility": null,
      "width": null
     }
    },
    "a709a0dd1496471abfdbc6b295b959ab": {
     "model_module": "@jupyter-widgets/controls",
     "model_module_version": "1.5.0",
     "model_name": "FloatProgressModel",
     "state": {
      "_dom_classes": [],
      "_model_module": "@jupyter-widgets/controls",
      "_model_module_version": "1.5.0",
      "_model_name": "FloatProgressModel",
      "_view_count": null,
      "_view_module": "@jupyter-widgets/controls",
      "_view_module_version": "1.5.0",
      "_view_name": "ProgressView",
      "bar_style": "success",
      "description": "",
      "description_tooltip": null,
      "layout": "IPY_MODEL_eb2fab725be343cca34c635e008ad070",
      "max": 830,
      "min": 0,
      "orientation": "horizontal",
      "style": "IPY_MODEL_649ecf670d0d4a3d8fed09881c90d59f",
      "value": 830
     }
    },
    "a83d8baca73e4991b93091590e9b1145": {
     "model_module": "@jupyter-widgets/controls",
     "model_module_version": "1.5.0",
     "model_name": "DescriptionStyleModel",
     "state": {
      "_model_module": "@jupyter-widgets/controls",
      "_model_module_version": "1.5.0",
      "_model_name": "DescriptionStyleModel",
      "_view_count": null,
      "_view_module": "@jupyter-widgets/base",
      "_view_module_version": "1.2.0",
      "_view_name": "StyleView",
      "description_width": ""
     }
    },
    "a85e6c2c721d462bba9397a4df69778d": {
     "model_module": "@jupyter-widgets/controls",
     "model_module_version": "1.5.0",
     "model_name": "HTMLModel",
     "state": {
      "_dom_classes": [],
      "_model_module": "@jupyter-widgets/controls",
      "_model_module_version": "1.5.0",
      "_model_name": "HTMLModel",
      "_view_count": null,
      "_view_module": "@jupyter-widgets/controls",
      "_view_module_version": "1.5.0",
      "_view_name": "HTMLView",
      "description": "",
      "description_tooltip": null,
      "layout": "IPY_MODEL_4680475191b546c7ac54a2594910ee0e",
      "placeholder": "​",
      "style": "IPY_MODEL_2260323b01b748c1b8cb76280b9e8a60",
      "value": " 8/8 [15:31&lt;00:00, 116.35s/epoch]"
     }
    },
    "a906125971744be096acfd85291bfd45": {
     "model_module": "@jupyter-widgets/controls",
     "model_module_version": "1.5.0",
     "model_name": "HTMLModel",
     "state": {
      "_dom_classes": [],
      "_model_module": "@jupyter-widgets/controls",
      "_model_module_version": "1.5.0",
      "_model_name": "HTMLModel",
      "_view_count": null,
      "_view_module": "@jupyter-widgets/controls",
      "_view_module_version": "1.5.0",
      "_view_name": "HTMLView",
      "description": "",
      "description_tooltip": null,
      "layout": "IPY_MODEL_a32eb9f493ab46efb1471ac811fe7907",
      "placeholder": "​",
      "style": "IPY_MODEL_490124a1d0c04ea0ac9e152e97ed3a3e",
      "value": "training: 100%"
     }
    },
    "a99c07a39bc24f7b94ce1ec006ec113a": {
     "model_module": "@jupyter-widgets/controls",
     "model_module_version": "1.5.0",
     "model_name": "HBoxModel",
     "state": {
      "_dom_classes": [],
      "_model_module": "@jupyter-widgets/controls",
      "_model_module_version": "1.5.0",
      "_model_name": "HBoxModel",
      "_view_count": null,
      "_view_module": "@jupyter-widgets/controls",
      "_view_module_version": "1.5.0",
      "_view_name": "HBoxView",
      "box_style": "",
      "children": [
       "IPY_MODEL_b95073576dab49adba74424cc2901c8c",
       "IPY_MODEL_5dd097e8ecef44e784a8f6937f05a085",
       "IPY_MODEL_8626c56f671d44bdae8625a1b05bfd1b"
      ],
      "layout": "IPY_MODEL_059950502c604b888722ebe446c39913"
     }
    },
    "a9b42e2d15b049cca7f80f197158ce1f": {
     "model_module": "@jupyter-widgets/controls",
     "model_module_version": "1.5.0",
     "model_name": "HBoxModel",
     "state": {
      "_dom_classes": [],
      "_model_module": "@jupyter-widgets/controls",
      "_model_module_version": "1.5.0",
      "_model_name": "HBoxModel",
      "_view_count": null,
      "_view_module": "@jupyter-widgets/controls",
      "_view_module_version": "1.5.0",
      "_view_name": "HBoxView",
      "box_style": "",
      "children": [
       "IPY_MODEL_c1f6a79de9654075bb88367c9577ea68",
       "IPY_MODEL_a709a0dd1496471abfdbc6b295b959ab",
       "IPY_MODEL_2c19bd41434b4c3991b2269b8ff90c54"
      ],
      "layout": "IPY_MODEL_3d1d8cc78d9f415a883dbea0761b0df0"
     }
    },
    "aa67c11a184c4bb08bca5678be543aa6": {
     "model_module": "@jupyter-widgets/controls",
     "model_module_version": "1.5.0",
     "model_name": "HTMLModel",
     "state": {
      "_dom_classes": [],
      "_model_module": "@jupyter-widgets/controls",
      "_model_module_version": "1.5.0",
      "_model_name": "HTMLModel",
      "_view_count": null,
      "_view_module": "@jupyter-widgets/controls",
      "_view_module_version": "1.5.0",
      "_view_name": "HTMLView",
      "description": "",
      "description_tooltip": null,
      "layout": "IPY_MODEL_76928d44c0b940fcb3e572074744cf8e",
      "placeholder": "​",
      "style": "IPY_MODEL_d81053d852cb4e18a1761b8b06dc2109",
      "value": " 830/830 [01:24&lt;00:00,  9.89batch/s, current_loss=2.49, mean_loss=3.04]"
     }
    },
    "ab698103d5904eaabd5de9b8fc17c36b": {
     "model_module": "@jupyter-widgets/controls",
     "model_module_version": "1.5.0",
     "model_name": "DescriptionStyleModel",
     "state": {
      "_model_module": "@jupyter-widgets/controls",
      "_model_module_version": "1.5.0",
      "_model_name": "DescriptionStyleModel",
      "_view_count": null,
      "_view_module": "@jupyter-widgets/base",
      "_view_module_version": "1.2.0",
      "_view_name": "StyleView",
      "description_width": ""
     }
    },
    "ab940bbfb0e0469c9415ef584d4ed2f8": {
     "model_module": "@jupyter-widgets/base",
     "model_module_version": "1.2.0",
     "model_name": "LayoutModel",
     "state": {
      "_model_module": "@jupyter-widgets/base",
      "_model_module_version": "1.2.0",
      "_model_name": "LayoutModel",
      "_view_count": null,
      "_view_module": "@jupyter-widgets/base",
      "_view_module_version": "1.2.0",
      "_view_name": "LayoutView",
      "align_content": null,
      "align_items": null,
      "align_self": null,
      "border": null,
      "bottom": null,
      "display": null,
      "flex": null,
      "flex_flow": null,
      "grid_area": null,
      "grid_auto_columns": null,
      "grid_auto_flow": null,
      "grid_auto_rows": null,
      "grid_column": null,
      "grid_gap": null,
      "grid_row": null,
      "grid_template_areas": null,
      "grid_template_columns": null,
      "grid_template_rows": null,
      "height": null,
      "justify_content": null,
      "justify_items": null,
      "left": null,
      "margin": null,
      "max_height": null,
      "max_width": null,
      "min_height": null,
      "min_width": null,
      "object_fit": null,
      "object_position": null,
      "order": null,
      "overflow": null,
      "overflow_x": null,
      "overflow_y": null,
      "padding": null,
      "right": null,
      "top": null,
      "visibility": null,
      "width": null
     }
    },
    "ad2035b3957b46429a5bd725621db446": {
     "model_module": "@jupyter-widgets/base",
     "model_module_version": "1.2.0",
     "model_name": "LayoutModel",
     "state": {
      "_model_module": "@jupyter-widgets/base",
      "_model_module_version": "1.2.0",
      "_model_name": "LayoutModel",
      "_view_count": null,
      "_view_module": "@jupyter-widgets/base",
      "_view_module_version": "1.2.0",
      "_view_name": "LayoutView",
      "align_content": null,
      "align_items": null,
      "align_self": null,
      "border": null,
      "bottom": null,
      "display": null,
      "flex": null,
      "flex_flow": null,
      "grid_area": null,
      "grid_auto_columns": null,
      "grid_auto_flow": null,
      "grid_auto_rows": null,
      "grid_column": null,
      "grid_gap": null,
      "grid_row": null,
      "grid_template_areas": null,
      "grid_template_columns": null,
      "grid_template_rows": null,
      "height": null,
      "justify_content": null,
      "justify_items": null,
      "left": null,
      "margin": null,
      "max_height": null,
      "max_width": null,
      "min_height": null,
      "min_width": null,
      "object_fit": null,
      "object_position": null,
      "order": null,
      "overflow": null,
      "overflow_x": null,
      "overflow_y": null,
      "padding": null,
      "right": null,
      "top": null,
      "visibility": null,
      "width": null
     }
    },
    "ae2c76a608c7428bb57e8f07b9ff73bf": {
     "model_module": "@jupyter-widgets/controls",
     "model_module_version": "1.5.0",
     "model_name": "FloatProgressModel",
     "state": {
      "_dom_classes": [],
      "_model_module": "@jupyter-widgets/controls",
      "_model_module_version": "1.5.0",
      "_model_name": "FloatProgressModel",
      "_view_count": null,
      "_view_module": "@jupyter-widgets/controls",
      "_view_module_version": "1.5.0",
      "_view_name": "ProgressView",
      "bar_style": "success",
      "description": "",
      "description_tooltip": null,
      "layout": "IPY_MODEL_fc240c09364d4360a2247e98ce419636",
      "max": 830,
      "min": 0,
      "orientation": "horizontal",
      "style": "IPY_MODEL_e103fe237aa54f9ebfeee75ec263b221",
      "value": 830
     }
    },
    "af2dc8f0d9a748b5aecb9eed0548388c": {
     "model_module": "@jupyter-widgets/controls",
     "model_module_version": "1.5.0",
     "model_name": "ProgressStyleModel",
     "state": {
      "_model_module": "@jupyter-widgets/controls",
      "_model_module_version": "1.5.0",
      "_model_name": "ProgressStyleModel",
      "_view_count": null,
      "_view_module": "@jupyter-widgets/base",
      "_view_module_version": "1.2.0",
      "_view_name": "StyleView",
      "bar_color": null,
      "description_width": ""
     }
    },
    "b0d906b4b7b44a7c83d6e5ee920b6087": {
     "model_module": "@jupyter-widgets/controls",
     "model_module_version": "1.5.0",
     "model_name": "DescriptionStyleModel",
     "state": {
      "_model_module": "@jupyter-widgets/controls",
      "_model_module_version": "1.5.0",
      "_model_name": "DescriptionStyleModel",
      "_view_count": null,
      "_view_module": "@jupyter-widgets/base",
      "_view_module_version": "1.2.0",
      "_view_name": "StyleView",
      "description_width": ""
     }
    },
    "b15d2348b22d4704ae96fe07143554d3": {
     "model_module": "@jupyter-widgets/base",
     "model_module_version": "1.2.0",
     "model_name": "LayoutModel",
     "state": {
      "_model_module": "@jupyter-widgets/base",
      "_model_module_version": "1.2.0",
      "_model_name": "LayoutModel",
      "_view_count": null,
      "_view_module": "@jupyter-widgets/base",
      "_view_module_version": "1.2.0",
      "_view_name": "LayoutView",
      "align_content": null,
      "align_items": null,
      "align_self": null,
      "border": null,
      "bottom": null,
      "display": null,
      "flex": null,
      "flex_flow": null,
      "grid_area": null,
      "grid_auto_columns": null,
      "grid_auto_flow": null,
      "grid_auto_rows": null,
      "grid_column": null,
      "grid_gap": null,
      "grid_row": null,
      "grid_template_areas": null,
      "grid_template_columns": null,
      "grid_template_rows": null,
      "height": null,
      "justify_content": null,
      "justify_items": null,
      "left": null,
      "margin": null,
      "max_height": null,
      "max_width": null,
      "min_height": null,
      "min_width": null,
      "object_fit": null,
      "object_position": null,
      "order": null,
      "overflow": null,
      "overflow_x": null,
      "overflow_y": null,
      "padding": null,
      "right": null,
      "top": null,
      "visibility": null,
      "width": null
     }
    },
    "b19fae87382a490cb6cf6ead5ddc4be6": {
     "model_module": "@jupyter-widgets/controls",
     "model_module_version": "1.5.0",
     "model_name": "DescriptionStyleModel",
     "state": {
      "_model_module": "@jupyter-widgets/controls",
      "_model_module_version": "1.5.0",
      "_model_name": "DescriptionStyleModel",
      "_view_count": null,
      "_view_module": "@jupyter-widgets/base",
      "_view_module_version": "1.2.0",
      "_view_name": "StyleView",
      "description_width": ""
     }
    },
    "b55873e6aa654f2cbb9aae0143d6b1e5": {
     "model_module": "@jupyter-widgets/controls",
     "model_module_version": "1.5.0",
     "model_name": "HBoxModel",
     "state": {
      "_dom_classes": [],
      "_model_module": "@jupyter-widgets/controls",
      "_model_module_version": "1.5.0",
      "_model_name": "HBoxModel",
      "_view_count": null,
      "_view_module": "@jupyter-widgets/controls",
      "_view_module_version": "1.5.0",
      "_view_name": "HBoxView",
      "box_style": "",
      "children": [
       "IPY_MODEL_86a71236b7e346d4bfc99b0d94b9bb14",
       "IPY_MODEL_0cdabc2684944a3f9d2784fdd9411250",
       "IPY_MODEL_1afa44aabf25493999403492b920722e"
      ],
      "layout": "IPY_MODEL_05403b5cc56d40d3a115bfee48bf6f3e"
     }
    },
    "b74d841608474f67b00494df2ee68a3c": {
     "model_module": "@jupyter-widgets/base",
     "model_module_version": "1.2.0",
     "model_name": "LayoutModel",
     "state": {
      "_model_module": "@jupyter-widgets/base",
      "_model_module_version": "1.2.0",
      "_model_name": "LayoutModel",
      "_view_count": null,
      "_view_module": "@jupyter-widgets/base",
      "_view_module_version": "1.2.0",
      "_view_name": "LayoutView",
      "align_content": null,
      "align_items": null,
      "align_self": null,
      "border": null,
      "bottom": null,
      "display": null,
      "flex": null,
      "flex_flow": null,
      "grid_area": null,
      "grid_auto_columns": null,
      "grid_auto_flow": null,
      "grid_auto_rows": null,
      "grid_column": null,
      "grid_gap": null,
      "grid_row": null,
      "grid_template_areas": null,
      "grid_template_columns": null,
      "grid_template_rows": null,
      "height": null,
      "justify_content": null,
      "justify_items": null,
      "left": null,
      "margin": null,
      "max_height": null,
      "max_width": null,
      "min_height": null,
      "min_width": null,
      "object_fit": null,
      "object_position": null,
      "order": null,
      "overflow": null,
      "overflow_x": null,
      "overflow_y": null,
      "padding": null,
      "right": null,
      "top": null,
      "visibility": null,
      "width": null
     }
    },
    "b8ed564a458c44578d2261ec9799f6b7": {
     "model_module": "@jupyter-widgets/controls",
     "model_module_version": "1.5.0",
     "model_name": "HTMLModel",
     "state": {
      "_dom_classes": [],
      "_model_module": "@jupyter-widgets/controls",
      "_model_module_version": "1.5.0",
      "_model_name": "HTMLModel",
      "_view_count": null,
      "_view_module": "@jupyter-widgets/controls",
      "_view_module_version": "1.5.0",
      "_view_name": "HTMLView",
      "description": "",
      "description_tooltip": null,
      "layout": "IPY_MODEL_7717e7a2fe614eb88d1cebd9da432bb1",
      "placeholder": "​",
      "style": "IPY_MODEL_ab698103d5904eaabd5de9b8fc17c36b",
      "value": " 830/830 [01:24&lt;00:00, 10.00batch/s, current_loss=2.65, mean_loss=2.73]"
     }
    },
    "b94a4323fbb74c749b96ab6e4681aae3": {
     "model_module": "@jupyter-widgets/base",
     "model_module_version": "1.2.0",
     "model_name": "LayoutModel",
     "state": {
      "_model_module": "@jupyter-widgets/base",
      "_model_module_version": "1.2.0",
      "_model_name": "LayoutModel",
      "_view_count": null,
      "_view_module": "@jupyter-widgets/base",
      "_view_module_version": "1.2.0",
      "_view_name": "LayoutView",
      "align_content": null,
      "align_items": null,
      "align_self": null,
      "border": null,
      "bottom": null,
      "display": null,
      "flex": null,
      "flex_flow": null,
      "grid_area": null,
      "grid_auto_columns": null,
      "grid_auto_flow": null,
      "grid_auto_rows": null,
      "grid_column": null,
      "grid_gap": null,
      "grid_row": null,
      "grid_template_areas": null,
      "grid_template_columns": null,
      "grid_template_rows": null,
      "height": null,
      "justify_content": null,
      "justify_items": null,
      "left": null,
      "margin": null,
      "max_height": null,
      "max_width": null,
      "min_height": null,
      "min_width": null,
      "object_fit": null,
      "object_position": null,
      "order": null,
      "overflow": null,
      "overflow_x": null,
      "overflow_y": null,
      "padding": null,
      "right": null,
      "top": null,
      "visibility": null,
      "width": null
     }
    },
    "b95073576dab49adba74424cc2901c8c": {
     "model_module": "@jupyter-widgets/controls",
     "model_module_version": "1.5.0",
     "model_name": "HTMLModel",
     "state": {
      "_dom_classes": [],
      "_model_module": "@jupyter-widgets/controls",
      "_model_module_version": "1.5.0",
      "_model_name": "HTMLModel",
      "_view_count": null,
      "_view_module": "@jupyter-widgets/controls",
      "_view_module_version": "1.5.0",
      "_view_name": "HTMLView",
      "description": "",
      "description_tooltip": null,
      "layout": "IPY_MODEL_a4a6e06084464658a389381c49b3b246",
      "placeholder": "​",
      "style": "IPY_MODEL_4534a69036674e4893722c087336b2af",
      "value": "Downloading: 100%"
     }
    },
    "b98a63e1ca8e426db560d4bd231a9003": {
     "model_module": "@jupyter-widgets/controls",
     "model_module_version": "1.5.0",
     "model_name": "HTMLModel",
     "state": {
      "_dom_classes": [],
      "_model_module": "@jupyter-widgets/controls",
      "_model_module_version": "1.5.0",
      "_model_name": "HTMLModel",
      "_view_count": null,
      "_view_module": "@jupyter-widgets/controls",
      "_view_module_version": "1.5.0",
      "_view_name": "HTMLView",
      "description": "",
      "description_tooltip": null,
      "layout": "IPY_MODEL_5071874b10c94af49d94c9b192600db7",
      "placeholder": "​",
      "style": "IPY_MODEL_d630b63a7b9644e08b6ea26a768fc148",
      "value": " 830/830 [01:56&lt;00:00,  7.78batch/s, current_loss=2.68, mean_loss=2.16]"
     }
    },
    "bb4bc01a0654439481212163f8d1cdf5": {
     "model_module": "@jupyter-widgets/controls",
     "model_module_version": "1.5.0",
     "model_name": "DescriptionStyleModel",
     "state": {
      "_model_module": "@jupyter-widgets/controls",
      "_model_module_version": "1.5.0",
      "_model_name": "DescriptionStyleModel",
      "_view_count": null,
      "_view_module": "@jupyter-widgets/base",
      "_view_module_version": "1.2.0",
      "_view_name": "StyleView",
      "description_width": ""
     }
    },
    "bc1821089653472ba5bd46ae264ff9dc": {
     "model_module": "@jupyter-widgets/base",
     "model_module_version": "1.2.0",
     "model_name": "LayoutModel",
     "state": {
      "_model_module": "@jupyter-widgets/base",
      "_model_module_version": "1.2.0",
      "_model_name": "LayoutModel",
      "_view_count": null,
      "_view_module": "@jupyter-widgets/base",
      "_view_module_version": "1.2.0",
      "_view_name": "LayoutView",
      "align_content": null,
      "align_items": null,
      "align_self": null,
      "border": null,
      "bottom": null,
      "display": null,
      "flex": null,
      "flex_flow": null,
      "grid_area": null,
      "grid_auto_columns": null,
      "grid_auto_flow": null,
      "grid_auto_rows": null,
      "grid_column": null,
      "grid_gap": null,
      "grid_row": null,
      "grid_template_areas": null,
      "grid_template_columns": null,
      "grid_template_rows": null,
      "height": null,
      "justify_content": null,
      "justify_items": null,
      "left": null,
      "margin": null,
      "max_height": null,
      "max_width": null,
      "min_height": null,
      "min_width": null,
      "object_fit": null,
      "object_position": null,
      "order": null,
      "overflow": null,
      "overflow_x": null,
      "overflow_y": null,
      "padding": null,
      "right": null,
      "top": null,
      "visibility": null,
      "width": null
     }
    },
    "bceae7240f754530a1b7eed8ff5abd64": {
     "model_module": "@jupyter-widgets/controls",
     "model_module_version": "1.5.0",
     "model_name": "HTMLModel",
     "state": {
      "_dom_classes": [],
      "_model_module": "@jupyter-widgets/controls",
      "_model_module_version": "1.5.0",
      "_model_name": "HTMLModel",
      "_view_count": null,
      "_view_module": "@jupyter-widgets/controls",
      "_view_module_version": "1.5.0",
      "_view_name": "HTMLView",
      "description": "",
      "description_tooltip": null,
      "layout": "IPY_MODEL_51324e57c1324bfe8b7e8c0ba4cb91a1",
      "placeholder": "​",
      "style": "IPY_MODEL_047a8bb478d94e9f837a0cf3097ed8ac",
      "value": " 455k/455k [00:00&lt;00:00, 701kB/s]"
     }
    },
    "bdad67f19a7b42dd83d3bd7ced9aa3bb": {
     "model_module": "@jupyter-widgets/base",
     "model_module_version": "1.2.0",
     "model_name": "LayoutModel",
     "state": {
      "_model_module": "@jupyter-widgets/base",
      "_model_module_version": "1.2.0",
      "_model_name": "LayoutModel",
      "_view_count": null,
      "_view_module": "@jupyter-widgets/base",
      "_view_module_version": "1.2.0",
      "_view_name": "LayoutView",
      "align_content": null,
      "align_items": null,
      "align_self": null,
      "border": null,
      "bottom": null,
      "display": null,
      "flex": null,
      "flex_flow": null,
      "grid_area": null,
      "grid_auto_columns": null,
      "grid_auto_flow": null,
      "grid_auto_rows": null,
      "grid_column": null,
      "grid_gap": null,
      "grid_row": null,
      "grid_template_areas": null,
      "grid_template_columns": null,
      "grid_template_rows": null,
      "height": null,
      "justify_content": null,
      "justify_items": null,
      "left": null,
      "margin": null,
      "max_height": null,
      "max_width": null,
      "min_height": null,
      "min_width": null,
      "object_fit": null,
      "object_position": null,
      "order": null,
      "overflow": null,
      "overflow_x": null,
      "overflow_y": null,
      "padding": null,
      "right": null,
      "top": null,
      "visibility": null,
      "width": null
     }
    },
    "be153500416843d3a4225f721c7cd2c9": {
     "model_module": "@jupyter-widgets/base",
     "model_module_version": "1.2.0",
     "model_name": "LayoutModel",
     "state": {
      "_model_module": "@jupyter-widgets/base",
      "_model_module_version": "1.2.0",
      "_model_name": "LayoutModel",
      "_view_count": null,
      "_view_module": "@jupyter-widgets/base",
      "_view_module_version": "1.2.0",
      "_view_name": "LayoutView",
      "align_content": null,
      "align_items": null,
      "align_self": null,
      "border": null,
      "bottom": null,
      "display": null,
      "flex": null,
      "flex_flow": null,
      "grid_area": null,
      "grid_auto_columns": null,
      "grid_auto_flow": null,
      "grid_auto_rows": null,
      "grid_column": null,
      "grid_gap": null,
      "grid_row": null,
      "grid_template_areas": null,
      "grid_template_columns": null,
      "grid_template_rows": null,
      "height": null,
      "justify_content": null,
      "justify_items": null,
      "left": null,
      "margin": null,
      "max_height": null,
      "max_width": null,
      "min_height": null,
      "min_width": null,
      "object_fit": null,
      "object_position": null,
      "order": null,
      "overflow": null,
      "overflow_x": null,
      "overflow_y": null,
      "padding": null,
      "right": null,
      "top": null,
      "visibility": null,
      "width": null
     }
    },
    "be97ceea7b2b487f8bd0f2fcb135dbaf": {
     "model_module": "@jupyter-widgets/controls",
     "model_module_version": "1.5.0",
     "model_name": "HTMLModel",
     "state": {
      "_dom_classes": [],
      "_model_module": "@jupyter-widgets/controls",
      "_model_module_version": "1.5.0",
      "_model_name": "HTMLModel",
      "_view_count": null,
      "_view_module": "@jupyter-widgets/controls",
      "_view_module_version": "1.5.0",
      "_view_name": "HTMLView",
      "description": "",
      "description_tooltip": null,
      "layout": "IPY_MODEL_21720aeefd2d44daaf73911b28167afc",
      "placeholder": "​",
      "style": "IPY_MODEL_898f070553dd4323a32985068de9c0c8",
      "value": "training: 100%"
     }
    },
    "bf8d1febf78741e99e2843dd25379017": {
     "model_module": "@jupyter-widgets/base",
     "model_module_version": "1.2.0",
     "model_name": "LayoutModel",
     "state": {
      "_model_module": "@jupyter-widgets/base",
      "_model_module_version": "1.2.0",
      "_model_name": "LayoutModel",
      "_view_count": null,
      "_view_module": "@jupyter-widgets/base",
      "_view_module_version": "1.2.0",
      "_view_name": "LayoutView",
      "align_content": null,
      "align_items": null,
      "align_self": null,
      "border": null,
      "bottom": null,
      "display": null,
      "flex": null,
      "flex_flow": null,
      "grid_area": null,
      "grid_auto_columns": null,
      "grid_auto_flow": null,
      "grid_auto_rows": null,
      "grid_column": null,
      "grid_gap": null,
      "grid_row": null,
      "grid_template_areas": null,
      "grid_template_columns": null,
      "grid_template_rows": null,
      "height": null,
      "justify_content": null,
      "justify_items": null,
      "left": null,
      "margin": null,
      "max_height": null,
      "max_width": null,
      "min_height": null,
      "min_width": null,
      "object_fit": null,
      "object_position": null,
      "order": null,
      "overflow": null,
      "overflow_x": null,
      "overflow_y": null,
      "padding": null,
      "right": null,
      "top": null,
      "visibility": null,
      "width": null
     }
    },
    "c07d7bf9ed4f49e391351ffb7e659c1b": {
     "model_module": "@jupyter-widgets/controls",
     "model_module_version": "1.5.0",
     "model_name": "HBoxModel",
     "state": {
      "_dom_classes": [],
      "_model_module": "@jupyter-widgets/controls",
      "_model_module_version": "1.5.0",
      "_model_name": "HBoxModel",
      "_view_count": null,
      "_view_module": "@jupyter-widgets/controls",
      "_view_module_version": "1.5.0",
      "_view_name": "HBoxView",
      "box_style": "",
      "children": [
       "IPY_MODEL_be97ceea7b2b487f8bd0f2fcb135dbaf",
       "IPY_MODEL_17749af572b84cd2b759c6fe1342d545",
       "IPY_MODEL_5fe6569e834d47529e89b405024985ef"
      ],
      "layout": "IPY_MODEL_9080ece7685f46098305a51205669005"
     }
    },
    "c17a1159b1504e35b3365d9ab683e9ab": {
     "model_module": "@jupyter-widgets/controls",
     "model_module_version": "1.5.0",
     "model_name": "DescriptionStyleModel",
     "state": {
      "_model_module": "@jupyter-widgets/controls",
      "_model_module_version": "1.5.0",
      "_model_name": "DescriptionStyleModel",
      "_view_count": null,
      "_view_module": "@jupyter-widgets/base",
      "_view_module_version": "1.2.0",
      "_view_name": "StyleView",
      "description_width": ""
     }
    },
    "c1f6a79de9654075bb88367c9577ea68": {
     "model_module": "@jupyter-widgets/controls",
     "model_module_version": "1.5.0",
     "model_name": "HTMLModel",
     "state": {
      "_dom_classes": [],
      "_model_module": "@jupyter-widgets/controls",
      "_model_module_version": "1.5.0",
      "_model_name": "HTMLModel",
      "_view_count": null,
      "_view_module": "@jupyter-widgets/controls",
      "_view_module_version": "1.5.0",
      "_view_name": "HTMLView",
      "description": "",
      "description_tooltip": null,
      "layout": "IPY_MODEL_cde55796fa1b4b77887ce4899b5851c9",
      "placeholder": "​",
      "style": "IPY_MODEL_b0d906b4b7b44a7c83d6e5ee920b6087",
      "value": "epoch 5: 100%"
     }
    },
    "c53e5ca13d5f485786b5c713d63f4aa2": {
     "model_module": "@jupyter-widgets/controls",
     "model_module_version": "1.5.0",
     "model_name": "HTMLModel",
     "state": {
      "_dom_classes": [],
      "_model_module": "@jupyter-widgets/controls",
      "_model_module_version": "1.5.0",
      "_model_name": "HTMLModel",
      "_view_count": null,
      "_view_module": "@jupyter-widgets/controls",
      "_view_module_version": "1.5.0",
      "_view_name": "HTMLView",
      "description": "",
      "description_tooltip": null,
      "layout": "IPY_MODEL_fbe429b059d54cee95ce524788e18d00",
      "placeholder": "​",
      "style": "IPY_MODEL_ca4b614f30fd4bbb9148d8b1931b7b8f",
      "value": " 830/830 [01:56&lt;00:00,  7.61batch/s, current_loss=4.37, mean_loss=4.23]"
     }
    },
    "c9172e648b504422bdd741bb176cab81": {
     "model_module": "@jupyter-widgets/controls",
     "model_module_version": "1.5.0",
     "model_name": "FloatProgressModel",
     "state": {
      "_dom_classes": [],
      "_model_module": "@jupyter-widgets/controls",
      "_model_module_version": "1.5.0",
      "_model_name": "FloatProgressModel",
      "_view_count": null,
      "_view_module": "@jupyter-widgets/controls",
      "_view_module_version": "1.5.0",
      "_view_name": "ProgressView",
      "bar_style": "success",
      "description": "",
      "description_tooltip": null,
      "layout": "IPY_MODEL_cf519119ef0641c792f48dc6c4546ff7",
      "max": 231508,
      "min": 0,
      "orientation": "horizontal",
      "style": "IPY_MODEL_020eff3e6c504ec695672fdc4e56dec2",
      "value": 231508
     }
    },
    "c9181900c17c44d2a5dfc123e9058ae8": {
     "model_module": "@jupyter-widgets/controls",
     "model_module_version": "1.5.0",
     "model_name": "DescriptionStyleModel",
     "state": {
      "_model_module": "@jupyter-widgets/controls",
      "_model_module_version": "1.5.0",
      "_model_name": "DescriptionStyleModel",
      "_view_count": null,
      "_view_module": "@jupyter-widgets/base",
      "_view_module_version": "1.2.0",
      "_view_name": "StyleView",
      "description_width": ""
     }
    },
    "ca4b614f30fd4bbb9148d8b1931b7b8f": {
     "model_module": "@jupyter-widgets/controls",
     "model_module_version": "1.5.0",
     "model_name": "DescriptionStyleModel",
     "state": {
      "_model_module": "@jupyter-widgets/controls",
      "_model_module_version": "1.5.0",
      "_model_name": "DescriptionStyleModel",
      "_view_count": null,
      "_view_module": "@jupyter-widgets/base",
      "_view_module_version": "1.2.0",
      "_view_name": "StyleView",
      "description_width": ""
     }
    },
    "ca537e098fe14a20908b120fef60b47a": {
     "model_module": "@jupyter-widgets/controls",
     "model_module_version": "1.5.0",
     "model_name": "DescriptionStyleModel",
     "state": {
      "_model_module": "@jupyter-widgets/controls",
      "_model_module_version": "1.5.0",
      "_model_name": "DescriptionStyleModel",
      "_view_count": null,
      "_view_module": "@jupyter-widgets/base",
      "_view_module_version": "1.2.0",
      "_view_name": "StyleView",
      "description_width": ""
     }
    },
    "cde55796fa1b4b77887ce4899b5851c9": {
     "model_module": "@jupyter-widgets/base",
     "model_module_version": "1.2.0",
     "model_name": "LayoutModel",
     "state": {
      "_model_module": "@jupyter-widgets/base",
      "_model_module_version": "1.2.0",
      "_model_name": "LayoutModel",
      "_view_count": null,
      "_view_module": "@jupyter-widgets/base",
      "_view_module_version": "1.2.0",
      "_view_name": "LayoutView",
      "align_content": null,
      "align_items": null,
      "align_self": null,
      "border": null,
      "bottom": null,
      "display": null,
      "flex": null,
      "flex_flow": null,
      "grid_area": null,
      "grid_auto_columns": null,
      "grid_auto_flow": null,
      "grid_auto_rows": null,
      "grid_column": null,
      "grid_gap": null,
      "grid_row": null,
      "grid_template_areas": null,
      "grid_template_columns": null,
      "grid_template_rows": null,
      "height": null,
      "justify_content": null,
      "justify_items": null,
      "left": null,
      "margin": null,
      "max_height": null,
      "max_width": null,
      "min_height": null,
      "min_width": null,
      "object_fit": null,
      "object_position": null,
      "order": null,
      "overflow": null,
      "overflow_x": null,
      "overflow_y": null,
      "padding": null,
      "right": null,
      "top": null,
      "visibility": null,
      "width": null
     }
    },
    "ce2477c12cef4e239bd003d6cc81e614": {
     "model_module": "@jupyter-widgets/base",
     "model_module_version": "1.2.0",
     "model_name": "LayoutModel",
     "state": {
      "_model_module": "@jupyter-widgets/base",
      "_model_module_version": "1.2.0",
      "_model_name": "LayoutModel",
      "_view_count": null,
      "_view_module": "@jupyter-widgets/base",
      "_view_module_version": "1.2.0",
      "_view_name": "LayoutView",
      "align_content": null,
      "align_items": null,
      "align_self": null,
      "border": null,
      "bottom": null,
      "display": null,
      "flex": null,
      "flex_flow": null,
      "grid_area": null,
      "grid_auto_columns": null,
      "grid_auto_flow": null,
      "grid_auto_rows": null,
      "grid_column": null,
      "grid_gap": null,
      "grid_row": null,
      "grid_template_areas": null,
      "grid_template_columns": null,
      "grid_template_rows": null,
      "height": null,
      "justify_content": null,
      "justify_items": null,
      "left": null,
      "margin": null,
      "max_height": null,
      "max_width": null,
      "min_height": null,
      "min_width": null,
      "object_fit": null,
      "object_position": null,
      "order": null,
      "overflow": null,
      "overflow_x": null,
      "overflow_y": null,
      "padding": null,
      "right": null,
      "top": null,
      "visibility": null,
      "width": null
     }
    },
    "cf519119ef0641c792f48dc6c4546ff7": {
     "model_module": "@jupyter-widgets/base",
     "model_module_version": "1.2.0",
     "model_name": "LayoutModel",
     "state": {
      "_model_module": "@jupyter-widgets/base",
      "_model_module_version": "1.2.0",
      "_model_name": "LayoutModel",
      "_view_count": null,
      "_view_module": "@jupyter-widgets/base",
      "_view_module_version": "1.2.0",
      "_view_name": "LayoutView",
      "align_content": null,
      "align_items": null,
      "align_self": null,
      "border": null,
      "bottom": null,
      "display": null,
      "flex": null,
      "flex_flow": null,
      "grid_area": null,
      "grid_auto_columns": null,
      "grid_auto_flow": null,
      "grid_auto_rows": null,
      "grid_column": null,
      "grid_gap": null,
      "grid_row": null,
      "grid_template_areas": null,
      "grid_template_columns": null,
      "grid_template_rows": null,
      "height": null,
      "justify_content": null,
      "justify_items": null,
      "left": null,
      "margin": null,
      "max_height": null,
      "max_width": null,
      "min_height": null,
      "min_width": null,
      "object_fit": null,
      "object_position": null,
      "order": null,
      "overflow": null,
      "overflow_x": null,
      "overflow_y": null,
      "padding": null,
      "right": null,
      "top": null,
      "visibility": null,
      "width": null
     }
    },
    "d139bf39d62a4ef2a94de9cd41fea46d": {
     "model_module": "@jupyter-widgets/base",
     "model_module_version": "1.2.0",
     "model_name": "LayoutModel",
     "state": {
      "_model_module": "@jupyter-widgets/base",
      "_model_module_version": "1.2.0",
      "_model_name": "LayoutModel",
      "_view_count": null,
      "_view_module": "@jupyter-widgets/base",
      "_view_module_version": "1.2.0",
      "_view_name": "LayoutView",
      "align_content": null,
      "align_items": null,
      "align_self": null,
      "border": null,
      "bottom": null,
      "display": null,
      "flex": null,
      "flex_flow": null,
      "grid_area": null,
      "grid_auto_columns": null,
      "grid_auto_flow": null,
      "grid_auto_rows": null,
      "grid_column": null,
      "grid_gap": null,
      "grid_row": null,
      "grid_template_areas": null,
      "grid_template_columns": null,
      "grid_template_rows": null,
      "height": null,
      "justify_content": null,
      "justify_items": null,
      "left": null,
      "margin": null,
      "max_height": null,
      "max_width": null,
      "min_height": null,
      "min_width": null,
      "object_fit": null,
      "object_position": null,
      "order": null,
      "overflow": null,
      "overflow_x": null,
      "overflow_y": null,
      "padding": null,
      "right": null,
      "top": null,
      "visibility": null,
      "width": null
     }
    },
    "d5908510acbb4a7ea08234148fbeefd2": {
     "model_module": "@jupyter-widgets/base",
     "model_module_version": "1.2.0",
     "model_name": "LayoutModel",
     "state": {
      "_model_module": "@jupyter-widgets/base",
      "_model_module_version": "1.2.0",
      "_model_name": "LayoutModel",
      "_view_count": null,
      "_view_module": "@jupyter-widgets/base",
      "_view_module_version": "1.2.0",
      "_view_name": "LayoutView",
      "align_content": null,
      "align_items": null,
      "align_self": null,
      "border": null,
      "bottom": null,
      "display": null,
      "flex": null,
      "flex_flow": null,
      "grid_area": null,
      "grid_auto_columns": null,
      "grid_auto_flow": null,
      "grid_auto_rows": null,
      "grid_column": null,
      "grid_gap": null,
      "grid_row": null,
      "grid_template_areas": null,
      "grid_template_columns": null,
      "grid_template_rows": null,
      "height": null,
      "justify_content": null,
      "justify_items": null,
      "left": null,
      "margin": null,
      "max_height": null,
      "max_width": null,
      "min_height": null,
      "min_width": null,
      "object_fit": null,
      "object_position": null,
      "order": null,
      "overflow": null,
      "overflow_x": null,
      "overflow_y": null,
      "padding": null,
      "right": null,
      "top": null,
      "visibility": null,
      "width": null
     }
    },
    "d5f44699c0e04b6ca6a18a74ea3c6306": {
     "model_module": "@jupyter-widgets/base",
     "model_module_version": "1.2.0",
     "model_name": "LayoutModel",
     "state": {
      "_model_module": "@jupyter-widgets/base",
      "_model_module_version": "1.2.0",
      "_model_name": "LayoutModel",
      "_view_count": null,
      "_view_module": "@jupyter-widgets/base",
      "_view_module_version": "1.2.0",
      "_view_name": "LayoutView",
      "align_content": null,
      "align_items": null,
      "align_self": null,
      "border": null,
      "bottom": null,
      "display": null,
      "flex": null,
      "flex_flow": null,
      "grid_area": null,
      "grid_auto_columns": null,
      "grid_auto_flow": null,
      "grid_auto_rows": null,
      "grid_column": null,
      "grid_gap": null,
      "grid_row": null,
      "grid_template_areas": null,
      "grid_template_columns": null,
      "grid_template_rows": null,
      "height": null,
      "justify_content": null,
      "justify_items": null,
      "left": null,
      "margin": null,
      "max_height": null,
      "max_width": null,
      "min_height": null,
      "min_width": null,
      "object_fit": null,
      "object_position": null,
      "order": null,
      "overflow": null,
      "overflow_x": null,
      "overflow_y": null,
      "padding": null,
      "right": null,
      "top": null,
      "visibility": null,
      "width": null
     }
    },
    "d630b63a7b9644e08b6ea26a768fc148": {
     "model_module": "@jupyter-widgets/controls",
     "model_module_version": "1.5.0",
     "model_name": "DescriptionStyleModel",
     "state": {
      "_model_module": "@jupyter-widgets/controls",
      "_model_module_version": "1.5.0",
      "_model_name": "DescriptionStyleModel",
      "_view_count": null,
      "_view_module": "@jupyter-widgets/base",
      "_view_module_version": "1.2.0",
      "_view_name": "StyleView",
      "description_width": ""
     }
    },
    "d65701d080da4bd7adff7949b3f7c50a": {
     "model_module": "@jupyter-widgets/base",
     "model_module_version": "1.2.0",
     "model_name": "LayoutModel",
     "state": {
      "_model_module": "@jupyter-widgets/base",
      "_model_module_version": "1.2.0",
      "_model_name": "LayoutModel",
      "_view_count": null,
      "_view_module": "@jupyter-widgets/base",
      "_view_module_version": "1.2.0",
      "_view_name": "LayoutView",
      "align_content": null,
      "align_items": null,
      "align_self": null,
      "border": null,
      "bottom": null,
      "display": null,
      "flex": null,
      "flex_flow": null,
      "grid_area": null,
      "grid_auto_columns": null,
      "grid_auto_flow": null,
      "grid_auto_rows": null,
      "grid_column": null,
      "grid_gap": null,
      "grid_row": null,
      "grid_template_areas": null,
      "grid_template_columns": null,
      "grid_template_rows": null,
      "height": null,
      "justify_content": null,
      "justify_items": null,
      "left": null,
      "margin": null,
      "max_height": null,
      "max_width": null,
      "min_height": null,
      "min_width": null,
      "object_fit": null,
      "object_position": null,
      "order": null,
      "overflow": null,
      "overflow_x": null,
      "overflow_y": null,
      "padding": null,
      "right": null,
      "top": null,
      "visibility": null,
      "width": null
     }
    },
    "d6706e48c674433cbfbcf0f1c73ceaaf": {
     "model_module": "@jupyter-widgets/controls",
     "model_module_version": "1.5.0",
     "model_name": "ProgressStyleModel",
     "state": {
      "_model_module": "@jupyter-widgets/controls",
      "_model_module_version": "1.5.0",
      "_model_name": "ProgressStyleModel",
      "_view_count": null,
      "_view_module": "@jupyter-widgets/base",
      "_view_module_version": "1.2.0",
      "_view_name": "StyleView",
      "bar_color": null,
      "description_width": ""
     }
    },
    "d6b9d8f91b2d4213a0459660ecefb308": {
     "model_module": "@jupyter-widgets/controls",
     "model_module_version": "1.5.0",
     "model_name": "HTMLModel",
     "state": {
      "_dom_classes": [],
      "_model_module": "@jupyter-widgets/controls",
      "_model_module_version": "1.5.0",
      "_model_name": "HTMLModel",
      "_view_count": null,
      "_view_module": "@jupyter-widgets/controls",
      "_view_module_version": "1.5.0",
      "_view_name": "HTMLView",
      "description": "",
      "description_tooltip": null,
      "layout": "IPY_MODEL_a63e5930ec2c4ed3997065fd58f40788",
      "placeholder": "​",
      "style": "IPY_MODEL_ca537e098fe14a20908b120fef60b47a",
      "value": "Downloading: 100%"
     }
    },
    "d7233cabc43f425db99cbf290ec2c391": {
     "model_module": "@jupyter-widgets/controls",
     "model_module_version": "1.5.0",
     "model_name": "FloatProgressModel",
     "state": {
      "_dom_classes": [],
      "_model_module": "@jupyter-widgets/controls",
      "_model_module_version": "1.5.0",
      "_model_name": "FloatProgressModel",
      "_view_count": null,
      "_view_module": "@jupyter-widgets/controls",
      "_view_module_version": "1.5.0",
      "_view_name": "ProgressView",
      "bar_style": "success",
      "description": "",
      "description_tooltip": null,
      "layout": "IPY_MODEL_b74d841608474f67b00494df2ee68a3c",
      "max": 830,
      "min": 0,
      "orientation": "horizontal",
      "style": "IPY_MODEL_26f8e1926f1e42bfaf2ab3c4a246f277",
      "value": 830
     }
    },
    "d7cab1d6497543808d6fd394e45822aa": {
     "model_module": "@jupyter-widgets/base",
     "model_module_version": "1.2.0",
     "model_name": "LayoutModel",
     "state": {
      "_model_module": "@jupyter-widgets/base",
      "_model_module_version": "1.2.0",
      "_model_name": "LayoutModel",
      "_view_count": null,
      "_view_module": "@jupyter-widgets/base",
      "_view_module_version": "1.2.0",
      "_view_name": "LayoutView",
      "align_content": null,
      "align_items": null,
      "align_self": null,
      "border": null,
      "bottom": null,
      "display": null,
      "flex": null,
      "flex_flow": null,
      "grid_area": null,
      "grid_auto_columns": null,
      "grid_auto_flow": null,
      "grid_auto_rows": null,
      "grid_column": null,
      "grid_gap": null,
      "grid_row": null,
      "grid_template_areas": null,
      "grid_template_columns": null,
      "grid_template_rows": null,
      "height": null,
      "justify_content": null,
      "justify_items": null,
      "left": null,
      "margin": null,
      "max_height": null,
      "max_width": null,
      "min_height": null,
      "min_width": null,
      "object_fit": null,
      "object_position": null,
      "order": null,
      "overflow": null,
      "overflow_x": null,
      "overflow_y": null,
      "padding": null,
      "right": null,
      "top": null,
      "visibility": null,
      "width": null
     }
    },
    "d81053d852cb4e18a1761b8b06dc2109": {
     "model_module": "@jupyter-widgets/controls",
     "model_module_version": "1.5.0",
     "model_name": "DescriptionStyleModel",
     "state": {
      "_model_module": "@jupyter-widgets/controls",
      "_model_module_version": "1.5.0",
      "_model_name": "DescriptionStyleModel",
      "_view_count": null,
      "_view_module": "@jupyter-widgets/base",
      "_view_module_version": "1.2.0",
      "_view_name": "StyleView",
      "description_width": ""
     }
    },
    "dba4542f764c463d99656b68f28879fe": {
     "model_module": "@jupyter-widgets/controls",
     "model_module_version": "1.5.0",
     "model_name": "HTMLModel",
     "state": {
      "_dom_classes": [],
      "_model_module": "@jupyter-widgets/controls",
      "_model_module_version": "1.5.0",
      "_model_name": "HTMLModel",
      "_view_count": null,
      "_view_module": "@jupyter-widgets/controls",
      "_view_module_version": "1.5.0",
      "_view_name": "HTMLView",
      "description": "",
      "description_tooltip": null,
      "layout": "IPY_MODEL_6bc1cc15984f43a8acd010eeeae38d26",
      "placeholder": "​",
      "style": "IPY_MODEL_bb4bc01a0654439481212163f8d1cdf5",
      "value": "Downloading: 100%"
     }
    },
    "de086ac08fde4e9887587d8fb074478d": {
     "model_module": "@jupyter-widgets/controls",
     "model_module_version": "1.5.0",
     "model_name": "FloatProgressModel",
     "state": {
      "_dom_classes": [],
      "_model_module": "@jupyter-widgets/controls",
      "_model_module_version": "1.5.0",
      "_model_name": "FloatProgressModel",
      "_view_count": null,
      "_view_module": "@jupyter-widgets/controls",
      "_view_module_version": "1.5.0",
      "_view_name": "ProgressView",
      "bar_style": "success",
      "description": "",
      "description_tooltip": null,
      "layout": "IPY_MODEL_ec23cee759894fa4b97e651fedeaa547",
      "max": 830,
      "min": 0,
      "orientation": "horizontal",
      "style": "IPY_MODEL_fcb899843de34d04981cbcf6eb3c5d81",
      "value": 830
     }
    },
    "de8267f7cd3e41f8b55a7792c9bb7414": {
     "model_module": "@jupyter-widgets/base",
     "model_module_version": "1.2.0",
     "model_name": "LayoutModel",
     "state": {
      "_model_module": "@jupyter-widgets/base",
      "_model_module_version": "1.2.0",
      "_model_name": "LayoutModel",
      "_view_count": null,
      "_view_module": "@jupyter-widgets/base",
      "_view_module_version": "1.2.0",
      "_view_name": "LayoutView",
      "align_content": null,
      "align_items": null,
      "align_self": null,
      "border": null,
      "bottom": null,
      "display": null,
      "flex": null,
      "flex_flow": null,
      "grid_area": null,
      "grid_auto_columns": null,
      "grid_auto_flow": null,
      "grid_auto_rows": null,
      "grid_column": null,
      "grid_gap": null,
      "grid_row": null,
      "grid_template_areas": null,
      "grid_template_columns": null,
      "grid_template_rows": null,
      "height": null,
      "justify_content": null,
      "justify_items": null,
      "left": null,
      "margin": null,
      "max_height": null,
      "max_width": null,
      "min_height": null,
      "min_width": null,
      "object_fit": null,
      "object_position": null,
      "order": null,
      "overflow": null,
      "overflow_x": null,
      "overflow_y": null,
      "padding": null,
      "right": null,
      "top": null,
      "visibility": null,
      "width": null
     }
    },
    "dee04c52f7fb4aaca49b9b3beb460012": {
     "model_module": "@jupyter-widgets/controls",
     "model_module_version": "1.5.0",
     "model_name": "FloatProgressModel",
     "state": {
      "_dom_classes": [],
      "_model_module": "@jupyter-widgets/controls",
      "_model_module_version": "1.5.0",
      "_model_name": "FloatProgressModel",
      "_view_count": null,
      "_view_module": "@jupyter-widgets/controls",
      "_view_module_version": "1.5.0",
      "_view_name": "ProgressView",
      "bar_style": "success",
      "description": "",
      "description_tooltip": null,
      "layout": "IPY_MODEL_011242ccbf2a48cd96870f46a02d73e8",
      "max": 830,
      "min": 0,
      "orientation": "horizontal",
      "style": "IPY_MODEL_e348b104c0724b3380833fc687769bc8",
      "value": 830
     }
    },
    "e0c4b4600bd5424e8adac5f92cda7f84": {
     "model_module": "@jupyter-widgets/controls",
     "model_module_version": "1.5.0",
     "model_name": "HBoxModel",
     "state": {
      "_dom_classes": [],
      "_model_module": "@jupyter-widgets/controls",
      "_model_module_version": "1.5.0",
      "_model_name": "HBoxModel",
      "_view_count": null,
      "_view_module": "@jupyter-widgets/controls",
      "_view_module_version": "1.5.0",
      "_view_name": "HBoxView",
      "box_style": "",
      "children": [
       "IPY_MODEL_ec14295c9e38415db178a0198ee374f9",
       "IPY_MODEL_f7371bff34e1429c9a558adeeedfa610",
       "IPY_MODEL_4a4ef6875d584a928d634151ba6e0843"
      ],
      "layout": "IPY_MODEL_5074f20670964426ad58214f596a3c6b"
     }
    },
    "e103fe237aa54f9ebfeee75ec263b221": {
     "model_module": "@jupyter-widgets/controls",
     "model_module_version": "1.5.0",
     "model_name": "ProgressStyleModel",
     "state": {
      "_model_module": "@jupyter-widgets/controls",
      "_model_module_version": "1.5.0",
      "_model_name": "ProgressStyleModel",
      "_view_count": null,
      "_view_module": "@jupyter-widgets/base",
      "_view_module_version": "1.2.0",
      "_view_name": "StyleView",
      "bar_color": null,
      "description_width": ""
     }
    },
    "e2681b8f99514618baa16ed063864a11": {
     "model_module": "@jupyter-widgets/controls",
     "model_module_version": "1.5.0",
     "model_name": "ProgressStyleModel",
     "state": {
      "_model_module": "@jupyter-widgets/controls",
      "_model_module_version": "1.5.0",
      "_model_name": "ProgressStyleModel",
      "_view_count": null,
      "_view_module": "@jupyter-widgets/base",
      "_view_module_version": "1.2.0",
      "_view_name": "StyleView",
      "bar_color": null,
      "description_width": ""
     }
    },
    "e31e04c5bbae4adb90034b9427fa456e": {
     "model_module": "@jupyter-widgets/controls",
     "model_module_version": "1.5.0",
     "model_name": "DescriptionStyleModel",
     "state": {
      "_model_module": "@jupyter-widgets/controls",
      "_model_module_version": "1.5.0",
      "_model_name": "DescriptionStyleModel",
      "_view_count": null,
      "_view_module": "@jupyter-widgets/base",
      "_view_module_version": "1.2.0",
      "_view_name": "StyleView",
      "description_width": ""
     }
    },
    "e348b104c0724b3380833fc687769bc8": {
     "model_module": "@jupyter-widgets/controls",
     "model_module_version": "1.5.0",
     "model_name": "ProgressStyleModel",
     "state": {
      "_model_module": "@jupyter-widgets/controls",
      "_model_module_version": "1.5.0",
      "_model_name": "ProgressStyleModel",
      "_view_count": null,
      "_view_module": "@jupyter-widgets/base",
      "_view_module_version": "1.2.0",
      "_view_name": "StyleView",
      "bar_color": null,
      "description_width": ""
     }
    },
    "e5043902487249a3a007a750c0ae70cd": {
     "model_module": "@jupyter-widgets/controls",
     "model_module_version": "1.5.0",
     "model_name": "HTMLModel",
     "state": {
      "_dom_classes": [],
      "_model_module": "@jupyter-widgets/controls",
      "_model_module_version": "1.5.0",
      "_model_name": "HTMLModel",
      "_view_count": null,
      "_view_module": "@jupyter-widgets/controls",
      "_view_module_version": "1.5.0",
      "_view_name": "HTMLView",
      "description": "",
      "description_tooltip": null,
      "layout": "IPY_MODEL_d5f44699c0e04b6ca6a18a74ea3c6306",
      "placeholder": "​",
      "style": "IPY_MODEL_79447e2c0be74178ac319310106331ae",
      "value": "epoch 4: 100%"
     }
    },
    "e97c2e48480543708daf72e2244193b3": {
     "model_module": "@jupyter-widgets/controls",
     "model_module_version": "1.5.0",
     "model_name": "FloatProgressModel",
     "state": {
      "_dom_classes": [],
      "_model_module": "@jupyter-widgets/controls",
      "_model_module_version": "1.5.0",
      "_model_name": "FloatProgressModel",
      "_view_count": null,
      "_view_module": "@jupyter-widgets/controls",
      "_view_module_version": "1.5.0",
      "_view_name": "ProgressView",
      "bar_style": "success",
      "description": "",
      "description_tooltip": null,
      "layout": "IPY_MODEL_0a1aef1feaf542a6b40795467ceb1bbf",
      "max": 830,
      "min": 0,
      "orientation": "horizontal",
      "style": "IPY_MODEL_57beae60e7b54d6f969aceae4298958a",
      "value": 830
     }
    },
    "eb2fab725be343cca34c635e008ad070": {
     "model_module": "@jupyter-widgets/base",
     "model_module_version": "1.2.0",
     "model_name": "LayoutModel",
     "state": {
      "_model_module": "@jupyter-widgets/base",
      "_model_module_version": "1.2.0",
      "_model_name": "LayoutModel",
      "_view_count": null,
      "_view_module": "@jupyter-widgets/base",
      "_view_module_version": "1.2.0",
      "_view_name": "LayoutView",
      "align_content": null,
      "align_items": null,
      "align_self": null,
      "border": null,
      "bottom": null,
      "display": null,
      "flex": null,
      "flex_flow": null,
      "grid_area": null,
      "grid_auto_columns": null,
      "grid_auto_flow": null,
      "grid_auto_rows": null,
      "grid_column": null,
      "grid_gap": null,
      "grid_row": null,
      "grid_template_areas": null,
      "grid_template_columns": null,
      "grid_template_rows": null,
      "height": null,
      "justify_content": null,
      "justify_items": null,
      "left": null,
      "margin": null,
      "max_height": null,
      "max_width": null,
      "min_height": null,
      "min_width": null,
      "object_fit": null,
      "object_position": null,
      "order": null,
      "overflow": null,
      "overflow_x": null,
      "overflow_y": null,
      "padding": null,
      "right": null,
      "top": null,
      "visibility": null,
      "width": null
     }
    },
    "ec14295c9e38415db178a0198ee374f9": {
     "model_module": "@jupyter-widgets/controls",
     "model_module_version": "1.5.0",
     "model_name": "HTMLModel",
     "state": {
      "_dom_classes": [],
      "_model_module": "@jupyter-widgets/controls",
      "_model_module_version": "1.5.0",
      "_model_name": "HTMLModel",
      "_view_count": null,
      "_view_module": "@jupyter-widgets/controls",
      "_view_module_version": "1.5.0",
      "_view_name": "HTMLView",
      "description": "",
      "description_tooltip": null,
      "layout": "IPY_MODEL_1253aac82d4e4f3cb30c5aa36227fb68",
      "placeholder": "​",
      "style": "IPY_MODEL_88c6dfb19dcd437ea237ee13e5a7b8ed",
      "value": "epoch 6: 100%"
     }
    },
    "ec23cee759894fa4b97e651fedeaa547": {
     "model_module": "@jupyter-widgets/base",
     "model_module_version": "1.2.0",
     "model_name": "LayoutModel",
     "state": {
      "_model_module": "@jupyter-widgets/base",
      "_model_module_version": "1.2.0",
      "_model_name": "LayoutModel",
      "_view_count": null,
      "_view_module": "@jupyter-widgets/base",
      "_view_module_version": "1.2.0",
      "_view_name": "LayoutView",
      "align_content": null,
      "align_items": null,
      "align_self": null,
      "border": null,
      "bottom": null,
      "display": null,
      "flex": null,
      "flex_flow": null,
      "grid_area": null,
      "grid_auto_columns": null,
      "grid_auto_flow": null,
      "grid_auto_rows": null,
      "grid_column": null,
      "grid_gap": null,
      "grid_row": null,
      "grid_template_areas": null,
      "grid_template_columns": null,
      "grid_template_rows": null,
      "height": null,
      "justify_content": null,
      "justify_items": null,
      "left": null,
      "margin": null,
      "max_height": null,
      "max_width": null,
      "min_height": null,
      "min_width": null,
      "object_fit": null,
      "object_position": null,
      "order": null,
      "overflow": null,
      "overflow_x": null,
      "overflow_y": null,
      "padding": null,
      "right": null,
      "top": null,
      "visibility": null,
      "width": null
     }
    },
    "ec96b9f6ae2245598514cd4a7e871fea": {
     "model_module": "@jupyter-widgets/controls",
     "model_module_version": "1.5.0",
     "model_name": "HTMLModel",
     "state": {
      "_dom_classes": [],
      "_model_module": "@jupyter-widgets/controls",
      "_model_module_version": "1.5.0",
      "_model_name": "HTMLModel",
      "_view_count": null,
      "_view_module": "@jupyter-widgets/controls",
      "_view_module_version": "1.5.0",
      "_view_name": "HTMLView",
      "description": "",
      "description_tooltip": null,
      "layout": "IPY_MODEL_2c6e3410e8b6438f9a0f7b204478d988",
      "placeholder": "​",
      "style": "IPY_MODEL_68ecb154807b4f6baa6601fdafec0d4f",
      "value": " 830/830 [01:56&lt;00:00,  7.55batch/s, current_loss=3.44, mean_loss=2.91]"
     }
    },
    "ef32368d17f8463899423ff0e042caf7": {
     "model_module": "@jupyter-widgets/base",
     "model_module_version": "1.2.0",
     "model_name": "LayoutModel",
     "state": {
      "_model_module": "@jupyter-widgets/base",
      "_model_module_version": "1.2.0",
      "_model_name": "LayoutModel",
      "_view_count": null,
      "_view_module": "@jupyter-widgets/base",
      "_view_module_version": "1.2.0",
      "_view_name": "LayoutView",
      "align_content": null,
      "align_items": null,
      "align_self": null,
      "border": null,
      "bottom": null,
      "display": null,
      "flex": null,
      "flex_flow": null,
      "grid_area": null,
      "grid_auto_columns": null,
      "grid_auto_flow": null,
      "grid_auto_rows": null,
      "grid_column": null,
      "grid_gap": null,
      "grid_row": null,
      "grid_template_areas": null,
      "grid_template_columns": null,
      "grid_template_rows": null,
      "height": null,
      "justify_content": null,
      "justify_items": null,
      "left": null,
      "margin": null,
      "max_height": null,
      "max_width": null,
      "min_height": null,
      "min_width": null,
      "object_fit": null,
      "object_position": null,
      "order": null,
      "overflow": null,
      "overflow_x": null,
      "overflow_y": null,
      "padding": null,
      "right": null,
      "top": null,
      "visibility": null,
      "width": null
     }
    },
    "ef79c061224d465595b392fa25115dac": {
     "model_module": "@jupyter-widgets/controls",
     "model_module_version": "1.5.0",
     "model_name": "HTMLModel",
     "state": {
      "_dom_classes": [],
      "_model_module": "@jupyter-widgets/controls",
      "_model_module_version": "1.5.0",
      "_model_name": "HTMLModel",
      "_view_count": null,
      "_view_module": "@jupyter-widgets/controls",
      "_view_module_version": "1.5.0",
      "_view_name": "HTMLView",
      "description": "",
      "description_tooltip": null,
      "layout": "IPY_MODEL_de8267f7cd3e41f8b55a7792c9bb7414",
      "placeholder": "​",
      "style": "IPY_MODEL_5d36f5819e24467b9d6db9388e026af3",
      "value": "Downloading: 100%"
     }
    },
    "f0a3342dd006436fa58417971d4cf2c5": {
     "model_module": "@jupyter-widgets/controls",
     "model_module_version": "1.5.0",
     "model_name": "HBoxModel",
     "state": {
      "_dom_classes": [],
      "_model_module": "@jupyter-widgets/controls",
      "_model_module_version": "1.5.0",
      "_model_name": "HBoxModel",
      "_view_count": null,
      "_view_module": "@jupyter-widgets/controls",
      "_view_module_version": "1.5.0",
      "_view_name": "HBoxView",
      "box_style": "",
      "children": [
       "IPY_MODEL_4aca858ecb4d4f609bf052ca6aab9bb4",
       "IPY_MODEL_de086ac08fde4e9887587d8fb074478d",
       "IPY_MODEL_f17e84277c3548549de75dc7d375750e"
      ],
      "layout": "IPY_MODEL_0f06fc3e1dfe47d29c74d1d1c0b124af"
     }
    },
    "f109800173ad4d61bbddf77cba07943e": {
     "model_module": "@jupyter-widgets/controls",
     "model_module_version": "1.5.0",
     "model_name": "FloatProgressModel",
     "state": {
      "_dom_classes": [],
      "_model_module": "@jupyter-widgets/controls",
      "_model_module_version": "1.5.0",
      "_model_name": "FloatProgressModel",
      "_view_count": null,
      "_view_module": "@jupyter-widgets/controls",
      "_view_module_version": "1.5.0",
      "_view_name": "ProgressView",
      "bar_style": "success",
      "description": "",
      "description_tooltip": null,
      "layout": "IPY_MODEL_680f2176dd714942a6f9b6e9e2639192",
      "max": 830,
      "min": 0,
      "orientation": "horizontal",
      "style": "IPY_MODEL_af2dc8f0d9a748b5aecb9eed0548388c",
      "value": 830
     }
    },
    "f17e84277c3548549de75dc7d375750e": {
     "model_module": "@jupyter-widgets/controls",
     "model_module_version": "1.5.0",
     "model_name": "HTMLModel",
     "state": {
      "_dom_classes": [],
      "_model_module": "@jupyter-widgets/controls",
      "_model_module_version": "1.5.0",
      "_model_name": "HTMLModel",
      "_view_count": null,
      "_view_module": "@jupyter-widgets/controls",
      "_view_module_version": "1.5.0",
      "_view_name": "HTMLView",
      "description": "",
      "description_tooltip": null,
      "layout": "IPY_MODEL_0859e131aaf94726a703d5475570553e",
      "placeholder": "​",
      "style": "IPY_MODEL_1fcbb081a7934a438e746574e4cbe093",
      "value": " 830/830 [01:24&lt;00:00,  9.87batch/s, current_loss=3.6, mean_loss=3.97]"
     }
    },
    "f4abbf064bd4493e8e8c2a4627b5f166": {
     "model_module": "@jupyter-widgets/base",
     "model_module_version": "1.2.0",
     "model_name": "LayoutModel",
     "state": {
      "_model_module": "@jupyter-widgets/base",
      "_model_module_version": "1.2.0",
      "_model_name": "LayoutModel",
      "_view_count": null,
      "_view_module": "@jupyter-widgets/base",
      "_view_module_version": "1.2.0",
      "_view_name": "LayoutView",
      "align_content": null,
      "align_items": null,
      "align_self": null,
      "border": null,
      "bottom": null,
      "display": null,
      "flex": null,
      "flex_flow": null,
      "grid_area": null,
      "grid_auto_columns": null,
      "grid_auto_flow": null,
      "grid_auto_rows": null,
      "grid_column": null,
      "grid_gap": null,
      "grid_row": null,
      "grid_template_areas": null,
      "grid_template_columns": null,
      "grid_template_rows": null,
      "height": null,
      "justify_content": null,
      "justify_items": null,
      "left": null,
      "margin": null,
      "max_height": null,
      "max_width": null,
      "min_height": null,
      "min_width": null,
      "object_fit": null,
      "object_position": null,
      "order": null,
      "overflow": null,
      "overflow_x": null,
      "overflow_y": null,
      "padding": null,
      "right": null,
      "top": null,
      "visibility": null,
      "width": null
     }
    },
    "f59c045b89814fe298c99cd3b91850e1": {
     "model_module": "@jupyter-widgets/controls",
     "model_module_version": "1.5.0",
     "model_name": "DescriptionStyleModel",
     "state": {
      "_model_module": "@jupyter-widgets/controls",
      "_model_module_version": "1.5.0",
      "_model_name": "DescriptionStyleModel",
      "_view_count": null,
      "_view_module": "@jupyter-widgets/base",
      "_view_module_version": "1.2.0",
      "_view_name": "StyleView",
      "description_width": ""
     }
    },
    "f7371bff34e1429c9a558adeeedfa610": {
     "model_module": "@jupyter-widgets/controls",
     "model_module_version": "1.5.0",
     "model_name": "FloatProgressModel",
     "state": {
      "_dom_classes": [],
      "_model_module": "@jupyter-widgets/controls",
      "_model_module_version": "1.5.0",
      "_model_name": "FloatProgressModel",
      "_view_count": null,
      "_view_module": "@jupyter-widgets/controls",
      "_view_module_version": "1.5.0",
      "_view_name": "ProgressView",
      "bar_style": "success",
      "description": "",
      "description_tooltip": null,
      "layout": "IPY_MODEL_bc1821089653472ba5bd46ae264ff9dc",
      "max": 830,
      "min": 0,
      "orientation": "horizontal",
      "style": "IPY_MODEL_8475ce8418fd414e8b7822ccc7a9d526",
      "value": 830
     }
    },
    "f83da338288c4582a5a64318b2601bc7": {
     "model_module": "@jupyter-widgets/controls",
     "model_module_version": "1.5.0",
     "model_name": "DescriptionStyleModel",
     "state": {
      "_model_module": "@jupyter-widgets/controls",
      "_model_module_version": "1.5.0",
      "_model_name": "DescriptionStyleModel",
      "_view_count": null,
      "_view_module": "@jupyter-widgets/base",
      "_view_module_version": "1.2.0",
      "_view_name": "StyleView",
      "description_width": ""
     }
    },
    "f99c9875435347a9897dce2e9a39aae8": {
     "model_module": "@jupyter-widgets/controls",
     "model_module_version": "1.5.0",
     "model_name": "HTMLModel",
     "state": {
      "_dom_classes": [],
      "_model_module": "@jupyter-widgets/controls",
      "_model_module_version": "1.5.0",
      "_model_name": "HTMLModel",
      "_view_count": null,
      "_view_module": "@jupyter-widgets/controls",
      "_view_module_version": "1.5.0",
      "_view_name": "HTMLView",
      "description": "",
      "description_tooltip": null,
      "layout": "IPY_MODEL_bf8d1febf78741e99e2843dd25379017",
      "placeholder": "​",
      "style": "IPY_MODEL_33150dafd95a4a2bbb61d9935810ec66",
      "value": " 483/483 [00:00&lt;00:00, 12.9kB/s]"
     }
    },
    "f9df986bfc634e41b46f91458be525a1": {
     "model_module": "@jupyter-widgets/controls",
     "model_module_version": "1.5.0",
     "model_name": "HTMLModel",
     "state": {
      "_dom_classes": [],
      "_model_module": "@jupyter-widgets/controls",
      "_model_module_version": "1.5.0",
      "_model_name": "HTMLModel",
      "_view_count": null,
      "_view_module": "@jupyter-widgets/controls",
      "_view_module_version": "1.5.0",
      "_view_name": "HTMLView",
      "description": "",
      "description_tooltip": null,
      "layout": "IPY_MODEL_ab940bbfb0e0469c9415ef584d4ed2f8",
      "placeholder": "​",
      "style": "IPY_MODEL_fd64f870ed854746a0d33853992ff711",
      "value": " 226k/226k [00:00&lt;00:00, 364kB/s]"
     }
    },
    "fb4380f7b3d8449696451b4f09a2dc53": {
     "model_module": "@jupyter-widgets/controls",
     "model_module_version": "1.5.0",
     "model_name": "HBoxModel",
     "state": {
      "_dom_classes": [],
      "_model_module": "@jupyter-widgets/controls",
      "_model_module_version": "1.5.0",
      "_model_name": "HBoxModel",
      "_view_count": null,
      "_view_module": "@jupyter-widgets/controls",
      "_view_module_version": "1.5.0",
      "_view_name": "HBoxView",
      "box_style": "",
      "children": [
       "IPY_MODEL_e5043902487249a3a007a750c0ae70cd",
       "IPY_MODEL_d7233cabc43f425db99cbf290ec2c391",
       "IPY_MODEL_17bb29b88d84442fb0b62e989bdf11ba"
      ],
      "layout": "IPY_MODEL_5ea9d7d4af894239b61a340c513cdffb"
     }
    },
    "fbe429b059d54cee95ce524788e18d00": {
     "model_module": "@jupyter-widgets/base",
     "model_module_version": "1.2.0",
     "model_name": "LayoutModel",
     "state": {
      "_model_module": "@jupyter-widgets/base",
      "_model_module_version": "1.2.0",
      "_model_name": "LayoutModel",
      "_view_count": null,
      "_view_module": "@jupyter-widgets/base",
      "_view_module_version": "1.2.0",
      "_view_name": "LayoutView",
      "align_content": null,
      "align_items": null,
      "align_self": null,
      "border": null,
      "bottom": null,
      "display": null,
      "flex": null,
      "flex_flow": null,
      "grid_area": null,
      "grid_auto_columns": null,
      "grid_auto_flow": null,
      "grid_auto_rows": null,
      "grid_column": null,
      "grid_gap": null,
      "grid_row": null,
      "grid_template_areas": null,
      "grid_template_columns": null,
      "grid_template_rows": null,
      "height": null,
      "justify_content": null,
      "justify_items": null,
      "left": null,
      "margin": null,
      "max_height": null,
      "max_width": null,
      "min_height": null,
      "min_width": null,
      "object_fit": null,
      "object_position": null,
      "order": null,
      "overflow": null,
      "overflow_x": null,
      "overflow_y": null,
      "padding": null,
      "right": null,
      "top": null,
      "visibility": null,
      "width": null
     }
    },
    "fc240c09364d4360a2247e98ce419636": {
     "model_module": "@jupyter-widgets/base",
     "model_module_version": "1.2.0",
     "model_name": "LayoutModel",
     "state": {
      "_model_module": "@jupyter-widgets/base",
      "_model_module_version": "1.2.0",
      "_model_name": "LayoutModel",
      "_view_count": null,
      "_view_module": "@jupyter-widgets/base",
      "_view_module_version": "1.2.0",
      "_view_name": "LayoutView",
      "align_content": null,
      "align_items": null,
      "align_self": null,
      "border": null,
      "bottom": null,
      "display": null,
      "flex": null,
      "flex_flow": null,
      "grid_area": null,
      "grid_auto_columns": null,
      "grid_auto_flow": null,
      "grid_auto_rows": null,
      "grid_column": null,
      "grid_gap": null,
      "grid_row": null,
      "grid_template_areas": null,
      "grid_template_columns": null,
      "grid_template_rows": null,
      "height": null,
      "justify_content": null,
      "justify_items": null,
      "left": null,
      "margin": null,
      "max_height": null,
      "max_width": null,
      "min_height": null,
      "min_width": null,
      "object_fit": null,
      "object_position": null,
      "order": null,
      "overflow": null,
      "overflow_x": null,
      "overflow_y": null,
      "padding": null,
      "right": null,
      "top": null,
      "visibility": null,
      "width": null
     }
    },
    "fcb899843de34d04981cbcf6eb3c5d81": {
     "model_module": "@jupyter-widgets/controls",
     "model_module_version": "1.5.0",
     "model_name": "ProgressStyleModel",
     "state": {
      "_model_module": "@jupyter-widgets/controls",
      "_model_module_version": "1.5.0",
      "_model_name": "ProgressStyleModel",
      "_view_count": null,
      "_view_module": "@jupyter-widgets/base",
      "_view_module_version": "1.2.0",
      "_view_name": "StyleView",
      "bar_color": null,
      "description_width": ""
     }
    },
    "fd638af281a049579483b85d75328611": {
     "model_module": "@jupyter-widgets/base",
     "model_module_version": "1.2.0",
     "model_name": "LayoutModel",
     "state": {
      "_model_module": "@jupyter-widgets/base",
      "_model_module_version": "1.2.0",
      "_model_name": "LayoutModel",
      "_view_count": null,
      "_view_module": "@jupyter-widgets/base",
      "_view_module_version": "1.2.0",
      "_view_name": "LayoutView",
      "align_content": null,
      "align_items": null,
      "align_self": null,
      "border": null,
      "bottom": null,
      "display": null,
      "flex": null,
      "flex_flow": null,
      "grid_area": null,
      "grid_auto_columns": null,
      "grid_auto_flow": null,
      "grid_auto_rows": null,
      "grid_column": null,
      "grid_gap": null,
      "grid_row": null,
      "grid_template_areas": null,
      "grid_template_columns": null,
      "grid_template_rows": null,
      "height": null,
      "justify_content": null,
      "justify_items": null,
      "left": null,
      "margin": null,
      "max_height": null,
      "max_width": null,
      "min_height": null,
      "min_width": null,
      "object_fit": null,
      "object_position": null,
      "order": null,
      "overflow": null,
      "overflow_x": null,
      "overflow_y": null,
      "padding": null,
      "right": null,
      "top": null,
      "visibility": null,
      "width": null
     }
    },
    "fd64f870ed854746a0d33853992ff711": {
     "model_module": "@jupyter-widgets/controls",
     "model_module_version": "1.5.0",
     "model_name": "DescriptionStyleModel",
     "state": {
      "_model_module": "@jupyter-widgets/controls",
      "_model_module_version": "1.5.0",
      "_model_name": "DescriptionStyleModel",
      "_view_count": null,
      "_view_module": "@jupyter-widgets/base",
      "_view_module_version": "1.2.0",
      "_view_name": "StyleView",
      "description_width": ""
     }
    },
    "fe89459d6a7542cb84ad7eebd3a019ae": {
     "model_module": "@jupyter-widgets/base",
     "model_module_version": "1.2.0",
     "model_name": "LayoutModel",
     "state": {
      "_model_module": "@jupyter-widgets/base",
      "_model_module_version": "1.2.0",
      "_model_name": "LayoutModel",
      "_view_count": null,
      "_view_module": "@jupyter-widgets/base",
      "_view_module_version": "1.2.0",
      "_view_name": "LayoutView",
      "align_content": null,
      "align_items": null,
      "align_self": null,
      "border": null,
      "bottom": null,
      "display": null,
      "flex": null,
      "flex_flow": null,
      "grid_area": null,
      "grid_auto_columns": null,
      "grid_auto_flow": null,
      "grid_auto_rows": null,
      "grid_column": null,
      "grid_gap": null,
      "grid_row": null,
      "grid_template_areas": null,
      "grid_template_columns": null,
      "grid_template_rows": null,
      "height": null,
      "justify_content": null,
      "justify_items": null,
      "left": null,
      "margin": null,
      "max_height": null,
      "max_width": null,
      "min_height": null,
      "min_width": null,
      "object_fit": null,
      "object_position": null,
      "order": null,
      "overflow": null,
      "overflow_x": null,
      "overflow_y": null,
      "padding": null,
      "right": null,
      "top": null,
      "visibility": null,
      "width": null
     }
    },
    "ff9eb05d6dbc4b6b86a92f1651ba6216": {
     "model_module": "@jupyter-widgets/base",
     "model_module_version": "1.2.0",
     "model_name": "LayoutModel",
     "state": {
      "_model_module": "@jupyter-widgets/base",
      "_model_module_version": "1.2.0",
      "_model_name": "LayoutModel",
      "_view_count": null,
      "_view_module": "@jupyter-widgets/base",
      "_view_module_version": "1.2.0",
      "_view_name": "LayoutView",
      "align_content": null,
      "align_items": null,
      "align_self": null,
      "border": null,
      "bottom": null,
      "display": null,
      "flex": null,
      "flex_flow": null,
      "grid_area": null,
      "grid_auto_columns": null,
      "grid_auto_flow": null,
      "grid_auto_rows": null,
      "grid_column": null,
      "grid_gap": null,
      "grid_row": null,
      "grid_template_areas": null,
      "grid_template_columns": null,
      "grid_template_rows": null,
      "height": null,
      "justify_content": null,
      "justify_items": null,
      "left": null,
      "margin": null,
      "max_height": null,
      "max_width": null,
      "min_height": null,
      "min_width": null,
      "object_fit": null,
      "object_position": null,
      "order": null,
      "overflow": null,
      "overflow_x": null,
      "overflow_y": null,
      "padding": null,
      "right": null,
      "top": null,
      "visibility": null,
      "width": null
     }
    }
   }
  }
 },
 "nbformat": 4,
 "nbformat_minor": 4
}
