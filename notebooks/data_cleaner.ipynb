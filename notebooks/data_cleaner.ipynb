{
 "cells": [
  {
   "cell_type": "code",
   "execution_count": 2,
   "id": "741a3522-07a2-489e-92d5-99f98f1072b7",
   "metadata": {},
   "outputs": [],
   "source": [
    "import csv\n",
    "import random\n",
    "import re\n",
    "import os\n",
    "import unicodedata\n",
    "import codecs\n",
    "from io import open\n",
    "import itertools\n",
    "import math\n",
    "import pickle\n",
    "import pandas as pd"
   ]
  },
  {
   "cell_type": "code",
   "execution_count": 12,
   "id": "fceadc5a-886d-4154-9128-0003f4edc066",
   "metadata": {},
   "outputs": [
    {
     "name": "stdout",
     "output_type": "stream",
     "text": [
      "   Unnamed: 0                                              Title  \\\n",
      "0           0  \\r\\r\\n                    Objects Used to Prop...   \n",
      "1           1  \\r\\r\\n                    The New Church\\r\\r\\n...   \n",
      "2           2  \\r\\r\\n                    Look for Me\\r\\r\\n   ...   \n",
      "3           3  \\r\\r\\n                    Wild Life\\r\\r\\n     ...   \n",
      "4           4  \\r\\r\\n                    Umbrella\\r\\r\\n      ...   \n",
      "\n",
      "                                                Poem              Poet Tags  \n",
      "0  \\r\\r\\nDog bone, stapler,\\r\\r\\ncribbage board, ...  Michelle Menting  NaN  \n",
      "1  \\r\\r\\nThe old cupola glinted above the clouds,...     Lucia Cherciu  NaN  \n",
      "2  \\r\\r\\nLook for me under the hood\\r\\r\\nof that ...        Ted Kooser  NaN  \n",
      "3  \\r\\r\\nBehind the silo, the Mother Rabbit\\r\\r\\n...   Grace Cavalieri  NaN  \n",
      "4  \\r\\r\\nWhen I push your button\\r\\r\\nyou fly off...      Connie Wanek  NaN  \n",
      "13854\n"
     ]
    }
   ],
   "source": [
    "data_folder = '../data/'\n",
    "data_file = 'poem/PoetryFoundationData.csv'\n",
    "dataset = pd.read_csv(data_folder + data_file)\n",
    "print(dataset.head())\n",
    "\n",
    "print(len(dataset))"
   ]
  },
  {
   "cell_type": "code",
   "execution_count": 20,
   "id": "83ed13c7-a84d-46ff-99b8-c74c94e37ef0",
   "metadata": {},
   "outputs": [],
   "source": [
    "from math import isnan\n",
    "\n",
    "def normalize_sentence(s):\n",
    "    s = re.sub(r\"([.!?])\", r\" \\1\", s)\n",
    "    s = re.sub(r\"[^a-zA-Z.!?]+\", r\" \", s)\n",
    "    s = re.sub(r\"\\s+\", r\" \", s).strip()\n",
    "    return s"
   ]
  },
  {
   "cell_type": "code",
   "execution_count": 120,
   "id": "36391377-2ef8-4b0b-9368-1dc7156ca179",
   "metadata": {},
   "outputs": [],
   "source": [
    "cnt = 0\n",
    "list_poems = []\n",
    "\n",
    "for i, rows in dataset.iterrows():\n",
    "    tags = rows['Tags']\n",
    "    if isinstance(tags, str):\n",
    "        tags = tags.replace(' & ',',').split(',')\n",
    "        title = rows['Title'].replace(\"\\r\\r\\n\", '').strip()\n",
    "        poem = rows['Poem'].strip().split('\\r\\r\\n')\n",
    "        poet = rows['Poet']\n",
    "        poem = [word for word in poem if len(word.strip()) > 0]\n",
    "        list_poems.append({'Title' : title, 'Poet' : poet, 'Tags' : tags, 'Poem': poem})\n",
    "\n",
    "data_clean = pd.DataFrame(list_poems)"
   ]
  },
  {
   "cell_type": "code",
   "execution_count": 121,
   "id": "77432b90-1dfa-4edb-acde-d741494ff18b",
   "metadata": {},
   "outputs": [
    {
     "name": "stdout",
     "output_type": "stream",
     "text": [
      "['my father’s body is a map', 'a record of his journey', 'he carries a bullet', 'lodged in his left thigh', 'there is a hollow where it entered', 'a protruding bump where it sleeps', 'the doctors say it will never awaken', 'it is the one souvenir he insists on keeping', 'mother has her own opinionsbố cùa con điên—your father is crazy', 'as a child', 'i wanted a scar just like my father’s', 'bold and appalling     a mushroom explosion', 'that said i too was at war', 'instead i settled for a grain of rice', 'a scar so small look closely there', 'here between the eyes', 'a bit to the right', 'there on the bridge of my nose', 'father says i was too young to remember', 'it happened while i was sleeping', 'leaking roof the pounding rain', 'drop after drop after drop']\n"
     ]
    }
   ],
   "source": [
    "print(data_clean.iloc()[3]['Poem'])"
   ]
  },
  {
   "cell_type": "code",
   "execution_count": 122,
   "id": "bd71aa13-133c-405f-93f3-2e3a868374e3",
   "metadata": {},
   "outputs": [],
   "source": [
    "data_clean.to_csv('PoetryFound.csv',index=False)"
   ]
  },
  {
   "cell_type": "code",
   "execution_count": 123,
   "id": "b2f8b481-9ff8-4b07-9e6b-ee4a0847fbf0",
   "metadata": {},
   "outputs": [],
   "source": [
    "with open('dataset.pkl', 'wb') as f:\n",
    "    pickle.dump(data_clean, f)"
   ]
  },
  {
   "cell_type": "code",
   "execution_count": 112,
   "id": "911ce099-6d18-45f2-afb2-71076089c5c4",
   "metadata": {},
   "outputs": [
    {
     "name": "stdout",
     "output_type": "stream",
     "text": [
      "1\n"
     ]
    }
   ],
   "source": [
    "print(len('    i'.strip()))"
   ]
  }
 ],
 "metadata": {
  "kernelspec": {
   "display_name": "Python 3 (ipykernel)",
   "language": "python",
   "name": "python3"
  },
  "language_info": {
   "codemirror_mode": {
    "name": "ipython",
    "version": 3
   },
   "file_extension": ".py",
   "mimetype": "text/x-python",
   "name": "python",
   "nbconvert_exporter": "python",
   "pygments_lexer": "ipython3",
   "version": "3.7.0"
  }
 },
 "nbformat": 4,
 "nbformat_minor": 5
}
